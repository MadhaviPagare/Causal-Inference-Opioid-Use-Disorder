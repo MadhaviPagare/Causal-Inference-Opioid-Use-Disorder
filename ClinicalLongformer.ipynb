<!DOCTYPE html>
<!-- saved from url=(0077)https://github.com/MadhaviPagare/SDOMH-LLM/blob/main/ClinicalLongformer.ipynb -->
<html lang="en" data-color-mode="auto" data-light-theme="light" data-dark-theme="dark" data-a11y-animated-images="system" data-a11y-link-underlines="true" data-js-focus-visible="" data-turbo-loaded=""><head><meta http-equiv="Content-Type" content="text/html; charset=UTF-8"><style type="text/css">.turbo-progress-bar {
  position: fixed;
  display: block;
  top: 0;
  left: 0;
  height: 3px;
  background: #0076ff;
  z-index: 2147483647;
  transition:
    width 300ms ease-out,
    opacity 150ms 150ms ease-in;
  transform: translate3d(0, 0, 0);
}
</style>
    
  
  
  
  
  
  

  

  <link crossorigin="anonymous" media="all" rel="stylesheet" href="./ClinicalLongformer_files/light_experimental-d0637bbdaa51.css"><link crossorigin="anonymous" media="all" rel="stylesheet" href="./ClinicalLongformer_files/dark_experimental-b3eb81810916.css"><link data-color-theme="light_high_contrast" crossorigin="anonymous" media="all" rel="stylesheet" data-href="https://github.githubassets.com/assets/light_high_contrast_experimental-10abdc3747c3.css"><link data-color-theme="light_colorblind" crossorigin="anonymous" media="all" rel="stylesheet" data-href="https://github.githubassets.com/assets/light_colorblind_experimental-49cf0efe982a.css"><link data-color-theme="light_colorblind_high_contrast" crossorigin="anonymous" media="all" rel="stylesheet" data-href="https://github.githubassets.com/assets/light_colorblind_high_contrast_experimental-e379dad4f96f.css"><link data-color-theme="light_tritanopia" crossorigin="anonymous" media="all" rel="stylesheet" data-href="https://github.githubassets.com/assets/light_tritanopia_experimental-73918b3a2f64.css"><link data-color-theme="light_tritanopia_high_contrast" crossorigin="anonymous" media="all" rel="stylesheet" data-href="https://github.githubassets.com/assets/light_tritanopia_high_contrast_experimental-b843cf381204.css"><link data-color-theme="dark_high_contrast" crossorigin="anonymous" media="all" rel="stylesheet" data-href="https://github.githubassets.com/assets/dark_high_contrast_experimental-5748739a6b50.css"><link data-color-theme="dark_colorblind" crossorigin="anonymous" media="all" rel="stylesheet" data-href="https://github.githubassets.com/assets/dark_colorblind_experimental-c45cc62af0e7.css"><link data-color-theme="dark_colorblind_high_contrast" crossorigin="anonymous" media="all" rel="stylesheet" data-href="https://github.githubassets.com/assets/dark_colorblind_high_contrast_experimental-32b00a22b284.css"><link data-color-theme="dark_tritanopia" crossorigin="anonymous" media="all" rel="stylesheet" data-href="https://github.githubassets.com/assets/dark_tritanopia_experimental-dfdb41647a89.css"><link data-color-theme="dark_tritanopia_high_contrast" crossorigin="anonymous" media="all" rel="stylesheet" data-href="https://github.githubassets.com/assets/dark_tritanopia_high_contrast_experimental-66cec90757f5.css"><link data-color-theme="dark_dimmed" crossorigin="anonymous" media="all" rel="stylesheet" data-href="https://github.githubassets.com/assets/dark_dimmed_experimental-a537244628ca.css"><link data-color-theme="dark_dimmed_high_contrast" crossorigin="anonymous" media="all" rel="stylesheet" data-href="https://github.githubassets.com/assets/dark_dimmed_high_contrast_experimental-dc9a2a96cdc6.css">


    <link crossorigin="anonymous" media="all" rel="stylesheet" href="./ClinicalLongformer_files/primer-primitives-225433424a87.css">
    <link crossorigin="anonymous" media="all" rel="stylesheet" href="./ClinicalLongformer_files/primer-b4bd0459f984.css">
    <link crossorigin="anonymous" media="all" rel="stylesheet" href="./ClinicalLongformer_files/global-745b15cb31a9.css">
    <link crossorigin="anonymous" media="all" rel="stylesheet" href="./ClinicalLongformer_files/github-58ac3ad6cb3f.css">
  <link crossorigin="anonymous" media="all" rel="stylesheet" href="./ClinicalLongformer_files/repository-fa462f1c51f1.css">
<link crossorigin="anonymous" media="all" rel="stylesheet" href="./ClinicalLongformer_files/code-1f1d231f648c.css">

  


  <script type="application/json" id="client-env">{"locale":"en","featureFlags":["alternate_user_config_repo","api_insights_show_missing_data_banner","appearance_settings","billing_sku_level_budgets","billingplatform_copilot_premium_sku","client_version_header","codespaces_prebuild_region_target_update","contact_requests_implicit_opt_in","contentful_lp_flex_features","contentful_lp_footnotes","contentful_lp_form_phone_e164","copilot_chat_attach_images","copilot_chat_attach_multiple_images","copilot_chat_attachments","copilot_chat_custom_instructions","copilot_chat_disable_model_picker_while_streaming","copilot_chat_opening_thread_switch","copilot_chat_repo_custom_instructions_preview","copilot_chat_vision_in_claude","copilot_chat_wholearea_dd","copilot_custom_copilots_feature_preview","copilot_dotcom_chat_file_upload","copilot_duplicate_thread","copilot_free_to_paid_telem","copilot_ftp_settings_upgrade","copilot_ftp_upgrade_to_pro_from_models","copilot_ftp_your_copilot_settings","copilot_immersive_draft_issue_template_required","copilot_immersive_issue_creation_cta","copilot_immersive_issue_preview","copilot_immersive_structured_model_picker","copilot_new_conversation_starters","copilot_new_immersive_references_ui","copilot_no_floating_button","copilot_premium_request_quotas","copilot_read_shared_conversation","copilot_share_active_subthread","copilot_showcase_icebreakers","copilot_task_oriented_assistive_prompts","copilot_topics_as_references","copilot_workbench_iterate_panel","copilot_workbench_preview_analytics","copilot_workbench_refresh_on_wsod","copilot_workbench_user_limits","custom_copilots_capi_mode","custom_copilots_issues_prs","direct_to_salesforce","dnd_no_touch_device_check","dotcom_chat_client_side_skills","failbot_report_error_react_apps_on_page","ghost_pilot_confidence_truncation_25","ghost_pilot_confidence_truncation_40","github_models_scheduled_hydro_events","insert_before_patch","issues_catch_non_json_graphql_response","issues_preserve_tokens_in_urls","issues_react_blur_item_picker_on_close","issues_react_bots_timeline_pagination","issues_react_create_milestone","issues_react_include_bots_in_pickers","issues_react_prohibit_title_fallback","issues_react_remove_placeholders","issues_tab_counter_updates","lifecycle_label_name_updates","link_contact_sales_swp_marketo","marketing_pages_search_explore_provider","memex_mwl_filter_field_delimiter","memex_roadmap_drag_style","nonreporting_relay_graphql_status_codes","primer_primitives_experimental","primer_react_css_modules_ga","primer_react_select_panel_with_modern_action_list","remove_child_patch","repository_suggester_elastic_search","sample_network_conn_type","sanitize_nested_mathjax_macros","site_homepage_contentful","site_msbuild_hide_integrations","site_msbuild_launch","site_msbuild_webgl_hero","spark_commit_on_default_branch","swp_enterprise_contact_form","use_copilot_avatar","use_paginated_org_picker_cost_center_form","use_paginated_repo_picker_cost_center_form","viewscreen_sandbox"],"login":"MadhaviPagare"}</script>
<script crossorigin="anonymous" type="application/javascript" src="./ClinicalLongformer_files/wp-runtime-ac329fa6a473.js.download" defer="defer"></script>
<script crossorigin="anonymous" type="application/javascript" src="./ClinicalLongformer_files/vendors-node_modules_oddbird_popover-polyfill_dist_popover-fn_js-a8c266e5f126.js.download" defer="defer"></script>
<script crossorigin="anonymous" type="application/javascript" src="./ClinicalLongformer_files/vendors-node_modules_github_mini-throttle_dist_index_js-node_modules_stacktrace-parser_dist_s-1d3d52-babac9434833.js.download" defer="defer"></script>
<script crossorigin="anonymous" type="application/javascript" src="./ClinicalLongformer_files/ui_packages_failbot_failbot_ts-7cc3ec44644a.js.download" defer="defer"></script>
<script crossorigin="anonymous" type="application/javascript" src="./ClinicalLongformer_files/environment-89128d48c6ff.js.download" defer="defer"></script>
<script crossorigin="anonymous" type="application/javascript" src="./ClinicalLongformer_files/vendors-node_modules_primer_behaviors_dist_esm_index_mjs-c44edfed7f0d.js.download" defer="defer"></script>
<script crossorigin="anonymous" type="application/javascript" src="./ClinicalLongformer_files/vendors-node_modules_github_selector-observer_dist_index_esm_js-cdf2757bd188.js.download" defer="defer"></script>
<script crossorigin="anonymous" type="application/javascript" src="./ClinicalLongformer_files/vendors-node_modules_github_relative-time-element_dist_index_js-5913bc24f35d.js.download" defer="defer"></script>
<script crossorigin="anonymous" type="application/javascript" src="./ClinicalLongformer_files/vendors-node_modules_github_text-expander-element_dist_index_js-e50fb7a5fe8c.js.download" defer="defer"></script>
<script crossorigin="anonymous" type="application/javascript" src="./ClinicalLongformer_files/vendors-node_modules_github_auto-complete-element_dist_index_js-node_modules_github_catalyst_-8e9f78-c1e2fb329866.js.download" defer="defer"></script>
<script crossorigin="anonymous" type="application/javascript" src="./ClinicalLongformer_files/vendors-node_modules_github_filter-input-element_dist_index_js-node_modules_github_remote-inp-d8c643-251bc3964eb6.js.download" defer="defer"></script>
<script crossorigin="anonymous" type="application/javascript" src="./ClinicalLongformer_files/vendors-node_modules_github_markdown-toolbar-element_dist_index_js-6a8c7d9a08fe.js.download" defer="defer"></script>
<script crossorigin="anonymous" type="application/javascript" src="./ClinicalLongformer_files/vendors-node_modules_github_file-attachment-element_dist_index_js-node_modules_primer_view-co-cadbad-fad3eaf3c7ec.js.download" defer="defer"></script>
<script crossorigin="anonymous" type="application/javascript" src="./ClinicalLongformer_files/github-elements-5ceffe5aca10.js.download" defer="defer"></script>
<script crossorigin="anonymous" type="application/javascript" src="./ClinicalLongformer_files/element-registry-2a91e47d59c9.js.download" defer="defer"></script>
<script crossorigin="anonymous" type="application/javascript" src="./ClinicalLongformer_files/vendors-node_modules_braintree_browser-detection_dist_browser-detection_js-node_modules_githu-bb80ec-34c4b68b1dd3.js.download" defer="defer"></script>
<script crossorigin="anonymous" type="application/javascript" src="./ClinicalLongformer_files/vendors-node_modules_lit-html_lit-html_js-b93a87060d31.js.download" defer="defer"></script>
<script crossorigin="anonymous" type="application/javascript" src="./ClinicalLongformer_files/vendors-node_modules_morphdom_dist_morphdom-esm_js-300e8e4e0414.js.download" defer="defer"></script>
<script crossorigin="anonymous" type="application/javascript" src="./ClinicalLongformer_files/vendors-node_modules_fzy_js_index_js-node_modules_github_paste-markdown_dist_index_js-63a26702fa42.js.download" defer="defer"></script>
<script crossorigin="anonymous" type="application/javascript" src="./ClinicalLongformer_files/vendors-node_modules_github_turbo_dist_turbo_es2017-esm_js-595819d3686f.js.download" defer="defer"></script>
<script crossorigin="anonymous" type="application/javascript" src="./ClinicalLongformer_files/vendors-node_modules_github_remote-form_dist_index_js-node_modules_delegated-events_dist_inde-893f9f-1bcf38e06f01.js.download" defer="defer"></script>
<script crossorigin="anonymous" type="application/javascript" src="./ClinicalLongformer_files/vendors-node_modules_color-convert_index_js-1a149db8dc99.js.download" defer="defer"></script>
<script crossorigin="anonymous" type="application/javascript" src="./ClinicalLongformer_files/vendors-node_modules_github_quote-selection_dist_index_js-node_modules_github_session-resume_-c1aa61-91618cb63471.js.download" defer="defer"></script>
<script crossorigin="anonymous" type="application/javascript" src="./ClinicalLongformer_files/ui_packages_updatable-content_updatable-content_ts-a5daa16ae903.js.download" defer="defer"></script>
<script crossorigin="anonymous" type="application/javascript" src="./ClinicalLongformer_files/app_assets_modules_github_behaviors_task-list_ts-app_assets_modules_github_sso_ts-ui_packages-900dde-f953ddf42948.js.download" defer="defer"></script>
<script crossorigin="anonymous" type="application/javascript" src="./ClinicalLongformer_files/app_assets_modules_github_sticky-scroll-into-view_ts-e45aabc67d13.js.download" defer="defer"></script>
<script crossorigin="anonymous" type="application/javascript" src="./ClinicalLongformer_files/app_assets_modules_github_behaviors_ajax-error_ts-app_assets_modules_github_behaviors_include-d0d0a6-a7da4270c5f4.js.download" defer="defer"></script>
<script crossorigin="anonymous" type="application/javascript" src="./ClinicalLongformer_files/app_assets_modules_github_behaviors_commenting_edit_ts-app_assets_modules_github_behaviors_ht-83c235-567e0f340e27.js.download" defer="defer"></script>
<script crossorigin="anonymous" type="application/javascript" src="./ClinicalLongformer_files/behaviors-dc0cfb32b2a8.js.download" defer="defer"></script>
<script crossorigin="anonymous" type="application/javascript" src="./ClinicalLongformer_files/vendors-node_modules_delegated-events_dist_index_js-node_modules_github_catalyst_lib_index_js-ea8eaa-eefe25567449.js.download" defer="defer"></script>
<script crossorigin="anonymous" type="application/javascript" src="./ClinicalLongformer_files/notifications-global-eadae94940d6.js.download" defer="defer"></script>
<script crossorigin="anonymous" type="application/javascript" src="./ClinicalLongformer_files/vendors-node_modules_github_mini-throttle_dist_index_js-node_modules_virtualized-list_es_inde-5cfb7e-03a3356911e6.js.download" defer="defer"></script>
<script crossorigin="anonymous" type="application/javascript" src="./ClinicalLongformer_files/vendors-node_modules_github_remote-form_dist_index_js-node_modules_delegated-events_dist_inde-70450e-bd02070d35a3.js.download" defer="defer"></script>
<script crossorigin="anonymous" type="application/javascript" src="./ClinicalLongformer_files/app_assets_modules_github_ref-selector_ts-4c3b35d0e753.js.download" defer="defer"></script>
<script crossorigin="anonymous" type="application/javascript" src="./ClinicalLongformer_files/codespaces-beb77f9a88fd.js.download" defer="defer"></script>
<script crossorigin="anonymous" type="application/javascript" src="./ClinicalLongformer_files/vendors-node_modules_github_filter-input-element_dist_index_js-node_modules_github_remote-inp-3eebbd-c8d976843cc9.js.download" defer="defer"></script>
<script crossorigin="anonymous" type="application/javascript" src="./ClinicalLongformer_files/vendors-node_modules_github_mini-throttle_dist_decorators_js-node_modules_delegated-events_di-e161aa-7cb68a617c15.js.download" defer="defer"></script>
<script crossorigin="anonymous" type="application/javascript" src="./ClinicalLongformer_files/vendors-node_modules_github_file-attachment-element_dist_index_js-node_modules_github_remote--3c9c82-aa5ff674466d.js.download" defer="defer"></script>
<script crossorigin="anonymous" type="application/javascript" src="./ClinicalLongformer_files/repositories-853f2e9a1ebb.js.download" defer="defer"></script>
<script crossorigin="anonymous" type="application/javascript" src="./ClinicalLongformer_files/vendors-node_modules_github_mini-throttle_dist_index_js-node_modules_github_catalyst_lib_inde-dbbea9-558c1f223d1d.js.download" defer="defer"></script>
<script crossorigin="anonymous" type="application/javascript" src="./ClinicalLongformer_files/code-menu-8c39716e9d81.js.download" defer="defer"></script>
<script crossorigin="anonymous" type="application/javascript" src="./ClinicalLongformer_files/primer-react-a57080a0a6e8.js.download" defer="defer"></script>
<script crossorigin="anonymous" type="application/javascript" src="./ClinicalLongformer_files/react-core-3f1b81bf3fb5.js.download" defer="defer"></script>
<script crossorigin="anonymous" type="application/javascript" src="./ClinicalLongformer_files/react-lib-8705026b409a.js.download" defer="defer"></script>
<script crossorigin="anonymous" type="application/javascript" src="./ClinicalLongformer_files/octicons-react-9fd6ca6872cc.js.download" defer="defer"></script>
<script crossorigin="anonymous" type="application/javascript" src="./ClinicalLongformer_files/vendors-node_modules_emotion_is-prop-valid_dist_emotion-is-prop-valid_esm_js-node_modules_emo-b1c483-b5947865157f.js.download" defer="defer"></script>
<script crossorigin="anonymous" type="application/javascript" src="./ClinicalLongformer_files/vendors-node_modules_github_catalyst_lib_index_js-node_modules_primer_live-region-element_dis-b2aea6-bfc50dd77594.js.download" defer="defer"></script>
<script crossorigin="anonymous" type="application/javascript" src="./ClinicalLongformer_files/vendors-node_modules_tanstack_query-core_build_modern_queryObserver_js-node_modules_tanstack_-defd52-0024bc0658ed.js.download" defer="defer"></script>
<script crossorigin="anonymous" type="application/javascript" src="./ClinicalLongformer_files/ui_packages_agent-sessions_utils_elapsed-time-util_ts-ui_packages_agent-sessions_hooks_useSes-bd1a31-e50ebb9c18d2.js.download" defer="defer"></script>
<script crossorigin="anonymous" type="application/javascript" src="./ClinicalLongformer_files/copilot-coding-agent-status-77b08765d435.js.download" defer="defer"></script>
<link crossorigin="anonymous" media="all" rel="stylesheet" href="./ClinicalLongformer_files/primer-react.0a68d610e6a57b39f9c5.module.css">
<link crossorigin="anonymous" media="all" rel="stylesheet" href="./ClinicalLongformer_files/copilot-coding-agent-status.32796c3e0ecdbdaa8ce6.module.css">
  
  <link crossorigin="anonymous" media="all" rel="stylesheet" href="./ClinicalLongformer_files/notifications-subscriptions-menu.07dab7f319b881c93ef5.module.css">


  



  
  
  
  

    
  


  


    


  
  

  
  

    



  

  




    

  

    

    

      

      

    
    
    

      
  
  


      
      


      


      
      
      

        


  <meta http-equiv="x-pjax-version" content="b483c6d1777a9d5edf9a2fc1a32b382d666ea55bbf00b538eaf5cbc1af7dd132" data-turbo-track="reload">
  <meta http-equiv="x-pjax-csp-version" content="352e51c42d5f5727a7c545752bf34d1f83f40219e7036c6959817149a51651bc" data-turbo-track="reload">
  <meta http-equiv="x-pjax-css-version" content="4fdbbea53e36128936635178f4ab95412002b0c1daa55c714672c6ec2c9dcabd" data-turbo-track="reload">
  <meta http-equiv="x-pjax-js-version" content="bbb9ee58aadc8189da43ce4000215bc02652e00bb6bf8699795f01e6dd674f93" data-turbo-track="reload">

  

      
  

  



      


    


  

  

  

  
  
  





  

  <style data-styled="active" data-styled-version="5.3.11"></style><link rel="stylesheet" type="text/css" href="./ClinicalLongformer_files/ui_packages_code-view-shared_components_files-search_FileResultsList_tsx.b824b197dc91fa971d59.module.css" crossorigin="anonymous"><style id="ms-consent-banner-main-styles">.w8hcgFksdo30C8w-bygqu{color:#000}.ydkKdaztSS0AeHWIeIHsQ a{color:#0067B8}.erL690_8JwUW-R4bJRcfl{background-color:#EBEBEB;border:none;color:#000}.erL690_8JwUW-R4bJRcfl:enabled:hover{color:#000;background-color:#DBDBDB;box-shadow:0px 4px 10px rgba(0,0,0,0.25);border:none}.erL690_8JwUW-R4bJRcfl:enabled:focus{background-color:#DBDBDB;box-shadow:0px 4px 10px rgba(0,0,0,0.25);border:2px solid #000}.erL690_8JwUW-R4bJRcfl:disabled{opacity:1;color:rgba(0,0,0,0.2);background-color:rgba(0,0,0,0.2);border:none}._1zNQOqxpBFSokeCLGi_hGr{border:none;background-color:#0067B8;color:#fff}._1zNQOqxpBFSokeCLGi_hGr:enabled:hover{color:#fff;background-color:#0067B8;box-shadow:0px 4px 10px rgba(0,0,0,0.25);border:none}._1zNQOqxpBFSokeCLGi_hGr:enabled:focus{background-color:#0067B8;box-shadow:0px 4px 10px rgba(0,0,0,0.25);border:2px solid #000}._1zNQOqxpBFSokeCLGi_hGr:disabled{opacity:1;color:rgba(0,0,0,0.2);background-color:rgba(0,120,215,0.2);border:none}._23tra1HsiiP6cT-Cka-ycB{position:relative;display:flex;z-index:9999;width:100%;background-color:#F2F2F2;justify-content:space-between;text-align:left}div[dir="rtl"]._23tra1HsiiP6cT-Cka-ycB{text-align:right}._1Upc2NjY8AlDn177YoVj0y{margin:0;padding-left:5%;padding-top:8px;padding-bottom:8px}div[dir="rtl"] ._1Upc2NjY8AlDn177YoVj0y{margin:0;padding:8px 5% 8px 0;float:none}._23tra1HsiiP6cT-Cka-ycB svg{fill:none;max-width:none;max-height:none}._1V_hlU-7jdtPiooHMu89BB{display:table-cell;padding:12px;width:24px;height:24px;font-family:Segoe UI, SegoeUI, Arial, sans-serif;font-style:normal;font-weight:normal;font-size:24px;line-height:0}.f6QKJD7fhSbnJLarTL-W-{display:table-cell;vertical-align:middle;padding:0;font-family:Segoe UI, SegoeUI, Arial, sans-serif;font-style:normal;font-weight:normal;font-size:13px;line-height:16px}.f6QKJD7fhSbnJLarTL-W- a{text-decoration:underline}._2j0fmugLb1FgYz6KPuB91w{display:inline-block;margin-left:5%;margin-right:5%;min-width:40%;min-width:calc((150px + 3 * 4px) * 2 + 150px);min-width:-webkit-fit-content;min-width:-moz-fit-content;min-width:fit-content;align-self:center;position:relative}._1XuCi2WhiqeWRUVp3pnFG3{margin:4px;padding:5px;min-width:150px;min-height:36px;vertical-align:top;cursor:pointer;font-family:Segoe UI, SegoeUI, Arial, sans-serif;font-style:normal;font-weight:normal;font-size:15px;line-height:20px;text-align:center}._1XuCi2WhiqeWRUVp3pnFG3:focus{box-sizing:border-box}._1XuCi2WhiqeWRUVp3pnFG3:disabled{cursor:not-allowed}._2bvsb3ubApyZ0UGoQA9O9T{display:block;position:fixed;z-index:10000;top:0;left:0;width:100%;height:100%;background-color:rgba(255,255,255,0.6);overflow:auto;text-align:left}div[dir="rtl"]._2bvsb3ubApyZ0UGoQA9O9T{text-align:right}div[dir="rtl"] ._2bvsb3ubApyZ0UGoQA9O9T{left:auto;right:0}.AFsJE948muYyzCMktdzuk{position:relative;top:8%;margin-bottom:40px;margin-left:auto;margin-right:auto;box-sizing:border-box;width:640px;background-color:#fff;border:1px solid #0067B8}._3kWyBRbW_dgnMiEyx06Fu4{float:right;z-index:1;margin:2px;padding:12px;border:none;cursor:pointer;font-family:Segoe UI, SegoeUI, Arial, sans-serif;font-style:normal;font-weight:normal;font-size:13px;line-height:13px;display:flex;align-items:center;text-align:center;color:#666;background-color:#fff}div[dir="rtl"] ._3kWyBRbW_dgnMiEyx06Fu4{margin:2px;padding:12px;float:left}.uCYvKvHXrhjNgflv1VqdD{position:static;margin-top:36px;margin-left:36px;margin-right:36px}._17pX1m9O_W--iZbDt3Ta5r{margin-top:0;margin-bottom:12px;font-family:Segoe UI, SegoeUI, Arial, sans-serif;font-style:normal;font-weight:600;font-size:20px;line-height:24px;text-transform:none}._1kBkHQ1V1wu3kl-YcLgUr6{height:446px;overflow:auto}._20_nXDf6uFs9Q6wxRXG-I-{margin-top:0;font-family:Segoe UI, SegoeUI, Arial, sans-serif;font-style:normal;font-weight:normal;font-size:15px;line-height:20px}._20_nXDf6uFs9Q6wxRXG-I- a{text-decoration:underline}dl._2a0NH_GDQEQe5Ynfo7suVH{margin-top:36px;margin-bottom:0;padding:0;list-style:none;text-transform:none}dt._3j_LCPv7fyXv3A8FIXVwZ4{margin-top:20px;float:none;font-family:Segoe UI, SegoeUI, Arial, sans-serif;font-style:normal;font-weight:600;font-size:18px;line-height:24px;list-style:none}.k-vxTGFbdq1aOZB2HHpjh{margin:0;padding:0;border:none}._2Bucyy75c_ogoU1g-liB5R{margin:0;padding:0;border-bottom:none;font-family:Segoe UI, SegoeUI, Arial, sans-serif;font-style:normal;font-weight:600;font-size:18px;line-height:24px;text-transform:none}._63gwfzV8dclrsl2cfd90r{display:inline-block;margin-top:0;margin-bottom:13px;font-family:Segoe UI, SegoeUI, Arial, sans-serif;font-style:normal;font-weight:normal;font-size:15px;line-height:20px}._1l8wM_4mRYGz3Iu7l3BZR7{display:block}._2UE03QS02aZGkslegN_F-i{display:inline-block;position:relative;left:5px;margin-bottom:13px;margin-right:34px;padding:3px}div[dir="rtl"] ._2UE03QS02aZGkslegN_F-i{margin:0 0 13px 34px;padding:3px;float:none}div[dir="rtl"] ._2UE03QS02aZGkslegN_F-i{left:auto;right:5px}._23tra1HsiiP6cT-Cka-ycB *::before,._2bvsb3ubApyZ0UGoQA9O9T *::before,._23tra1HsiiP6cT-Cka-ycB *::after,._2bvsb3ubApyZ0UGoQA9O9T *::after{box-sizing:inherit}._1HSFn0HzGo6w4ADApV8-c4{outline:2px solid rgba(0,0,0,0.8)}input[type="radio"]._1dp8Vp5m3HwAqGx8qBmFV2{display:inline-block;position:relative;margin-top:0;margin-left:0;margin-right:0;height:0;width:0;border-radius:0;cursor:pointer;outline:none;box-sizing:border-box;-webkit-appearance:none;-moz-appearance:none;appearance:none}input[type="radio"]._1dp8Vp5m3HwAqGx8qBmFV2+label::before{display:block;position:absolute;top:5px;left:3px;height:19px;width:19px;content:"";border-radius:50%;border:1px solid #000;background-color:#fff}div[dir="rtl"] input[type="radio"]._1dp8Vp5m3HwAqGx8qBmFV2+label::before{left:auto;right:3px}input[type="radio"]._1dp8Vp5m3HwAqGx8qBmFV2:not(:disabled)+label:hover::before{border:1px solid #0067B8}input[type="radio"]._1dp8Vp5m3HwAqGx8qBmFV2:not(:disabled)+label:hover::after{display:block;position:absolute;top:10px;left:8px;height:9px;width:9px;content:"";border-radius:50%;background-color:rgba(0,0,0,0.8)}div[dir="rtl"] input[type="radio"]._1dp8Vp5m3HwAqGx8qBmFV2:not(:disabled)+label:hover::after{left:auto;right:8px}input[type="radio"]._1dp8Vp5m3HwAqGx8qBmFV2:not(:disabled)+label:focus::before{border:1px solid #0067B8}input[type="radio"]._1dp8Vp5m3HwAqGx8qBmFV2:not(:disabled)+label:focus::after{display:block;position:absolute;top:10px;left:8px;height:9px;width:9px;content:"";border-radius:50%;background-color:#000}div[dir="rtl"] input[type="radio"]._1dp8Vp5m3HwAqGx8qBmFV2:not(:disabled)+label:focus::after{left:auto;right:8px}input[type="radio"]._1dp8Vp5m3HwAqGx8qBmFV2:checked+label::after{display:block;position:absolute;top:10px;left:8px;height:9px;width:9px;content:"";border-radius:50%;background-color:#000}div[dir="rtl"] input[type="radio"]._1dp8Vp5m3HwAqGx8qBmFV2:checked+label::after{left:auto;right:8px}input[type="radio"]._1dp8Vp5m3HwAqGx8qBmFV2:disabled+label{cursor:not-allowed}input[type="radio"]._1dp8Vp5m3HwAqGx8qBmFV2:disabled+label::before{border:1px solid rgba(0,0,0,0.2);background-color:rgba(0,0,0,0.2)}._3RJzeL3l9Rl_lAQEm6VwdX{display:block;position:static;float:right;margin-top:0;margin-bottom:0;margin-left:19px;margin-right:0;padding-top:0;padding-bottom:0;padding-left:8px;padding-right:0;width:80%;width:calc(100% - 19px);font-family:Segoe UI, SegoeUI, Arial, sans-serif;font-style:normal;font-weight:normal;font-size:15px;line-height:20px;text-transform:none;cursor:pointer;box-sizing:border-box}div[dir="rtl"] ._3RJzeL3l9Rl_lAQEm6VwdX{margin:0 19px 0 0;padding:0 8px 0 0;float:left}.nohp3sIG12ZBhzcMnPala{margin-top:20px;margin-bottom:48px}._2uhaEsmeotZ3P-M0AXo2kF{padding:0;width:278px;height:36px;cursor:pointer;font-family:Segoe UI, SegoeUI, Arial, sans-serif;font-style:normal;font-weight:normal;font-size:15px;line-height:20px;text-align:center}._2uhaEsmeotZ3P-M0AXo2kF:focus{box-sizing:border-box}._2uhaEsmeotZ3P-M0AXo2kF:disabled{cursor:not-allowed}._3tOu1FJ59c_xz_PmI1lKV5{float:right;padding:0;width:278px;height:36px;cursor:pointer;font-family:Segoe UI, SegoeUI, Arial, sans-serif;font-style:normal;font-weight:normal;font-size:15px;line-height:20px;text-align:center}._3tOu1FJ59c_xz_PmI1lKV5:focus{box-sizing:border-box}._3tOu1FJ59c_xz_PmI1lKV5:disabled{cursor:not-allowed}div[dir="rtl"] ._3tOu1FJ59c_xz_PmI1lKV5{margin:0;padding:0;float:left}@media only screen and (max-width: 768px){._2j0fmugLb1FgYz6KPuB91w,._1Upc2NjY8AlDn177YoVj0y{padding-top:8px;padding-bottom:12px;padding-left:3.75%;padding-right:3.75%;margin:0;width:92.5%}._23tra1HsiiP6cT-Cka-ycB{display:block}._1XuCi2WhiqeWRUVp3pnFG3{margin-bottom:8px;margin-left:0;margin-right:0;width:100%}._2bvsb3ubApyZ0UGoQA9O9T{overflow:hidden}.AFsJE948muYyzCMktdzuk{top:1.8%;width:93.33%;height:96.4%;overflow:hidden}.uCYvKvHXrhjNgflv1VqdD{margin-top:24px;margin-left:24px;margin-right:24px;height:100%}._1kBkHQ1V1wu3kl-YcLgUr6{height:62%;height:calc(100% - 188px);min-height:50%}._2uhaEsmeotZ3P-M0AXo2kF{width:100%}._3tOu1FJ59c_xz_PmI1lKV5{margin-bottom:12px;margin-left:0;width:100%}div[dir="rtl"] ._3tOu1FJ59c_xz_PmI1lKV5{margin:0 0 12px 0;padding:0;float:none}}@media only screen and (max-width: 768px) and (orientation: landscape), only screen and (max-height: 260px), only screen and (max-width: 340px){.AFsJE948muYyzCMktdzuk{overflow:auto}}@media only screen and (max-height: 260px), only screen and (max-width: 340px){._1XuCi2WhiqeWRUVp3pnFG3{min-width:0}._3kWyBRbW_dgnMiEyx06Fu4{padding:3%}.uCYvKvHXrhjNgflv1VqdD{margin-top:3%;margin-left:3%;margin-right:3%}._17pX1m9O_W--iZbDt3Ta5r{margin-bottom:3%}._1kBkHQ1V1wu3kl-YcLgUr6{height:calc(79% - 64px)}.nohp3sIG12ZBhzcMnPala{margin-top:5%;margin-bottom:10%}._3tOu1FJ59c_xz_PmI1lKV5{margin-bottom:3%}div[dir="rtl"] ._3tOu1FJ59c_xz_PmI1lKV5{margin:0 0 3% 0;padding:0;float:none}}
</style><style type="text/css" id="ms-consent-banner-theme-styles">._23tra1HsiiP6cT-Cka-ycB {
            background-color: #24292f !important;
        }.w8hcgFksdo30C8w-bygqu {
            color: #ffffff !important;
        }.ydkKdaztSS0AeHWIeIHsQ a {
            color: #d8b9ff !important;
        }._2bvsb3ubApyZ0UGoQA9O9T {
            background-color: rgba(23, 23, 23, 0.8) !important;
        }.AFsJE948muYyzCMktdzuk {
            background-color: #24292f !important;
            border: 1px solid #d8b9ff !important;
        }._3kWyBRbW_dgnMiEyx06Fu4 {
            color: #d8b9ff !important;
            background-color: #24292f !important;
        }._1zNQOqxpBFSokeCLGi_hGr {
            border: 1px solid #ffffff !important;
            background-color: #ffffff !important;
            color: #1f2328 !important;
        }._1zNQOqxpBFSokeCLGi_hGr:enabled:hover {
            color: #1f2328 !important;
            background-color: #d8b9ff !important;
            box-shadow: none !important;
            border: 1px solid transparent !important;
        }._1zNQOqxpBFSokeCLGi_hGr:enabled:focus {
            background-color: #d8b9ff !important;
            box-shadow: none !important;
            border: 2px solid #ffffff !important;
        }._1zNQOqxpBFSokeCLGi_hGr:disabled {
            opacity: 0.5 !important;
            color: #1f2328 !important;
            background-color: #ffffff !important;
            border: 1px solid transparent !important;
        }.erL690_8JwUW-R4bJRcfl {
            border: 1px solid #eaeef2 !important;
            background-color: #32383f !important;
            color: #ffffff !important;
        }.erL690_8JwUW-R4bJRcfl:enabled:hover {
            color: #ffffff !important;
            background-color: #24292f !important;
            box-shadow: none !important;
            border: 1px solid #ffffff !important;
        }.erL690_8JwUW-R4bJRcfl:enabled:focus {
            background-color: #24292f !important;
            box-shadow: none !important;
            border: 2px solid #6e7781 !important;
        }.erL690_8JwUW-R4bJRcfl:disabled {
            opacity: 0.5 !important;
            color: #ffffff !important;
            background-color: #424a53 !important;
            border: 1px solid #6e7781 !important;
        }input[type="radio"]._1dp8Vp5m3HwAqGx8qBmFV2 + label::before {
            border: 1px solid #d8b9ff !important;
            background-color: #24292f !important;
        }._1HSFn0HzGo6w4ADApV8-c4 {
            outline: 2px solid #ffffff !important;
        }input[type="radio"]._1dp8Vp5m3HwAqGx8qBmFV2:checked + label::after {
            background-color: #d8b9ff !important;
        }input[type="radio"]._1dp8Vp5m3HwAqGx8qBmFV2 + label:hover::before {
            border: 1px solid #ffffff !important;
        }input[type="radio"]._1dp8Vp5m3HwAqGx8qBmFV2 + label:hover::after {
            background-color: #ffffff !important;
        }input[type="radio"]._1dp8Vp5m3HwAqGx8qBmFV2 + label:focus::before {
            border: 1px solid #ffffff !important;
        }input[type="radio"]._1dp8Vp5m3HwAqGx8qBmFV2 + label:focus::after {
            background-color: #d8b9ff !important;
        }input[type="radio"]._1dp8Vp5m3HwAqGx8qBmFV2:disabled + label::before {
            border: 1px solid rgba(227, 227, 227, 0.2) !important;
            background-color: rgba(227, 227, 227, 0.2) !important;
        }</style><link crossorigin="anonymous" media="all" rel="stylesheet" href="./ClinicalLongformer_files/react-code-view.4915ca2c68d1510cb07c.module.css"><script crossorigin="anonymous" type="application/javascript" src="./ClinicalLongformer_files/vendors-node_modules_dompurify_dist_purify_es_mjs-7457ebdd1a1f.js.download" defer="defer"></script><script crossorigin="anonymous" type="application/javascript" src="./ClinicalLongformer_files/vendors-node_modules_lodash-es__Stack_js-node_modules_lodash-es__Uint8Array_js-node_modules_l-4faaa6-16c4e2c524de.js.download" defer="defer"></script><script crossorigin="anonymous" type="application/javascript" src="./ClinicalLongformer_files/vendors-node_modules_lodash-es_isEqual_js-a0841ced23fc.js.download" defer="defer"></script><script crossorigin="anonymous" type="application/javascript" src="./ClinicalLongformer_files/vendors-node_modules_tanstack_react-virtual_dist_esm_index_js-807aab04afeb.js.download" defer="defer"></script><script crossorigin="anonymous" type="application/javascript" src="./ClinicalLongformer_files/vendors-node_modules_focus-visible_dist_focus-visible_js-node_modules_github_hydro-analytics--e21ffd-0b758af67e69.js.download" defer="defer"></script><script crossorigin="anonymous" type="application/javascript" src="./ClinicalLongformer_files/vendors-node_modules_fzy_js_index_js-node_modules_react-reverse-portal_dist_web_index_js-node-835def-721f0587143e.js.download" defer="defer"></script><script crossorigin="anonymous" type="application/javascript" src="./ClinicalLongformer_files/ui_packages_document-metadata_document-metadata_ts-ui_packages_history_history_ts-ui_packages-417c81-00e1a3522739.js.download" defer="defer"></script><script crossorigin="anonymous" type="application/javascript" src="./ClinicalLongformer_files/ui_packages_paths_index_ts-cb3551a37905.js.download" defer="defer"></script><script crossorigin="anonymous" type="application/javascript" src="./ClinicalLongformer_files/ui_packages_ref-selector_RefSelector_tsx-d5cdb50eb045.js.download" defer="defer"></script><script crossorigin="anonymous" type="application/javascript" src="./ClinicalLongformer_files/ui_packages_commit-attribution_index_ts-ui_packages_commit-checks-status_index_ts-ui_packages-0f6a14-3847641c506e.js.download" defer="defer"></script><script crossorigin="anonymous" type="application/javascript" src="./ClinicalLongformer_files/ui_packages_diffs_diff-parts_ts-d15c96aca8c4.js.download" defer="defer"></script><script crossorigin="anonymous" type="application/javascript" src="./ClinicalLongformer_files/ui_packages_app-uuid_app-uuid_ts-ui_packages_fetch-headers_fetch-headers_ts-ui_packages_repos-23cac5-80620f6333f1.js.download" defer="defer"></script><script crossorigin="anonymous" type="application/javascript" src="./ClinicalLongformer_files/ui_packages_code-view-shared_hooks_use-canonical-object_ts-ui_packages_code-view-shared_hooks-6097ef-4057a5510dce.js.download" defer="defer"></script><script crossorigin="anonymous" type="application/javascript" src="./ClinicalLongformer_files/app_assets_modules_github_blob-anchor_ts-ui_packages_code-nav_code-nav_ts-ui_packages_filter--8253c1-5fde020dbad1.js.download" defer="defer"></script><script crossorigin="anonymous" type="application/javascript" src="./ClinicalLongformer_files/react-code-view-24cf22279aed.js.download" defer="defer"></script><link rel="dns-prefetch" href="https://github.githubassets.com/"><link rel="dns-prefetch" href="https://avatars.githubusercontent.com/"><link rel="dns-prefetch" href="https://github-cloud.s3.amazonaws.com/"><link rel="dns-prefetch" href="https://user-images.githubusercontent.com/"><link rel="preconnect" href="https://github.githubassets.com/" crossorigin=""><link rel="preconnect" href="https://avatars.githubusercontent.com/"><title>SDOMH-LLM/ClinicalLongformer.ipynb at main · MadhaviPagare/SDOMH-LLM</title><meta name="route-pattern" content="/:user_id/:repository/blob/*name(/*path)" data-turbo-transient=""><meta name="route-controller" content="blob" data-turbo-transient=""><meta name="route-action" content="show" data-turbo-transient=""><meta name="fetch-nonce" content="v2:1df6660d-5f1f-ccad-7065-0f0bc952a638"><meta name="current-catalog-service-hash" content="f3abb0cc802f3d7b95fc8762b94bdcb13bf39634c40c357301c4aa1d67a256fb"><meta name="request-id" content="D832:15B2ED:388607:4E1CA6:685A3F8D" data-turbo-transient="true"><meta name="html-safe-nonce" content="270d05a66936d66fcfc61d2d1b263dc706735d87a3ab44c8499d2209ccd7079c" data-turbo-transient="true"><meta name="visitor-payload" content="eyJyZWZlcnJlciI6Imh0dHBzOi8vZ2l0aHViLmNvbS9NYWRoYXZpUGFnYXJlL1NET01ILUxMTS9ibG9iL21haW4vQ2xpbmljYWxMb25nZm9ybWVyLmlweW5iIiwicmVxdWVzdF9pZCI6IkQ4MzI6MTVCMkVEOjM4ODYwNzo0RTFDQTY6Njg1QTNGOEQiLCJ2aXNpdG9yX2lkIjoiOTA1NzMyMzAxMDg4MjgxMjM5NyIsInJlZ2lvbl9lZGdlIjoiaWFkIiwicmVnaW9uX3JlbmRlciI6ImlhZCJ9" data-turbo-transient="true"><meta name="visitor-hmac" content="bdd23fa415b9927b02f595e9af66ef9aeb909ba7638d5a0812eaf81713196303" data-turbo-transient="true"><meta name="hovercard-subject-tag" content="repository:891877994" data-turbo-transient=""><meta name="github-keyboard-shortcuts" content="repository,source-code,file-tree,copilot" data-turbo-transient="true"><meta name="selected-link" value="repo_source" data-turbo-transient=""><link rel="assets" href="https://github.githubassets.com/"><meta name="google-site-verification" content="Apib7-x98H0j5cPqHWwSMm6dNU4GmODRoqxLiDzdx9I"><meta name="octolytics-url" content="https://collector.github.com/github/collect"><meta name="octolytics-actor-id" content="94866287"><meta name="octolytics-actor-login" content="MadhaviPagare"><meta name="octolytics-actor-hash" content="7ba330b3b498b8bc08e084c24fcc94da8efc549fc2b12e20663a265f0538f319"><meta name="analytics-location" content="/&lt;user-name&gt;/&lt;repo-name&gt;/blob/show" data-turbo-transient="true"><meta name="user-login" content="MadhaviPagare"><link rel="sudo-modal" href="https://github.com/sessions/sudo_modal"><meta name="turbo-cache-control" content="no-preview" data-turbo-transient=""><meta name="turbo-cache-control" content="no-cache" data-turbo-transient=""><meta data-hydrostats="publish"><meta name="go-import" content="github.com/MadhaviPagare/SDOMH-LLM git https://github.com/MadhaviPagare/SDOMH-LLM.git"><meta name="octolytics-dimension-user_id" content="94866287"><meta name="octolytics-dimension-user_login" content="MadhaviPagare"><meta name="octolytics-dimension-repository_id" content="891877994"><meta name="octolytics-dimension-repository_nwo" content="MadhaviPagare/SDOMH-LLM"><meta name="octolytics-dimension-repository_public" content="true"><meta name="octolytics-dimension-repository_is_fork" content="false"><meta name="octolytics-dimension-repository_network_root_id" content="891877994"><meta name="octolytics-dimension-repository_network_root_nwo" content="MadhaviPagare/SDOMH-LLM"><meta name="turbo-body-classes" content="logged-in env-production page-responsive"><meta name="browser-stats-url" content="https://api.github.com/_private/browser/stats"><meta name="browser-errors-url" content="https://api.github.com/_private/browser/errors"><meta name="release" content="018b4b61b6b766952ad0842cf778d3e7453636a5"><link rel="mask-icon" href="https://github.githubassets.com/assets/pinned-octocat-093da3e6fa40.svg" color="#000000"><link rel="alternate icon" class="js-site-favicon" type="image/png" href="https://github.githubassets.com/favicons/favicon.png"><link rel="icon" class="js-site-favicon" type="image/svg+xml" href="https://github.githubassets.com/favicons/favicon.svg" data-base-href="https://github.githubassets.com/favicons/favicon"><meta name="theme-color" content="#1e2327"><meta name="color-scheme" content="light dark"><link rel="manifest" href="https://github.com/manifest.json" crossorigin="use-credentials"><style type="text/css" id="ms-consent-banner-theme-styles"></style><link rel="stylesheet" type="text/css" href="./ClinicalLongformer_files/ui_packages_file-renderer-blob_FileRendererBlob_tsx.0e7f3b7b8366fa1f227d.module.css" crossorigin="anonymous"></head>

  <body class="logged-in env-production page-responsive" style="overflow-wrap: break-word; --dialog-scrollgutter: 15px;">
    <div data-turbo-body="" class="logged-in env-production page-responsive" style="word-wrap: break-word;">
      



    <div class="position-relative header-wrapper js-header-wrapper ">
      <a href="https://github.com/MadhaviPagare/SDOMH-LLM/blob/main/ClinicalLongformer.ipynb#start-of-content" data-skip-target-assigned="false" class="p-3 color-bg-accent-emphasis color-fg-on-emphasis show-on-focus js-skip-to-content">Skip to content</a>

      <span data-view-component="true" class="progress-pjax-loader Progress position-fixed width-full">
    <span style="width: 0%;" data-view-component="true" class="Progress-item progress-pjax-loader-bar left-0 top-0 color-bg-accent-emphasis"></span>
</span>      
      
      <script crossorigin="anonymous" type="application/javascript" src="./ClinicalLongformer_files/ui_packages_ui-commands_ui-commands_ts-94054d5b9c0c.js.download" defer="defer"></script>
<script crossorigin="anonymous" type="application/javascript" src="./ClinicalLongformer_files/keyboard-shortcuts-dialog-6bb6aa2945d5.js.download" defer="defer"></script>
<link crossorigin="anonymous" media="all" rel="stylesheet" href="./ClinicalLongformer_files/primer-react.0a68d610e6a57b39f9c5.module.css">
<link crossorigin="anonymous" media="all" rel="stylesheet" href="./ClinicalLongformer_files/keyboard-shortcuts-dialog.47de85e2c17af43cefd5.module.css">

<react-partial partial-name="keyboard-shortcuts-dialog" data-ssr="false" data-attempted-ssr="false" data-react-profiling="false" data-catalyst="" class="loaded">
  
  <script type="application/json" data-target="react-partial.embeddedData">{"props":{"docsUrl":"https://docs.github.com/get-started/accessibility/keyboard-shortcuts"}}</script>
  <div data-target="react-partial.reactRoot"><div class="d-none"></div><script type="application/json" id="__PRIMER_DATA_:rv:__">{"resolvedServerColorMode":"day"}</script></div>
</react-partial>




      

          

              <header class="AppHeader" role="banner">
  <h2 class="sr-only">Navigation Menu</h2>


    

    <div class="AppHeader-globalBar pb-2 js-global-bar">
      <div class="AppHeader-globalBar-start responsive-context-region">
        <div class="">
            <deferred-side-panel data-url="/_side-panels/global" data-catalyst="">
  <include-fragment data-target="deferred-side-panel.fragment" data-nonce="v2:1df6660d-5f1f-ccad-7065-0f0bc952a638" data-view-component="true"><template shadowrootmode="open"><style>:host {display: block;}</style><slot></slot></template>
  
      <button aria-label="Open global navigation menu" data-action="click:deferred-side-panel#loadPanel click:deferred-side-panel#panelOpened" data-show-dialog-id="dialog-40ad5519-4615-4317-ae0c-a622eaa226fa" id="dialog-show-dialog-40ad5519-4615-4317-ae0c-a622eaa226fa" type="button" data-view-component="true" class="Button Button--iconOnly Button--secondary Button--medium AppHeader-button p-0 color-fg-muted" fdprocessedid="4an6qo">  <svg aria-hidden="true" height="16" viewBox="0 0 16 16" version="1.1" width="16" data-view-component="true" class="octicon octicon-three-bars Button-visual">
    <path d="M1 2.75A.75.75 0 0 1 1.75 2h12.5a.75.75 0 0 1 0 1.5H1.75A.75.75 0 0 1 1 2.75Zm0 5A.75.75 0 0 1 1.75 7h12.5a.75.75 0 0 1 0 1.5H1.75A.75.75 0 0 1 1 7.75ZM1.75 12h12.5a.75.75 0 0 1 0 1.5H1.75a.75.75 0 0 1 0-1.5Z"></path>
</svg>
</button>

<dialog-helper>
  <dialog data-target="deferred-side-panel.panel" id="dialog-40ad5519-4615-4317-ae0c-a622eaa226fa" aria-modal="true" aria-labelledby="dialog-40ad5519-4615-4317-ae0c-a622eaa226fa-title" aria-describedby="dialog-40ad5519-4615-4317-ae0c-a622eaa226fa-description" data-view-component="true" class="Overlay Overlay-whenNarrow Overlay--size-small-portrait Overlay--motion-scaleFade Overlay--placement-left SidePanel Overlay--disableScroll">
    <div styles="flex-direction: row;" data-view-component="true" class="Overlay-header">
  <div class="Overlay-headerContentWrap">
    <div class="Overlay-titleWrap">
      <h1 class="Overlay-title sr-only" id="dialog-40ad5519-4615-4317-ae0c-a622eaa226fa-title">
        Global navigation
      </h1>
            <div data-view-component="true" class="d-flex">
      <div data-view-component="true" class="AppHeader-logo position-relative">
        <svg aria-hidden="true" height="24" viewBox="0 0 24 24" version="1.1" width="24" data-view-component="true" class="octicon octicon-mark-github">
    <path d="M12 1C5.923 1 1 5.923 1 12c0 4.867 3.149 8.979 7.521 10.436.55.096.756-.233.756-.522 0-.262-.013-1.128-.013-2.049-2.764.509-3.479-.674-3.699-1.292-.124-.317-.66-1.293-1.127-1.554-.385-.207-.936-.715-.014-.729.866-.014 1.485.797 1.691 1.128.99 1.663 2.571 1.196 3.204.907.096-.715.385-1.196.701-1.471-2.448-.275-5.005-1.224-5.005-5.432 0-1.196.426-2.186 1.128-2.956-.111-.275-.496-1.402.11-2.915 0 0 .921-.288 3.024 1.128a10.193 10.193 0 0 1 2.75-.371c.936 0 1.871.123 2.75.371 2.104-1.43 3.025-1.128 3.025-1.128.605 1.513.221 2.64.111 2.915.701.77 1.127 1.747 1.127 2.956 0 4.222-2.571 5.157-5.019 5.432.399.344.743 1.004.743 2.035 0 1.471-.014 2.654-.014 3.025 0 .289.206.632.756.522C19.851 20.979 23 16.854 23 12c0-6.077-4.922-11-11-11Z"></path>
</svg>
</div></div>
    </div>
    <div class="Overlay-actionWrap">
      <button data-close-dialog-id="dialog-40ad5519-4615-4317-ae0c-a622eaa226fa" aria-label="Close" type="button" data-view-component="true" class="close-button Overlay-closeButton"><svg aria-hidden="true" height="16" viewBox="0 0 16 16" version="1.1" width="16" data-view-component="true" class="octicon octicon-x">
    <path d="M3.72 3.72a.75.75 0 0 1 1.06 0L8 6.94l3.22-3.22a.749.749 0 0 1 1.275.326.749.749 0 0 1-.215.734L9.06 8l3.22 3.22a.749.749 0 0 1-.326 1.275.749.749 0 0 1-.734-.215L8 9.06l-3.22 3.22a.751.751 0 0 1-1.042-.018.751.751 0 0 1-.018-1.042L6.94 8 3.72 4.78a.75.75 0 0 1 0-1.06Z"></path>
</svg></button>
    </div>
  </div>
  
</div>
      <scrollable-region data-labelled-by="dialog-40ad5519-4615-4317-ae0c-a622eaa226fa-title" data-catalyst="" style="overflow: auto;">
        <div data-view-component="true" class="Overlay-body d-flex flex-column px-2">    <div data-view-component="true" class="d-flex flex-column mb-3">
        <nav aria-label="Site navigation" data-view-component="true" class="ActionList">
  
  <nav-list data-catalyst="">
    <ul data-target="nav-list.topLevelList" data-view-component="true" class="ActionListWrap">
        
          
<li data-item-id="" data-targets="nav-list.items" data-view-component="true" class="ActionListItem">
    
    
    <a data-hotkey="g d" data-analytics-event="{&quot;category&quot;:&quot;Global navigation&quot;,&quot;action&quot;:&quot;HOME&quot;,&quot;label&quot;:null}" id="item-62f9eeba-70b0-412f-9be9-517693280f51" href="https://github.com/dashboard" data-view-component="true" class="ActionListContent ActionListContent--visual16">
        <span class="ActionListItem-visual ActionListItem-visual--leading">
          <svg aria-hidden="true" height="16" viewBox="0 0 16 16" version="1.1" width="16" data-view-component="true" class="octicon octicon-home">
    <path d="M6.906.664a1.749 1.749 0 0 1 2.187 0l5.25 4.2c.415.332.657.835.657 1.367v7.019A1.75 1.75 0 0 1 13.25 15h-3.5a.75.75 0 0 1-.75-.75V9H7v5.25a.75.75 0 0 1-.75.75h-3.5A1.75 1.75 0 0 1 1 13.25V6.23c0-.531.242-1.034.657-1.366l5.25-4.2Zm1.25 1.171a.25.25 0 0 0-.312 0l-5.25 4.2a.25.25 0 0 0-.094.196v7.019c0 .138.112.25.25.25H5.5V8.25a.75.75 0 0 1 .75-.75h3.5a.75.75 0 0 1 .75.75v5.25h2.75a.25.25 0 0 0 .25-.25V6.23a.25.25 0 0 0-.094-.195Z"></path>
</svg>
        </span>
      
        <span data-view-component="true" class="ActionListItem-label">
          Home
</span>      
</a>
  
</li>

        
          
<li data-item-id="" data-targets="nav-list.items" data-view-component="true" class="ActionListItem">
    
    
    <a data-hotkey="g i" data-analytics-event="{&quot;category&quot;:&quot;Global navigation&quot;,&quot;action&quot;:&quot;ISSUES&quot;,&quot;label&quot;:null}" id="item-de8a91e8-20c2-4e19-8d13-e5b6feda6838" href="https://github.com/issues" data-view-component="true" class="ActionListContent ActionListContent--visual16">
        <span class="ActionListItem-visual ActionListItem-visual--leading">
          <svg aria-hidden="true" height="16" viewBox="0 0 16 16" version="1.1" width="16" data-view-component="true" class="octicon octicon-issue-opened">
    <path d="M8 9.5a1.5 1.5 0 1 0 0-3 1.5 1.5 0 0 0 0 3Z"></path><path d="M8 0a8 8 0 1 1 0 16A8 8 0 0 1 8 0ZM1.5 8a6.5 6.5 0 1 0 13 0 6.5 6.5 0 0 0-13 0Z"></path>
</svg>
        </span>
      
        <span data-view-component="true" class="ActionListItem-label">
          Issues
</span>      
</a>
  
</li>

        
          
<li data-item-id="" data-targets="nav-list.items" data-view-component="true" class="ActionListItem">
    
    
    <a data-hotkey="g p" data-analytics-event="{&quot;category&quot;:&quot;Global navigation&quot;,&quot;action&quot;:&quot;PULL_REQUESTS&quot;,&quot;label&quot;:null}" id="item-8b301b7d-fb2c-4cd4-b690-5e6abbcbcd2b" href="https://github.com/pulls" data-view-component="true" class="ActionListContent ActionListContent--visual16">
        <span class="ActionListItem-visual ActionListItem-visual--leading">
          <svg aria-hidden="true" height="16" viewBox="0 0 16 16" version="1.1" width="16" data-view-component="true" class="octicon octicon-git-pull-request">
    <path d="M1.5 3.25a2.25 2.25 0 1 1 3 2.122v5.256a2.251 2.251 0 1 1-1.5 0V5.372A2.25 2.25 0 0 1 1.5 3.25Zm5.677-.177L9.573.677A.25.25 0 0 1 10 .854V2.5h1A2.5 2.5 0 0 1 13.5 5v5.628a2.251 2.251 0 1 1-1.5 0V5a1 1 0 0 0-1-1h-1v1.646a.25.25 0 0 1-.427.177L7.177 3.427a.25.25 0 0 1 0-.354ZM3.75 2.5a.75.75 0 1 0 0 1.5.75.75 0 0 0 0-1.5Zm0 9.5a.75.75 0 1 0 0 1.5.75.75 0 0 0 0-1.5Zm8.25.75a.75.75 0 1 0 1.5 0 .75.75 0 0 0-1.5 0Z"></path>
</svg>
        </span>
      
        <span data-view-component="true" class="ActionListItem-label">
          Pull requests
</span>      
</a>
  
</li>

        
          
<li data-item-id="" data-targets="nav-list.items" data-view-component="true" class="ActionListItem">
    
    
    <a data-analytics-event="{&quot;category&quot;:&quot;Global navigation&quot;,&quot;action&quot;:&quot;PROJECTS&quot;,&quot;label&quot;:null}" id="item-c2493713-50fa-4124-ba67-f9ee9454f0dd" href="https://github.com/projects" data-view-component="true" class="ActionListContent ActionListContent--visual16">
        <span class="ActionListItem-visual ActionListItem-visual--leading">
          <svg aria-hidden="true" height="16" viewBox="0 0 16 16" version="1.1" width="16" data-view-component="true" class="octicon octicon-table">
    <path d="M0 1.75C0 .784.784 0 1.75 0h12.5C15.216 0 16 .784 16 1.75v12.5A1.75 1.75 0 0 1 14.25 16H1.75A1.75 1.75 0 0 1 0 14.25ZM6.5 6.5v8h7.75a.25.25 0 0 0 .25-.25V6.5Zm8-1.5V1.75a.25.25 0 0 0-.25-.25H6.5V5Zm-13 1.5v7.75c0 .138.112.25.25.25H5v-8ZM5 5V1.5H1.75a.25.25 0 0 0-.25.25V5Z"></path>
</svg>
        </span>
      
        <span data-view-component="true" class="ActionListItem-label">
          Projects
</span>      
</a>
  
</li>

        
          
<li data-item-id="" data-targets="nav-list.items" data-view-component="true" class="ActionListItem">
    
    
    <a data-analytics-event="{&quot;category&quot;:&quot;Global navigation&quot;,&quot;action&quot;:&quot;DISCUSSIONS&quot;,&quot;label&quot;:null}" id="item-f3dc6847-d177-41de-b73c-1f8d4672bea2" href="https://github.com/discussions" data-view-component="true" class="ActionListContent ActionListContent--visual16">
        <span class="ActionListItem-visual ActionListItem-visual--leading">
          <svg aria-hidden="true" height="16" viewBox="0 0 16 16" version="1.1" width="16" data-view-component="true" class="octicon octicon-comment-discussion">
    <path d="M1.75 1h8.5c.966 0 1.75.784 1.75 1.75v5.5A1.75 1.75 0 0 1 10.25 10H7.061l-2.574 2.573A1.458 1.458 0 0 1 2 11.543V10h-.25A1.75 1.75 0 0 1 0 8.25v-5.5C0 1.784.784 1 1.75 1ZM1.5 2.75v5.5c0 .138.112.25.25.25h1a.75.75 0 0 1 .75.75v2.19l2.72-2.72a.749.749 0 0 1 .53-.22h3.5a.25.25 0 0 0 .25-.25v-5.5a.25.25 0 0 0-.25-.25h-8.5a.25.25 0 0 0-.25.25Zm13 2a.25.25 0 0 0-.25-.25h-.5a.75.75 0 0 1 0-1.5h.5c.966 0 1.75.784 1.75 1.75v5.5A1.75 1.75 0 0 1 14.25 12H14v1.543a1.458 1.458 0 0 1-2.487 1.03L9.22 12.28a.749.749 0 0 1 .326-1.275.749.749 0 0 1 .734.215l2.22 2.22v-2.19a.75.75 0 0 1 .75-.75h1a.25.25 0 0 0 .25-.25Z"></path>
</svg>
        </span>
      
        <span data-view-component="true" class="ActionListItem-label">
          Discussions
</span>      
</a>
  
</li>

        
          
<li data-item-id="" data-targets="nav-list.items" data-view-component="true" class="ActionListItem">
    
    
    <a data-analytics-event="{&quot;category&quot;:&quot;Global navigation&quot;,&quot;action&quot;:&quot;CODESPACES&quot;,&quot;label&quot;:null}" id="item-400ec83c-c970-45d1-87ff-36dd65c43449" href="https://github.com/codespaces" data-view-component="true" class="ActionListContent ActionListContent--visual16">
        <span class="ActionListItem-visual ActionListItem-visual--leading">
          <svg aria-hidden="true" height="16" viewBox="0 0 16 16" version="1.1" width="16" data-view-component="true" class="octicon octicon-codespaces">
    <path d="M0 11.25c0-.966.784-1.75 1.75-1.75h12.5c.966 0 1.75.784 1.75 1.75v3A1.75 1.75 0 0 1 14.25 16H1.75A1.75 1.75 0 0 1 0 14.25Zm2-9.5C2 .784 2.784 0 3.75 0h8.5C13.216 0 14 .784 14 1.75v5a1.75 1.75 0 0 1-1.75 1.75h-8.5A1.75 1.75 0 0 1 2 6.75Zm1.75-.25a.25.25 0 0 0-.25.25v5c0 .138.112.25.25.25h8.5a.25.25 0 0 0 .25-.25v-5a.25.25 0 0 0-.25-.25Zm-2 9.5a.25.25 0 0 0-.25.25v3c0 .138.112.25.25.25h12.5a.25.25 0 0 0 .25-.25v-3a.25.25 0 0 0-.25-.25Z"></path><path d="M7 12.75a.75.75 0 0 1 .75-.75h4.5a.75.75 0 0 1 0 1.5h-4.5a.75.75 0 0 1-.75-.75Zm-4 0a.75.75 0 0 1 .75-.75h.5a.75.75 0 0 1 0 1.5h-.5a.75.75 0 0 1-.75-.75Z"></path>
</svg>
        </span>
      
        <span data-view-component="true" class="ActionListItem-label">
          Codespaces
</span>      
</a>
  
</li>

        
          
<li data-item-id="" data-targets="nav-list.items" data-view-component="true" class="ActionListItem">
    
    
    <a data-analytics-event="{&quot;category&quot;:&quot;Global navigation&quot;,&quot;action&quot;:&quot;COPILOT&quot;,&quot;label&quot;:null}" id="item-e06501a6-17e9-46fa-9b91-8e9ea697b161" href="https://github.com/copilot" data-view-component="true" class="ActionListContent ActionListContent--visual16">
        <span class="ActionListItem-visual ActionListItem-visual--leading">
          <svg aria-hidden="true" height="16" viewBox="0 0 16 16" version="1.1" width="16" data-view-component="true" class="octicon octicon-copilot">
    <path d="M7.998 15.035c-4.562 0-7.873-2.914-7.998-3.749V9.338c.085-.628.677-1.686 1.588-2.065.013-.07.024-.143.036-.218.029-.183.06-.384.126-.612-.201-.508-.254-1.084-.254-1.656 0-.87.128-1.769.693-2.484.579-.733 1.494-1.124 2.724-1.261 1.206-.134 2.262.034 2.944.765.05.053.096.108.139.165.044-.057.094-.112.143-.165.682-.731 1.738-.899 2.944-.765 1.23.137 2.145.528 2.724 1.261.566.715.693 1.614.693 2.484 0 .572-.053 1.148-.254 1.656.066.228.098.429.126.612.012.076.024.148.037.218.924.385 1.522 1.471 1.591 2.095v1.872c0 .766-3.351 3.795-8.002 3.795Zm0-1.485c2.28 0 4.584-1.11 5.002-1.433V7.862l-.023-.116c-.49.21-1.075.291-1.727.291-1.146 0-2.059-.327-2.71-.991A3.222 3.222 0 0 1 8 6.303a3.24 3.24 0 0 1-.544.743c-.65.664-1.563.991-2.71.991-.652 0-1.236-.081-1.727-.291l-.023.116v4.255c.419.323 2.722 1.433 5.002 1.433ZM6.762 2.83c-.193-.206-.637-.413-1.682-.297-1.019.113-1.479.404-1.713.7-.247.312-.369.789-.369 1.554 0 .793.129 1.171.308 1.371.162.181.519.379 1.442.379.853 0 1.339-.235 1.638-.54.315-.322.527-.827.617-1.553.117-.935-.037-1.395-.241-1.614Zm4.155-.297c-1.044-.116-1.488.091-1.681.297-.204.219-.359.679-.242 1.614.091.726.303 1.231.618 1.553.299.305.784.54 1.638.54.922 0 1.28-.198 1.442-.379.179-.2.308-.578.308-1.371 0-.765-.123-1.242-.37-1.554-.233-.296-.693-.587-1.713-.7Z"></path><path d="M6.25 9.037a.75.75 0 0 1 .75.75v1.501a.75.75 0 0 1-1.5 0V9.787a.75.75 0 0 1 .75-.75Zm4.25.75v1.501a.75.75 0 0 1-1.5 0V9.787a.75.75 0 0 1 1.5 0Z"></path>
</svg>
        </span>
      
        <span data-view-component="true" class="ActionListItem-label">
          Copilot
</span>      
</a>
  
</li>

        
          <li role="presentation" aria-hidden="true" data-view-component="true" class="ActionList-sectionDivider"></li>
        
          
<li data-item-id="" data-targets="nav-list.items" data-view-component="true" class="ActionListItem">
    
    
    <a data-analytics-event="{&quot;category&quot;:&quot;Global navigation&quot;,&quot;action&quot;:&quot;EXPLORE&quot;,&quot;label&quot;:null}" id="item-5786160e-761b-416d-a652-5206858cca41" href="https://github.com/explore" data-view-component="true" class="ActionListContent ActionListContent--visual16">
        <span class="ActionListItem-visual ActionListItem-visual--leading">
          <svg aria-hidden="true" height="16" viewBox="0 0 16 16" version="1.1" width="16" data-view-component="true" class="octicon octicon-telescope">
    <path d="M14.184 1.143v-.001l1.422 2.464a1.75 1.75 0 0 1-.757 2.451L3.104 11.713a1.75 1.75 0 0 1-2.275-.702l-.447-.775a1.75 1.75 0 0 1 .53-2.32L11.682.573a1.748 1.748 0 0 1 2.502.57Zm-4.709 9.32h-.001l2.644 3.863a.75.75 0 1 1-1.238.848l-1.881-2.75v2.826a.75.75 0 0 1-1.5 0v-2.826l-1.881 2.75a.75.75 0 1 1-1.238-.848l2.049-2.992a.746.746 0 0 1 .293-.253l1.809-.87a.749.749 0 0 1 .944.252ZM9.436 3.92h-.001l-4.97 3.39.942 1.63 5.42-2.61Zm3.091-2.108h.001l-1.85 1.26 1.505 2.605 2.016-.97a.247.247 0 0 0 .13-.151.247.247 0 0 0-.022-.199l-1.422-2.464a.253.253 0 0 0-.161-.119.254.254 0 0 0-.197.038ZM1.756 9.157a.25.25 0 0 0-.075.33l.447.775a.25.25 0 0 0 .325.1l1.598-.769-.83-1.436-1.465 1Z"></path>
</svg>
        </span>
      
        <span data-view-component="true" class="ActionListItem-label">
          Explore
</span>      
</a>
  
</li>

        
          
<li data-item-id="" data-targets="nav-list.items" data-view-component="true" class="ActionListItem">
    
    
    <a data-analytics-event="{&quot;category&quot;:&quot;Global navigation&quot;,&quot;action&quot;:&quot;MARKETPLACE&quot;,&quot;label&quot;:null}" id="item-28aa0466-3912-4171-bff5-ac6a2ec99b14" href="https://github.com/marketplace" data-view-component="true" class="ActionListContent ActionListContent--visual16">
        <span class="ActionListItem-visual ActionListItem-visual--leading">
          <svg aria-hidden="true" height="16" viewBox="0 0 16 16" version="1.1" width="16" data-view-component="true" class="octicon octicon-gift">
    <path d="M2 2.75A2.75 2.75 0 0 1 4.75 0c.983 0 1.873.42 2.57 1.232.268.318.497.668.68 1.042.183-.375.411-.725.68-1.044C9.376.42 10.266 0 11.25 0a2.75 2.75 0 0 1 2.45 4h.55c.966 0 1.75.784 1.75 1.75v2c0 .698-.409 1.301-1 1.582v4.918A1.75 1.75 0 0 1 13.25 16H2.75A1.75 1.75 0 0 1 1 14.25V9.332C.409 9.05 0 8.448 0 7.75v-2C0 4.784.784 4 1.75 4h.55c-.192-.375-.3-.8-.3-1.25ZM7.25 9.5H2.5v4.75c0 .138.112.25.25.25h4.5Zm1.5 0v5h4.5a.25.25 0 0 0 .25-.25V9.5Zm0-4V8h5.5a.25.25 0 0 0 .25-.25v-2a.25.25 0 0 0-.25-.25Zm-7 0a.25.25 0 0 0-.25.25v2c0 .138.112.25.25.25h5.5V5.5h-5.5Zm3-4a1.25 1.25 0 0 0 0 2.5h2.309c-.233-.818-.542-1.401-.878-1.793-.43-.502-.915-.707-1.431-.707ZM8.941 4h2.309a1.25 1.25 0 0 0 0-2.5c-.516 0-1 .205-1.43.707-.337.392-.646.975-.879 1.793Z"></path>
</svg>
        </span>
      
        <span data-view-component="true" class="ActionListItem-label">
          Marketplace
</span>      
</a>
  
</li>

</ul>  </nav-list>
</nav>

        <div data-view-component="true" class="my-3 d-flex flex-justify-center height-full">
          <span data-view-component="true">
  <svg style="box-sizing: content-box; color: var(--color-icon-primary);" width="16" height="16" viewBox="0 0 16 16" fill="none" aria-hidden="true" data-view-component="true" class="anim-rotate">
    <circle cx="8" cy="8" r="7" stroke="currentColor" stroke-opacity="0.25" stroke-width="2" vector-effect="non-scaling-stroke" fill="none"></circle>
    <path d="M15 8a7.002 7.002 0 00-7-7" stroke="currentColor" stroke-width="2" stroke-linecap="round" vector-effect="non-scaling-stroke"></path>
</svg>    <span class="sr-only">Loading</span>
</span>
</div>
</div>
      <div data-view-component="true" class="flex-1"></div>


      <div data-view-component="true" class="px-2">      <p class="color-fg-subtle text-small text-light">© 2025 GitHub, Inc.</p>

      <div data-view-component="true" class="d-flex flex-wrap text-small text-light">
          <a target="_blank" href="https://github.com/about" data-view-component="true" class="Link mr-2">About</a>
          <a target="_blank" href="https://github.blog/" data-view-component="true" class="Link mr-2">Blog</a>
          <a target="_blank" href="https://docs.github.com/site-policy/github-terms/github-terms-of-service" data-view-component="true" class="Link mr-2">Terms</a>
          <a target="_blank" href="https://docs.github.com/site-policy/privacy-policies/github-privacy-statement" data-view-component="true" class="Link mr-2">Privacy</a>
          <a target="_blank" href="https://github.com/security" data-view-component="true" class="Link mr-2">Security</a>
          <a target="_blank" href="https://www.githubstatus.com/" data-view-component="true" class="Link mr-3">Status</a>

</div></div>
</div>
      </scrollable-region>
      
</dialog></dialog-helper>


  <div data-show-on-forbidden-error="" hidden="">
    <div class="Box">
  <div class="blankslate-container">
    <div data-view-component="true" class="blankslate blankslate-spacious color-bg-default rounded-2">
      

      <h3 data-view-component="true" class="blankslate-heading">        Uh oh!
</h3>
      <p data-view-component="true">        </p><p class="color-fg-muted my-2 mb-2 ws-normal">There was an error while loading. <a class="Link--inTextBlock" data-turbo="false" href="https://github.com/MadhaviPagare/SDOMH-LLM/blob/main/ClinicalLongformer.ipynb" aria-label="Please reload this page">Please reload this page</a>.</p>
<p></p>

</div>  </div>
</div>  </div>
</include-fragment></deferred-side-panel>
        </div>

        <a class="AppHeader-logo ml-1 " href="https://github.com/" data-hotkey="g d" aria-label="Homepage " data-turbo="false" data-analytics-event="{&quot;category&quot;:&quot;Header&quot;,&quot;action&quot;:&quot;go to dashboard&quot;,&quot;label&quot;:&quot;icon:logo&quot;}">
          <svg height="32" aria-hidden="true" viewBox="0 0 24 24" version="1.1" width="32" data-view-component="true" class="octicon octicon-mark-github v-align-middle">
    <path d="M12 1C5.923 1 1 5.923 1 12c0 4.867 3.149 8.979 7.521 10.436.55.096.756-.233.756-.522 0-.262-.013-1.128-.013-2.049-2.764.509-3.479-.674-3.699-1.292-.124-.317-.66-1.293-1.127-1.554-.385-.207-.936-.715-.014-.729.866-.014 1.485.797 1.691 1.128.99 1.663 2.571 1.196 3.204.907.096-.715.385-1.196.701-1.471-2.448-.275-5.005-1.224-5.005-5.432 0-1.196.426-2.186 1.128-2.956-.111-.275-.496-1.402.11-2.915 0 0 .921-.288 3.024 1.128a10.193 10.193 0 0 1 2.75-.371c.936 0 1.871.123 2.75.371 2.104-1.43 3.025-1.128 3.025-1.128.605 1.513.221 2.64.111 2.915.701.77 1.127 1.747 1.127 2.956 0 4.222-2.571 5.157-5.019 5.432.399.344.743 1.004.743 2.035 0 1.471-.014 2.654-.014 3.025 0 .289.206.632.756.522C19.851 20.979 23 16.854 23 12c0-6.077-4.922-11-11-11Z"></path>
</svg>
        </a>

          <context-region-controller class="AppHeader-context responsive-context-region" data-max-items="5" data-catalyst="">
  <div class="AppHeader-context-full">
    <nav role="navigation" aria-label="GitHub Breadcrumb">
      
<context-region data-target="context-region-controller.contextRegion" role="list" data-action="context-region-changed:context-region-controller#crumbsChanged" data-catalyst="">
    <context-region-crumb data-crumb-id="contextregion-usercrumb-madhavipagare" data-targets="context-region.crumbs" data-label="MadhaviPagare" data-href="/MadhaviPagare" data-pre-rendered="" role="listitem" data-catalyst="">
      <a data-target="context-region-crumb.linkElement" data-analytics-event="{&quot;category&quot;:&quot;SiteHeaderComponent&quot;,&quot;action&quot;:&quot;context_region_crumb&quot;,&quot;label&quot;:&quot;MadhaviPagare&quot;,&quot;screen_size&quot;:&quot;full&quot;}" data-hovercard-type="user" data-hovercard-url="/users/MadhaviPagare/hovercard" data-octo-click="hovercard-link-click" data-octo-dimensions="link_type:self" href="https://github.com/MadhaviPagare" id="contextregion-usercrumb-madhavipagare-link" data-view-component="true" class="AppHeader-context-item" aria-keyshortcuts="Alt+ArrowUp">
        <span data-target="context-region-crumb.labelElement" class="AppHeader-context-item-label ">MadhaviPagare</span>

</a><tool-tip data-target="context-region-crumb.tooltip" for="contextregion-usercrumb-madhavipagare-link" popover="manual" class="sr-only" position="absolute" data-type="label" data-direction="s" hidden="" role="tooltip"><template shadowrootmode="open"><style>
      :host {
        --tooltip-top: var(--tool-tip-position-top, 0);
        --tooltip-left: var(--tool-tip-position-left, 0);
        padding: var(--overlay-paddingBlock-condensed) var(--overlay-padding-condensed) !important;
        font: var(--text-body-shorthand-small);
        color: var(--tooltip-fgColor, var(--fgColor-onEmphasis)) !important;
        text-align: center;
        text-decoration: none;
        text-shadow: none;
        text-transform: none;
        letter-spacing: normal;
        word-wrap: break-word;
        white-space: pre;
        background: var(--tooltip-bgColor, var(--bgColor-emphasis)) !important;
        border-radius: var(--borderRadius-medium);
        border: 0 !important;
        opacity: 0;
        max-width: var(--overlay-width-small);
        word-wrap: break-word;
        white-space: normal;
        width: max-content !important;
        inset: var(--tooltip-top) auto auto var(--tooltip-left) !important;
        overflow: visible !important;
        text-wrap: balance;
      }

      :host(:is(.tooltip-n, .tooltip-nw, .tooltip-ne)) {
        --tooltip-top: calc(var(--tool-tip-position-top, 0) - var(--overlay-offset, 0.25rem));
        --tooltip-left: var(--tool-tip-position-left);
      }

      :host(:is(.tooltip-s, .tooltip-sw, .tooltip-se)) {
        --tooltip-top: calc(var(--tool-tip-position-top, 0) + var(--overlay-offset, 0.25rem));
        --tooltip-left: var(--tool-tip-position-left);
      }

      :host(.tooltip-w) {
        --tooltip-top: var(--tool-tip-position-top);
        --tooltip-left: calc(var(--tool-tip-position-left, 0) - var(--overlay-offset, 0.25rem));
      }

      :host(.tooltip-e) {
        --tooltip-top: var(--tool-tip-position-top);
        --tooltip-left: calc(var(--tool-tip-position-left, 0) + var(--overlay-offset, 0.25rem));
      }

      :host:after{
        position: absolute;
        display: block;
        right: 0;
        left: 0;
        height: var(--overlay-offset, 0.25rem);
        content: "";
      }

      :host(.tooltip-s):after,
      :host(.tooltip-se):after,
      :host(.tooltip-sw):after {
        bottom: 100%
      }

      :host(.tooltip-n):after,
      :host(.tooltip-ne):after,
      :host(.tooltip-nw):after {
        top: 100%;
      }

      @keyframes tooltip-appear {
        from {
          opacity: 0;
        }
        to {
          opacity: 1;
        }
      }

      :host(:popover-open),
      :host(:popover-open):before {
        animation-name: tooltip-appear;
        animation-duration: .1s;
        animation-fill-mode: forwards;
        animation-timing-function: ease-in;
      }

      :host(.\:popover-open) {
        animation-name: tooltip-appear;
        animation-duration: .1s;
        animation-fill-mode: forwards;
        animation-timing-function: ease-in;
      }

      @media (forced-colors: active) {
        :host {
          outline: solid 1px transparent;
        }

        :host:before {
          display: none;
        }
      }
    </style><slot></slot></template>
          MadhaviPagare
        </tool-tip>
      <context-region-divider data-target="context-region-crumb.dividerElement" data-pre-rendered="" data-catalyst="">
  <span class="AppHeader-context-item-separator">
    <span class="sr-only">/</span>
    <svg width="16" height="16" viewBox="0 0 16 16" xmlns="http://www.w3.org/2000/svg" aria-hidden="true">
      <path d="M10.956 1.27994L6.06418 14.7201L5 14.7201L9.89181 1.27994L10.956 1.27994Z" fill="currentcolor"></path>
    </svg>
  </span>
</context-region-divider>

    
        
      </context-region-crumb>

      <li data-target="context-region-controller.overflowMenuContainer context-region.overflowMenuContainer" role="listitem" hidden="">
        <action-menu data-target="context-region-controller.overflowActionMenu" data-select-variant="none" data-view-component="true" data-catalyst="" data-ready="true">
  <focus-group direction="vertical" mnemonics="" retain="">
    <button id="action-menu-5e262f21-0ea6-4c80-aabc-7fca8ae9ab33-button" popovertarget="action-menu-5e262f21-0ea6-4c80-aabc-7fca8ae9ab33-overlay" aria-controls="action-menu-5e262f21-0ea6-4c80-aabc-7fca8ae9ab33-list" aria-haspopup="true" aria-labelledby="tooltip-52bbd63e-5c09-4674-ae7a-ab1187c0f7a6" type="button" data-view-component="true" class="Button Button--iconOnly Button--secondary Button--medium">  <svg aria-hidden="true" height="16" viewBox="0 0 16 16" version="1.1" width="16" data-view-component="true" class="octicon octicon-kebab-horizontal Button-visual">
    <path d="M8 9a1.5 1.5 0 1 0 0-3 1.5 1.5 0 0 0 0 3ZM1.5 9a1.5 1.5 0 1 0 0-3 1.5 1.5 0 0 0 0 3Zm13 0a1.5 1.5 0 1 0 0-3 1.5 1.5 0 0 0 0 3Z"></path>
</svg>
</button><tool-tip id="tooltip-52bbd63e-5c09-4674-ae7a-ab1187c0f7a6" for="action-menu-5e262f21-0ea6-4c80-aabc-7fca8ae9ab33-button" popover="manual" data-direction="s" data-type="label" data-view-component="true" class="sr-only position-absolute" aria-hidden="true" role="tooltip"><template shadowrootmode="open"><style>
      :host {
        --tooltip-top: var(--tool-tip-position-top, 0);
        --tooltip-left: var(--tool-tip-position-left, 0);
        padding: var(--overlay-paddingBlock-condensed) var(--overlay-padding-condensed) !important;
        font: var(--text-body-shorthand-small);
        color: var(--tooltip-fgColor, var(--fgColor-onEmphasis)) !important;
        text-align: center;
        text-decoration: none;
        text-shadow: none;
        text-transform: none;
        letter-spacing: normal;
        word-wrap: break-word;
        white-space: pre;
        background: var(--tooltip-bgColor, var(--bgColor-emphasis)) !important;
        border-radius: var(--borderRadius-medium);
        border: 0 !important;
        opacity: 0;
        max-width: var(--overlay-width-small);
        word-wrap: break-word;
        white-space: normal;
        width: max-content !important;
        inset: var(--tooltip-top) auto auto var(--tooltip-left) !important;
        overflow: visible !important;
        text-wrap: balance;
      }

      :host(:is(.tooltip-n, .tooltip-nw, .tooltip-ne)) {
        --tooltip-top: calc(var(--tool-tip-position-top, 0) - var(--overlay-offset, 0.25rem));
        --tooltip-left: var(--tool-tip-position-left);
      }

      :host(:is(.tooltip-s, .tooltip-sw, .tooltip-se)) {
        --tooltip-top: calc(var(--tool-tip-position-top, 0) + var(--overlay-offset, 0.25rem));
        --tooltip-left: var(--tool-tip-position-left);
      }

      :host(.tooltip-w) {
        --tooltip-top: var(--tool-tip-position-top);
        --tooltip-left: calc(var(--tool-tip-position-left, 0) - var(--overlay-offset, 0.25rem));
      }

      :host(.tooltip-e) {
        --tooltip-top: var(--tool-tip-position-top);
        --tooltip-left: calc(var(--tool-tip-position-left, 0) + var(--overlay-offset, 0.25rem));
      }

      :host:after{
        position: absolute;
        display: block;
        right: 0;
        left: 0;
        height: var(--overlay-offset, 0.25rem);
        content: "";
      }

      :host(.tooltip-s):after,
      :host(.tooltip-se):after,
      :host(.tooltip-sw):after {
        bottom: 100%
      }

      :host(.tooltip-n):after,
      :host(.tooltip-ne):after,
      :host(.tooltip-nw):after {
        top: 100%;
      }

      @keyframes tooltip-appear {
        from {
          opacity: 0;
        }
        to {
          opacity: 1;
        }
      }

      :host(:popover-open),
      :host(:popover-open):before {
        animation-name: tooltip-appear;
        animation-duration: .1s;
        animation-fill-mode: forwards;
        animation-timing-function: ease-in;
      }

      :host(.\:popover-open) {
        animation-name: tooltip-appear;
        animation-duration: .1s;
        animation-fill-mode: forwards;
        animation-timing-function: ease-in;
      }

      @media (forced-colors: active) {
        :host {
          outline: solid 1px transparent;
        }

        :host:before {
          display: none;
        }
      }
    </style><slot></slot></template>Show more breadcrumb items</tool-tip>


<anchored-position data-target="action-menu.overlay" id="action-menu-5e262f21-0ea6-4c80-aabc-7fca8ae9ab33-overlay" anchor="action-menu-5e262f21-0ea6-4c80-aabc-7fca8ae9ab33-button" align="start" side="outside-bottom" anchor-offset="normal" popover="auto" data-view-component="true" style="inset: 4px auto auto 0px;">
  <div data-view-component="true" class="Overlay Overlay--size-auto">
    
      <div data-view-component="true" class="Overlay-body Overlay-body--paddingNone">          <action-list data-catalyst="">
  <div data-view-component="true">
    <ul aria-labelledby="action-menu-5e262f21-0ea6-4c80-aabc-7fca8ae9ab33-button" id="action-menu-5e262f21-0ea6-4c80-aabc-7fca8ae9ab33-list" role="menu" data-view-component="true" class="ActionListWrap--inset ActionListWrap">
        <li hidden="true" data-crumb-id="contextregion-usercrumb-madhavipagare" data-targets="context-region.overflowCrumbs action-list.items" data-analytics-event="{&quot;category&quot;:&quot;SiteHeaderComponent&quot;,&quot;action&quot;:&quot;context_region_overflow_menu_crumb&quot;,&quot;label&quot;:&quot;global-navigation&quot;}" role="none" data-view-component="true" class="ActionListItem">
    
    
    <a tabindex="-1" id="item-aaa817f3-9a31-4dee-96a7-3350108dcecf" href="https://github.com/MadhaviPagare" role="menuitem" data-view-component="true" class="ActionListContent">
      
        <span data-view-component="true" class="ActionListItem-label">
          MadhaviPagare
</span>      
</a>
  
</li>
        <li hidden="true" data-crumb-id="contextregion-repositorycrumb-sdomh-llm" data-targets="context-region.overflowCrumbs action-list.items" data-analytics-event="{&quot;category&quot;:&quot;SiteHeaderComponent&quot;,&quot;action&quot;:&quot;context_region_overflow_menu_crumb&quot;,&quot;label&quot;:&quot;global-navigation&quot;}" role="none" data-view-component="true" class="ActionListItem">
    
    
    <a tabindex="-1" id="item-888c04bd-1dbe-47b9-8468-a716a50e7124" href="https://github.com/MadhaviPagare/SDOMH-LLM" role="menuitem" data-view-component="true" class="ActionListContent">
      
        <span data-view-component="true" class="ActionListItem-label">
          SDOMH-LLM
</span>      
</a>
  
</li>
</ul>    
</div></action-list>


</div>
      
</div></anchored-position>  </focus-group>
</action-menu>
  <context-region-divider data-target="context-region-crumb.dividerElement" data-pre-rendered="" data-catalyst="">
  <span class="AppHeader-context-item-separator">
    <span class="sr-only">/</span>
    <svg width="16" height="16" viewBox="0 0 16 16" xmlns="http://www.w3.org/2000/svg" aria-hidden="true">
      <path d="M10.956 1.27994L6.06418 14.7201L5 14.7201L9.89181 1.27994L10.956 1.27994Z" fill="currentcolor"></path>
    </svg>
  </span>
</context-region-divider>


      </li>
    <context-region-crumb data-crumb-id="contextregion-repositorycrumb-sdomh-llm" data-targets="context-region.crumbs" data-label="SDOMH-LLM" data-href="/MadhaviPagare/SDOMH-LLM" data-pre-rendered="" role="listitem" data-catalyst="">
      <a data-target="context-region-crumb.linkElement" data-analytics-event="{&quot;category&quot;:&quot;SiteHeaderComponent&quot;,&quot;action&quot;:&quot;context_region_crumb&quot;,&quot;label&quot;:&quot;SDOMH-LLM&quot;,&quot;screen_size&quot;:&quot;full&quot;}" href="https://github.com/MadhaviPagare/SDOMH-LLM" id="contextregion-repositorycrumb-sdomh-llm-link" data-view-component="true" class="AppHeader-context-item">
        <span data-target="context-region-crumb.labelElement" class="AppHeader-context-item-label ">SDOMH-LLM</span>

</a><tool-tip data-target="context-region-crumb.tooltip" for="contextregion-repositorycrumb-sdomh-llm-link" popover="manual" class="sr-only" position="absolute" data-type="label" data-direction="s" hidden="true" role="tooltip"><template shadowrootmode="open"><style>
      :host {
        --tooltip-top: var(--tool-tip-position-top, 0);
        --tooltip-left: var(--tool-tip-position-left, 0);
        padding: var(--overlay-paddingBlock-condensed) var(--overlay-padding-condensed) !important;
        font: var(--text-body-shorthand-small);
        color: var(--tooltip-fgColor, var(--fgColor-onEmphasis)) !important;
        text-align: center;
        text-decoration: none;
        text-shadow: none;
        text-transform: none;
        letter-spacing: normal;
        word-wrap: break-word;
        white-space: pre;
        background: var(--tooltip-bgColor, var(--bgColor-emphasis)) !important;
        border-radius: var(--borderRadius-medium);
        border: 0 !important;
        opacity: 0;
        max-width: var(--overlay-width-small);
        word-wrap: break-word;
        white-space: normal;
        width: max-content !important;
        inset: var(--tooltip-top) auto auto var(--tooltip-left) !important;
        overflow: visible !important;
        text-wrap: balance;
      }

      :host(:is(.tooltip-n, .tooltip-nw, .tooltip-ne)) {
        --tooltip-top: calc(var(--tool-tip-position-top, 0) - var(--overlay-offset, 0.25rem));
        --tooltip-left: var(--tool-tip-position-left);
      }

      :host(:is(.tooltip-s, .tooltip-sw, .tooltip-se)) {
        --tooltip-top: calc(var(--tool-tip-position-top, 0) + var(--overlay-offset, 0.25rem));
        --tooltip-left: var(--tool-tip-position-left);
      }

      :host(.tooltip-w) {
        --tooltip-top: var(--tool-tip-position-top);
        --tooltip-left: calc(var(--tool-tip-position-left, 0) - var(--overlay-offset, 0.25rem));
      }

      :host(.tooltip-e) {
        --tooltip-top: var(--tool-tip-position-top);
        --tooltip-left: calc(var(--tool-tip-position-left, 0) + var(--overlay-offset, 0.25rem));
      }

      :host:after{
        position: absolute;
        display: block;
        right: 0;
        left: 0;
        height: var(--overlay-offset, 0.25rem);
        content: "";
      }

      :host(.tooltip-s):after,
      :host(.tooltip-se):after,
      :host(.tooltip-sw):after {
        bottom: 100%
      }

      :host(.tooltip-n):after,
      :host(.tooltip-ne):after,
      :host(.tooltip-nw):after {
        top: 100%;
      }

      @keyframes tooltip-appear {
        from {
          opacity: 0;
        }
        to {
          opacity: 1;
        }
      }

      :host(:popover-open),
      :host(:popover-open):before {
        animation-name: tooltip-appear;
        animation-duration: .1s;
        animation-fill-mode: forwards;
        animation-timing-function: ease-in;
      }

      :host(.\:popover-open) {
        animation-name: tooltip-appear;
        animation-duration: .1s;
        animation-fill-mode: forwards;
        animation-timing-function: ease-in;
      }

      @media (forced-colors: active) {
        :host {
          outline: solid 1px transparent;
        }

        :host:before {
          display: none;
        }
      }
    </style><slot></slot></template>
          SDOMH-LLM
        </tool-tip>
      <context-region-divider data-target="context-region-crumb.dividerElement" data-pre-rendered="" data-catalyst="">
  <span class="AppHeader-context-item-separator">
    <span class="sr-only">/</span>
    <svg width="16" height="16" viewBox="0 0 16 16" xmlns="http://www.w3.org/2000/svg" aria-hidden="true">
      <path d="M10.956 1.27994L6.06418 14.7201L5 14.7201L9.89181 1.27994L10.956 1.27994Z" fill="currentcolor"></path>
    </svg>
  </span>
</context-region-divider>

    
        
      </context-region-crumb>

</context-region>

    </nav>
  </div>
</context-region-controller>

      </div>
      <div class="AppHeader-globalBar-end">
          <div class="AppHeader-search">
              


<qbsearch-input class="search-input" data-scope="repo:MadhaviPagare/SDOMH-LLM" data-custom-scopes-path="/search/custom_scopes" data-delete-custom-scopes-csrf="W_HXcur4J6TQGrciZXn7APu8pNIDDsnetaRgLOTYI2fufaGmza1_J62SNGLh4TGyc_9pZhlLmXbULLhV5bQKtg" data-max-custom-scopes="10" data-header-redesign-enabled="true" data-initial-value="" data-blackbird-suggestions-path="/search/suggestions" data-jump-to-suggestions-path="/_graphql/GetSuggestedNavigationDestinations" data-current-repository="MadhaviPagare/SDOMH-LLM" data-current-org="" data-current-owner="MadhaviPagare" data-logged-in="true" data-copilot-chat-enabled="false" data-nl-search-enabled="false" data-catalyst="">
  <div class="search-input-container search-with-dialog position-relative d-flex flex-row flex-items-center height-auto color-bg-transparent border-0 color-fg-subtle mx-0" data-action="click:qbsearch-input#searchInputContainerClicked">
      
            <button type="button" data-action="click:qbsearch-input#handleExpand" class="AppHeader-button AppHeader-search-whenNarrow" aria-label="Search or jump to…" aria-expanded="false" aria-haspopup="dialog">
            <svg aria-hidden="true" height="16" viewBox="0 0 16 16" version="1.1" width="16" data-view-component="true" class="octicon octicon-search">
    <path d="M10.68 11.74a6 6 0 0 1-7.922-8.982 6 6 0 0 1 8.982 7.922l3.04 3.04a.749.749 0 0 1-.326 1.275.749.749 0 0 1-.734-.215ZM11.5 7a4.499 4.499 0 1 0-8.997 0A4.499 4.499 0 0 0 11.5 7Z"></path>
</svg>
          </button>


<div class="AppHeader-search-whenRegular">
  <div class="AppHeader-search-wrap AppHeader-search-wrap--hasTrailing">
    <div class="AppHeader-search-control AppHeader-search-control-overflow">
      <label for="AppHeader-searchInput" aria-label="Search or jump to…" class="AppHeader-search-visual--leading">
        <svg aria-hidden="true" height="16" viewBox="0 0 16 16" version="1.1" width="16" data-view-component="true" class="octicon octicon-search">
    <path d="M10.68 11.74a6 6 0 0 1-7.922-8.982 6 6 0 0 1 8.982 7.922l3.04 3.04a.749.749 0 0 1-.326 1.275.749.749 0 0 1-.734-.215ZM11.5 7a4.499 4.499 0 1 0-8.997 0A4.499 4.499 0 0 0 11.5 7Z"></path>
</svg>
      </label>

                <button type="button" data-target="qbsearch-input.inputButton" data-action="click:qbsearch-input#handleExpand" class="AppHeader-searchButton form-control input-contrast text-left color-fg-subtle no-wrap placeholder" data-hotkey="s,/" data-analytics-event="{&quot;location&quot;:&quot;navbar&quot;,&quot;action&quot;:&quot;searchbar&quot;,&quot;context&quot;:&quot;global&quot;,&quot;tag&quot;:&quot;input&quot;,&quot;label&quot;:&quot;searchbar_input_global_navbar&quot;}" aria-describedby="search-error-message-flash" fdprocessedid="n8k49d">
            <div class="overflow-hidden">
              <span id="qb-input-query" data-target="qbsearch-input.inputButtonText">
                  Type <kbd class="AppHeader-search-kbd">/</kbd> to search
              </span>
            </div>
          </button>

    </div>


  </div>
</div>

    <input type="hidden" name="type" class="js-site-search-type-field">

    
<div class="Overlay--hidden " data-modal-dialog-overlay="">
  <modal-dialog data-action="close:qbsearch-input#handleClose cancel:qbsearch-input#handleClose" data-target="qbsearch-input.searchSuggestionsDialog" role="dialog" id="search-suggestions-dialog" aria-modal="true" aria-labelledby="search-suggestions-dialog-header" data-view-component="true" class="Overlay Overlay--width-medium Overlay--height-auto">
      <h1 id="search-suggestions-dialog-header" class="sr-only">Search code, repositories, users, issues, pull requests...</h1>
    <div class="Overlay-body Overlay-body--paddingNone">
      
          <div data-view-component="true">        <div class="search-suggestions position-absolute width-full color-shadow-large border color-fg-default color-bg-default overflow-hidden d-flex flex-column query-builder-container" style="border-radius: 12px;" data-target="qbsearch-input.queryBuilderContainer" hidden="">
          <!-- '"` --><!-- </textarea></xmp> --><form id="query-builder-test-form" action="https://github.com/MadhaviPagare/SDOMH-LLM/blob/main/ClinicalLongformer.ipynb" accept-charset="UTF-8" method="get">
  <query-builder data-target="qbsearch-input.queryBuilder" id="query-builder-query-builder-test" data-filter-key=":" data-view-component="true" class="QueryBuilder search-query-builder" data-min-width="300" data-catalyst="">
    <div class="FormControl FormControl--fullWidth">
      <label id="query-builder-test-label" for="query-builder-test" class="FormControl-label sr-only">
        Search
      </label>
      <div class="QueryBuilder-StyledInput width-fit " data-target="query-builder.styledInput">
          <span id="query-builder-test-leadingvisual-wrap" class="FormControl-input-leadingVisualWrap QueryBuilder-leadingVisualWrap">
            <svg aria-hidden="true" height="16" viewBox="0 0 16 16" version="1.1" width="16" data-view-component="true" class="octicon octicon-search FormControl-input-leadingVisual">
    <path d="M10.68 11.74a6 6 0 0 1-7.922-8.982 6 6 0 0 1 8.982 7.922l3.04 3.04a.749.749 0 0 1-.326 1.275.749.749 0 0 1-.734-.215ZM11.5 7a4.499 4.499 0 1 0-8.997 0A4.499 4.499 0 0 0 11.5 7Z"></path>
</svg>
          </span>
        <div data-target="query-builder.styledInputContainer" class="QueryBuilder-StyledInputContainer">
          <div aria-hidden="true" class="QueryBuilder-StyledInputContent" data-target="query-builder.styledInputContent"></div>
          <div class="QueryBuilder-InputWrapper">
            <div aria-hidden="true" class="QueryBuilder-Sizer" data-target="query-builder.sizer"><span></span></div>
            <input id="query-builder-test" name="query-builder-test" value="" autocomplete="off" type="text" role="combobox" spellcheck="false" aria-expanded="false" aria-describedby="validation-3caa187f-8671-4319-a85f-a9a0b0e51d65" data-target="query-builder.input" data-action="
          input:query-builder#inputChange
          blur:query-builder#inputBlur
          keydown:query-builder#inputKeydown
          focus:query-builder#inputFocus
        " data-view-component="true" class="FormControl-input QueryBuilder-Input FormControl-medium" aria-controls="query-builder-test-results" aria-autocomplete="list" aria-haspopup="listbox" style="width: 300px;">
          </div>
        </div>
          <span class="sr-only" id="query-builder-test-clear">Clear</span>
          <button role="button" id="query-builder-test-clear-button" aria-labelledby="query-builder-test-clear query-builder-test-label" data-target="query-builder.clearButton" data-action="
                click:query-builder#clear
                focus:query-builder#clearButtonFocus
                blur:query-builder#clearButtonBlur
              " variant="small" hidden="" type="button" data-view-component="true" class="Button Button--iconOnly Button--invisible Button--medium mr-1 px-2 py-0 d-flex flex-items-center rounded-1 color-fg-muted">  <svg aria-hidden="true" height="16" viewBox="0 0 16 16" version="1.1" width="16" data-view-component="true" class="octicon octicon-x-circle-fill Button-visual">
    <path d="M2.343 13.657A8 8 0 1 1 13.658 2.343 8 8 0 0 1 2.343 13.657ZM6.03 4.97a.751.751 0 0 0-1.042.018.751.751 0 0 0-.018 1.042L6.94 8 4.97 9.97a.749.749 0 0 0 .326 1.275.749.749 0 0 0 .734-.215L8 9.06l1.97 1.97a.749.749 0 0 0 1.275-.326.749.749 0 0 0-.215-.734L9.06 8l1.97-1.97a.749.749 0 0 0-.326-1.275.749.749 0 0 0-.734.215L8 6.94Z"></path>
</svg>
</button>

      </div>
      <template id="search-icon"></template>

<template id="code-icon"></template>

<template id="file-code-icon"></template>

<template id="history-icon"></template>

<template id="repo-icon"></template>

<template id="bookmark-icon"></template>

<template id="plus-circle-icon"></template>

<template id="circle-icon"></template>

<template id="trash-icon"></template>

<template id="team-icon"></template>

<template id="project-icon"></template>

<template id="pencil-icon"></template>

<template id="copilot-icon"></template>

<template id="copilot-error-icon"></template>

<template id="workflow-icon"></template>

<template id="book-icon"></template>

<template id="code-review-icon"></template>

<template id="codespaces-icon"></template>

<template id="comment-icon"></template>

<template id="comment-discussion-icon"></template>

<template id="organization-icon"></template>

<template id="rocket-icon"></template>

<template id="shield-check-icon"></template>

<template id="heart-icon"></template>

<template id="server-icon"></template>

<template id="globe-icon"></template>

<template id="issue-opened-icon"></template>

<template id="device-mobile-icon"></template>

<template id="package-icon"></template>

<template id="credit-card-icon"></template>

<template id="play-icon"></template>

<template id="gift-icon"></template>

<template id="code-square-icon"></template>

<template id="device-desktop-icon"></template>

        <div class="position-relative">
                <ul role="listbox" class="ActionListWrap QueryBuilder-ListWrap" aria-label="Suggestions" data-action="
                    combobox-commit:query-builder#comboboxCommit
                    mousedown:query-builder#resultsMousedown
                  " data-target="query-builder.resultsList" data-persist-list="false" id="query-builder-test-results"></ul>
        </div>
      <div class="FormControl-inlineValidation" id="validation-3caa187f-8671-4319-a85f-a9a0b0e51d65" hidden="hidden">
        <span class="FormControl-inlineValidation--visual">
          <svg aria-hidden="true" height="12" viewBox="0 0 12 12" version="1.1" width="12" data-view-component="true" class="octicon octicon-alert-fill">
    <path d="M4.855.708c.5-.896 1.79-.896 2.29 0l4.675 8.351a1.312 1.312 0 0 1-1.146 1.954H1.33A1.313 1.313 0 0 1 .183 9.058ZM7 7V3H5v4Zm-1 3a1 1 0 1 0 0-2 1 1 0 0 0 0 2Z"></path>
</svg>
        </span>
        <span></span>
</div>    </div>
    <div data-target="query-builder.screenReaderFeedback" aria-live="polite" aria-atomic="true" class="sr-only">0 suggestions.</div>
</query-builder></form>
          <div class="d-flex flex-row color-fg-muted px-3 text-small color-bg-default search-feedback-prompt">
            <a target="_blank" href="https://docs.github.com/search-github/github-code-search/understanding-github-code-search-syntax" data-view-component="true" class="Link color-fg-accent text-normal ml-2">Search syntax tips</a>            <div class="d-flex flex-1"></div>
              <button data-action="click:qbsearch-input#showFeedbackDialog" type="button" data-view-component="true" class="Button--link Button--medium Button color-fg-accent text-normal ml-2">  <span class="Button-content">
    <span class="Button-label">Give feedback</span>
  </span>
</button>
          </div>
        </div>
</div>

    </div>
</modal-dialog></div>
  </div>
  <div data-action="click:qbsearch-input#retract" class="dark-backdrop position-fixed" hidden="" data-target="qbsearch-input.darkBackdrop"></div>
  <div class="color-fg-default">
    
<dialog-helper>
  <dialog data-target="qbsearch-input.feedbackDialog" data-action="close:qbsearch-input#handleDialogClose cancel:qbsearch-input#handleDialogClose" id="feedback-dialog" aria-modal="true" aria-labelledby="feedback-dialog-title" aria-describedby="feedback-dialog-description" data-view-component="true" class="Overlay Overlay-whenNarrow Overlay--size-medium Overlay--motion-scaleFade Overlay--disableScroll">
    <div data-view-component="true" class="Overlay-header">
  <div class="Overlay-headerContentWrap">
    <div class="Overlay-titleWrap">
      <h1 class="Overlay-title " id="feedback-dialog-title">
        Provide feedback
      </h1>
        
    </div>
    <div class="Overlay-actionWrap">
      <button data-close-dialog-id="feedback-dialog" aria-label="Close" type="button" data-view-component="true" class="close-button Overlay-closeButton"><svg aria-hidden="true" height="16" viewBox="0 0 16 16" version="1.1" width="16" data-view-component="true" class="octicon octicon-x">
    <path d="M3.72 3.72a.75.75 0 0 1 1.06 0L8 6.94l3.22-3.22a.749.749 0 0 1 1.275.326.749.749 0 0 1-.215.734L9.06 8l3.22 3.22a.749.749 0 0 1-.326 1.275.749.749 0 0 1-.734-.215L8 9.06l-3.22 3.22a.751.751 0 0 1-1.042-.018.751.751 0 0 1-.018-1.042L6.94 8 3.72 4.78a.75.75 0 0 1 0-1.06Z"></path>
</svg></button>
    </div>
  </div>
  
</div>
      <scrollable-region data-labelled-by="feedback-dialog-title" data-catalyst="" style="overflow: auto;">
        <div data-view-component="true" class="Overlay-body">        <!-- '"` --><!-- </textarea></xmp> --><form id="code-search-feedback-form" data-turbo="false" action="https://github.com/search/feedback" accept-charset="UTF-8" method="post"><input type="hidden" name="authenticity_token" value="rajaDvUHDLeKQ69dnhKBHEKHk3JqhY1Y07cn5CEx33TbM6oCScMQi0a_TYX3SX8gcVyMas551KkUhnpGX55kQA">
          <p>We read every piece of feedback, and take your input very seriously.</p>
          <textarea name="feedback" class="form-control width-full mb-2" style="height: 120px" id="feedback"></textarea>
          <input name="include_email" id="include_email" aria-label="Include my email address so I can be contacted" class="form-control mr-2" type="checkbox">
          <label for="include_email" style="font-weight: normal">Include my email address so I can be contacted</label>
</form></div>
      </scrollable-region>
      <div data-view-component="true" class="Overlay-footer Overlay-footer--alignEnd">          <button data-close-dialog-id="feedback-dialog" type="button" data-view-component="true" class="btn">    Cancel
</button>
          <button form="code-search-feedback-form" data-action="click:qbsearch-input#submitFeedback" type="submit" data-view-component="true" class="btn-primary btn">    Submit feedback
</button>
</div>
</dialog></dialog-helper>

    <custom-scopes data-target="qbsearch-input.customScopesManager" data-catalyst="">
    
<dialog-helper>
  <dialog data-target="custom-scopes.customScopesModalDialog" data-action="close:qbsearch-input#handleDialogClose cancel:qbsearch-input#handleDialogClose" id="custom-scopes-dialog" aria-modal="true" aria-labelledby="custom-scopes-dialog-title" aria-describedby="custom-scopes-dialog-description" data-view-component="true" class="Overlay Overlay-whenNarrow Overlay--size-medium Overlay--motion-scaleFade Overlay--disableScroll">
    <div data-view-component="true" class="Overlay-header Overlay-header--divided">
  <div class="Overlay-headerContentWrap">
    <div class="Overlay-titleWrap">
      <h1 class="Overlay-title " id="custom-scopes-dialog-title">
        Saved searches
      </h1>
        <h2 id="custom-scopes-dialog-description" class="Overlay-description">Use saved searches to filter your results more quickly</h2>
    </div>
    <div class="Overlay-actionWrap">
      <button data-close-dialog-id="custom-scopes-dialog" aria-label="Close" type="button" data-view-component="true" class="close-button Overlay-closeButton"><svg aria-hidden="true" height="16" viewBox="0 0 16 16" version="1.1" width="16" data-view-component="true" class="octicon octicon-x">
    <path d="M3.72 3.72a.75.75 0 0 1 1.06 0L8 6.94l3.22-3.22a.749.749 0 0 1 1.275.326.749.749 0 0 1-.215.734L9.06 8l3.22 3.22a.749.749 0 0 1-.326 1.275.749.749 0 0 1-.734-.215L8 9.06l-3.22 3.22a.751.751 0 0 1-1.042-.018.751.751 0 0 1-.018-1.042L6.94 8 3.72 4.78a.75.75 0 0 1 0-1.06Z"></path>
</svg></button>
    </div>
  </div>
  
</div>
      <scrollable-region data-labelled-by="custom-scopes-dialog-title" data-catalyst="" style="overflow: auto;">
        <div data-view-component="true" class="Overlay-body">        <div data-target="custom-scopes.customScopesModalDialogFlash"></div>

        <div hidden="" class="create-custom-scope-form" data-target="custom-scopes.createCustomScopeForm">
        <!-- '"` --><!-- </textarea></xmp> --><form id="custom-scopes-dialog-form" data-turbo="false" action="https://github.com/search/custom_scopes" accept-charset="UTF-8" method="post"><input type="hidden" name="authenticity_token" value="6v1qbAVbCEXDskm0R16cBEnGiUOK3O6sM_z3AsWm5nMAXBT0abmmWgKZ0JPzkWUKvQjWBTnolSj0EDJGzVgFug">
          <div data-target="custom-scopes.customScopesModalDialogFlash"></div>

          <input type="hidden" id="custom_scope_id" name="custom_scope_id" data-target="custom-scopes.customScopesIdField">

          <div class="form-group">
            <label for="custom_scope_name">Name</label>
            <auto-check src="/search/custom_scopes/check_name" required="">
              <input type="text" name="custom_scope_name" id="custom_scope_name" data-target="custom-scopes.customScopesNameField" class="form-control" autocomplete="off" placeholder="github-ruby" required="" maxlength="50" spellcheck="false">
              <input type="hidden" value="V_c-WrxpL1GFd4wQnhlRfgZzvMx4itrmwXgv2wA3MqvmgwsrVZNWl0ImvZLsGr86DQhMRFUu0lIo7lGpwVK7Gg" data-csrf="true">
            </auto-check>
          </div>

          <div class="form-group">
            <label for="custom_scope_query">Query</label>
            <input type="text" name="custom_scope_query" id="custom_scope_query" data-target="custom-scopes.customScopesQueryField" class="form-control" autocomplete="off" placeholder="(repo:mona/a OR repo:mona/b) AND lang:python" required="" maxlength="500">
          </div>

          <p class="text-small color-fg-muted">
            To see all available qualifiers, see our <a class="Link--inTextBlock" href="https://docs.github.com/search-github/github-code-search/understanding-github-code-search-syntax">documentation</a>.
          </p>
</form>        </div>

        <div data-target="custom-scopes.manageCustomScopesForm">
          <div data-target="custom-scopes.list"></div>
        </div>

</div>
      </scrollable-region>
      <div data-view-component="true" class="Overlay-footer Overlay-footer--alignEnd Overlay-footer--divided">          <button data-action="click:custom-scopes#customScopesCancel" type="button" data-view-component="true" class="btn">    Cancel
</button>
          <button form="custom-scopes-dialog-form" data-action="click:custom-scopes#customScopesSubmit" data-target="custom-scopes.customScopesSubmitButton" type="submit" data-view-component="true" class="btn-primary btn">    Create saved search
</button>
</div>
</dialog></dialog-helper>
    </custom-scopes>
  </div>
</qbsearch-input>  <input type="hidden" value="LA-X-TfKgPi417pEaq7OW1XDd01upyhoYoyf4JEmOecTlaa8judMhNph6MtMwNvGlF-0VtIpeQj9UYlhJUIy4Q" data-csrf="true" class="js-data-jump-to-suggestions-path-csrf">


          </div>

        
          <div class="AppHeader-CopilotChat hide-sm hide-md">
  <react-partial-anchor data-catalyst="">
      <a href="https://github.com/copilot" data-target="react-partial-anchor.anchor" id="copilot-chat-header-button" aria-labelledby="tooltip-8b0d69e9-df32-4677-8da3-8d8f41bacbb9" data-view-component="true" class="Button Button--iconOnly Button--secondary Button--medium AppHeader-button AppHeader-buttonLeft">  <svg aria-hidden="true" height="16" viewBox="0 0 16 16" version="1.1" width="16" data-view-component="true" class="octicon octicon-copilot Button-visual">
    <path d="M7.998 15.035c-4.562 0-7.873-2.914-7.998-3.749V9.338c.085-.628.677-1.686 1.588-2.065.013-.07.024-.143.036-.218.029-.183.06-.384.126-.612-.201-.508-.254-1.084-.254-1.656 0-.87.128-1.769.693-2.484.579-.733 1.494-1.124 2.724-1.261 1.206-.134 2.262.034 2.944.765.05.053.096.108.139.165.044-.057.094-.112.143-.165.682-.731 1.738-.899 2.944-.765 1.23.137 2.145.528 2.724 1.261.566.715.693 1.614.693 2.484 0 .572-.053 1.148-.254 1.656.066.228.098.429.126.612.012.076.024.148.037.218.924.385 1.522 1.471 1.591 2.095v1.872c0 .766-3.351 3.795-8.002 3.795Zm0-1.485c2.28 0 4.584-1.11 5.002-1.433V7.862l-.023-.116c-.49.21-1.075.291-1.727.291-1.146 0-2.059-.327-2.71-.991A3.222 3.222 0 0 1 8 6.303a3.24 3.24 0 0 1-.544.743c-.65.664-1.563.991-2.71.991-.652 0-1.236-.081-1.727-.291l-.023.116v4.255c.419.323 2.722 1.433 5.002 1.433ZM6.762 2.83c-.193-.206-.637-.413-1.682-.297-1.019.113-1.479.404-1.713.7-.247.312-.369.789-.369 1.554 0 .793.129 1.171.308 1.371.162.181.519.379 1.442.379.853 0 1.339-.235 1.638-.54.315-.322.527-.827.617-1.553.117-.935-.037-1.395-.241-1.614Zm4.155-.297c-1.044-.116-1.488.091-1.681.297-.204.219-.359.679-.242 1.614.091.726.303 1.231.618 1.553.299.305.784.54 1.638.54.922 0 1.28-.198 1.442-.379.179-.2.308-.578.308-1.371 0-.765-.123-1.242-.37-1.554-.233-.296-.693-.587-1.713-.7Z"></path><path d="M6.25 9.037a.75.75 0 0 1 .75.75v1.501a.75.75 0 0 1-1.5 0V9.787a.75.75 0 0 1 .75-.75Zm4.25.75v1.501a.75.75 0 0 1-1.5 0V9.787a.75.75 0 0 1 1.5 0Z"></path>
</svg>
</a><tool-tip id="tooltip-8b0d69e9-df32-4677-8da3-8d8f41bacbb9" for="copilot-chat-header-button" popover="manual" data-direction="s" data-type="label" data-view-component="true" class="sr-only position-absolute" aria-hidden="true" role="tooltip"><template shadowrootmode="open"><style>
      :host {
        --tooltip-top: var(--tool-tip-position-top, 0);
        --tooltip-left: var(--tool-tip-position-left, 0);
        padding: var(--overlay-paddingBlock-condensed) var(--overlay-padding-condensed) !important;
        font: var(--text-body-shorthand-small);
        color: var(--tooltip-fgColor, var(--fgColor-onEmphasis)) !important;
        text-align: center;
        text-decoration: none;
        text-shadow: none;
        text-transform: none;
        letter-spacing: normal;
        word-wrap: break-word;
        white-space: pre;
        background: var(--tooltip-bgColor, var(--bgColor-emphasis)) !important;
        border-radius: var(--borderRadius-medium);
        border: 0 !important;
        opacity: 0;
        max-width: var(--overlay-width-small);
        word-wrap: break-word;
        white-space: normal;
        width: max-content !important;
        inset: var(--tooltip-top) auto auto var(--tooltip-left) !important;
        overflow: visible !important;
        text-wrap: balance;
      }

      :host(:is(.tooltip-n, .tooltip-nw, .tooltip-ne)) {
        --tooltip-top: calc(var(--tool-tip-position-top, 0) - var(--overlay-offset, 0.25rem));
        --tooltip-left: var(--tool-tip-position-left);
      }

      :host(:is(.tooltip-s, .tooltip-sw, .tooltip-se)) {
        --tooltip-top: calc(var(--tool-tip-position-top, 0) + var(--overlay-offset, 0.25rem));
        --tooltip-left: var(--tool-tip-position-left);
      }

      :host(.tooltip-w) {
        --tooltip-top: var(--tool-tip-position-top);
        --tooltip-left: calc(var(--tool-tip-position-left, 0) - var(--overlay-offset, 0.25rem));
      }

      :host(.tooltip-e) {
        --tooltip-top: var(--tool-tip-position-top);
        --tooltip-left: calc(var(--tool-tip-position-left, 0) + var(--overlay-offset, 0.25rem));
      }

      :host:after{
        position: absolute;
        display: block;
        right: 0;
        left: 0;
        height: var(--overlay-offset, 0.25rem);
        content: "";
      }

      :host(.tooltip-s):after,
      :host(.tooltip-se):after,
      :host(.tooltip-sw):after {
        bottom: 100%
      }

      :host(.tooltip-n):after,
      :host(.tooltip-ne):after,
      :host(.tooltip-nw):after {
        top: 100%;
      }

      @keyframes tooltip-appear {
        from {
          opacity: 0;
        }
        to {
          opacity: 1;
        }
      }

      :host(:popover-open),
      :host(:popover-open):before {
        animation-name: tooltip-appear;
        animation-duration: .1s;
        animation-fill-mode: forwards;
        animation-timing-function: ease-in;
      }

      :host(.\:popover-open) {
        animation-name: tooltip-appear;
        animation-duration: .1s;
        animation-fill-mode: forwards;
        animation-timing-function: ease-in;
      }

      @media (forced-colors: active) {
        :host {
          outline: solid 1px transparent;
        }

        :host:before {
          display: none;
        }
      }
    </style><slot></slot></template>Chat with Copilot</tool-tip>

    
  
      <script crossorigin="anonymous" type="application/javascript" src="./ClinicalLongformer_files/vendors-node_modules_tanstack_query-core_build_modern_queryObserver_js-node_modules_tanstack_-defd52-0024bc0658ed.js.download" defer="defer"></script>
<script crossorigin="anonymous" type="application/javascript" src="./ClinicalLongformer_files/vendors-node_modules_react-relay_index_js-cce72ae26cdb.js.download" defer="defer"></script>
<script crossorigin="anonymous" type="application/javascript" src="./ClinicalLongformer_files/vendors-node_modules_remark-gfm_lib_index_js-node_modules_remark-parse_lib_index_js-node_modu-44d0fc-a919845a804c.js.download" defer="defer"></script>
<script crossorigin="anonymous" type="application/javascript" src="./ClinicalLongformer_files/vendors-node_modules_hastscript_lib_index_js-node_modules_lowlight_lib_all_js-node_modules_re-713cc1-b7c90cd7720d.js.download" defer="defer"></script>
<script crossorigin="anonymous" type="application/javascript" src="./ClinicalLongformer_files/vendors-node_modules_github_mini-throttle_dist_decorators_js-node_modules_accname_dist_access-690142-222222869963.js.download" defer="defer"></script>
<script crossorigin="anonymous" type="application/javascript" src="./ClinicalLongformer_files/vendors-node_modules_github_hotkey_dist_index_js-node_modules_tanstack_react-query_build_mode-0aadef-c5e6f6bf4bd5.js.download" defer="defer"></script>
<script crossorigin="anonymous" type="application/javascript" src="./ClinicalLongformer_files/ui_packages_relay-environment_relay-environment_ts-d6bdc891aa18.js.download" defer="defer"></script>
<script crossorigin="anonymous" type="application/javascript" src="./ClinicalLongformer_files/ui_packages_item-picker_components_RepositoryPicker_tsx-ui_packages_safe-html_VerifiedHTML_tsx-d732278afa14.js.download" defer="defer"></script>
<script crossorigin="anonymous" type="application/javascript" src="./ClinicalLongformer_files/ui_packages_copilot-chat_utils_copilot-chat-helpers_ts-581d4ddc330d.js.download" defer="defer"></script>
<script crossorigin="anonymous" type="application/javascript" src="./ClinicalLongformer_files/ui_packages_copilot-markdown_MarkdownRenderer_tsx-b3431194e458.js.download" defer="defer"></script>
<script crossorigin="anonymous" type="application/javascript" src="./ClinicalLongformer_files/ui_packages_copilot-chat_utils_CopilotChatContext_tsx-1891a5f103d4.js.download" defer="defer"></script>
<script crossorigin="anonymous" type="application/javascript" src="./ClinicalLongformer_files/ui_packages_copilot-chat_components_CopilotIconAnimation_tsx-ui_packages_copilot-chat_compone-8be2e4-0894de488784.js.download" defer="defer"></script>
<script crossorigin="anonymous" type="application/javascript" src="./ClinicalLongformer_files/copilot-chat-ba6cc33521f2.js.download" defer="defer"></script>
<link crossorigin="anonymous" media="all" rel="stylesheet" href="./ClinicalLongformer_files/primer-react.0a68d610e6a57b39f9c5.module.css">
<link crossorigin="anonymous" media="all" rel="stylesheet" href="./ClinicalLongformer_files/copilot-chat.0e989318df4c5b7d6b91.module.css">
      <link crossorigin="anonymous" media="all" rel="stylesheet" href="./ClinicalLongformer_files/copilot-markdown-rendering-f6845e8f5d6b.css">
      <script crossorigin="anonymous" type="application/javascript" src="./ClinicalLongformer_files/primer-react-a57080a0a6e8.js.download" defer="defer"></script>
<script crossorigin="anonymous" type="application/javascript" src="./ClinicalLongformer_files/react-core-3f1b81bf3fb5.js.download" defer="defer"></script>
<script crossorigin="anonymous" type="application/javascript" src="./ClinicalLongformer_files/react-lib-8705026b409a.js.download" defer="defer"></script>
<script crossorigin="anonymous" type="application/javascript" src="./ClinicalLongformer_files/octicons-react-9fd6ca6872cc.js.download" defer="defer"></script>
<script crossorigin="anonymous" type="application/javascript" src="./ClinicalLongformer_files/vendors-node_modules_emotion_is-prop-valid_dist_emotion-is-prop-valid_esm_js-node_modules_emo-b1c483-b5947865157f.js.download" defer="defer"></script>
<script crossorigin="anonymous" type="application/javascript" src="./ClinicalLongformer_files/vendors-node_modules_github_catalyst_lib_index_js-node_modules_primer_live-region-element_dis-b2aea6-bfc50dd77594.js.download" defer="defer"></script>
<script crossorigin="anonymous" type="application/javascript" src="./ClinicalLongformer_files/vendors-node_modules_tanstack_query-core_build_modern_queryObserver_js-node_modules_tanstack_-defd52-0024bc0658ed.js.download" defer="defer"></script>
<script crossorigin="anonymous" type="application/javascript" src="./ClinicalLongformer_files/vendors-node_modules_react-relay_index_js-cce72ae26cdb.js.download" defer="defer"></script>
<script crossorigin="anonymous" type="application/javascript" src="./ClinicalLongformer_files/vendors-node_modules_remark-gfm_lib_index_js-node_modules_remark-parse_lib_index_js-node_modu-44d0fc-a919845a804c.js.download" defer="defer"></script>
<script crossorigin="anonymous" type="application/javascript" src="./ClinicalLongformer_files/vendors-node_modules_hastscript_lib_index_js-node_modules_lowlight_lib_all_js-node_modules_re-713cc1-b7c90cd7720d.js.download" defer="defer"></script>
<script crossorigin="anonymous" type="application/javascript" src="./ClinicalLongformer_files/vendors-node_modules_github_mini-throttle_dist_decorators_js-node_modules_accname_dist_access-690142-222222869963.js.download" defer="defer"></script>
<script crossorigin="anonymous" type="application/javascript" src="./ClinicalLongformer_files/vendors-node_modules_focus-visible_dist_focus-visible_js-node_modules_github_hydro-analytics--e21ffd-0b758af67e69.js.download" defer="defer"></script>
<script crossorigin="anonymous" type="application/javascript" src="./ClinicalLongformer_files/vendors-node_modules_github_hotkey_dist_index_js-node_modules_tanstack_react-query_build_mode-0aadef-c5e6f6bf4bd5.js.download" defer="defer"></script>
<script crossorigin="anonymous" type="application/javascript" src="./ClinicalLongformer_files/ui_packages_paths_index_ts-cb3551a37905.js.download" defer="defer"></script>
<script crossorigin="anonymous" type="application/javascript" src="./ClinicalLongformer_files/ui_packages_ui-commands_ui-commands_ts-94054d5b9c0c.js.download" defer="defer"></script>
<script crossorigin="anonymous" type="application/javascript" src="./ClinicalLongformer_files/ui_packages_relay-environment_relay-environment_ts-d6bdc891aa18.js.download" defer="defer"></script>
<script crossorigin="anonymous" type="application/javascript" src="./ClinicalLongformer_files/ui_packages_item-picker_components_RepositoryPicker_tsx-ui_packages_safe-html_VerifiedHTML_tsx-d732278afa14.js.download" defer="defer"></script>
<script crossorigin="anonymous" type="application/javascript" src="./ClinicalLongformer_files/ui_packages_copilot-chat_utils_copilot-chat-helpers_ts-581d4ddc330d.js.download" defer="defer"></script>
<script crossorigin="anonymous" type="application/javascript" src="./ClinicalLongformer_files/ui_packages_copilot-markdown_MarkdownRenderer_tsx-b3431194e458.js.download" defer="defer"></script>
<script crossorigin="anonymous" type="application/javascript" src="./ClinicalLongformer_files/ui_packages_copilot-chat_utils_CopilotChatContext_tsx-1891a5f103d4.js.download" defer="defer"></script>
<script crossorigin="anonymous" type="application/javascript" src="./ClinicalLongformer_files/ui_packages_copilot-chat_components_CopilotIconAnimation_tsx-ui_packages_copilot-chat_compone-8be2e4-0894de488784.js.download" defer="defer"></script>
<script crossorigin="anonymous" type="application/javascript" src="./ClinicalLongformer_files/copilot-chat-ba6cc33521f2.js.download" defer="defer"></script>
<link crossorigin="anonymous" media="all" rel="stylesheet" href="./ClinicalLongformer_files/primer-react.0a68d610e6a57b39f9c5.module.css">
<link crossorigin="anonymous" media="all" rel="stylesheet" href="./ClinicalLongformer_files/copilot-chat.0e989318df4c5b7d6b91.module.css">

<react-partial partial-name="copilot-chat" data-ssr="false" data-attempted-ssr="false" data-react-profiling="false" data-catalyst="" class="loaded">
  
  <script type="application/json" data-target="react-partial.embeddedData">{"props":{"currentTopic":{"id":891877994,"name":"SDOMH-LLM","ownerLogin":"MadhaviPagare","ownerType":"User","readmePath":"README.md","description":null,"commitOID":"fa891fd95084b6511db88ba55445265650da43ad","ref":"refs/heads/main","refInfo":{"name":"main","type":"branch"},"visibility":"public","languages":[{"name":"Jupyter Notebook","percent":100.0}],"customInstructions":[]},"findFileWorkerPath":"/assets-cdn/worker/find-file-worker-263cab1760dd.js","renderPopover":false,"renderBetaLabel":false,"chatIsVisible":true,"chatVisibleSettingPath":"/users/MadhaviPagare/copilot_chat/settings/copilot_chat_visibility","ssoOrganizations":[],"apiVersion":"2025-05-01","agentsPath":"/github-copilot/chat/agents","apiURL":"https://api.individual.githubcopilot.com","currentUserLogin":"MadhaviPagare","customInstructions":null,"renderKnowledgeBases":false,"customCopilotsEnabled":false,"optedInToPreviewFeatures":false,"optedInToUserFeedback":false,"renderAttachKnowledgeBaseHerePopover":true,"renderKnowledgeBaseAttachedToChatPopover":true,"personalInstructions":null,"reviewLab":false,"realIp":null,"scrollToTop":false,"hasCEorCBAccess":false,"licenseType":"unlicensed","plan":null,"quotas":{"limits":{"premiumInteractions":0},"remaining":{"premiumInteractions":0,"chatPercentage":0.0,"premiumInteractionsPercentage":0.0},"resetDate":"2025-07-01","overagesEnabled":false},"icebreakers":[{"type":"functional","data":[{"id":"create-bug-issue","message":"Hi Copilot! Could you please start a draft issue for a bug? Once you've created the draft issue, if you need more information, ask me 1-2 key questions. If you also think I should upload any information or images that would help write the bug issue, let me know.","titleHtml":"Create an issue for a bug","icon":"issue-opened","color":"var(--display-green-fgColor)"},{"id":"summarize-pulls","message":"Hi Copilot! Could you help summarize a pull request? I'd like to know its purpose and the key changes made. Please include details about the problem it solves, new features or functionality introduced, any breaking changes, testing done, and documentation updates. Thank you!","titleHtml":"Summarize a pull request","icon":"git-pull-request","color":"var(--display-green-fgColor)"},{"id":"code-feedback","message":"Hi Copilot! Please review my code for best practices, readability, performance, and potential bugs. First, prompt me to provide the link to the relevant GitHub repository or file. Then, offer concrete suggestions for improvement, explain any issues you discover, and provide example corrections where appropriate.","titleHtml":"Get code feedback","icon":"code","color":"var(--display-gray-fgColor)"},{"id":"next-steps-issue","message":"Hi Copilot! Could you suggest the next actionable steps for an issue, based on either the provided issue link or a copy pasted description?","titleHtml":"Suggest next steps for an issue","icon":"issue-opened","color":"var(--display-green-fgColor)"},{"id":"understand-arch-diagram","message":"Hi Copilot! Could you please help me interpret this architecture diagram?","titleHtml":"Interpret an architecture diagram","icon":"eye","color":"var(--display-purple-fgColor)"},{"id":"create-profile-readme","message":"Hi Copilot! Please create a standout profile README for $$USERNAME$$. Ask me for any key details (such as my profession, top skills, favorite projects, or social links) that would help you personalize it.","titleHtml":"Create a profile README for me","icon":"rocket","color":"var(--display-pink-fgColor)"},{"id":"my-open-pulls","message":"Hi Copilot! Can you please find my open pull requests?","titleHtml":"My open pull requests","icon":"git-pull-request","color":"var(--display-green-fgColor)"},{"id":"make-pong","message":"Hi Copilot! Could you generate a simple Pong game utilizing HTML, CSS, and JavaScript? The player should control the left paddle with their mouse, and the right paddle should be controlled automatically by a basic AI. Make sure the game includes a bouncing ball and collision detection for paddles and walls. Please provide the code for all three components: the HTML file, the CSS file, and the JavaScript file directly within the chat window. Thanks!","titleHtml":"Make a Pong game","icon":"code","color":"var(--display-gray-fgColor)"}]},{"type":"instructional","data":[]},{"type":"interactional","data":[{"id":"to-do-app-local-storage","message":"Create a to-do list application with local storage functionality.","titleHtml":"To-do list with local storage","icon":"code","color":"var(--display-gray-fgColor)"},{"id":"digital-clock-time-zones","message":"Create a digital clock that displays the current time in different time zones.","titleHtml":"A digital time zone clock","icon":"code","color":"var(--display-gray-fgColor)"},{"id":"weather-dashboard-app","message":"Develop a weather dashboard that fetches data from a public weather API.","titleHtml":"Develop a weather dashboard","icon":"code","color":"var(--display-gray-fgColor)"},{"id":"create-joke-generator","message":"Create a random joke generator using an external API.","titleHtml":"Create a joke generator","icon":"code","color":"var(--display-gray-fgColor)"}]}],"canShareThread":true}}</script>
  <div data-target="react-partial.reactRoot"><div class="Box-sc-g0xbh4-0 bpDFns"></div><div class="Box-sc-g0xbh4-0 hmHhrt"></div><script type="application/json" id="__PRIMER_DATA_:r2e:__">{"resolvedServerColorMode":"day"}</script></div>
</react-partial>


    </react-partial-anchor>
  <react-partial-anchor data-catalyst="">
    <button id="global-copilot-menu-button" data-target="react-partial-anchor.anchor" aria-expanded="false" aria-labelledby="tooltip-657cd708-4a69-4522-934b-fb1d6618bcb9" type="button" data-view-component="true" class="Button Button--iconOnly Button--secondary Button--medium AppHeader-button AppHeader-buttonRight" fdprocessedid="2e797g" aria-haspopup="true">  <svg aria-hidden="true" height="16" viewBox="0 0 16 16" version="1.1" width="16" data-view-component="true" class="octicon octicon-triangle-down Button-visual">
    <path d="m4.427 7.427 3.396 3.396a.25.25 0 0 0 .354 0l3.396-3.396A.25.25 0 0 0 11.396 7H4.604a.25.25 0 0 0-.177.427Z"></path>
</svg>
</button><tool-tip id="tooltip-657cd708-4a69-4522-934b-fb1d6618bcb9" for="global-copilot-menu-button" popover="manual" data-direction="s" data-type="label" data-view-component="true" class="sr-only position-absolute" aria-hidden="true" role="tooltip"><template shadowrootmode="open"><style>
      :host {
        --tooltip-top: var(--tool-tip-position-top, 0);
        --tooltip-left: var(--tool-tip-position-left, 0);
        padding: var(--overlay-paddingBlock-condensed) var(--overlay-padding-condensed) !important;
        font: var(--text-body-shorthand-small);
        color: var(--tooltip-fgColor, var(--fgColor-onEmphasis)) !important;
        text-align: center;
        text-decoration: none;
        text-shadow: none;
        text-transform: none;
        letter-spacing: normal;
        word-wrap: break-word;
        white-space: pre;
        background: var(--tooltip-bgColor, var(--bgColor-emphasis)) !important;
        border-radius: var(--borderRadius-medium);
        border: 0 !important;
        opacity: 0;
        max-width: var(--overlay-width-small);
        word-wrap: break-word;
        white-space: normal;
        width: max-content !important;
        inset: var(--tooltip-top) auto auto var(--tooltip-left) !important;
        overflow: visible !important;
        text-wrap: balance;
      }

      :host(:is(.tooltip-n, .tooltip-nw, .tooltip-ne)) {
        --tooltip-top: calc(var(--tool-tip-position-top, 0) - var(--overlay-offset, 0.25rem));
        --tooltip-left: var(--tool-tip-position-left);
      }

      :host(:is(.tooltip-s, .tooltip-sw, .tooltip-se)) {
        --tooltip-top: calc(var(--tool-tip-position-top, 0) + var(--overlay-offset, 0.25rem));
        --tooltip-left: var(--tool-tip-position-left);
      }

      :host(.tooltip-w) {
        --tooltip-top: var(--tool-tip-position-top);
        --tooltip-left: calc(var(--tool-tip-position-left, 0) - var(--overlay-offset, 0.25rem));
      }

      :host(.tooltip-e) {
        --tooltip-top: var(--tool-tip-position-top);
        --tooltip-left: calc(var(--tool-tip-position-left, 0) + var(--overlay-offset, 0.25rem));
      }

      :host:after{
        position: absolute;
        display: block;
        right: 0;
        left: 0;
        height: var(--overlay-offset, 0.25rem);
        content: "";
      }

      :host(.tooltip-s):after,
      :host(.tooltip-se):after,
      :host(.tooltip-sw):after {
        bottom: 100%
      }

      :host(.tooltip-n):after,
      :host(.tooltip-ne):after,
      :host(.tooltip-nw):after {
        top: 100%;
      }

      @keyframes tooltip-appear {
        from {
          opacity: 0;
        }
        to {
          opacity: 1;
        }
      }

      :host(:popover-open),
      :host(:popover-open):before {
        animation-name: tooltip-appear;
        animation-duration: .1s;
        animation-fill-mode: forwards;
        animation-timing-function: ease-in;
      }

      :host(.\:popover-open) {
        animation-name: tooltip-appear;
        animation-duration: .1s;
        animation-fill-mode: forwards;
        animation-timing-function: ease-in;
      }

      @media (forced-colors: active) {
        :host {
          outline: solid 1px transparent;
        }

        :host:before {
          display: none;
        }
      }
    </style><slot></slot></template>Open Copilot…</tool-tip>

    
  
      <script crossorigin="anonymous" type="application/javascript" src="./ClinicalLongformer_files/global-copilot-menu-3dcb6fdc090e.js.download" defer="defer"></script>
<link crossorigin="anonymous" media="all" rel="stylesheet" href="./ClinicalLongformer_files/primer-react.0a68d610e6a57b39f9c5.module.css">
<link crossorigin="anonymous" media="all" rel="stylesheet" href="./ClinicalLongformer_files/global-copilot-menu.972c8de5acbdcb17b799.module.css">

<react-partial partial-name="global-copilot-menu" data-ssr="false" data-attempted-ssr="false" data-react-profiling="false" data-catalyst="" class="loaded">
  
  <script type="application/json" data-target="react-partial.embeddedData">{"props":{}}</script>
  <div data-target="react-partial.reactRoot"><div class="d-none"></div><script type="application/json" id="__PRIMER_DATA_:r23:__">{"resolvedServerColorMode":"day"}</script></div>
</react-partial>

    </react-partial-anchor>
</div>


        <div class="AppHeader-actions position-relative">
             <react-partial-anchor data-catalyst="">
      <button id="global-create-menu-anchor" aria-label="Create something new" data-target="react-partial-anchor.anchor" type="button" data-view-component="true" class="AppHeader-button global-create-button Button--secondary Button--medium Button width-auto color-fg-muted" aria-describedby="tooltip-2e056931-cbd8-4715-8dbc-93c240eee056" fdprocessedid="ilijmh" aria-expanded="false" aria-haspopup="true">  <span class="Button-content">
      <span class="Button-visual Button-leadingVisual">
        <svg aria-hidden="true" height="16" viewBox="0 0 16 16" version="1.1" width="16" data-view-component="true" class="octicon octicon-plus">
    <path d="M7.75 2a.75.75 0 0 1 .75.75V7h4.25a.75.75 0 0 1 0 1.5H8.5v4.25a.75.75 0 0 1-1.5 0V8.5H2.75a.75.75 0 0 1 0-1.5H7V2.75A.75.75 0 0 1 7.75 2Z"></path>
</svg>
      </span>
    <span class="Button-label"><svg aria-hidden="true" height="16" viewBox="0 0 16 16" version="1.1" width="16" data-view-component="true" class="octicon octicon-triangle-down">
    <path d="m4.427 7.427 3.396 3.396a.25.25 0 0 0 .354 0l3.396-3.396A.25.25 0 0 0 11.396 7H4.604a.25.25 0 0 0-.177.427Z"></path>
</svg></span>
  </span>
</button><tool-tip id="tooltip-2e056931-cbd8-4715-8dbc-93c240eee056" for="global-create-menu-anchor" popover="manual" data-direction="s" data-type="description" data-view-component="true" class="sr-only position-absolute" role="tooltip"><template shadowrootmode="open"><style>
      :host {
        --tooltip-top: var(--tool-tip-position-top, 0);
        --tooltip-left: var(--tool-tip-position-left, 0);
        padding: var(--overlay-paddingBlock-condensed) var(--overlay-padding-condensed) !important;
        font: var(--text-body-shorthand-small);
        color: var(--tooltip-fgColor, var(--fgColor-onEmphasis)) !important;
        text-align: center;
        text-decoration: none;
        text-shadow: none;
        text-transform: none;
        letter-spacing: normal;
        word-wrap: break-word;
        white-space: pre;
        background: var(--tooltip-bgColor, var(--bgColor-emphasis)) !important;
        border-radius: var(--borderRadius-medium);
        border: 0 !important;
        opacity: 0;
        max-width: var(--overlay-width-small);
        word-wrap: break-word;
        white-space: normal;
        width: max-content !important;
        inset: var(--tooltip-top) auto auto var(--tooltip-left) !important;
        overflow: visible !important;
        text-wrap: balance;
      }

      :host(:is(.tooltip-n, .tooltip-nw, .tooltip-ne)) {
        --tooltip-top: calc(var(--tool-tip-position-top, 0) - var(--overlay-offset, 0.25rem));
        --tooltip-left: var(--tool-tip-position-left);
      }

      :host(:is(.tooltip-s, .tooltip-sw, .tooltip-se)) {
        --tooltip-top: calc(var(--tool-tip-position-top, 0) + var(--overlay-offset, 0.25rem));
        --tooltip-left: var(--tool-tip-position-left);
      }

      :host(.tooltip-w) {
        --tooltip-top: var(--tool-tip-position-top);
        --tooltip-left: calc(var(--tool-tip-position-left, 0) - var(--overlay-offset, 0.25rem));
      }

      :host(.tooltip-e) {
        --tooltip-top: var(--tool-tip-position-top);
        --tooltip-left: calc(var(--tool-tip-position-left, 0) + var(--overlay-offset, 0.25rem));
      }

      :host:after{
        position: absolute;
        display: block;
        right: 0;
        left: 0;
        height: var(--overlay-offset, 0.25rem);
        content: "";
      }

      :host(.tooltip-s):after,
      :host(.tooltip-se):after,
      :host(.tooltip-sw):after {
        bottom: 100%
      }

      :host(.tooltip-n):after,
      :host(.tooltip-ne):after,
      :host(.tooltip-nw):after {
        top: 100%;
      }

      @keyframes tooltip-appear {
        from {
          opacity: 0;
        }
        to {
          opacity: 1;
        }
      }

      :host(:popover-open),
      :host(:popover-open):before {
        animation-name: tooltip-appear;
        animation-duration: .1s;
        animation-fill-mode: forwards;
        animation-timing-function: ease-in;
      }

      :host(.\:popover-open) {
        animation-name: tooltip-appear;
        animation-duration: .1s;
        animation-fill-mode: forwards;
        animation-timing-function: ease-in;
      }

      @media (forced-colors: active) {
        :host {
          outline: solid 1px transparent;
        }

        :host:before {
          display: none;
        }
      }
    </style><slot></slot></template>Create new...</tool-tip>

      
    
        <script crossorigin="anonymous" type="application/javascript" src="./ClinicalLongformer_files/ui_packages_document-metadata_document-metadata_ts-ui_packages_promise-with-resolvers-polyfil-b81d9e-b40c8e1f599e.js.download" defer="defer"></script>
<script crossorigin="anonymous" type="application/javascript" src="./ClinicalLongformer_files/global-create-menu-31a5cae44a71.js.download" defer="defer"></script>
<link crossorigin="anonymous" media="all" rel="stylesheet" href="./ClinicalLongformer_files/primer-react.0a68d610e6a57b39f9c5.module.css">
<link crossorigin="anonymous" media="all" rel="stylesheet" href="./ClinicalLongformer_files/global-create-menu.b1ee6a6bae56a89148b1.module.css">

<react-partial partial-name="global-create-menu" data-ssr="false" data-attempted-ssr="false" data-react-profiling="false" data-catalyst="" class="loaded">
  
  <script type="application/json" data-target="react-partial.embeddedData">{"props":{"createRepo":true,"importRepo":true,"codespaces":true,"spark":false,"gist":true,"createOrg":true,"createProject":false,"createProjectUrl":"/MadhaviPagare?tab=projects","createLegacyProject":false,"createIssue":false,"org":null,"owner":"MadhaviPagare","repo":"SDOMH-LLM"}}</script>
  <div data-target="react-partial.reactRoot"><script type="application/json" id="__PRIMER_DATA_:r27:__">{"resolvedServerColorMode":"day"}</script></div>
</react-partial>

      </react-partial-anchor>


            <a href="https://github.com/issues" data-analytics-event="{&quot;category&quot;:&quot;Global navigation&quot;,&quot;action&quot;:&quot;ISSUES_HEADER&quot;,&quot;label&quot;:null}" id="icon-button-0d180ef5-f2bf-4087-912d-ffcf2066bc78" aria-labelledby="tooltip-75844643-a987-40c9-9c45-993262a90a9a" data-view-component="true" class="Button Button--iconOnly Button--secondary Button--medium AppHeader-button color-fg-muted">  <svg aria-hidden="true" height="16" viewBox="0 0 16 16" version="1.1" width="16" data-view-component="true" class="octicon octicon-issue-opened Button-visual">
    <path d="M8 9.5a1.5 1.5 0 1 0 0-3 1.5 1.5 0 0 0 0 3Z"></path><path d="M8 0a8 8 0 1 1 0 16A8 8 0 0 1 8 0ZM1.5 8a6.5 6.5 0 1 0 13 0 6.5 6.5 0 0 0-13 0Z"></path>
</svg>
</a><tool-tip id="tooltip-75844643-a987-40c9-9c45-993262a90a9a" for="icon-button-0d180ef5-f2bf-4087-912d-ffcf2066bc78" popover="manual" data-direction="s" data-type="label" data-view-component="true" class="sr-only position-absolute" aria-hidden="true" role="tooltip"><template shadowrootmode="open"><style>
      :host {
        --tooltip-top: var(--tool-tip-position-top, 0);
        --tooltip-left: var(--tool-tip-position-left, 0);
        padding: var(--overlay-paddingBlock-condensed) var(--overlay-padding-condensed) !important;
        font: var(--text-body-shorthand-small);
        color: var(--tooltip-fgColor, var(--fgColor-onEmphasis)) !important;
        text-align: center;
        text-decoration: none;
        text-shadow: none;
        text-transform: none;
        letter-spacing: normal;
        word-wrap: break-word;
        white-space: pre;
        background: var(--tooltip-bgColor, var(--bgColor-emphasis)) !important;
        border-radius: var(--borderRadius-medium);
        border: 0 !important;
        opacity: 0;
        max-width: var(--overlay-width-small);
        word-wrap: break-word;
        white-space: normal;
        width: max-content !important;
        inset: var(--tooltip-top) auto auto var(--tooltip-left) !important;
        overflow: visible !important;
        text-wrap: balance;
      }

      :host(:is(.tooltip-n, .tooltip-nw, .tooltip-ne)) {
        --tooltip-top: calc(var(--tool-tip-position-top, 0) - var(--overlay-offset, 0.25rem));
        --tooltip-left: var(--tool-tip-position-left);
      }

      :host(:is(.tooltip-s, .tooltip-sw, .tooltip-se)) {
        --tooltip-top: calc(var(--tool-tip-position-top, 0) + var(--overlay-offset, 0.25rem));
        --tooltip-left: var(--tool-tip-position-left);
      }

      :host(.tooltip-w) {
        --tooltip-top: var(--tool-tip-position-top);
        --tooltip-left: calc(var(--tool-tip-position-left, 0) - var(--overlay-offset, 0.25rem));
      }

      :host(.tooltip-e) {
        --tooltip-top: var(--tool-tip-position-top);
        --tooltip-left: calc(var(--tool-tip-position-left, 0) + var(--overlay-offset, 0.25rem));
      }

      :host:after{
        position: absolute;
        display: block;
        right: 0;
        left: 0;
        height: var(--overlay-offset, 0.25rem);
        content: "";
      }

      :host(.tooltip-s):after,
      :host(.tooltip-se):after,
      :host(.tooltip-sw):after {
        bottom: 100%
      }

      :host(.tooltip-n):after,
      :host(.tooltip-ne):after,
      :host(.tooltip-nw):after {
        top: 100%;
      }

      @keyframes tooltip-appear {
        from {
          opacity: 0;
        }
        to {
          opacity: 1;
        }
      }

      :host(:popover-open),
      :host(:popover-open):before {
        animation-name: tooltip-appear;
        animation-duration: .1s;
        animation-fill-mode: forwards;
        animation-timing-function: ease-in;
      }

      :host(.\:popover-open) {
        animation-name: tooltip-appear;
        animation-duration: .1s;
        animation-fill-mode: forwards;
        animation-timing-function: ease-in;
      }

      @media (forced-colors: active) {
        :host {
          outline: solid 1px transparent;
        }

        :host:before {
          display: none;
        }
      }
    </style><slot></slot></template>Your issues</tool-tip>

            <a href="https://github.com/pulls" data-analytics-event="{&quot;category&quot;:&quot;Global navigation&quot;,&quot;action&quot;:&quot;PULL_REQUESTS_HEADER&quot;,&quot;label&quot;:null}" id="icon-button-e9e668e8-85ec-4cc0-abac-945b5d41bbc3" aria-labelledby="tooltip-057d8313-586c-4faa-995e-b998fa69b022" data-view-component="true" class="Button Button--iconOnly Button--secondary Button--medium AppHeader-button color-fg-muted">  <svg aria-hidden="true" height="16" viewBox="0 0 16 16" version="1.1" width="16" data-view-component="true" class="octicon octicon-git-pull-request Button-visual">
    <path d="M1.5 3.25a2.25 2.25 0 1 1 3 2.122v5.256a2.251 2.251 0 1 1-1.5 0V5.372A2.25 2.25 0 0 1 1.5 3.25Zm5.677-.177L9.573.677A.25.25 0 0 1 10 .854V2.5h1A2.5 2.5 0 0 1 13.5 5v5.628a2.251 2.251 0 1 1-1.5 0V5a1 1 0 0 0-1-1h-1v1.646a.25.25 0 0 1-.427.177L7.177 3.427a.25.25 0 0 1 0-.354ZM3.75 2.5a.75.75 0 1 0 0 1.5.75.75 0 0 0 0-1.5Zm0 9.5a.75.75 0 1 0 0 1.5.75.75 0 0 0 0-1.5Zm8.25.75a.75.75 0 1 0 1.5 0 .75.75 0 0 0-1.5 0Z"></path>
</svg>
</a><tool-tip id="tooltip-057d8313-586c-4faa-995e-b998fa69b022" for="icon-button-e9e668e8-85ec-4cc0-abac-945b5d41bbc3" popover="manual" data-direction="s" data-type="label" data-view-component="true" class="sr-only position-absolute" aria-hidden="true" role="tooltip"><template shadowrootmode="open"><style>
      :host {
        --tooltip-top: var(--tool-tip-position-top, 0);
        --tooltip-left: var(--tool-tip-position-left, 0);
        padding: var(--overlay-paddingBlock-condensed) var(--overlay-padding-condensed) !important;
        font: var(--text-body-shorthand-small);
        color: var(--tooltip-fgColor, var(--fgColor-onEmphasis)) !important;
        text-align: center;
        text-decoration: none;
        text-shadow: none;
        text-transform: none;
        letter-spacing: normal;
        word-wrap: break-word;
        white-space: pre;
        background: var(--tooltip-bgColor, var(--bgColor-emphasis)) !important;
        border-radius: var(--borderRadius-medium);
        border: 0 !important;
        opacity: 0;
        max-width: var(--overlay-width-small);
        word-wrap: break-word;
        white-space: normal;
        width: max-content !important;
        inset: var(--tooltip-top) auto auto var(--tooltip-left) !important;
        overflow: visible !important;
        text-wrap: balance;
      }

      :host(:is(.tooltip-n, .tooltip-nw, .tooltip-ne)) {
        --tooltip-top: calc(var(--tool-tip-position-top, 0) - var(--overlay-offset, 0.25rem));
        --tooltip-left: var(--tool-tip-position-left);
      }

      :host(:is(.tooltip-s, .tooltip-sw, .tooltip-se)) {
        --tooltip-top: calc(var(--tool-tip-position-top, 0) + var(--overlay-offset, 0.25rem));
        --tooltip-left: var(--tool-tip-position-left);
      }

      :host(.tooltip-w) {
        --tooltip-top: var(--tool-tip-position-top);
        --tooltip-left: calc(var(--tool-tip-position-left, 0) - var(--overlay-offset, 0.25rem));
      }

      :host(.tooltip-e) {
        --tooltip-top: var(--tool-tip-position-top);
        --tooltip-left: calc(var(--tool-tip-position-left, 0) + var(--overlay-offset, 0.25rem));
      }

      :host:after{
        position: absolute;
        display: block;
        right: 0;
        left: 0;
        height: var(--overlay-offset, 0.25rem);
        content: "";
      }

      :host(.tooltip-s):after,
      :host(.tooltip-se):after,
      :host(.tooltip-sw):after {
        bottom: 100%
      }

      :host(.tooltip-n):after,
      :host(.tooltip-ne):after,
      :host(.tooltip-nw):after {
        top: 100%;
      }

      @keyframes tooltip-appear {
        from {
          opacity: 0;
        }
        to {
          opacity: 1;
        }
      }

      :host(:popover-open),
      :host(:popover-open):before {
        animation-name: tooltip-appear;
        animation-duration: .1s;
        animation-fill-mode: forwards;
        animation-timing-function: ease-in;
      }

      :host(.\:popover-open) {
        animation-name: tooltip-appear;
        animation-duration: .1s;
        animation-fill-mode: forwards;
        animation-timing-function: ease-in;
      }

      @media (forced-colors: active) {
        :host {
          outline: solid 1px transparent;
        }

        :host:before {
          display: none;
        }
      }
    </style><slot></slot></template>Your pull requests</tool-tip>

        </div>

          <notification-indicator data-channel="eyJjIjoibm90aWZpY2F0aW9uLWNoYW5nZWQ6OTQ4NjYyODciLCJ0IjoxNzUwNzQ0OTc2fQ==--28e4dfa21c13d253f0312ad6c4663d216aad3ae1299cadb5d3b37072ce946613" data-indicator-mode="none" data-tooltip-global="You have unread notifications" data-tooltip-unavailable="Notifications are unavailable at the moment." data-tooltip-none="You have no unread notifications" data-header-redesign-enabled="true" data-fetch-indicator-src="/notifications/indicator" data-fetch-indicator-enabled="true" data-view-component="true" class="js-socket-channel" data-fetch-retry-delay-time="500" data-catalyst="">
    <a id="AppHeader-notifications-button" href="https://github.com/notifications" aria-labelledby="notification-indicator-tooltip" data-hotkey="g n" data-target="notification-indicator.link" data-analytics-event="{&quot;category&quot;:&quot;Global navigation&quot;,&quot;action&quot;:&quot;NOTIFICATIONS_HEADER&quot;,&quot;label&quot;:&quot;icon:read&quot;}" data-view-component="true" class="Button Button--iconOnly Button--secondary Button--medium AppHeader-button color-fg-muted">  <svg aria-hidden="true" height="16" viewBox="0 0 16 16" version="1.1" width="16" data-view-component="true" class="octicon octicon-inbox Button-visual">
    <path d="M2.8 2.06A1.75 1.75 0 0 1 4.41 1h7.18c.7 0 1.333.417 1.61 1.06l2.74 6.395c.04.093.06.194.06.295v4.5A1.75 1.75 0 0 1 14.25 15H1.75A1.75 1.75 0 0 1 0 13.25v-4.5c0-.101.02-.202.06-.295Zm1.61.44a.25.25 0 0 0-.23.152L1.887 8H4.75a.75.75 0 0 1 .6.3L6.625 10h2.75l1.275-1.7a.75.75 0 0 1 .6-.3h2.863L11.82 2.652a.25.25 0 0 0-.23-.152Zm10.09 7h-2.875l-1.275 1.7a.75.75 0 0 1-.6.3h-3.5a.75.75 0 0 1-.6-.3L4.375 9.5H1.5v3.75c0 .138.112.25.25.25h12.5a.25.25 0 0 0 .25-.25Z"></path>
</svg>
</a>

    <tool-tip id="notification-indicator-tooltip" data-target="notification-indicator.tooltip" for="AppHeader-notifications-button" popover="manual" data-direction="s" data-type="label" data-view-component="true" class="sr-only position-absolute" aria-hidden="true" role="tooltip"><template shadowrootmode="open"><style>
      :host {
        --tooltip-top: var(--tool-tip-position-top, 0);
        --tooltip-left: var(--tool-tip-position-left, 0);
        padding: var(--overlay-paddingBlock-condensed) var(--overlay-padding-condensed) !important;
        font: var(--text-body-shorthand-small);
        color: var(--tooltip-fgColor, var(--fgColor-onEmphasis)) !important;
        text-align: center;
        text-decoration: none;
        text-shadow: none;
        text-transform: none;
        letter-spacing: normal;
        word-wrap: break-word;
        white-space: pre;
        background: var(--tooltip-bgColor, var(--bgColor-emphasis)) !important;
        border-radius: var(--borderRadius-medium);
        border: 0 !important;
        opacity: 0;
        max-width: var(--overlay-width-small);
        word-wrap: break-word;
        white-space: normal;
        width: max-content !important;
        inset: var(--tooltip-top) auto auto var(--tooltip-left) !important;
        overflow: visible !important;
        text-wrap: balance;
      }

      :host(:is(.tooltip-n, .tooltip-nw, .tooltip-ne)) {
        --tooltip-top: calc(var(--tool-tip-position-top, 0) - var(--overlay-offset, 0.25rem));
        --tooltip-left: var(--tool-tip-position-left);
      }

      :host(:is(.tooltip-s, .tooltip-sw, .tooltip-se)) {
        --tooltip-top: calc(var(--tool-tip-position-top, 0) + var(--overlay-offset, 0.25rem));
        --tooltip-left: var(--tool-tip-position-left);
      }

      :host(.tooltip-w) {
        --tooltip-top: var(--tool-tip-position-top);
        --tooltip-left: calc(var(--tool-tip-position-left, 0) - var(--overlay-offset, 0.25rem));
      }

      :host(.tooltip-e) {
        --tooltip-top: var(--tool-tip-position-top);
        --tooltip-left: calc(var(--tool-tip-position-left, 0) + var(--overlay-offset, 0.25rem));
      }

      :host:after{
        position: absolute;
        display: block;
        right: 0;
        left: 0;
        height: var(--overlay-offset, 0.25rem);
        content: "";
      }

      :host(.tooltip-s):after,
      :host(.tooltip-se):after,
      :host(.tooltip-sw):after {
        bottom: 100%
      }

      :host(.tooltip-n):after,
      :host(.tooltip-ne):after,
      :host(.tooltip-nw):after {
        top: 100%;
      }

      @keyframes tooltip-appear {
        from {
          opacity: 0;
        }
        to {
          opacity: 1;
        }
      }

      :host(:popover-open),
      :host(:popover-open):before {
        animation-name: tooltip-appear;
        animation-duration: .1s;
        animation-fill-mode: forwards;
        animation-timing-function: ease-in;
      }

      :host(.\:popover-open) {
        animation-name: tooltip-appear;
        animation-duration: .1s;
        animation-fill-mode: forwards;
        animation-timing-function: ease-in;
      }

      @media (forced-colors: active) {
        :host {
          outline: solid 1px transparent;
        }

        :host:before {
          display: none;
        }
      }
    </style><slot></slot></template>You have no unread notifications</tool-tip>
</notification-indicator>

        <div class="AppHeader-user">
          <deferred-side-panel data-url="/_side-panels/user?repository_id=891877994" data-catalyst="">
  <include-fragment data-target="deferred-side-panel.fragment" data-nonce="v2:1df6660d-5f1f-ccad-7065-0f0bc952a638" data-view-component="true"><template shadowrootmode="open"><style>:host {display: block;}</style><slot></slot></template>
  
    <react-partial-anchor data-catalyst="">
  <button data-target="react-partial-anchor.anchor" data-login="MadhaviPagare" aria-label="Open user navigation menu" type="button" data-view-component="true" class="Button--invisible Button--medium Button Button--invisible-noVisuals color-bg-transparent p-0" fdprocessedid="nvqkya" aria-expanded="false" aria-haspopup="true">  <span class="Button-content">
    <span class="Button-label"><img src="./ClinicalLongformer_files/94866287" alt="" size="32" height="32" width="32" data-view-component="true" class="avatar circle"></span>
  </span>
</button>
  

    <script crossorigin="anonymous" type="application/javascript" src="./ClinicalLongformer_files/global-user-nav-drawer-a309ca289f2b.js.download" defer="defer"></script>
<link crossorigin="anonymous" media="all" rel="stylesheet" href="./ClinicalLongformer_files/primer-react.0a68d610e6a57b39f9c5.module.css">
<link crossorigin="anonymous" media="all" rel="stylesheet" href="./ClinicalLongformer_files/global-user-nav-drawer.f5c870dfa3e88b836b2b.module.css">

<react-partial partial-name="global-user-nav-drawer" data-ssr="false" data-attempted-ssr="false" data-react-profiling="false" data-catalyst="" class="loaded">
  
  <script type="application/json" data-target="react-partial.embeddedData">{"props":{"owner":{"login":"MadhaviPagare","name":null,"avatarUrl":"https://avatars.githubusercontent.com/u/94866287?v=4"},"drawerId":"global-user-nav-drawer","lazyLoadItemDataFetchUrl":"/_side-panels/user.json","canAddAccount":true,"addAccountPath":"/login?add_account=1\u0026return_to=https%3A%2F%2Fgithub.com%2FMadhaviPagare%2FSDOMH-LLM%2Fblob%2Fmain%2FClinicalLongformer.ipynb","switchAccountPath":"/switch_account","loginAccountPath":"/login?add_account=1","projectsPath":"/MadhaviPagare?tab=projects","gistsUrl":"https://gist.github.com/mine","docsUrl":"https://docs.github.com","yourEnterpriseUrl":null,"enterpriseSettingsUrl":null,"supportUrl":"https://support.github.com","showAccountSwitcher":true,"showCopilot":true,"showEnterprises":true,"showEnterprise":false,"showGists":true,"showOrganizations":true,"showSponsors":true,"showUpgrade":true,"showFeaturesPreviews":true,"showEnterpriseSettings":false,"createMenuProps":{"createRepo":true,"importRepo":true,"codespaces":true,"spark":false,"gist":true,"createOrg":true,"createProject":false,"createProjectUrl":"/MadhaviPagare?tab=projects","createLegacyProject":false,"createIssue":false,"org":null,"owner":"MadhaviPagare","repo":"SDOMH-LLM"}}}</script>
  <div data-target="react-partial.reactRoot"><script type="application/json" id="__PRIMER_DATA_:r2a:__">{"resolvedServerColorMode":"day"}</script></div>
</react-partial>

  </react-partial-anchor>


  <div data-show-on-forbidden-error="" hidden="">
    <div class="Box">
  <div class="blankslate-container">
    <div data-view-component="true" class="blankslate blankslate-spacious color-bg-default rounded-2">
      

      <h3 data-view-component="true" class="blankslate-heading">        Uh oh!
</h3>
      <p data-view-component="true">        </p><p class="color-fg-muted my-2 mb-2 ws-normal">There was an error while loading. <a class="Link--inTextBlock" data-turbo="false" href="https://github.com/MadhaviPagare/SDOMH-LLM/blob/main/ClinicalLongformer.ipynb" aria-label="Please reload this page">Please reload this page</a>.</p>
<p></p>

</div>  </div>
</div>  </div>
</include-fragment></deferred-side-panel>
        </div>

        <div class="position-absolute mt-2">
            
<site-header-logged-in-user-menu data-catalyst="">

</site-header-logged-in-user-menu>

        </div>
      </div>
    </div>


    
        <div class="AppHeader-localBar">
          <nav data-pjax="#js-repo-pjax-container" aria-label="Repository" data-view-component="true" class="js-repo-nav js-sidenav-container-pjax js-responsive-underlinenav overflow-hidden UnderlineNav">

  <ul data-view-component="true" class="UnderlineNav-body list-style-none">
      <li data-view-component="true" class="d-inline-flex">
  <a id="code-tab" href="https://github.com/MadhaviPagare/SDOMH-LLM" data-tab-item="i0code-tab" data-selected-links="repo_source repo_downloads repo_commits repo_releases repo_tags repo_branches repo_packages repo_deployments repo_attestations /MadhaviPagare/SDOMH-LLM" data-pjax="#repo-content-pjax-container" data-turbo-frame="repo-content-turbo-frame" data-hotkey="g c" data-analytics-event="{&quot;category&quot;:&quot;Underline navbar&quot;,&quot;action&quot;:&quot;Click tab&quot;,&quot;label&quot;:&quot;Code&quot;,&quot;target&quot;:&quot;UNDERLINE_NAV.TAB&quot;}" data-view-component="true" class="UnderlineNav-item no-wrap js-responsive-underlinenav-item js-selected-navigation-item selected" aria-current="page">
    
              <svg aria-hidden="true" height="16" viewBox="0 0 16 16" version="1.1" width="16" data-view-component="true" class="octicon octicon-code UnderlineNav-octicon d-none d-sm-inline">
    <path d="m11.28 3.22 4.25 4.25a.75.75 0 0 1 0 1.06l-4.25 4.25a.749.749 0 0 1-1.275-.326.749.749 0 0 1 .215-.734L13.94 8l-3.72-3.72a.749.749 0 0 1 .326-1.275.749.749 0 0 1 .734.215Zm-6.56 0a.751.751 0 0 1 1.042.018.751.751 0 0 1 .018 1.042L2.06 8l3.72 3.72a.749.749 0 0 1-.326 1.275.749.749 0 0 1-.734-.215L.47 8.53a.75.75 0 0 1 0-1.06Z"></path>
</svg>
        <span data-content="Code">Code</span>
          <span id="code-repo-tab-count" data-pjax-replace="" data-turbo-replace="" title="Not available" data-view-component="true" class="Counter"></span>


    
</a></li>
      <li data-view-component="true" class="d-inline-flex">
  <a id="issues-tab" href="https://github.com/MadhaviPagare/SDOMH-LLM/issues" data-tab-item="i1issues-tab" data-selected-links="repo_issues repo_labels repo_milestones /MadhaviPagare/SDOMH-LLM/issues" data-pjax="#repo-content-pjax-container" data-turbo-frame="repo-content-turbo-frame" data-hotkey="g i" data-analytics-event="{&quot;category&quot;:&quot;Underline navbar&quot;,&quot;action&quot;:&quot;Click tab&quot;,&quot;label&quot;:&quot;Issues&quot;,&quot;target&quot;:&quot;UNDERLINE_NAV.TAB&quot;}" data-view-component="true" class="UnderlineNav-item no-wrap js-responsive-underlinenav-item js-selected-navigation-item">
    
              <svg aria-hidden="true" height="16" viewBox="0 0 16 16" version="1.1" width="16" data-view-component="true" class="octicon octicon-issue-opened UnderlineNav-octicon d-none d-sm-inline">
    <path d="M8 9.5a1.5 1.5 0 1 0 0-3 1.5 1.5 0 0 0 0 3Z"></path><path d="M8 0a8 8 0 1 1 0 16A8 8 0 0 1 8 0ZM1.5 8a6.5 6.5 0 1 0 13 0 6.5 6.5 0 0 0-13 0Z"></path>
</svg>
        <span data-content="Issues">Issues</span>
          <span id="issues-repo-tab-count" data-pjax-replace="" data-turbo-replace="" title="0" hidden="hidden" data-view-component="true" class="Counter">0</span>


    
</a></li>
      <li data-view-component="true" class="d-inline-flex">
  <a id="pull-requests-tab" href="https://github.com/MadhaviPagare/SDOMH-LLM/pulls" data-tab-item="i2pull-requests-tab" data-selected-links="repo_pulls checks /MadhaviPagare/SDOMH-LLM/pulls" data-pjax="#repo-content-pjax-container" data-turbo-frame="repo-content-turbo-frame" data-hotkey="g p" data-analytics-event="{&quot;category&quot;:&quot;Underline navbar&quot;,&quot;action&quot;:&quot;Click tab&quot;,&quot;label&quot;:&quot;Pull requests&quot;,&quot;target&quot;:&quot;UNDERLINE_NAV.TAB&quot;}" data-view-component="true" class="UnderlineNav-item no-wrap js-responsive-underlinenav-item js-selected-navigation-item">
    
              <svg aria-hidden="true" height="16" viewBox="0 0 16 16" version="1.1" width="16" data-view-component="true" class="octicon octicon-git-pull-request UnderlineNav-octicon d-none d-sm-inline">
    <path d="M1.5 3.25a2.25 2.25 0 1 1 3 2.122v5.256a2.251 2.251 0 1 1-1.5 0V5.372A2.25 2.25 0 0 1 1.5 3.25Zm5.677-.177L9.573.677A.25.25 0 0 1 10 .854V2.5h1A2.5 2.5 0 0 1 13.5 5v5.628a2.251 2.251 0 1 1-1.5 0V5a1 1 0 0 0-1-1h-1v1.646a.25.25 0 0 1-.427.177L7.177 3.427a.25.25 0 0 1 0-.354ZM3.75 2.5a.75.75 0 1 0 0 1.5.75.75 0 0 0 0-1.5Zm0 9.5a.75.75 0 1 0 0 1.5.75.75 0 0 0 0-1.5Zm8.25.75a.75.75 0 1 0 1.5 0 .75.75 0 0 0-1.5 0Z"></path>
</svg>
        <span data-content="Pull requests">Pull requests</span>
          <span id="pull-requests-repo-tab-count" data-pjax-replace="" data-turbo-replace="" title="0" hidden="hidden" data-view-component="true" class="Counter">0</span>


    
</a></li>
      <li data-view-component="true" class="d-inline-flex">
  <a id="actions-tab" href="https://github.com/MadhaviPagare/SDOMH-LLM/actions" data-tab-item="i3actions-tab" data-selected-links="repo_actions /MadhaviPagare/SDOMH-LLM/actions" data-pjax="#repo-content-pjax-container" data-turbo-frame="repo-content-turbo-frame" data-hotkey="g a" data-analytics-event="{&quot;category&quot;:&quot;Underline navbar&quot;,&quot;action&quot;:&quot;Click tab&quot;,&quot;label&quot;:&quot;Actions&quot;,&quot;target&quot;:&quot;UNDERLINE_NAV.TAB&quot;}" data-view-component="true" class="UnderlineNav-item no-wrap js-responsive-underlinenav-item js-selected-navigation-item">
    
              <svg aria-hidden="true" height="16" viewBox="0 0 16 16" version="1.1" width="16" data-view-component="true" class="octicon octicon-play UnderlineNav-octicon d-none d-sm-inline">
    <path d="M8 0a8 8 0 1 1 0 16A8 8 0 0 1 8 0ZM1.5 8a6.5 6.5 0 1 0 13 0 6.5 6.5 0 0 0-13 0Zm4.879-2.773 4.264 2.559a.25.25 0 0 1 0 .428l-4.264 2.559A.25.25 0 0 1 6 10.559V5.442a.25.25 0 0 1 .379-.215Z"></path>
</svg>
        <span data-content="Actions">Actions</span>
          <span id="actions-repo-tab-count" data-pjax-replace="" data-turbo-replace="" title="Not available" data-view-component="true" class="Counter"></span>


    
</a></li>
      <li data-view-component="true" class="d-inline-flex">
  <a id="projects-tab" href="https://github.com/MadhaviPagare/SDOMH-LLM/projects" data-tab-item="i4projects-tab" data-selected-links="repo_projects new_repo_project repo_project /MadhaviPagare/SDOMH-LLM/projects" data-pjax="#repo-content-pjax-container" data-turbo-frame="repo-content-turbo-frame" data-hotkey="g b" data-analytics-event="{&quot;category&quot;:&quot;Underline navbar&quot;,&quot;action&quot;:&quot;Click tab&quot;,&quot;label&quot;:&quot;Projects&quot;,&quot;target&quot;:&quot;UNDERLINE_NAV.TAB&quot;}" data-view-component="true" class="UnderlineNav-item no-wrap js-responsive-underlinenav-item js-selected-navigation-item">
    
              <svg aria-hidden="true" height="16" viewBox="0 0 16 16" version="1.1" width="16" data-view-component="true" class="octicon octicon-table UnderlineNav-octicon d-none d-sm-inline">
    <path d="M0 1.75C0 .784.784 0 1.75 0h12.5C15.216 0 16 .784 16 1.75v12.5A1.75 1.75 0 0 1 14.25 16H1.75A1.75 1.75 0 0 1 0 14.25ZM6.5 6.5v8h7.75a.25.25 0 0 0 .25-.25V6.5Zm8-1.5V1.75a.25.25 0 0 0-.25-.25H6.5V5Zm-13 1.5v7.75c0 .138.112.25.25.25H5v-8ZM5 5V1.5H1.75a.25.25 0 0 0-.25.25V5Z"></path>
</svg>
        <span data-content="Projects">Projects</span>
          <span id="projects-repo-tab-count" data-pjax-replace="" data-turbo-replace="" title="0" hidden="hidden" data-view-component="true" class="Counter">0</span>


    
</a></li>
      <li data-view-component="true" class="d-inline-flex">
  <a id="wiki-tab" href="https://github.com/MadhaviPagare/SDOMH-LLM/wiki" data-tab-item="i5wiki-tab" data-selected-links="repo_wiki /MadhaviPagare/SDOMH-LLM/wiki" data-pjax="#repo-content-pjax-container" data-turbo-frame="repo-content-turbo-frame" data-hotkey="g w" data-analytics-event="{&quot;category&quot;:&quot;Underline navbar&quot;,&quot;action&quot;:&quot;Click tab&quot;,&quot;label&quot;:&quot;Wiki&quot;,&quot;target&quot;:&quot;UNDERLINE_NAV.TAB&quot;}" data-view-component="true" class="UnderlineNav-item no-wrap js-responsive-underlinenav-item js-selected-navigation-item">
    
              <svg aria-hidden="true" height="16" viewBox="0 0 16 16" version="1.1" width="16" data-view-component="true" class="octicon octicon-book UnderlineNav-octicon d-none d-sm-inline">
    <path d="M0 1.75A.75.75 0 0 1 .75 1h4.253c1.227 0 2.317.59 3 1.501A3.743 3.743 0 0 1 11.006 1h4.245a.75.75 0 0 1 .75.75v10.5a.75.75 0 0 1-.75.75h-4.507a2.25 2.25 0 0 0-1.591.659l-.622.621a.75.75 0 0 1-1.06 0l-.622-.621A2.25 2.25 0 0 0 5.258 13H.75a.75.75 0 0 1-.75-.75Zm7.251 10.324.004-5.073-.002-2.253A2.25 2.25 0 0 0 5.003 2.5H1.5v9h3.757a3.75 3.75 0 0 1 1.994.574ZM8.755 4.75l-.004 7.322a3.752 3.752 0 0 1 1.992-.572H14.5v-9h-3.495a2.25 2.25 0 0 0-2.25 2.25Z"></path>
</svg>
        <span data-content="Wiki">Wiki</span>
          <span id="wiki-repo-tab-count" data-pjax-replace="" data-turbo-replace="" title="Not available" data-view-component="true" class="Counter"></span>


    
</a></li>
      <li data-view-component="true" class="d-inline-flex">
  <a id="security-tab" href="https://github.com/MadhaviPagare/SDOMH-LLM/security" data-tab-item="i6security-tab" data-selected-links="security overview alerts policy token_scanning code_scanning /MadhaviPagare/SDOMH-LLM/security" data-pjax="#repo-content-pjax-container" data-turbo-frame="repo-content-turbo-frame" data-hotkey="g s" data-analytics-event="{&quot;category&quot;:&quot;Underline navbar&quot;,&quot;action&quot;:&quot;Click tab&quot;,&quot;label&quot;:&quot;Security&quot;,&quot;target&quot;:&quot;UNDERLINE_NAV.TAB&quot;}" data-view-component="true" class="UnderlineNav-item no-wrap js-responsive-underlinenav-item js-selected-navigation-item">
    
              <svg aria-hidden="true" height="16" viewBox="0 0 16 16" version="1.1" width="16" data-view-component="true" class="octicon octicon-shield UnderlineNav-octicon d-none d-sm-inline">
    <path d="M7.467.133a1.748 1.748 0 0 1 1.066 0l5.25 1.68A1.75 1.75 0 0 1 15 3.48V7c0 1.566-.32 3.182-1.303 4.682-.983 1.498-2.585 2.813-5.032 3.855a1.697 1.697 0 0 1-1.33 0c-2.447-1.042-4.049-2.357-5.032-3.855C1.32 10.182 1 8.566 1 7V3.48a1.75 1.75 0 0 1 1.217-1.667Zm.61 1.429a.25.25 0 0 0-.153 0l-5.25 1.68a.25.25 0 0 0-.174.238V7c0 1.358.275 2.666 1.057 3.86.784 1.194 2.121 2.34 4.366 3.297a.196.196 0 0 0 .154 0c2.245-.956 3.582-2.104 4.366-3.298C13.225 9.666 13.5 8.36 13.5 7V3.48a.251.251 0 0 0-.174-.237l-5.25-1.68ZM8.75 4.75v3a.75.75 0 0 1-1.5 0v-3a.75.75 0 0 1 1.5 0ZM9 10.5a1 1 0 1 1-2 0 1 1 0 0 1 2 0Z"></path>
</svg>
        <span data-content="Security">Security</span>
          </a><div data-show-on-forbidden-error="" hidden=""><a id="security-tab" href="https://github.com/MadhaviPagare/SDOMH-LLM/security" data-tab-item="i6security-tab" data-selected-links="security overview alerts policy token_scanning code_scanning /MadhaviPagare/SDOMH-LLM/security" data-pjax="#repo-content-pjax-container" data-turbo-frame="repo-content-turbo-frame" data-hotkey="g s" data-analytics-event="{&quot;category&quot;:&quot;Underline navbar&quot;,&quot;action&quot;:&quot;Click tab&quot;,&quot;label&quot;:&quot;Security&quot;,&quot;target&quot;:&quot;UNDERLINE_NAV.TAB&quot;}" data-view-component="true" class="UnderlineNav-item no-wrap js-responsive-underlinenav-item js-selected-navigation-item">
    </a><div class="Box"><a id="security-tab" href="https://github.com/MadhaviPagare/SDOMH-LLM/security" data-tab-item="i6security-tab" data-selected-links="security overview alerts policy token_scanning code_scanning /MadhaviPagare/SDOMH-LLM/security" data-pjax="#repo-content-pjax-container" data-turbo-frame="repo-content-turbo-frame" data-hotkey="g s" data-analytics-event="{&quot;category&quot;:&quot;Underline navbar&quot;,&quot;action&quot;:&quot;Click tab&quot;,&quot;label&quot;:&quot;Security&quot;,&quot;target&quot;:&quot;UNDERLINE_NAV.TAB&quot;}" data-view-component="true" class="UnderlineNav-item no-wrap js-responsive-underlinenav-item js-selected-navigation-item">
  </a><div class="blankslate-container"><a id="security-tab" href="https://github.com/MadhaviPagare/SDOMH-LLM/security" data-tab-item="i6security-tab" data-selected-links="security overview alerts policy token_scanning code_scanning /MadhaviPagare/SDOMH-LLM/security" data-pjax="#repo-content-pjax-container" data-turbo-frame="repo-content-turbo-frame" data-hotkey="g s" data-analytics-event="{&quot;category&quot;:&quot;Underline navbar&quot;,&quot;action&quot;:&quot;Click tab&quot;,&quot;label&quot;:&quot;Security&quot;,&quot;target&quot;:&quot;UNDERLINE_NAV.TAB&quot;}" data-view-component="true" class="UnderlineNav-item no-wrap js-responsive-underlinenav-item js-selected-navigation-item">
    </a><div data-view-component="true" class="blankslate blankslate-spacious color-bg-default rounded-2"><a id="security-tab" href="https://github.com/MadhaviPagare/SDOMH-LLM/security" data-tab-item="i6security-tab" data-selected-links="security overview alerts policy token_scanning code_scanning /MadhaviPagare/SDOMH-LLM/security" data-pjax="#repo-content-pjax-container" data-turbo-frame="repo-content-turbo-frame" data-hotkey="g s" data-analytics-event="{&quot;category&quot;:&quot;Underline navbar&quot;,&quot;action&quot;:&quot;Click tab&quot;,&quot;label&quot;:&quot;Security&quot;,&quot;target&quot;:&quot;UNDERLINE_NAV.TAB&quot;}" data-view-component="true" class="UnderlineNav-item no-wrap js-responsive-underlinenav-item js-selected-navigation-item">
      

      <h3 data-view-component="true" class="blankslate-heading">        Uh oh!
</h3>
      <p data-view-component="true">        </p></a><p class="color-fg-muted my-2 mb-2 ws-normal"><a id="security-tab" href="https://github.com/MadhaviPagare/SDOMH-LLM/security" data-tab-item="i6security-tab" data-selected-links="security overview alerts policy token_scanning code_scanning /MadhaviPagare/SDOMH-LLM/security" data-pjax="#repo-content-pjax-container" data-turbo-frame="repo-content-turbo-frame" data-hotkey="g s" data-analytics-event="{&quot;category&quot;:&quot;Underline navbar&quot;,&quot;action&quot;:&quot;Click tab&quot;,&quot;label&quot;:&quot;Security&quot;,&quot;target&quot;:&quot;UNDERLINE_NAV.TAB&quot;}" data-view-component="true" class="UnderlineNav-item no-wrap js-responsive-underlinenav-item js-selected-navigation-item">There was an error while loading. </a><a class="Link--inTextBlock" data-turbo="false" href="https://github.com/MadhaviPagare/SDOMH-LLM/blob/main/ClinicalLongformer.ipynb" aria-label="Please reload this page">Please reload this page</a>.</p>
<p></p>

</div>  </div>
</div>  </div>


    
</li>
      <li data-view-component="true" class="d-inline-flex">
  <a id="insights-tab" href="https://github.com/MadhaviPagare/SDOMH-LLM/pulse" data-tab-item="i7insights-tab" data-selected-links="repo_graphs repo_contributors dependency_graph dependabot_updates pulse people community /MadhaviPagare/SDOMH-LLM/pulse" data-pjax="#repo-content-pjax-container" data-turbo-frame="repo-content-turbo-frame" data-analytics-event="{&quot;category&quot;:&quot;Underline navbar&quot;,&quot;action&quot;:&quot;Click tab&quot;,&quot;label&quot;:&quot;Insights&quot;,&quot;target&quot;:&quot;UNDERLINE_NAV.TAB&quot;}" data-view-component="true" class="UnderlineNav-item no-wrap js-responsive-underlinenav-item js-selected-navigation-item">
    
              <svg aria-hidden="true" height="16" viewBox="0 0 16 16" version="1.1" width="16" data-view-component="true" class="octicon octicon-graph UnderlineNav-octicon d-none d-sm-inline">
    <path d="M1.5 1.75V13.5h13.75a.75.75 0 0 1 0 1.5H.75a.75.75 0 0 1-.75-.75V1.75a.75.75 0 0 1 1.5 0Zm14.28 2.53-5.25 5.25a.75.75 0 0 1-1.06 0L7 7.06 4.28 9.78a.751.751 0 0 1-1.042-.018.751.751 0 0 1-.018-1.042l3.25-3.25a.75.75 0 0 1 1.06 0L10 7.94l4.72-4.72a.751.751 0 0 1 1.042.018.751.751 0 0 1 .018 1.042Z"></path>
</svg>
        <span data-content="Insights">Insights</span>
          <span id="insights-repo-tab-count" data-pjax-replace="" data-turbo-replace="" title="Not available" data-view-component="true" class="Counter"></span>


    
</a></li>
      <li data-view-component="true" class="d-inline-flex">
  <a id="settings-tab" href="https://github.com/MadhaviPagare/SDOMH-LLM/settings" data-tab-item="i8settings-tab" data-selected-links="code_review_limits code_quality codespaces_repository_settings collaborators custom_tabs github_models_repo_settings hooks integration_installations interaction_limits issue_template_editor key_links_settings notifications repo_announcements repo_branch_settings repo_custom_properties repo_keys_settings repo_pages_settings repo_protected_tags_settings repo_rule_insights repo_rules_bypass_requests repo_rulesets repo_settings_copilot_coding_guidelines repo_settings_copilot_content_exclusion repo_settings_copilot_swe_agent repo_settings reported_content repository_actions_settings_add_new_runner repository_actions_settings_general repository_actions_settings_runner_details repository_actions_settings_runners repository_actions_settings repository_environments role_details secrets_settings_actions secrets_settings_codespaces secrets_settings_dependabot secrets security_analysis security_products /MadhaviPagare/SDOMH-LLM/settings" data-pjax="#repo-content-pjax-container" data-turbo-frame="repo-content-turbo-frame" data-analytics-event="{&quot;category&quot;:&quot;Underline navbar&quot;,&quot;action&quot;:&quot;Click tab&quot;,&quot;label&quot;:&quot;Settings&quot;,&quot;target&quot;:&quot;UNDERLINE_NAV.TAB&quot;}" data-view-component="true" class="UnderlineNav-item no-wrap js-responsive-underlinenav-item js-selected-navigation-item">
    
              <svg aria-hidden="true" height="16" viewBox="0 0 16 16" version="1.1" width="16" data-view-component="true" class="octicon octicon-gear UnderlineNav-octicon d-none d-sm-inline">
    <path d="M8 0a8.2 8.2 0 0 1 .701.031C9.444.095 9.99.645 10.16 1.29l.288 1.107c.018.066.079.158.212.224.231.114.454.243.668.386.123.082.233.09.299.071l1.103-.303c.644-.176 1.392.021 1.82.63.27.385.506.792.704 1.218.315.675.111 1.422-.364 1.891l-.814.806c-.049.048-.098.147-.088.294.016.257.016.515 0 .772-.01.147.038.246.088.294l.814.806c.475.469.679 1.216.364 1.891a7.977 7.977 0 0 1-.704 1.217c-.428.61-1.176.807-1.82.63l-1.102-.302c-.067-.019-.177-.011-.3.071a5.909 5.909 0 0 1-.668.386c-.133.066-.194.158-.211.224l-.29 1.106c-.168.646-.715 1.196-1.458 1.26a8.006 8.006 0 0 1-1.402 0c-.743-.064-1.289-.614-1.458-1.26l-.289-1.106c-.018-.066-.079-.158-.212-.224a5.738 5.738 0 0 1-.668-.386c-.123-.082-.233-.09-.299-.071l-1.103.303c-.644.176-1.392-.021-1.82-.63a8.12 8.12 0 0 1-.704-1.218c-.315-.675-.111-1.422.363-1.891l.815-.806c.05-.048.098-.147.088-.294a6.214 6.214 0 0 1 0-.772c.01-.147-.038-.246-.088-.294l-.815-.806C.635 6.045.431 5.298.746 4.623a7.92 7.92 0 0 1 .704-1.217c.428-.61 1.176-.807 1.82-.63l1.102.302c.067.019.177.011.3-.071.214-.143.437-.272.668-.386.133-.066.194-.158.211-.224l.29-1.106C6.009.645 6.556.095 7.299.03 7.53.01 7.764 0 8 0Zm-.571 1.525c-.036.003-.108.036-.137.146l-.289 1.105c-.147.561-.549.967-.998 1.189-.173.086-.34.183-.5.29-.417.278-.97.423-1.529.27l-1.103-.303c-.109-.03-.175.016-.195.045-.22.312-.412.644-.573.99-.014.031-.021.11.059.19l.815.806c.411.406.562.957.53 1.456a4.709 4.709 0 0 0 0 .582c.032.499-.119 1.05-.53 1.456l-.815.806c-.081.08-.073.159-.059.19.162.346.353.677.573.989.02.03.085.076.195.046l1.102-.303c.56-.153 1.113-.008 1.53.27.161.107.328.204.501.29.447.222.85.629.997 1.189l.289 1.105c.029.109.101.143.137.146a6.6 6.6 0 0 0 1.142 0c.036-.003.108-.036.137-.146l.289-1.105c.147-.561.549-.967.998-1.189.173-.086.34-.183.5-.29.417-.278.97-.423 1.529-.27l1.103.303c.109.029.175-.016.195-.045.22-.313.411-.644.573-.99.014-.031.021-.11-.059-.19l-.815-.806c-.411-.406-.562-.957-.53-1.456a4.709 4.709 0 0 0 0-.582c-.032-.499.119-1.05.53-1.456l.815-.806c.081-.08.073-.159.059-.19a6.464 6.464 0 0 0-.573-.989c-.02-.03-.085-.076-.195-.046l-1.102.303c-.56.153-1.113.008-1.53-.27a4.44 4.44 0 0 0-.501-.29c-.447-.222-.85-.629-.997-1.189l-.289-1.105c-.029-.11-.101-.143-.137-.146a6.6 6.6 0 0 0-1.142 0ZM11 8a3 3 0 1 1-6 0 3 3 0 0 1 6 0ZM9.5 8a1.5 1.5 0 1 0-3.001.001A1.5 1.5 0 0 0 9.5 8Z"></path>
</svg>
        <span data-content="Settings">Settings</span>
          <span id="settings-repo-tab-count" data-pjax-replace="" data-turbo-replace="" title="Not available" data-view-component="true" class="Counter"></span>


    
</a></li>
</ul>
    <div style="visibility:hidden;" data-view-component="true" class="UnderlineNav-actions js-responsive-underlinenav-overflow position-absolute pr-3 pr-md-4 pr-lg-5 right-0">      <action-menu data-select-variant="none" data-view-component="true" data-catalyst="" data-ready="true">
  <focus-group direction="vertical" mnemonics="" retain="">
    <button id="action-menu-d5c58b17-f24a-4886-8fa9-f04d65c37ccd-button" popovertarget="action-menu-d5c58b17-f24a-4886-8fa9-f04d65c37ccd-overlay" aria-controls="action-menu-d5c58b17-f24a-4886-8fa9-f04d65c37ccd-list" aria-haspopup="true" aria-labelledby="tooltip-256254d8-2e78-473a-b2ec-33e56fa00209" type="button" data-view-component="true" class="Button Button--iconOnly Button--secondary Button--medium UnderlineNav-item">  <svg aria-hidden="true" height="16" viewBox="0 0 16 16" version="1.1" width="16" data-view-component="true" class="octicon octicon-kebab-horizontal Button-visual">
    <path d="M8 9a1.5 1.5 0 1 0 0-3 1.5 1.5 0 0 0 0 3ZM1.5 9a1.5 1.5 0 1 0 0-3 1.5 1.5 0 0 0 0 3Zm13 0a1.5 1.5 0 1 0 0-3 1.5 1.5 0 0 0 0 3Z"></path>
</svg>
</button><tool-tip id="tooltip-256254d8-2e78-473a-b2ec-33e56fa00209" for="action-menu-d5c58b17-f24a-4886-8fa9-f04d65c37ccd-button" popover="manual" data-direction="s" data-type="label" data-view-component="true" class="sr-only position-absolute" aria-hidden="true" role="tooltip"><template shadowrootmode="open"><style>
      :host {
        --tooltip-top: var(--tool-tip-position-top, 0);
        --tooltip-left: var(--tool-tip-position-left, 0);
        padding: var(--overlay-paddingBlock-condensed) var(--overlay-padding-condensed) !important;
        font: var(--text-body-shorthand-small);
        color: var(--tooltip-fgColor, var(--fgColor-onEmphasis)) !important;
        text-align: center;
        text-decoration: none;
        text-shadow: none;
        text-transform: none;
        letter-spacing: normal;
        word-wrap: break-word;
        white-space: pre;
        background: var(--tooltip-bgColor, var(--bgColor-emphasis)) !important;
        border-radius: var(--borderRadius-medium);
        border: 0 !important;
        opacity: 0;
        max-width: var(--overlay-width-small);
        word-wrap: break-word;
        white-space: normal;
        width: max-content !important;
        inset: var(--tooltip-top) auto auto var(--tooltip-left) !important;
        overflow: visible !important;
        text-wrap: balance;
      }

      :host(:is(.tooltip-n, .tooltip-nw, .tooltip-ne)) {
        --tooltip-top: calc(var(--tool-tip-position-top, 0) - var(--overlay-offset, 0.25rem));
        --tooltip-left: var(--tool-tip-position-left);
      }

      :host(:is(.tooltip-s, .tooltip-sw, .tooltip-se)) {
        --tooltip-top: calc(var(--tool-tip-position-top, 0) + var(--overlay-offset, 0.25rem));
        --tooltip-left: var(--tool-tip-position-left);
      }

      :host(.tooltip-w) {
        --tooltip-top: var(--tool-tip-position-top);
        --tooltip-left: calc(var(--tool-tip-position-left, 0) - var(--overlay-offset, 0.25rem));
      }

      :host(.tooltip-e) {
        --tooltip-top: var(--tool-tip-position-top);
        --tooltip-left: calc(var(--tool-tip-position-left, 0) + var(--overlay-offset, 0.25rem));
      }

      :host:after{
        position: absolute;
        display: block;
        right: 0;
        left: 0;
        height: var(--overlay-offset, 0.25rem);
        content: "";
      }

      :host(.tooltip-s):after,
      :host(.tooltip-se):after,
      :host(.tooltip-sw):after {
        bottom: 100%
      }

      :host(.tooltip-n):after,
      :host(.tooltip-ne):after,
      :host(.tooltip-nw):after {
        top: 100%;
      }

      @keyframes tooltip-appear {
        from {
          opacity: 0;
        }
        to {
          opacity: 1;
        }
      }

      :host(:popover-open),
      :host(:popover-open):before {
        animation-name: tooltip-appear;
        animation-duration: .1s;
        animation-fill-mode: forwards;
        animation-timing-function: ease-in;
      }

      :host(.\:popover-open) {
        animation-name: tooltip-appear;
        animation-duration: .1s;
        animation-fill-mode: forwards;
        animation-timing-function: ease-in;
      }

      @media (forced-colors: active) {
        :host {
          outline: solid 1px transparent;
        }

        :host:before {
          display: none;
        }
      }
    </style><slot></slot></template>Additional navigation options</tool-tip>


<anchored-position data-target="action-menu.overlay" id="action-menu-d5c58b17-f24a-4886-8fa9-f04d65c37ccd-overlay" anchor="action-menu-d5c58b17-f24a-4886-8fa9-f04d65c37ccd-button" align="start" side="outside-bottom" anchor-offset="normal" popover="auto" data-view-component="true" style="inset: 36px auto auto 0px;">
  <div data-view-component="true" class="Overlay Overlay--size-auto">
    
      <div data-view-component="true" class="Overlay-body Overlay-body--paddingNone">          <action-list data-catalyst="">
  <div data-view-component="true">
    <ul aria-labelledby="action-menu-d5c58b17-f24a-4886-8fa9-f04d65c37ccd-button" id="action-menu-d5c58b17-f24a-4886-8fa9-f04d65c37ccd-list" role="menu" data-view-component="true" class="ActionListWrap--inset ActionListWrap">
        <li hidden="" data-menu-item="i0code-tab" data-targets="action-list.items" role="none" data-view-component="true" class="ActionListItem">
    
    
    <a tabindex="-1" id="item-ffef908b-f623-480b-b1c5-0e630fc55eb6" href="https://github.com/MadhaviPagare/SDOMH-LLM" role="menuitem" data-view-component="true" class="ActionListContent ActionListContent--visual16">
        <span class="ActionListItem-visual ActionListItem-visual--leading">
          <svg aria-hidden="true" height="16" viewBox="0 0 16 16" version="1.1" width="16" data-view-component="true" class="octicon octicon-code">
    <path d="m11.28 3.22 4.25 4.25a.75.75 0 0 1 0 1.06l-4.25 4.25a.749.749 0 0 1-1.275-.326.749.749 0 0 1 .215-.734L13.94 8l-3.72-3.72a.749.749 0 0 1 .326-1.275.749.749 0 0 1 .734.215Zm-6.56 0a.751.751 0 0 1 1.042.018.751.751 0 0 1 .018 1.042L2.06 8l3.72 3.72a.749.749 0 0 1-.326 1.275.749.749 0 0 1-.734-.215L.47 8.53a.75.75 0 0 1 0-1.06Z"></path>
</svg>
        </span>
      
        <span data-view-component="true" class="ActionListItem-label">
          Code
</span>      
</a>
  
</li>
        <li hidden="" data-menu-item="i1issues-tab" data-targets="action-list.items" role="none" data-view-component="true" class="ActionListItem">
    
    
    <a tabindex="-1" id="item-012a52ee-82d6-4c3a-8e3e-4b90b0ff1c9b" href="https://github.com/MadhaviPagare/SDOMH-LLM/issues" role="menuitem" data-view-component="true" class="ActionListContent ActionListContent--visual16">
        <span class="ActionListItem-visual ActionListItem-visual--leading">
          <svg aria-hidden="true" height="16" viewBox="0 0 16 16" version="1.1" width="16" data-view-component="true" class="octicon octicon-issue-opened">
    <path d="M8 9.5a1.5 1.5 0 1 0 0-3 1.5 1.5 0 0 0 0 3Z"></path><path d="M8 0a8 8 0 1 1 0 16A8 8 0 0 1 8 0ZM1.5 8a6.5 6.5 0 1 0 13 0 6.5 6.5 0 0 0-13 0Z"></path>
</svg>
        </span>
      
        <span data-view-component="true" class="ActionListItem-label">
          Issues
</span>      
</a>
  
</li>
        <li hidden="" data-menu-item="i2pull-requests-tab" data-targets="action-list.items" role="none" data-view-component="true" class="ActionListItem">
    
    
    <a tabindex="-1" id="item-28f51b97-b5ef-4e59-9c2e-6c0a50095a2c" href="https://github.com/MadhaviPagare/SDOMH-LLM/pulls" role="menuitem" data-view-component="true" class="ActionListContent ActionListContent--visual16">
        <span class="ActionListItem-visual ActionListItem-visual--leading">
          <svg aria-hidden="true" height="16" viewBox="0 0 16 16" version="1.1" width="16" data-view-component="true" class="octicon octicon-git-pull-request">
    <path d="M1.5 3.25a2.25 2.25 0 1 1 3 2.122v5.256a2.251 2.251 0 1 1-1.5 0V5.372A2.25 2.25 0 0 1 1.5 3.25Zm5.677-.177L9.573.677A.25.25 0 0 1 10 .854V2.5h1A2.5 2.5 0 0 1 13.5 5v5.628a2.251 2.251 0 1 1-1.5 0V5a1 1 0 0 0-1-1h-1v1.646a.25.25 0 0 1-.427.177L7.177 3.427a.25.25 0 0 1 0-.354ZM3.75 2.5a.75.75 0 1 0 0 1.5.75.75 0 0 0 0-1.5Zm0 9.5a.75.75 0 1 0 0 1.5.75.75 0 0 0 0-1.5Zm8.25.75a.75.75 0 1 0 1.5 0 .75.75 0 0 0-1.5 0Z"></path>
</svg>
        </span>
      
        <span data-view-component="true" class="ActionListItem-label">
          Pull requests
</span>      
</a>
  
</li>
        <li hidden="" data-menu-item="i3actions-tab" data-targets="action-list.items" role="none" data-view-component="true" class="ActionListItem">
    
    
    <a tabindex="-1" id="item-90971e7b-fd63-4bd6-9247-e6571ff24ab2" href="https://github.com/MadhaviPagare/SDOMH-LLM/actions" role="menuitem" data-view-component="true" class="ActionListContent ActionListContent--visual16">
        <span class="ActionListItem-visual ActionListItem-visual--leading">
          <svg aria-hidden="true" height="16" viewBox="0 0 16 16" version="1.1" width="16" data-view-component="true" class="octicon octicon-play">
    <path d="M8 0a8 8 0 1 1 0 16A8 8 0 0 1 8 0ZM1.5 8a6.5 6.5 0 1 0 13 0 6.5 6.5 0 0 0-13 0Zm4.879-2.773 4.264 2.559a.25.25 0 0 1 0 .428l-4.264 2.559A.25.25 0 0 1 6 10.559V5.442a.25.25 0 0 1 .379-.215Z"></path>
</svg>
        </span>
      
        <span data-view-component="true" class="ActionListItem-label">
          Actions
</span>      
</a>
  
</li>
        <li hidden="" data-menu-item="i4projects-tab" data-targets="action-list.items" role="none" data-view-component="true" class="ActionListItem">
    
    
    <a tabindex="-1" id="item-e8ffc8f9-1c26-4ed2-adbf-dc69eb199e20" href="https://github.com/MadhaviPagare/SDOMH-LLM/projects" role="menuitem" data-view-component="true" class="ActionListContent ActionListContent--visual16">
        <span class="ActionListItem-visual ActionListItem-visual--leading">
          <svg aria-hidden="true" height="16" viewBox="0 0 16 16" version="1.1" width="16" data-view-component="true" class="octicon octicon-table">
    <path d="M0 1.75C0 .784.784 0 1.75 0h12.5C15.216 0 16 .784 16 1.75v12.5A1.75 1.75 0 0 1 14.25 16H1.75A1.75 1.75 0 0 1 0 14.25ZM6.5 6.5v8h7.75a.25.25 0 0 0 .25-.25V6.5Zm8-1.5V1.75a.25.25 0 0 0-.25-.25H6.5V5Zm-13 1.5v7.75c0 .138.112.25.25.25H5v-8ZM5 5V1.5H1.75a.25.25 0 0 0-.25.25V5Z"></path>
</svg>
        </span>
      
        <span data-view-component="true" class="ActionListItem-label">
          Projects
</span>      
</a>
  
</li>
        <li hidden="" data-menu-item="i5wiki-tab" data-targets="action-list.items" role="none" data-view-component="true" class="ActionListItem">
    
    
    <a tabindex="-1" id="item-6e13d513-c437-44f6-b35e-0dd69133bff7" href="https://github.com/MadhaviPagare/SDOMH-LLM/wiki" role="menuitem" data-view-component="true" class="ActionListContent ActionListContent--visual16">
        <span class="ActionListItem-visual ActionListItem-visual--leading">
          <svg aria-hidden="true" height="16" viewBox="0 0 16 16" version="1.1" width="16" data-view-component="true" class="octicon octicon-book">
    <path d="M0 1.75A.75.75 0 0 1 .75 1h4.253c1.227 0 2.317.59 3 1.501A3.743 3.743 0 0 1 11.006 1h4.245a.75.75 0 0 1 .75.75v10.5a.75.75 0 0 1-.75.75h-4.507a2.25 2.25 0 0 0-1.591.659l-.622.621a.75.75 0 0 1-1.06 0l-.622-.621A2.25 2.25 0 0 0 5.258 13H.75a.75.75 0 0 1-.75-.75Zm7.251 10.324.004-5.073-.002-2.253A2.25 2.25 0 0 0 5.003 2.5H1.5v9h3.757a3.75 3.75 0 0 1 1.994.574ZM8.755 4.75l-.004 7.322a3.752 3.752 0 0 1 1.992-.572H14.5v-9h-3.495a2.25 2.25 0 0 0-2.25 2.25Z"></path>
</svg>
        </span>
      
        <span data-view-component="true" class="ActionListItem-label">
          Wiki
</span>      
</a>
  
</li>
        <li hidden="" data-menu-item="i6security-tab" data-targets="action-list.items" role="none" data-view-component="true" class="ActionListItem">
    
    
    <a tabindex="-1" id="item-bfc6a431-7679-4a99-a19a-6e5628ee9ff6" href="https://github.com/MadhaviPagare/SDOMH-LLM/security" role="menuitem" data-view-component="true" class="ActionListContent ActionListContent--visual16">
        <span class="ActionListItem-visual ActionListItem-visual--leading">
          <svg aria-hidden="true" height="16" viewBox="0 0 16 16" version="1.1" width="16" data-view-component="true" class="octicon octicon-shield">
    <path d="M7.467.133a1.748 1.748 0 0 1 1.066 0l5.25 1.68A1.75 1.75 0 0 1 15 3.48V7c0 1.566-.32 3.182-1.303 4.682-.983 1.498-2.585 2.813-5.032 3.855a1.697 1.697 0 0 1-1.33 0c-2.447-1.042-4.049-2.357-5.032-3.855C1.32 10.182 1 8.566 1 7V3.48a1.75 1.75 0 0 1 1.217-1.667Zm.61 1.429a.25.25 0 0 0-.153 0l-5.25 1.68a.25.25 0 0 0-.174.238V7c0 1.358.275 2.666 1.057 3.86.784 1.194 2.121 2.34 4.366 3.297a.196.196 0 0 0 .154 0c2.245-.956 3.582-2.104 4.366-3.298C13.225 9.666 13.5 8.36 13.5 7V3.48a.251.251 0 0 0-.174-.237l-5.25-1.68ZM8.75 4.75v3a.75.75 0 0 1-1.5 0v-3a.75.75 0 0 1 1.5 0ZM9 10.5a1 1 0 1 1-2 0 1 1 0 0 1 2 0Z"></path>
</svg>
        </span>
      
        <span data-view-component="true" class="ActionListItem-label">
          Security
</span>      
</a>
  
</li>
        <li hidden="" data-menu-item="i7insights-tab" data-targets="action-list.items" role="none" data-view-component="true" class="ActionListItem">
    
    
    <a tabindex="-1" id="item-19ff1d70-f57b-4dde-9056-6689cc993e2d" href="https://github.com/MadhaviPagare/SDOMH-LLM/pulse" role="menuitem" data-view-component="true" class="ActionListContent ActionListContent--visual16">
        <span class="ActionListItem-visual ActionListItem-visual--leading">
          <svg aria-hidden="true" height="16" viewBox="0 0 16 16" version="1.1" width="16" data-view-component="true" class="octicon octicon-graph">
    <path d="M1.5 1.75V13.5h13.75a.75.75 0 0 1 0 1.5H.75a.75.75 0 0 1-.75-.75V1.75a.75.75 0 0 1 1.5 0Zm14.28 2.53-5.25 5.25a.75.75 0 0 1-1.06 0L7 7.06 4.28 9.78a.751.751 0 0 1-1.042-.018.751.751 0 0 1-.018-1.042l3.25-3.25a.75.75 0 0 1 1.06 0L10 7.94l4.72-4.72a.751.751 0 0 1 1.042.018.751.751 0 0 1 .018 1.042Z"></path>
</svg>
        </span>
      
        <span data-view-component="true" class="ActionListItem-label">
          Insights
</span>      
</a>
  
</li>
        <li hidden="" data-menu-item="i8settings-tab" data-targets="action-list.items" role="none" data-view-component="true" class="ActionListItem">
    
    
    <a tabindex="-1" id="item-5adff283-5d51-46e0-aa2e-eef1aafa6005" href="https://github.com/MadhaviPagare/SDOMH-LLM/settings" role="menuitem" data-view-component="true" class="ActionListContent ActionListContent--visual16">
        <span class="ActionListItem-visual ActionListItem-visual--leading">
          <svg aria-hidden="true" height="16" viewBox="0 0 16 16" version="1.1" width="16" data-view-component="true" class="octicon octicon-gear">
    <path d="M8 0a8.2 8.2 0 0 1 .701.031C9.444.095 9.99.645 10.16 1.29l.288 1.107c.018.066.079.158.212.224.231.114.454.243.668.386.123.082.233.09.299.071l1.103-.303c.644-.176 1.392.021 1.82.63.27.385.506.792.704 1.218.315.675.111 1.422-.364 1.891l-.814.806c-.049.048-.098.147-.088.294.016.257.016.515 0 .772-.01.147.038.246.088.294l.814.806c.475.469.679 1.216.364 1.891a7.977 7.977 0 0 1-.704 1.217c-.428.61-1.176.807-1.82.63l-1.102-.302c-.067-.019-.177-.011-.3.071a5.909 5.909 0 0 1-.668.386c-.133.066-.194.158-.211.224l-.29 1.106c-.168.646-.715 1.196-1.458 1.26a8.006 8.006 0 0 1-1.402 0c-.743-.064-1.289-.614-1.458-1.26l-.289-1.106c-.018-.066-.079-.158-.212-.224a5.738 5.738 0 0 1-.668-.386c-.123-.082-.233-.09-.299-.071l-1.103.303c-.644.176-1.392-.021-1.82-.63a8.12 8.12 0 0 1-.704-1.218c-.315-.675-.111-1.422.363-1.891l.815-.806c.05-.048.098-.147.088-.294a6.214 6.214 0 0 1 0-.772c.01-.147-.038-.246-.088-.294l-.815-.806C.635 6.045.431 5.298.746 4.623a7.92 7.92 0 0 1 .704-1.217c.428-.61 1.176-.807 1.82-.63l1.102.302c.067.019.177.011.3-.071.214-.143.437-.272.668-.386.133-.066.194-.158.211-.224l.29-1.106C6.009.645 6.556.095 7.299.03 7.53.01 7.764 0 8 0Zm-.571 1.525c-.036.003-.108.036-.137.146l-.289 1.105c-.147.561-.549.967-.998 1.189-.173.086-.34.183-.5.29-.417.278-.97.423-1.529.27l-1.103-.303c-.109-.03-.175.016-.195.045-.22.312-.412.644-.573.99-.014.031-.021.11.059.19l.815.806c.411.406.562.957.53 1.456a4.709 4.709 0 0 0 0 .582c.032.499-.119 1.05-.53 1.456l-.815.806c-.081.08-.073.159-.059.19.162.346.353.677.573.989.02.03.085.076.195.046l1.102-.303c.56-.153 1.113-.008 1.53.27.161.107.328.204.501.29.447.222.85.629.997 1.189l.289 1.105c.029.109.101.143.137.146a6.6 6.6 0 0 0 1.142 0c.036-.003.108-.036.137-.146l.289-1.105c.147-.561.549-.967.998-1.189.173-.086.34-.183.5-.29.417-.278.97-.423 1.529-.27l1.103.303c.109.029.175-.016.195-.045.22-.313.411-.644.573-.99.014-.031.021-.11-.059-.19l-.815-.806c-.411-.406-.562-.957-.53-1.456a4.709 4.709 0 0 0 0-.582c-.032-.499.119-1.05.53-1.456l.815-.806c.081-.08.073-.159.059-.19a6.464 6.464 0 0 0-.573-.989c-.02-.03-.085-.076-.195-.046l-1.102.303c-.56.153-1.113.008-1.53-.27a4.44 4.44 0 0 0-.501-.29c-.447-.222-.85-.629-.997-1.189l-.289-1.105c-.029-.11-.101-.143-.137-.146a6.6 6.6 0 0 0-1.142 0ZM11 8a3 3 0 1 1-6 0 3 3 0 0 1 6 0ZM9.5 8a1.5 1.5 0 1 0-3.001.001A1.5 1.5 0 0 0 9.5 8Z"></path>
</svg>
        </span>
      
        <span data-view-component="true" class="ActionListItem-label">
          Settings
</span>      
</a>
  
</li>
</ul>    
</div></action-list>


</div>
      
</div></anchored-position>  </focus-group>
</action-menu></div>
</nav>
          
        </div>
</header>


      <div hidden="hidden" data-view-component="true" class="js-stale-session-flash stale-session-flash flash flash-warn flash-full">
  
        <svg aria-hidden="true" height="16" viewBox="0 0 16 16" version="1.1" width="16" data-view-component="true" class="octicon octicon-alert">
    <path d="M6.457 1.047c.659-1.234 2.427-1.234 3.086 0l6.082 11.378A1.75 1.75 0 0 1 14.082 15H1.918a1.75 1.75 0 0 1-1.543-2.575Zm1.763.707a.25.25 0 0 0-.44 0L1.698 13.132a.25.25 0 0 0 .22.368h12.164a.25.25 0 0 0 .22-.368Zm.53 3.996v2.5a.75.75 0 0 1-1.5 0v-2.5a.75.75 0 0 1 1.5 0ZM9 11a1 1 0 1 1-2 0 1 1 0 0 1 2 0Z"></path>
</svg>
        <span class="js-stale-session-flash-signed-in" hidden="">You signed in with another tab or window. <a class="Link--inTextBlock" href="https://github.com/MadhaviPagare/SDOMH-LLM/blob/main/ClinicalLongformer.ipynb">Reload</a> to refresh your session.</span>
        <span class="js-stale-session-flash-signed-out" hidden="">You signed out in another tab or window. <a class="Link--inTextBlock" href="https://github.com/MadhaviPagare/SDOMH-LLM/blob/main/ClinicalLongformer.ipynb">Reload</a> to refresh your session.</span>
        <span class="js-stale-session-flash-switched" hidden="">You switched accounts on another tab or window. <a class="Link--inTextBlock" href="https://github.com/MadhaviPagare/SDOMH-LLM/blob/main/ClinicalLongformer.ipynb">Reload</a> to refresh your session.</span>

    <button id="icon-button-3f73dcf9-2494-4d0b-a44b-e91ad627d60d" aria-labelledby="tooltip-47ed1bce-8fb2-462e-8e32-82d80f7a3547" type="button" data-view-component="true" class="Button Button--iconOnly Button--invisible Button--medium flash-close js-flash-close">  <svg aria-hidden="true" height="16" viewBox="0 0 16 16" version="1.1" width="16" data-view-component="true" class="octicon octicon-x Button-visual">
    <path d="M3.72 3.72a.75.75 0 0 1 1.06 0L8 6.94l3.22-3.22a.749.749 0 0 1 1.275.326.749.749 0 0 1-.215.734L9.06 8l3.22 3.22a.749.749 0 0 1-.326 1.275.749.749 0 0 1-.734-.215L8 9.06l-3.22 3.22a.751.751 0 0 1-1.042-.018.751.751 0 0 1-.018-1.042L6.94 8 3.72 4.78a.75.75 0 0 1 0-1.06Z"></path>
</svg>
</button><tool-tip id="tooltip-47ed1bce-8fb2-462e-8e32-82d80f7a3547" for="icon-button-3f73dcf9-2494-4d0b-a44b-e91ad627d60d" popover="manual" data-direction="s" data-type="label" data-view-component="true" class="sr-only position-absolute" aria-hidden="true" role="tooltip"><template shadowrootmode="open"><style>
      :host {
        --tooltip-top: var(--tool-tip-position-top, 0);
        --tooltip-left: var(--tool-tip-position-left, 0);
        padding: var(--overlay-paddingBlock-condensed) var(--overlay-padding-condensed) !important;
        font: var(--text-body-shorthand-small);
        color: var(--tooltip-fgColor, var(--fgColor-onEmphasis)) !important;
        text-align: center;
        text-decoration: none;
        text-shadow: none;
        text-transform: none;
        letter-spacing: normal;
        word-wrap: break-word;
        white-space: pre;
        background: var(--tooltip-bgColor, var(--bgColor-emphasis)) !important;
        border-radius: var(--borderRadius-medium);
        border: 0 !important;
        opacity: 0;
        max-width: var(--overlay-width-small);
        word-wrap: break-word;
        white-space: normal;
        width: max-content !important;
        inset: var(--tooltip-top) auto auto var(--tooltip-left) !important;
        overflow: visible !important;
        text-wrap: balance;
      }

      :host(:is(.tooltip-n, .tooltip-nw, .tooltip-ne)) {
        --tooltip-top: calc(var(--tool-tip-position-top, 0) - var(--overlay-offset, 0.25rem));
        --tooltip-left: var(--tool-tip-position-left);
      }

      :host(:is(.tooltip-s, .tooltip-sw, .tooltip-se)) {
        --tooltip-top: calc(var(--tool-tip-position-top, 0) + var(--overlay-offset, 0.25rem));
        --tooltip-left: var(--tool-tip-position-left);
      }

      :host(.tooltip-w) {
        --tooltip-top: var(--tool-tip-position-top);
        --tooltip-left: calc(var(--tool-tip-position-left, 0) - var(--overlay-offset, 0.25rem));
      }

      :host(.tooltip-e) {
        --tooltip-top: var(--tool-tip-position-top);
        --tooltip-left: calc(var(--tool-tip-position-left, 0) + var(--overlay-offset, 0.25rem));
      }

      :host:after{
        position: absolute;
        display: block;
        right: 0;
        left: 0;
        height: var(--overlay-offset, 0.25rem);
        content: "";
      }

      :host(.tooltip-s):after,
      :host(.tooltip-se):after,
      :host(.tooltip-sw):after {
        bottom: 100%
      }

      :host(.tooltip-n):after,
      :host(.tooltip-ne):after,
      :host(.tooltip-nw):after {
        top: 100%;
      }

      @keyframes tooltip-appear {
        from {
          opacity: 0;
        }
        to {
          opacity: 1;
        }
      }

      :host(:popover-open),
      :host(:popover-open):before {
        animation-name: tooltip-appear;
        animation-duration: .1s;
        animation-fill-mode: forwards;
        animation-timing-function: ease-in;
      }

      :host(.\:popover-open) {
        animation-name: tooltip-appear;
        animation-duration: .1s;
        animation-fill-mode: forwards;
        animation-timing-function: ease-in;
      }

      @media (forced-colors: active) {
        :host {
          outline: solid 1px transparent;
        }

        :host:before {
          display: none;
        }
      }
    </style><slot></slot></template>Dismiss alert</tool-tip>


  
</div>
          
    </div>

  <div id="start-of-content" class="show-on-focus"></div>








    <div id="js-flash-container" class="flash-container" data-turbo-replace="">




  <template class="js-flash-template"></template>
</div>


    
  <notification-shelf-watcher data-base-url="https://github.com/notifications/beta/shelf" data-channel="eyJjIjoibm90aWZpY2F0aW9uLWNoYW5nZWQ6OTQ4NjYyODciLCJ0IjoxNzUwNzQ0OTc2fQ==--28e4dfa21c13d253f0312ad6c4663d216aad3ae1299cadb5d3b37072ce946613" data-view-component="true" class="js-socket-channel" data-refresh-delay="500" data-catalyst="" data-throttle-delay="5000"></notification-shelf-watcher>
  <div hidden="" data-initial="" data-target="notification-shelf-watcher.placeholder"></div>






  <div class="application-main " data-commit-hovercards-enabled="" data-discussion-hovercards-enabled="" data-issue-and-pr-hovercards-enabled="" data-project-hovercards-enabled="">
        <div itemscope="" itemtype="http://schema.org/SoftwareSourceCode" class="">
    <main id="js-repo-pjax-container">
      
      






    
  <div id="repository-container-header" data-turbo-replace="" hidden=""></div>




<turbo-frame id="repo-content-turbo-frame" target="_top" data-turbo-action="advance" class="">
    <div id="repo-content-pjax-container" class="repository-content ">
      <a href="https://github.dev/" class="d-none js-github-dev-shortcut" data-hotkey=".,Mod+Alt+.">Open in github.dev</a>
  <a href="https://github.dev/" class="d-none js-github-dev-new-tab-shortcut" data-hotkey="Shift+.,Shift+&gt;,&gt;" target="_blank" rel="noopener noreferrer">Open in a new github.dev tab</a>
    <a class="d-none" data-hotkey=",,Mod+Alt+," target="_blank" href="https://github.com/codespaces/new/MadhaviPagare/SDOMH-LLM/tree/main?resume=1">Open in codespace</a>




    
      
    








<react-app app-name="react-code-view" initial-path="/MadhaviPagare/SDOMH-LLM/blob/main/ClinicalLongformer.ipynb" style="display: block; min-height: calc(100vh - 64px);" data-attempted-ssr="true" data-ssr="true" data-lazy="false" data-alternate="false" data-data-router-enabled="false" data-react-profiling="false" data-catalyst="" class="loaded">
  
  <script type="application/json" data-target="react-app.embeddedData">{"payload":{"allShortcutsEnabled":true,"fileTree":{"":{"items":[{"name":"Bio-clinicalBert.ipynb","path":"Bio-clinicalBert.ipynb","contentType":"file"},{"name":"ClinicalLongformer.ipynb","path":"ClinicalLongformer.ipynb","contentType":"file"},{"name":"Clinical_Bert.ipynb","path":"Clinical_Bert.ipynb","contentType":"file"},{"name":"Clinical_Bird.ipynb","path":"Clinical_Bird.ipynb","contentType":"file"},{"name":"Marital_status\u0026Race.ipynb","path":"Marital_status\u0026Race.ipynb","contentType":"file"},{"name":"Preprocess_opiod.ipynb","path":"Preprocess_opiod.ipynb","contentType":"file"},{"name":"README.md","path":"README.md","contentType":"file"},{"name":"RoBERTa.ipynb","path":"RoBERTa.ipynb","contentType":"file"},{"name":"model1_2636.csv","path":"model1_2636.csv","contentType":"file"},{"name":"model2_2636.csv","path":"model2_2636.csv","contentType":"file"},{"name":"model3_2636.csv","path":"model3_2636.csv","contentType":"file"}],"totalCount":11}},"fileTreeProcessingTime":2.7472920000000003,"foldersToFetch":[],"incompleteFileTree":false,"repo":{"id":891877994,"defaultBranch":"main","name":"SDOMH-LLM","ownerLogin":"MadhaviPagare","currentUserCanPush":true,"isFork":false,"isEmpty":false,"createdAt":"2024-11-21T00:40:12.000-05:00","ownerAvatar":"https://avatars.githubusercontent.com/u/94866287?v=4","public":true,"private":false,"isOrgOwned":false},"codeLineWrapEnabled":false,"symbolsExpanded":true,"treeExpanded":true,"refInfo":{"name":"main","listCacheKey":"v0:1732167641.0","canEdit":true,"refType":"branch","currentOid":"fa891fd95084b6511db88ba55445265650da43ad"},"path":"ClinicalLongformer.ipynb","currentUser":{"id":94866287,"login":"MadhaviPagare","userEmail":"madhavisuyog_pagare@student.uml.edu"},"blob":{"rawLines":["{"," \"cells\": [","  {","   \"cell_type\": \"code\",","   \"execution_count\": null,","   \"metadata\": {},","   \"outputs\": [],","   \"source\": []","  },","  {","   \"cell_type\": \"code\",","   \"execution_count\": 1,","   \"metadata\": {},","   \"outputs\": [","    {","     \"name\": \"stderr\",","     \"output_type\": \"stream\",","     \"text\": [","      \"Some weights of LongformerModel were not initialized from the model checkpoint at yikuan8/Clinical-Longformer and are newly initialized: ['longformer.pooler.dense.bias', 'longformer.pooler.dense.weight']\\n\",","      \"You should probably TRAIN this model on a down-stream task to be able to use it for predictions and inference.\\n\",","      \"/home/mpagare/.local/lib/python3.8/site-packages/transformers/optimization.py:429: FutureWarning: This implementation of AdamW is deprecated and will be removed in a future version. Use the PyTorch implementation torch.optim.AdamW instead, or set `no_deprecation_warning=True` to disable this warning\\n\",","      \"  warnings.warn(\\n\",","      \"Training: 100%|██████████| 231/231 [07:09\u003c00:00,  1.86s/it]\\n\",","      \"Training: 100%|██████████| 231/231 [07:08\u003c00:00,  1.85s/it]\\n\",","      \"Training: 100%|██████████| 231/231 [07:05\u003c00:00,  1.84s/it]\\n\",","      \"Validation: 100%|██████████| 33/33 [00:17\u003c00:00,  1.85it/s]\\n\",","      \"Validation: 100%|██████████| 33/33 [00:17\u003c00:00,  1.86it/s]\\n\",","      \"Validation: 100%|██████████| 33/33 [00:18\u003c00:00,  1.80it/s]\\n\"","     ]","    },","    {","     \"name\": \"stdout\",","     \"output_type\": \"stream\",","     \"text\": [","      \"Epoch 1/27\\n\",","      \"H1: Train Loss: 1.7711, Val Loss: 1.4620, Accuracy: 0.9202\\n\",","      \"Precision H1: 0.9202, Recall H1: 0.9202, F1 H1: 0.9202\\n\",","      \"H2: Train Loss: 1.5321, Val Loss: 1.3765, Accuracy: 0.6540\\n\",","      \"Precision H2: 0.6540, Recall H2: 0.6540, F1 H2: 0.6540\\n\",","      \"H3: Train Loss: 1.4727, Val Loss: 1.4766, Custom Accuracy: 0.6797\\n\",","      \"Precision H3: 0.7114340032590982, Recall H3: 0.4941068753806397, F1 Score H3: 0.5831812734322747\\n\"","     ]","    },","    {","     \"name\": \"stderr\",","     \"output_type\": \"stream\",","     \"text\": [","      \"Training: 100%|██████████| 231/231 [07:09\u003c00:00,  1.86s/it]\\n\",","      \"Training: 100%|██████████| 231/231 [07:08\u003c00:00,  1.85s/it]\\n\",","      \"Training: 100%|██████████| 231/231 [07:07\u003c00:00,  1.85s/it]\\n\",","      \"Validation: 100%|██████████| 33/33 [00:18\u003c00:00,  1.77it/s]\\n\",","      \"Validation: 100%|██████████| 33/33 [00:18\u003c00:00,  1.77it/s]\\n\",","      \"Validation: 100%|██████████| 33/33 [00:18\u003c00:00,  1.78it/s]\\n\"","     ]","    },","    {","     \"name\": \"stdout\",","     \"output_type\": \"stream\",","     \"text\": [","      \"Epoch 2/27\\n\",","      \"H1: Train Loss: 1.4069, Val Loss: 1.1975, Accuracy: 0.9620\\n\",","      \"Precision H1: 0.9620, Recall H1: 0.9620, F1 H1: 0.9620\\n\",","      \"H2: Train Loss: 1.3433, Val Loss: 1.1927, Accuracy: 0.7414\\n\",","      \"Precision H2: 0.7414, Recall H2: 0.7414, F1 H2: 0.7414\\n\",","      \"H3: Train Loss: 1.2949, Val Loss: 1.2646, Custom Accuracy: 0.6926\\n\",","      \"Precision H3: 0.7199121854064819, Recall H3: 0.5216841143647227, F1 Score H3: 0.6049740176148402\\n\"","     ]","    },","    {","     \"name\": \"stderr\",","     \"output_type\": \"stream\",","     \"text\": [","      \"Training: 100%|██████████| 231/231 [07:08\u003c00:00,  1.85s/it]\\n\",","      \"Training: 100%|██████████| 231/231 [07:10\u003c00:00,  1.86s/it]\\n\",","      \"Training: 100%|██████████| 231/231 [07:07\u003c00:00,  1.85s/it]\\n\",","      \"Validation: 100%|██████████| 33/33 [00:18\u003c00:00,  1.78it/s]\\n\",","      \"Validation: 100%|██████████| 33/33 [00:18\u003c00:00,  1.81it/s]\\n\",","      \"Validation: 100%|██████████| 33/33 [00:18\u003c00:00,  1.79it/s]\\n\"","     ]","    },","    {","     \"name\": \"stdout\",","     \"output_type\": \"stream\",","     \"text\": [","      \"Epoch 3/27\\n\",","      \"H1: Train Loss: 1.2119, Val Loss: 0.9769, Accuracy: 0.9696\\n\",","      \"Precision H1: 0.9696, Recall H1: 0.9696, F1 H1: 0.9696\\n\",","      \"H2: Train Loss: 1.1469, Val Loss: 1.0676, Accuracy: 0.7985\\n\",","      \"Precision H2: 0.7985, Recall H2: 0.7985, F1 H2: 0.7985\\n\",","      \"H3: Train Loss: 1.0800, Val Loss: 1.1240, Custom Accuracy: 0.6999\\n\",","      \"Precision H3: 0.710927032409922, Recall H3: 0.5520874140646003, F1 Score H3: 0.621519204324844\\n\"","     ]","    },","    {","     \"name\": \"stderr\",","     \"output_type\": \"stream\",","     \"text\": [","      \"Training: 100%|██████████| 231/231 [06:55\u003c00:00,  1.80s/it]\\n\",","      \"Training: 100%|██████████| 231/231 [06:33\u003c00:00,  1.70s/it]\\n\",","      \"Training: 100%|██████████| 231/231 [06:54\u003c00:00,  1.79s/it]\\n\",","      \"Validation: 100%|██████████| 33/33 [00:18\u003c00:00,  1.75it/s]\\n\",","      \"Validation: 100%|██████████| 33/33 [00:18\u003c00:00,  1.79it/s]\\n\",","      \"Validation: 100%|██████████| 33/33 [00:17\u003c00:00,  1.85it/s]\\n\"","     ]","    },","    {","     \"name\": \"stdout\",","     \"output_type\": \"stream\",","     \"text\": [","      \"Epoch 4/27\\n\",","      \"H1: Train Loss: 0.9761, Val Loss: 0.8447, Accuracy: 0.9848\\n\",","      \"Precision H1: 0.9848, Recall H1: 0.9848, F1 H1: 0.9848\\n\",","      \"H2: Train Loss: 0.9039, Val Loss: 0.9245, Accuracy: 0.8859\\n\",","      \"Precision H2: 0.8859, Recall H2: 0.8859, F1 H2: 0.8859\\n\",","      \"H3: Train Loss: 0.8669, Val Loss: 0.9322, Custom Accuracy: 0.7031\\n\",","      \"Precision H3: 0.6971392359225059, Recall H3: 0.581086393538865, F1 Score H3: 0.6338444716796243\\n\"","     ]","    },","    {","     \"name\": \"stderr\",","     \"output_type\": \"stream\",","     \"text\": [","      \"Training: 100%|██████████| 231/231 [07:05\u003c00:00,  1.84s/it]\\n\",","      \"Training: 100%|██████████| 231/231 [07:04\u003c00:00,  1.84s/it]\\n\",","      \"Training: 100%|██████████| 231/231 [07:04\u003c00:00,  1.84s/it]\\n\",","      \"Validation: 100%|██████████| 33/33 [00:17\u003c00:00,  1.85it/s]\\n\",","      \"Validation: 100%|██████████| 33/33 [00:18\u003c00:00,  1.82it/s]\\n\",","      \"Validation: 100%|██████████| 33/33 [00:18\u003c00:00,  1.82it/s]\\n\"","     ]","    },","    {","     \"name\": \"stdout\",","     \"output_type\": \"stream\",","     \"text\": [","      \"Epoch 5/27\\n\",","      \"H1: Train Loss: 0.8515, Val Loss: 0.7637, Accuracy: 0.9848\\n\",","      \"Precision H1: 0.9848, Recall H1: 0.9848, F1 H1: 0.9848\\n\",","      \"H2: Train Loss: 0.7394, Val Loss: 0.8869, Accuracy: 0.8973\\n\",","      \"Precision H2: 0.8973, Recall H2: 0.8973, F1 H2: 0.8973\\n\",","      \"H3: Train Loss: 0.7190, Val Loss: 0.8227, Custom Accuracy: 0.7087\\n\",","      \"Precision H3: 0.706880318667391, Recall H3: 0.580160924837731, F1 Score H3: 0.6372823582728202\\n\"","     ]","    },","    {","     \"name\": \"stderr\",","     \"output_type\": \"stream\",","     \"text\": [","      \"Training: 100%|██████████| 231/231 [07:13\u003c00:00,  1.87s/it]\\n\",","      \"Training: 100%|██████████| 231/231 [07:21\u003c00:00,  1.91s/it]\\n\",","      \"Training: 100%|██████████| 231/231 [07:21\u003c00:00,  1.91s/it]\\n\",","      \"Validation: 100%|██████████| 33/33 [00:19\u003c00:00,  1.68it/s]\\n\",","      \"Validation: 100%|██████████| 33/33 [00:19\u003c00:00,  1.72it/s]\\n\",","      \"Validation: 100%|██████████| 33/33 [00:19\u003c00:00,  1.69it/s]\\n\"","     ]","    },","    {","     \"name\": \"stdout\",","     \"output_type\": \"stream\",","     \"text\": [","      \"Epoch 6/27\\n\",","      \"H1: Train Loss: 0.6903, Val Loss: 0.7573, Accuracy: 0.9810\\n\",","      \"Precision H1: 0.9810, Recall H1: 0.9810, F1 H1: 0.9810\\n\",","      \"H2: Train Loss: 0.6523, Val Loss: 0.8837, Accuracy: 0.9392\\n\",","      \"Precision H2: 0.9392, Recall H2: 0.9392, F1 H2: 0.9392\\n\",","      \"H3: Train Loss: 0.6495, Val Loss: 0.7521, Custom Accuracy: 0.7069\\n\",","      \"Precision H3: 0.7239362665218179, Recall H3: 0.5392698028629588, F1 Score H3: 0.6181049587937832\\n\"","     ]","    },","    {","     \"name\": \"stderr\",","     \"output_type\": \"stream\",","     \"text\": [","      \"Training: 100%|██████████| 231/231 [07:20\u003c00:00,  1.91s/it]\\n\",","      \"Training: 100%|██████████| 231/231 [07:20\u003c00:00,  1.91s/it]\\n\",","      \"Training: 100%|██████████| 231/231 [07:20\u003c00:00,  1.91s/it]\\n\",","      \"Validation: 100%|██████████| 33/33 [00:19\u003c00:00,  1.69it/s]\\n\",","      \"Validation: 100%|██████████| 33/33 [00:19\u003c00:00,  1.71it/s]\\n\",","      \"Validation: 100%|██████████| 33/33 [00:19\u003c00:00,  1.70it/s]\\n\"","     ]","    },","    {","     \"name\": \"stdout\",","     \"output_type\": \"stream\",","     \"text\": [","      \"Epoch 7/27\\n\",","      \"H1: Train Loss: 0.6259, Val Loss: 0.7708, Accuracy: 0.9924\\n\",","      \"Precision H1: 0.9924, Recall H1: 0.9924, F1 H1: 0.9924\\n\",","      \"H2: Train Loss: 0.6471, Val Loss: 0.8796, Accuracy: 0.9240\\n\",","      \"Precision H2: 0.9240, Recall H2: 0.9240, F1 H2: 0.9240\\n\",","      \"H3: Train Loss: 0.6227, Val Loss: 0.7294, Custom Accuracy: 0.7154\\n\",","      \"Precision H3: 0.713279316796427, Recall H3: 0.5944761301225179, F1 Score H3: 0.6484813792128747\\n\"","     ]","    },","    {","     \"name\": \"stderr\",","     \"output_type\": \"stream\",","     \"text\": [","      \"Training: 100%|██████████| 231/231 [07:21\u003c00:00,  1.91s/it]\\n\",","      \"Training: 100%|██████████| 231/231 [07:19\u003c00:00,  1.90s/it]\\n\",","      \"Training: 100%|██████████| 231/231 [07:19\u003c00:00,  1.90s/it]\\n\",","      \"Validation: 100%|██████████| 33/33 [00:19\u003c00:00,  1.67it/s]\\n\",","      \"Validation: 100%|██████████| 33/33 [00:19\u003c00:00,  1.68it/s]\\n\",","      \"Validation: 100%|██████████| 33/33 [00:19\u003c00:00,  1.67it/s]\\n\"","     ]","    },","    {","     \"name\": \"stdout\",","     \"output_type\": \"stream\",","     \"text\": [","      \"Epoch 8/27\\n\",","      \"H1: Train Loss: 0.5978, Val Loss: 0.6817, Accuracy: 0.9924\\n\",","      \"Precision H1: 0.9924, Recall H1: 0.9924, F1 H1: 0.9924\\n\",","      \"H2: Train Loss: 0.5781, Val Loss: 0.7870, Accuracy: 0.9506\\n\",","      \"Precision H2: 0.9506, Recall H2: 0.9506, F1 H2: 0.9506\\n\",","      \"H3: Train Loss: 0.5846, Val Loss: 0.6923, Custom Accuracy: 0.7216\\n\",","      \"Precision H3: 0.7129277566539924, Recall H3: 0.616568317613945, F1 Score H3: 0.6612560593568906\\n\"","     ]","    },","    {","     \"name\": \"stderr\",","     \"output_type\": \"stream\",","     \"text\": [","      \"Training: 100%|██████████| 231/231 [07:13\u003c00:00,  1.88s/it]\\n\",","      \"Training: 100%|██████████| 231/231 [07:20\u003c00:00,  1.91s/it]\\n\",","      \"Training: 100%|██████████| 231/231 [07:18\u003c00:00,  1.90s/it]\\n\",","      \"Validation: 100%|██████████| 33/33 [00:19\u003c00:00,  1.69it/s]\\n\",","      \"Validation: 100%|██████████| 33/33 [00:19\u003c00:00,  1.69it/s]\\n\",","      \"Validation: 100%|██████████| 33/33 [00:19\u003c00:00,  1.73it/s]\\n\"","     ]","    },","    {","     \"name\": \"stdout\",","     \"output_type\": \"stream\",","     \"text\": [","      \"Epoch 9/27\\n\",","      \"H1: Train Loss: 0.5778, Val Loss: 0.6742, Accuracy: 0.9962\\n\",","      \"Precision H1: 0.9962, Recall H1: 0.9962, F1 H1: 0.9962\\n\",","      \"H2: Train Loss: 0.5633, Val Loss: 0.7834, Accuracy: 0.9506\\n\",","      \"Precision H2: 0.9506, Recall H2: 0.9506, F1 H2: 0.9506\\n\",","      \"H3: Train Loss: 0.5749, Val Loss: 0.6985, Custom Accuracy: 0.7306\\n\",","      \"Precision H3: 0.740543951190339, Recall H3: 0.6007570270878255, F1 Score H3: 0.6633663730210406\\n\"","     ]","    },","    {","     \"name\": \"stderr\",","     \"output_type\": \"stream\",","     \"text\": [","      \"Training: 100%|██████████| 231/231 [07:19\u003c00:00,  1.90s/it]\\n\",","      \"Training: 100%|██████████| 231/231 [07:19\u003c00:00,  1.90s/it]\\n\",","      \"Training: 100%|██████████| 231/231 [07:20\u003c00:00,  1.91s/it]\\n\",","      \"Validation: 100%|██████████| 33/33 [00:19\u003c00:00,  1.71it/s]\\n\",","      \"Validation: 100%|██████████| 33/33 [00:19\u003c00:00,  1.70it/s]\\n\",","      \"Validation: 100%|██████████| 33/33 [00:18\u003c00:00,  1.74it/s]\\n\"","     ]","    },","    {","     \"name\": \"stdout\",","     \"output_type\": \"stream\",","     \"text\": [","      \"Epoch 10/27\\n\",","      \"H1: Train Loss: 0.5503, Val Loss: 0.7053, Accuracy: 0.9886\\n\",","      \"Precision H1: 0.9886, Recall H1: 0.9886, F1 H1: 0.9886\\n\",","      \"H2: Train Loss: 0.5271, Val Loss: 0.7954, Accuracy: 0.9506\\n\",","      \"Precision H2: 0.9506, Recall H2: 0.9506, F1 H2: 0.9506\\n\",","      \"H3: Train Loss: 0.5288, Val Loss: 0.6928, Custom Accuracy: 0.7341\\n\",","      \"Precision H3: 0.7322695998551513, Recall H3: 0.6210676839003836, F1 Score H3: 0.6720999854680011\\n\"","     ]","    },","    {","     \"name\": \"stderr\",","     \"output_type\": \"stream\",","     \"text\": [","      \"Training: 100%|██████████| 231/231 [07:19\u003c00:00,  1.90s/it]\\n\",","      \"Training: 100%|██████████| 231/231 [07:15\u003c00:00,  1.89s/it]\\n\",","      \"Training: 100%|██████████| 231/231 [07:17\u003c00:00,  1.90s/it]\\n\",","      \"Validation: 100%|██████████| 33/33 [00:19\u003c00:00,  1.70it/s]\\n\",","      \"Validation: 100%|██████████| 33/33 [00:19\u003c00:00,  1.73it/s]\\n\",","      \"Validation: 100%|██████████| 33/33 [00:19\u003c00:00,  1.69it/s]\\n\"","     ]","    },","    {","     \"name\": \"stdout\",","     \"output_type\": \"stream\",","     \"text\": [","      \"Epoch 11/27\\n\",","      \"H1: Train Loss: 0.5329, Val Loss: 0.7054, Accuracy: 0.9924\\n\",","      \"Precision H1: 0.9924, Recall H1: 0.9924, F1 H1: 0.9924\\n\",","      \"H2: Train Loss: 0.5187, Val Loss: 0.8312, Accuracy: 0.9316\\n\",","      \"Precision H2: 0.9316, Recall H2: 0.9316, F1 H2: 0.9316\\n\",","      \"H3: Train Loss: 0.5426, Val Loss: 0.6946, Custom Accuracy: 0.7417\\n\",","      \"Precision H3: 0.7282379745307502, Recall H3: 0.6491628671286466, F1 Score H3: 0.6864306122084399\\n\"","     ]","    },","    {","     \"name\": \"stderr\",","     \"output_type\": \"stream\",","     \"text\": [","      \"Training: 100%|██████████| 231/231 [07:20\u003c00:00,  1.91s/it]\\n\",","      \"Training: 100%|██████████| 231/231 [07:21\u003c00:00,  1.91s/it]\\n\",","      \"Training: 100%|██████████| 231/231 [07:22\u003c00:00,  1.91s/it]\\n\",","      \"Validation: 100%|██████████| 33/33 [00:19\u003c00:00,  1.68it/s]\\n\",","      \"Validation: 100%|██████████| 33/33 [00:19\u003c00:00,  1.67it/s]\\n\",","      \"Validation: 100%|██████████| 33/33 [00:19\u003c00:00,  1.66it/s]\\n\"","     ]","    },","    {","     \"name\": \"stdout\",","     \"output_type\": \"stream\",","     \"text\": [","      \"Epoch 12/27\\n\",","      \"H1: Train Loss: 0.5269, Val Loss: 0.7181, Accuracy: 0.9886\\n\",","      \"Precision H1: 0.9886, Recall H1: 0.9886, F1 H1: 0.9886\\n\",","      \"H2: Train Loss: 0.4991, Val Loss: 0.8316, Accuracy: 0.9430\\n\",","      \"Precision H2: 0.9430, Recall H2: 0.9430, F1 H2: 0.9430\\n\",","      \"H3: Train Loss: 0.5003, Val Loss: 0.6688, Custom Accuracy: 0.7464\\n\",","      \"Precision H3: 0.7440959019856357, Recall H3: 0.6369424829500875, F1 Score H3: 0.6863622279199348\\n\"","     ]","    },","    {","     \"name\": \"stderr\",","     \"output_type\": \"stream\",","     \"text\": [","      \"Training: 100%|██████████| 231/231 [07:21\u003c00:00,  1.91s/it]\\n\",","      \"Training: 100%|██████████| 231/231 [07:21\u003c00:00,  1.91s/it]\\n\",","      \"Training: 100%|██████████| 231/231 [07:20\u003c00:00,  1.91s/it]\\n\",","      \"Validation: 100%|██████████| 33/33 [00:19\u003c00:00,  1.69it/s]\\n\",","      \"Validation: 100%|██████████| 33/33 [00:18\u003c00:00,  1.75it/s]\\n\",","      \"Validation: 100%|██████████| 33/33 [00:19\u003c00:00,  1.69it/s]\\n\"","     ]","    },","    {","     \"name\": \"stdout\",","     \"output_type\": \"stream\",","     \"text\": [","      \"Epoch 13/27\\n\",","      \"H1: Train Loss: 0.4870, Val Loss: 0.6697, Accuracy: 0.9886\\n\",","      \"Precision H1: 0.9886, Recall H1: 0.9886, F1 H1: 0.9886\\n\",","      \"H2: Train Loss: 0.4815, Val Loss: 0.7918, Accuracy: 0.9430\\n\",","      \"Precision H2: 0.9430, Recall H2: 0.9430, F1 H2: 0.9430\\n\",","      \"H3: Train Loss: 0.4881, Val Loss: 0.6104, Custom Accuracy: 0.7587\\n\",","      \"Precision H3: 0.7574956517922297, Recall H3: 0.6622699016235138, F1 Score H3: 0.7066893116060532\\n\"","     ]","    },","    {","     \"name\": \"stderr\",","     \"output_type\": \"stream\",","     \"text\": [","      \"Training: 100%|██████████| 231/231 [07:20\u003c00:00,  1.91s/it]\\n\",","      \"Training: 100%|██████████| 231/231 [07:21\u003c00:00,  1.91s/it]\\n\",","      \"Training: 100%|██████████| 231/231 [07:21\u003c00:00,  1.91s/it]\\n\",","      \"Validation: 100%|██████████| 33/33 [00:19\u003c00:00,  1.69it/s]\\n\",","      \"Validation: 100%|██████████| 33/33 [00:19\u003c00:00,  1.73it/s]\\n\",","      \"Validation: 100%|██████████| 33/33 [00:19\u003c00:00,  1.69it/s]\\n\"","     ]","    },","    {","     \"name\": \"stdout\",","     \"output_type\": \"stream\",","     \"text\": [","      \"Epoch 14/27\\n\",","      \"H1: Train Loss: 0.4840, Val Loss: 0.6878, Accuracy: 0.9924\\n\",","      \"Precision H1: 0.9924, Recall H1: 0.9924, F1 H1: 0.9924\\n\",","      \"H2: Train Loss: 0.5030, Val Loss: 0.7893, Accuracy: 0.9430\\n\",","      \"Precision H2: 0.9430, Recall H2: 0.9430, F1 H2: 0.9430\\n\",","      \"H3: Train Loss: 0.4798, Val Loss: 0.6033, Custom Accuracy: 0.7654\\n\",","      \"Precision H3: 0.7563449119532769, Recall H3: 0.6782414037166888, F1 Score H3: 0.7151670543261766\\n\"","     ]","    },","    {","     \"name\": \"stderr\",","     \"output_type\": \"stream\",","     \"text\": [","      \"Training: 100%|██████████| 231/231 [07:21\u003c00:00,  1.91s/it]\\n\",","      \"Training: 100%|██████████| 231/231 [07:13\u003c00:00,  1.88s/it]\\n\",","      \"Training: 100%|██████████| 231/231 [07:19\u003c00:00,  1.90s/it]\\n\",","      \"Validation: 100%|██████████| 33/33 [00:19\u003c00:00,  1.69it/s]\\n\",","      \"Validation: 100%|██████████| 33/33 [00:19\u003c00:00,  1.73it/s]\\n\",","      \"Validation: 100%|██████████| 33/33 [00:19\u003c00:00,  1.67it/s]\\n\"","     ]","    },","    {","     \"name\": \"stdout\",","     \"output_type\": \"stream\",","     \"text\": [","      \"Epoch 15/27\\n\",","      \"H1: Train Loss: 0.4700, Val Loss: 0.6391, Accuracy: 0.9924\\n\",","      \"Precision H1: 0.9924, Recall H1: 0.9924, F1 H1: 0.9924\\n\",","      \"H2: Train Loss: 0.4505, Val Loss: 0.7553, Accuracy: 0.9506\\n\",","      \"Precision H2: 0.9506, Recall H2: 0.9506, F1 H2: 0.9506\\n\",","      \"H3: Train Loss: 0.4486, Val Loss: 0.5917, Custom Accuracy: 0.7827\\n\",","      \"Precision H3: 0.7783785289488712, Recall H3: 0.7036941934280337, F1 Score H3: 0.7391546215518023\\n\"","     ]","    },","    {","     \"name\": \"stderr\",","     \"output_type\": \"stream\",","     \"text\": [","      \"Training: 100%|██████████| 231/231 [07:21\u003c00:00,  1.91s/it]\\n\",","      \"Training: 100%|██████████| 231/231 [07:19\u003c00:00,  1.90s/it]\\n\",","      \"Training: 100%|██████████| 231/231 [07:20\u003c00:00,  1.91s/it]\\n\",","      \"Validation: 100%|██████████| 33/33 [00:19\u003c00:00,  1.69it/s]\\n\",","      \"Validation: 100%|██████████| 33/33 [00:18\u003c00:00,  1.76it/s]\\n\",","      \"Validation: 100%|██████████| 33/33 [00:19\u003c00:00,  1.69it/s]\\n\"","     ]","    },","    {","     \"name\": \"stdout\",","     \"output_type\": \"stream\",","     \"text\": [","      \"Epoch 16/27\\n\",","      \"H1: Train Loss: 0.4306, Val Loss: 0.5964, Accuracy: 0.9924\\n\",","      \"Precision H1: 0.9924, Recall H1: 0.9924, F1 H1: 0.9924\\n\",","      \"H2: Train Loss: 0.4156, Val Loss: 0.7023, Accuracy: 0.9544\\n\",","      \"Precision H2: 0.9544, Recall H2: 0.9544, F1 H2: 0.9544\\n\",","      \"H3: Train Loss: 0.4156, Val Loss: 0.5455, Custom Accuracy: 0.7985\\n\",","      \"Precision H3: 0.7902998881135762, Recall H3: 0.7293204999478764, F1 Score H3: 0.7585867023579781\\n\"","     ]","    },","    {","     \"name\": \"stderr\",","     \"output_type\": \"stream\",","     \"text\": [","      \"Training: 100%|██████████| 231/231 [07:19\u003c00:00,  1.90s/it]\\n\",","      \"Training: 100%|██████████| 231/231 [07:19\u003c00:00,  1.90s/it]\\n\",","      \"Training: 100%|██████████| 231/231 [07:13\u003c00:00,  1.88s/it]\\n\",","      \"Validation: 100%|██████████| 33/33 [00:19\u003c00:00,  1.73it/s]\\n\",","      \"Validation: 100%|██████████| 33/33 [00:19\u003c00:00,  1.73it/s]\\n\",","      \"Validation: 100%|██████████| 33/33 [00:19\u003c00:00,  1.68it/s]\\n\"","     ]","    },","    {","     \"name\": \"stdout\",","     \"output_type\": \"stream\",","     \"text\": [","      \"Epoch 17/27\\n\",","      \"H1: Train Loss: 0.4007, Val Loss: 0.5873, Accuracy: 0.9924\\n\",","      \"Precision H1: 0.9924, Recall H1: 0.9924, F1 H1: 0.9924\\n\",","      \"H2: Train Loss: 0.3745, Val Loss: 0.6879, Accuracy: 0.9468\\n\",","      \"Precision H2: 0.9468, Recall H2: 0.9468, F1 H2: 0.9468\\n\",","      \"H3: Train Loss: 0.3728, Val Loss: 0.5107, Custom Accuracy: 0.8204\\n\",","      \"Precision H3: 0.820219989136339, Recall H3: 0.7520384452893958, F1 Score H3: 0.784650858814666\\n\"","     ]","    },","    {","     \"name\": \"stderr\",","     \"output_type\": \"stream\",","     \"text\": [","      \"Training: 100%|██████████| 231/231 [07:18\u003c00:00,  1.90s/it]\\n\",","      \"Training: 100%|██████████| 231/231 [07:19\u003c00:00,  1.90s/it]\\n\",","      \"Training: 100%|██████████| 231/231 [07:19\u003c00:00,  1.90s/it]\\n\",","      \"Validation: 100%|██████████| 33/33 [00:19\u003c00:00,  1.69it/s]\\n\",","      \"Validation: 100%|██████████| 33/33 [00:19\u003c00:00,  1.71it/s]\\n\",","      \"Validation: 100%|██████████| 33/33 [00:19\u003c00:00,  1.70it/s]\\n\"","     ]","    },","    {","     \"name\": \"stdout\",","     \"output_type\": \"stream\",","     \"text\": [","      \"Epoch 18/27\\n\",","      \"H1: Train Loss: 0.3721, Val Loss: 0.5099, Accuracy: 0.9924\\n\",","      \"Precision H1: 0.9924, Recall H1: 0.9924, F1 H1: 0.9924\\n\",","      \"H2: Train Loss: 0.3467, Val Loss: 0.6442, Accuracy: 0.9582\\n\",","      \"Precision H2: 0.9582, Recall H2: 0.9582, F1 H2: 0.9582\\n\",","      \"H3: Train Loss: 0.3523, Val Loss: 0.4978, Custom Accuracy: 0.8347\\n\",","      \"Precision H3: 0.8459489918615394, Recall H3: 0.7548687581957543, F1 Score H3: 0.7978178214985627\\n\"","     ]","    },","    {","     \"name\": \"stderr\",","     \"output_type\": \"stream\",","     \"text\": [","      \"Training: 100%|██████████| 231/231 [07:01\u003c00:00,  1.83s/it]\\n\",","      \"Training: 100%|██████████| 231/231 [06:20\u003c00:00,  1.65s/it]\\n\",","      \"Training: 100%|██████████| 231/231 [06:19\u003c00:00,  1.64s/it]\\n\",","      \"Validation: 100%|██████████| 33/33 [00:14\u003c00:00,  2.32it/s]\\n\",","      \"Validation: 100%|██████████| 33/33 [00:14\u003c00:00,  2.31it/s]\\n\",","      \"Validation: 100%|██████████| 33/33 [00:14\u003c00:00,  2.31it/s]\\n\"","     ]","    },","    {","     \"name\": \"stdout\",","     \"output_type\": \"stream\",","     \"text\": [","      \"Epoch 19/27\\n\",","      \"H1: Train Loss: 0.3474, Val Loss: 0.5134, Accuracy: 0.9886\\n\",","      \"Precision H1: 0.9886, Recall H1: 0.9886, F1 H1: 0.9886\\n\",","      \"H2: Train Loss: 0.3408, Val Loss: 0.6373, Accuracy: 0.9506\\n\",","      \"Precision H2: 0.9506, Recall H2: 0.9506, F1 H2: 0.9506\\n\",","      \"H3: Train Loss: 0.3334, Val Loss: 0.4590, Custom Accuracy: 0.8391\\n\",","      \"Precision H3: 0.8289590637499383, Recall H3: 0.7879100620545487, F1 Score H3: 0.8079134877845063\\n\"","     ]","    },","    {","     \"name\": \"stderr\",","     \"output_type\": \"stream\",","     \"text\": [","      \"Training: 100%|██████████| 231/231 [06:19\u003c00:00,  1.64s/it]\\n\",","      \"Training: 100%|██████████| 231/231 [06:19\u003c00:00,  1.64s/it]\\n\",","      \"Training: 100%|██████████| 231/231 [06:19\u003c00:00,  1.64s/it]\\n\",","      \"Validation: 100%|██████████| 33/33 [00:14\u003c00:00,  2.32it/s]\\n\",","      \"Validation: 100%|██████████| 33/33 [00:14\u003c00:00,  2.31it/s]\\n\",","      \"Validation: 100%|██████████| 33/33 [00:14\u003c00:00,  2.31it/s]\\n\"","     ]","    },","    {","     \"name\": \"stdout\",","     \"output_type\": \"stream\",","     \"text\": [","      \"Epoch 20/27\\n\",","      \"H1: Train Loss: 0.3161, Val Loss: 0.4289, Accuracy: 0.9924\\n\",","      \"Precision H1: 0.9924, Recall H1: 0.9924, F1 H1: 0.9924\\n\",","      \"H2: Train Loss: 0.2914, Val Loss: 0.5731, Accuracy: 0.9468\\n\",","      \"Precision H2: 0.9468, Recall H2: 0.9468, F1 H2: 0.9468\\n\",","      \"H3: Train Loss: 0.2852, Val Loss: 0.4295, Custom Accuracy: 0.8739\\n\",","      \"Precision H3: 0.8860249699603312, Recall H3: 0.8066294394241161, F1 Score H3: 0.8444651440630195\\n\"","     ]","    },","    {","     \"name\": \"stderr\",","     \"output_type\": \"stream\",","     \"text\": [","      \"Training: 100%|██████████| 231/231 [06:19\u003c00:00,  1.64s/it]\\n\",","      \"Training: 100%|██████████| 231/231 [06:19\u003c00:00,  1.64s/it]\\n\",","      \"Training: 100%|██████████| 231/231 [06:20\u003c00:00,  1.65s/it]\\n\",","      \"Validation: 100%|██████████| 33/33 [00:14\u003c00:00,  2.33it/s]\\n\",","      \"Validation: 100%|██████████| 33/33 [00:14\u003c00:00,  2.31it/s]\\n\",","      \"Validation: 100%|██████████| 33/33 [00:14\u003c00:00,  2.31it/s]\\n\"","     ]","    },","    {","     \"name\": \"stdout\",","     \"output_type\": \"stream\",","     \"text\": [","      \"Epoch 21/27\\n\",","      \"H1: Train Loss: 0.2796, Val Loss: 0.4305, Accuracy: 0.9924\\n\",","      \"Precision H1: 0.9924, Recall H1: 0.9924, F1 H1: 0.9924\\n\",","      \"H2: Train Loss: 0.2596, Val Loss: 0.5902, Accuracy: 0.9506\\n\",","      \"Precision H2: 0.9506, Recall H2: 0.9506, F1 H2: 0.9506\\n\",","      \"H3: Train Loss: 0.2537, Val Loss: 0.3821, Custom Accuracy: 0.8906\\n\",","      \"Precision H3: 0.8800078459774276, Recall H3: 0.8673317915713352, F1 Score H3: 0.8736238396321891\\n\"","     ]","    },","    {","     \"name\": \"stderr\",","     \"output_type\": \"stream\",","     \"text\": [","      \"Training: 100%|██████████| 231/231 [06:19\u003c00:00,  1.64s/it]\\n\",","      \"Training: 100%|██████████| 231/231 [06:19\u003c00:00,  1.64s/it]\\n\",","      \"Training: 100%|██████████| 231/231 [06:19\u003c00:00,  1.64s/it]\\n\",","      \"Validation: 100%|██████████| 33/33 [00:14\u003c00:00,  2.33it/s]\\n\",","      \"Validation: 100%|██████████| 33/33 [00:14\u003c00:00,  2.31it/s]\\n\",","      \"Validation: 100%|██████████| 33/33 [00:14\u003c00:00,  2.31it/s]\\n\"","     ]","    },","    {","     \"name\": \"stdout\",","     \"output_type\": \"stream\",","     \"text\": [","      \"Epoch 22/27\\n\",","      \"H1: Train Loss: 0.2411, Val Loss: 0.4150, Accuracy: 0.9924\\n\",","      \"Precision H1: 0.9924, Recall H1: 0.9924, F1 H1: 0.9924\\n\",","      \"H2: Train Loss: 0.2350, Val Loss: 0.5889, Accuracy: 0.9506\\n\",","      \"Precision H2: 0.9506, Recall H2: 0.9506, F1 H2: 0.9506\\n\",","      \"H3: Train Loss: 0.2876, Val Loss: 0.4215, Custom Accuracy: 0.8886\\n\",","      \"Precision H3: 0.9124539803247028, Recall H3: 0.8217975518355747, F1 Score H3: 0.8647562747249352\\n\"","     ]","    },","    {","     \"name\": \"stderr\",","     \"output_type\": \"stream\",","     \"text\": [","      \"Training: 100%|██████████| 231/231 [06:20\u003c00:00,  1.65s/it]\\n\",","      \"Training: 100%|██████████| 231/231 [07:14\u003c00:00,  1.88s/it]\\n\",","      \"Training: 100%|██████████| 231/231 [08:52\u003c00:00,  2.30s/it]\\n\",","      \"Validation: 100%|██████████| 33/33 [00:20\u003c00:00,  1.63it/s]\\n\",","      \"Validation: 100%|██████████| 33/33 [00:20\u003c00:00,  1.64it/s]\\n\",","      \"Validation: 100%|██████████| 33/33 [00:20\u003c00:00,  1.63it/s]\\n\"","     ]","    },","    {","     \"name\": \"stdout\",","     \"output_type\": \"stream\",","     \"text\": [","      \"Epoch 23/27\\n\",","      \"H1: Train Loss: 0.2320, Val Loss: 0.3759, Accuracy: 0.9924\\n\",","      \"Precision H1: 0.9924, Recall H1: 0.9924, F1 H1: 0.9924\\n\",","      \"H2: Train Loss: 0.2061, Val Loss: 0.5336, Accuracy: 0.9544\\n\",","      \"Precision H2: 0.9544, Recall H2: 0.9544, F1 H2: 0.9544\\n\",","      \"H3: Train Loss: 0.1972, Val Loss: 0.3354, Custom Accuracy: 0.9172\\n\",","      \"Precision H3: 0.927110869696421, Recall H3: 0.8772252673393358, F1 Score H3: 0.9014784593947642\\n\"","     ]","    },","    {","     \"name\": \"stderr\",","     \"output_type\": \"stream\",","     \"text\": [","      \"Training: 100%|██████████| 231/231 [08:01\u003c00:00,  2.09s/it]\\n\",","      \"Training: 100%|██████████| 231/231 [06:30\u003c00:00,  1.69s/it]\\n\",","      \"Training: 100%|██████████| 231/231 [07:22\u003c00:00,  1.92s/it]\\n\",","      \"Validation: 100%|██████████| 33/33 [00:19\u003c00:00,  1.71it/s]\\n\",","      \"Validation: 100%|██████████| 33/33 [00:19\u003c00:00,  1.72it/s]\\n\",","      \"Validation: 100%|██████████| 33/33 [00:19\u003c00:00,  1.66it/s]\\n\"","     ]","    },","    {","     \"name\": \"stdout\",","     \"output_type\": \"stream\",","     \"text\": [","      \"Epoch 24/27\\n\",","      \"H1: Train Loss: 0.1876, Val Loss: 0.3562, Accuracy: 0.9924\\n\",","      \"Precision H1: 0.9924, Recall H1: 0.9924, F1 H1: 0.9924\\n\",","      \"H2: Train Loss: 0.1713, Val Loss: 0.5203, Accuracy: 0.9506\\n\",","      \"Precision H2: 0.9506, Recall H2: 0.9506, F1 H2: 0.9506\\n\",","      \"H3: Train Loss: 0.1695, Val Loss: 0.3065, Custom Accuracy: 0.9292\\n\",","      \"Precision H3: 0.9293273583197538, Recall H3: 0.9040587844770355, F1 Score H3: 0.9165189398259069\\n\"","     ]","    },","    {","     \"name\": \"stderr\",","     \"output_type\": \"stream\",","     \"text\": [","      \"Training: 100%|██████████| 231/231 [07:22\u003c00:00,  1.92s/it]\\n\",","      \"Training: 100%|██████████| 231/231 [07:23\u003c00:00,  1.92s/it]\\n\",","      \"Training: 100%|██████████| 231/231 [07:21\u003c00:00,  1.91s/it]\\n\",","      \"Validation: 100%|██████████| 33/33 [00:19\u003c00:00,  1.67it/s]\\n\",","      \"Validation: 100%|██████████| 33/33 [00:19\u003c00:00,  1.71it/s]\\n\",","      \"Validation: 100%|██████████| 33/33 [00:19\u003c00:00,  1.67it/s]\\n\"","     ]","    },","    {","     \"name\": \"stdout\",","     \"output_type\": \"stream\",","     \"text\": [","      \"Epoch 25/27\\n\",","      \"H1: Train Loss: 0.1652, Val Loss: 0.3181, Accuracy: 0.9924\\n\",","      \"Precision H1: 0.9924, Recall H1: 0.9924, F1 H1: 0.9924\\n\",","      \"H2: Train Loss: 0.1514, Val Loss: 0.4644, Accuracy: 0.9582\\n\",","      \"Precision H2: 0.9582, Recall H2: 0.9582, F1 H2: 0.9582\\n\",","      \"H3: Train Loss: 0.1473, Val Loss: 0.2783, Custom Accuracy: 0.9430\\n\",","      \"Precision H3: 0.9440114068441064, Recall H3: 0.9148983040618021, F1 Score H3: 0.9292268796807475\\n\"","     ]","    },","    {","     \"name\": \"stderr\",","     \"output_type\": \"stream\",","     \"text\": [","      \"Training: 100%|██████████| 231/231 [07:23\u003c00:00,  1.92s/it]\\n\",","      \"Training: 100%|██████████| 231/231 [07:22\u003c00:00,  1.92s/it]\\n\",","      \"Training: 100%|██████████| 231/231 [07:22\u003c00:00,  1.91s/it]\\n\",","      \"Validation: 100%|██████████| 33/33 [00:19\u003c00:00,  1.68it/s]\\n\",","      \"Validation: 100%|██████████| 33/33 [00:19\u003c00:00,  1.70it/s]\\n\",","      \"Validation: 100%|██████████| 33/33 [00:19\u003c00:00,  1.67it/s]\\n\"","     ]","    },","    {","     \"name\": \"stdout\",","     \"output_type\": \"stream\",","     \"text\": [","      \"Epoch 26/27\\n\",","      \"H1: Train Loss: 0.1400, Val Loss: 0.3181, Accuracy: 0.9924\\n\",","      \"Precision H1: 0.9924, Recall H1: 0.9924, F1 H1: 0.9924\\n\",","      \"H2: Train Loss: 0.1265, Val Loss: 0.4555, Accuracy: 0.9544\\n\",","      \"Precision H2: 0.9544, Recall H2: 0.9544, F1 H2: 0.9544\\n\",","      \"H3: Train Loss: 0.1277, Val Loss: 0.2521, Custom Accuracy: 0.9517\\n\",","      \"Precision H3: 0.9502836622608485, Recall H3: 0.9341994085340092, F1 Score H3: 0.9421728950307524\\n\"","     ]","    },","    {","     \"name\": \"stderr\",","     \"output_type\": \"stream\",","     \"text\": [","      \"Training: 100%|██████████| 231/231 [07:21\u003c00:00,  1.91s/it]\\n\",","      \"Training: 100%|██████████| 231/231 [07:20\u003c00:00,  1.91s/it]\\n\",","      \"Training: 100%|██████████| 231/231 [07:21\u003c00:00,  1.91s/it]\\n\",","      \"Validation: 100%|██████████| 33/33 [00:19\u003c00:00,  1.72it/s]\\n\",","      \"Validation: 100%|██████████| 33/33 [00:19\u003c00:00,  1.69it/s]\\n\",","      \"Validation: 100%|██████████| 33/33 [00:19\u003c00:00,  1.69it/s]\\n\"","     ]","    },","    {","     \"name\": \"stdout\",","     \"output_type\": \"stream\",","     \"text\": [","      \"Epoch 27/27\\n\",","      \"H1: Train Loss: 0.1222, Val Loss: 0.3216, Accuracy: 0.9924\\n\",","      \"Precision H1: 0.9924, Recall H1: 0.9924, F1 H1: 0.9924\\n\",","      \"H2: Train Loss: 0.1078, Val Loss: 0.4787, Accuracy: 0.9582\\n\",","      \"Precision H2: 0.9582, Recall H2: 0.9582, F1 H2: 0.9582\\n\",","      \"H3: Train Loss: 0.1074, Val Loss: 0.2564, Custom Accuracy: 0.9629\\n\",","      \"Precision H3: 0.9603129337920212, Recall H3: 0.9481018769992154, F1 Score H3: 0.9541683389654182\\n\"","     ]","    },","    {","     \"data\": {","      \"image/png\": \"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\",","      \"text/plain\": [","       \"\u003cFigure size 864x576 with 3 Axes\u003e\"","      ]","     },","     \"metadata\": {","      \"needs_background\": \"light\"","     },","     \"output_type\": \"display_data\"","    }","   ],","   \"source\": [","    \"!export CUDA_VISIBLE_DEVICES=0\\n\",","    \"import os\\n\",","    \"os.environ[\\\"CUDA_VISIBLE_DEVICES\\\"] = \\\"0\\\"\\n\",","    \"\\n\",","    \"# Now import your GPU-related libraries, such as PyTorch\\n\",","    \"import torch\\n\",","    \"torch.cuda.empty_cache()\\n\",","    \"\\n\",","    \"torch.cuda.memory_summary(device=None, abbreviated=False)\\n\",","    \"# Import libraries and set up CUDA\\n\",","    \"import os\\n\",","    \"os.environ[\\\"CUDA_VISIBLE_DEVICES\\\"] = \\\"0\\\"\\n\",","    \"\\n\",","    \"import torch\\n\",","    \"torch.cuda.empty_cache()\\n\",","    \"\\n\",","    \"import os\\n\",","    \"import torch\\n\",","    \"import pandas as pd\\n\",","    \"import numpy as np\\n\",","    \"import torch.nn as nn\\n\",","    \"from torch.utils.data import DataLoader, Dataset, random_split\\n\",","    \"from transformers import AutoTokenizer, AutoModel, AdamW\\n\",","    \"from sklearn.metrics import accuracy_score, precision_score, recall_score, f1_score\\n\",","    \"from tqdm import tqdm\\n\",","    \"import random\\n\",","    \"import matplotlib.pyplot as plt\\n\",","    \"\\n\",","    \"random_seed = 777  # You can change this value to any seed you prefer\\n\",","    \"random.seed(random_seed)\\n\",","    \"np.random.seed(random_seed)\\n\",","    \"torch.manual_seed(random_seed)\\n\",","    \"torch.cuda.manual_seed_all(random_seed)\\n\",","    \"\\n\",","    \"\\n\",","    \"# Load and preprocess your data for H1, H2, and H3\\n\",","    \"model1_data = pd.read_csv(\\\"model1_2636.csv\\\")\\n\",","    \"texts_h1 = model1_data['text'].tolist()\\n\",","    \"labels_h1 = model1_data.iloc[:, 1].values.tolist()\\n\",","    \"\\n\",","    \"model2_data = pd.read_csv(\\\"model2_2636.csv\\\")\\n\",","    \"texts_h2 = model2_data['text'].tolist()\\n\",","    \"labels_h2 = model2_data.iloc[:, 1].values.tolist()\\n\",","    \"\\n\",","    \"model3_data = pd.read_csv(\\\"model3_2636.csv\\\")\\n\",","    \"texts_h3 = model3_data['text'].tolist()\\n\",","    \"labels_h3 = model3_data.iloc[:, 1:].values.tolist()\\n\",","    \"\\n\",","    \"#print(\\\"Total Records in H1:\\\", len(texts_h1),\\\"texts_h1\\\", \\\"with\\\", len(labels_h1), \\\"labels\\\")\\n\",","    \"#print(\\\"Total Records in H2:\\\", len(texts_h2),\\\"texts_h2\\\",\\\"with\\\", len(labels_h2), \\\"labels\\\")\\n\",","    \"#print(\\\"Total Records in H3:\\\", len(texts_h3),\\\"texts_h3\\\", \\\"with\\\", len(labels_h3), \\\"labels\\\")\\n\",","    \"\\n\",","    \"# Split the data for each hierarchy\\n\",","    \"def split_data(texts, labels, train_ratio, val_ratio, test_ratio):\\n\",","    \"    total_samples = len(texts)\\n\",","    \"    train_size = int(total_samples * train_ratio)\\n\",","    \"    val_size = int(total_samples * val_ratio)\\n\",","    \"    test_size = total_samples - train_size - val_size  # Remaining samples for test\\n\",","    \"\\n\",","    \"    train_texts = texts[:train_size]\\n\",","    \"    val_texts = texts[train_size:train_size + val_size]\\n\",","    \"    test_texts = texts[train_size + val_size:]\\n\",","    \"\\n\",","    \"    train_labels = labels[:train_size]\\n\",","    \"    val_labels = labels[train_size:train_size + val_size]\\n\",","    \"    test_labels = labels[train_size + val_size:]\\n\",","    \"\\n\",","    \"    return train_texts, val_texts, test_texts, train_labels, val_labels, test_labels\\n\",","    \"\\n\",","    \"# Split the data for each hierarchy\\n\",","    \"train_texts_h1, val_texts_h1, test_texts_h1, train_labels_h1, val_labels_h1, test_labels_h1 = split_data(texts_h1, labels_h1, 0.7, 0.1, 0.2)\\n\",","    \"train_texts_h2, val_texts_h2, test_texts_h2, train_labels_h2, val_labels_h2, test_labels_h2 = split_data(texts_h2, labels_h2, 0.7, 0.1, 0.2)\\n\",","    \"train_texts_h3, val_texts_h3, test_texts_h3, train_labels_h3, val_labels_h3, test_labels_h3 = split_data(texts_h3, labels_h3, 0.7, 0.1, 0.2)\\n\",","    \"\\n\",","    \"#print(\\\"Train Val Test Splitting:\\\")\\n\",","    \"#print(\\\"H1:\\\", len(train_texts_h1), len(val_texts_h1), len(test_texts_h1))\\n\",","    \"#print(\\\"H2:\\\", len(train_texts_h2), len(val_texts_h2), len(test_texts_h2))\\n\",","    \"#print(\\\"H3:\\\", len(train_texts_h3), len(val_texts_h3), len(test_texts_h3))\\n\",","    \"\\n\",","    \"# Tokenizer\\n\",","    \"\\n\",","    \"# Initialize the Clinical-Longformer tokenizer and model\\n\",","    \"tokenizer = AutoTokenizer.from_pretrained(\\\"yikuan8/Clinical-Longformer\\\")\\n\",","    \"clinical_longformer_model = AutoModel.from_pretrained(\\\"yikuan8/Clinical-Longformer\\\")\\n\",","    \"\\n\",","    \"\\n\",","    \"# Define the TextDataset class\\n\",","    \"class TextDataset(Dataset):\\n\",","    \"    def __init__(self, texts, labels_h1, labels_h2, labels_h3, tokenizer, max_length=512):\\n\",","    \"        self.texts = texts\\n\",","    \"        self.labels_h1 = labels_h1  # Now expecting a list of binary values for H1\\n\",","    \"        self.labels_h2 = np.array(labels_h2).reshape(-1, 1)  # Reshape labels_h2 to [batch_size, 1]\\n\",","    \"        self.labels_h3 = labels_h3  # Multi-label but binary values for H3\\n\",","    \"        self.tokenizer = tokenizer\\n\",","    \"        self.max_length = max_length\\n\",","    \"\\n\",","    \"    # Rest of the code remains unchanged\\n\",","    \"\\n\",","    \"    def __len__(self):\\n\",","    \"        return len(self.texts)\\n\",","    \"\\n\",","    \"    def __getitem__(self, idx):\\n\",","    \"        text = self.texts[idx]\\n\",","    \"        inputs = self.tokenizer.encode_plus(\\n\",","    \"            text, None, add_special_tokens=True, max_length=self.max_length,\\n\",","    \"            padding='max_length', return_token_type_ids=True, truncation=True\\n\",","    \"        )\\n\",","    \"        return {\\n\",","    \"            'ids': torch.tensor(inputs['input_ids'], dtype=torch.long),\\n\",","    \"            'mask': torch.tensor(inputs['attention_mask'], dtype=torch.long),\\n\",","    \"            'labels_h1': torch.tensor(self.labels_h1[idx], dtype=torch.float).unsqueeze(-1),\\n\",","    \"            'labels_h2': torch.tensor(self.labels_h2[idx], dtype=torch.float),\\n\",","    \"            'labels_h3': torch.tensor(self.labels_h3[idx], dtype=torch.float)\\n\",","    \"        }\\n\",","    \"\\n\",","    \"# Create datasets and dataloaders for H1, H2, and H3\\n\",","    \"dataset_h1 = TextDataset(train_texts_h1 + val_texts_h1 + test_texts_h1, train_labels_h1 + val_labels_h1 + test_labels_h1, train_labels_h2 + val_labels_h2 + test_labels_h2, train_labels_h3 + val_labels_h3 + test_labels_h3, tokenizer)\\n\",","    \"dataset_h2 = TextDataset(train_texts_h2 + val_texts_h2 + test_texts_h2, train_labels_h1 + val_labels_h1 + test_labels_h1, train_labels_h2 + val_labels_h2 + test_labels_h2, train_labels_h3 + val_labels_h3 + test_labels_h3, tokenizer)\\n\",","    \"dataset_h3 = TextDataset(train_texts_h3 + val_texts_h3 + test_texts_h3, train_labels_h1 + val_labels_h1 + test_labels_h1, train_labels_h2 + val_labels_h2 + test_labels_h2, train_labels_h3 + val_labels_h3 + test_labels_h3, tokenizer)\\n\",","    \"\\n\",","    \"# Split the datasets into train, val, and test for H1, H2, and H3\\n\",","    \"train_size_h1 = len(train_texts_h1)\\n\",","    \"val_size_h1 = len(val_texts_h1)\\n\",","    \"train_size_h2 = len(train_texts_h2)\\n\",","    \"val_size_h2 = len(val_texts_h2)\\n\",","    \"train_size_h3 = len(train_texts_h3)\\n\",","    \"val_size_h3 = len(val_texts_h3)\\n\",","    \"\\n\",","    \"train_dataset_h1, val_dataset_h1, test_dataset_h1 = random_split(dataset_h1, [train_size_h1, val_size_h1, len(test_texts_h1)])\\n\",","    \"train_dataset_h2, val_dataset_h2, test_dataset_h2 = random_split(dataset_h2, [train_size_h2, val_size_h2, len(test_texts_h2)])\\n\",","    \"train_dataset_h3, val_dataset_h3, test_dataset_h3 = random_split(dataset_h3, [train_size_h3, val_size_h3, len(test_texts_h3)])\\n\",","    \"\\n\",","    \"# Create dataloaders for H1, H2, and H3\\n\",","    \"train_dataloader_h1 = DataLoader(train_dataset_h1, batch_size=8, shuffle=True)\\n\",","    \"val_dataloader_h1 = DataLoader(val_dataset_h1,batch_size=8, shuffle=False)  # You can set shuffle to True if you want to shuffle the validation data.\\n\",","    \"train_dataloader_h2 = DataLoader(train_dataset_h2, batch_size=8, shuffle=True)\\n\",","    \"val_dataloader_h2 = DataLoader(val_dataset_h2, batch_size=8, shuffle=False)\\n\",","    \"\\n\",","    \"train_dataloader_h3 = DataLoader(train_dataset_h3, batch_size=8, shuffle=True)\\n\",","    \"val_dataloader_h3 = DataLoader(val_dataset_h3, batch_size=8, shuffle=False)\\n\",","    \"\\n\",","    \"# Define the model architecture for H1, H2, and H3\\n\",","    \"class HierarchicalClassifier(nn.Module):\\n\",","    \"    def __init__(self, num_labels_h3):\\n\",","    \"        super(HierarchicalClassifier, self).__init__()\\n\",","    \"        self.longformer = clinical_longformer_model\\n\",","    \"        self.dropout = nn.Dropout(0.1)\\n\",","    \"        self.fc_h1 = nn.Linear(self.longformer.config.hidden_size, 1)\\n\",","    \"        self.fc_h2 = nn.Linear(self.longformer.config.hidden_size, 1)\\n\",","    \"        self.fc_h3 = nn.Linear(self.longformer.config.hidden_size, num_labels_h3)\\n\",","    \"\\n\",","    \"    def forward(self, input_ids, attention_mask):\\n\",","    \"        outputs = self.longformer(input_ids, attention_mask=attention_mask)\\n\",","    \"        pooled_output = outputs.last_hidden_state[:, 0, :]  # Assuming using the [CLS] token's representation\\n\",","    \"        logits_h1 = self.fc_h1(self.dropout(pooled_output))\\n\",","    \"        logits_h2 = self.fc_h2(self.dropout(pooled_output))\\n\",","    \"        logits_h3 = self.fc_h3(self.dropout(pooled_output))\\n\",","    \"        return logits_h1, logits_h2, logits_h3\\n\",","    \"\\n\",","    \"# Initialize and move the model to the appropriate device (CPU/GPU)\\n\",","    \"model = HierarchicalClassifier(num_labels_h3=len(train_labels_h3[0]))\\n\",","    \"\\n\",","    \"device = torch.device(\\\"cuda\\\" if torch.cuda.is_available() else \\\"cpu\\\")\\n\",","    \"model.to(device)\\n\",","    \"\\n\",","    \"# Define loss function and optimizer\\n\",","    \"criterion = nn.BCEWithLogitsLoss()\\n\",","    \"optimizer = AdamW(model.parameters(), lr=1e-5)  # You can adjust the learning rate as needed\\n\",","    \"\\n\",","    \"# Training loop for H1, H2, and H3\\n\",","    \"def train(model, dataloader, optimizer, criterion, device):\\n\",","    \"    model.train()\\n\",","    \"    total_loss = 0.0\\n\",","    \"\\n\",","    \"    for batch in tqdm(dataloader, total=len(dataloader), desc=\\\"Training\\\"):\\n\",","    \"        input_ids = batch['ids'].to(device)\\n\",","    \"        attention_mask = batch['mask'].to(device)\\n\",","    \"        labels_h1 = batch['labels_h1'].to(device)\\n\",","    \"        labels_h2 = batch['labels_h2'].to(device)\\n\",","    \"        labels_h3 = batch['labels_h3'].to(device)\\n\",","    \"\\n\",","    \"        optimizer.zero_grad()\\n\",","    \"\\n\",","    \"        logits_h1, logits_h2, logits_h3 = model(input_ids, attention_mask)\\n\",","    \"        loss_h1 = criterion(logits_h1, labels_h1)\\n\",","    \"        loss_h2 = criterion(logits_h2, labels_h2)\\n\",","    \"        loss_h3 = criterion(logits_h3, labels_h3)\\n\",","    \"\\n\",","    \"        loss = loss_h1 + loss_h2 + loss_h3\\n\",","    \"        total_loss += loss.item()\\n\",","    \"\\n\",","    \"        loss.backward()\\n\",","    \"        optimizer.step()\\n\",","    \"\\n\",","    \"    return total_loss / len(dataloader)\\n\",","    \"\\n\",","    \"# Validation loop for H1, H2, and H3\\n\",","    \"def evaluate(model, dataloader, criterion, device):\\n\",","    \"    model.eval()\\n\",","    \"    total_loss = 0.0\\n\",","    \"    all_preds_h1, all_preds_h2, all_preds_h3 = [], [], []\\n\",","    \"    all_labels_h1, all_labels_h2, all_labels_h3 = [], [], []\\n\",","    \"\\n\",","    \"    with torch.no_grad():\\n\",","    \"        for batch in tqdm(dataloader, total=len(dataloader), desc=\\\"Validation\\\"):\\n\",","    \"            input_ids = batch['ids'].to(device)\\n\",","    \"            attention_mask = batch['mask'].to(device)\\n\",","    \"            labels_h1 = batch['labels_h1'].to(device)\\n\",","    \"            labels_h2 = batch['labels_h2'].to(device)\\n\",","    \"            labels_h3 = batch['labels_h3'].to(device)\\n\",","    \"\\n\",","    \"            logits_h1, logits_h2, logits_h3 = model(input_ids, attention_mask)\\n\",","    \"            loss_h1 = criterion(logits_h1, labels_h1)\\n\",","    \"            loss_h2 = criterion(logits_h2, labels_h2)\\n\",","    \"            loss_h3 = criterion(logits_h3, labels_h3)\\n\",","    \"\\n\",","    \"            loss = loss_h1 + loss_h2 + loss_h3\\n\",","    \"            total_loss += loss.item()\\n\",","    \"\\n\",","    \"            preds_h1 = torch.sigmoid(logits_h1)\\n\",","    \"            preds_h2 = torch.sigmoid(logits_h2)\\n\",","    \"            preds_h3 = torch.sigmoid(logits_h3)\\n\",","    \"\\n\",","    \"            all_preds_h1.extend(preds_h1.cpu().numpy())\\n\",","    \"            all_preds_h2.extend(preds_h2.cpu().numpy())\\n\",","    \"            all_preds_h3.extend(preds_h3.cpu().numpy())\\n\",","    \"\\n\",","    \"            all_labels_h1.extend(labels_h1.cpu().numpy())\\n\",","    \"            all_labels_h2.extend(labels_h2.cpu().numpy())\\n\",","    \"            all_labels_h3.extend(labels_h3.cpu().numpy())\\n\",","    \"\\n\",","    \"    return total_loss / len(dataloader), all_preds_h1, all_preds_h2, all_preds_h3, all_labels_h1, all_labels_h2, all_labels_h3\\n\",","    \"\\n\",","    \"# Training and evaluation for H1, H2, and H3\\n\",","    \"# Custom accuracy function\\n\",","    \"def custom_accuracy(y_true, y_pred):\\n\",","    \"    correct_labels = np.sum(np.equal(y_true, y_pred), axis=1)\\n\",","    \"    total_labels = y_true.shape[1]\\n\",","    \"    sample_accuracy = np.mean(correct_labels / total_labels)\\n\",","    \"    return sample_accuracy\\n\",","    \"\\n\",","    \"def custom_precision_recall_f1(y_true, y_pred):\\n\",","    \"    # Calculate precision and recall for each sample\\n\",","    \"    sample_precisions = []\\n\",","    \"    sample_recalls = []\\n\",","    \"    for true, pred in zip(y_true, y_pred):\\n\",","    \"        true_positive = np.sum((true == 1) \u0026 (pred == 1))\\n\",","    \"        false_positive = np.sum((true == 0) \u0026 (pred == 1))\\n\",","    \"        false_negative = np.sum((true == 1) \u0026 (pred == 0))\\n\",","    \"        \\n\",","    \"        sample_precision = true_positive / (true_positive + false_positive) if (true_positive + false_positive) \u003e 0 else 0\\n\",","    \"        sample_recall = true_positive / (true_positive + false_negative) if (true_positive + false_negative) \u003e 0 else 0\\n\",","    \"        \\n\",","    \"        sample_precisions.append(sample_precision)\\n\",","    \"        sample_recalls.append(sample_recall)\\n\",","    \"    \\n\",","    \"    # Calculate average precision and recall across all samples\\n\",","    \"    avg_precision = np.mean(sample_precisions)\\n\",","    \"    avg_recall = np.mean(sample_recalls)\\n\",","    \"    \\n\",","    \"    # Calculate F1 score\\n\",","    \"    if avg_precision + avg_recall \u003e 0:\\n\",","    \"        avg_f1 = 2 * (avg_precision * avg_recall) / (avg_precision + avg_recall)\\n\",","    \"    else:\\n\",","    \"        avg_f1 = 0\\n\",","    \"    \\n\",","    \"    return avg_precision, avg_recall, avg_f1\\n\",","    \"\\n\",","    \"\\n\",","    \"# Training and evaluation for H1, H2, and H3\\n\",","    \"num_epochs = 27 # Adjusted to 27 epochs\\n\",","    \"\\n\",","    \"# Initialize lists to store training and validation accuracies\\n\",","    \"train_accuracies_h1, val_accuracies_h1 = [], []\\n\",","    \"train_accuracies_h2, val_accuracies_h2 = [], []\\n\",","    \"train_accuracies_h3, val_accuracies_h3 = [], []\\n\",","    \"\\n\",","    \"for epoch in range(num_epochs):\\n\",","    \"    # Training for H1\\n\",","    \"    train_loss_h1 = train(model, train_dataloader_h1, optimizer, criterion, device)\\n\",","    \"    # Training for H2\\n\",","    \"    train_loss_h2 = train(model, train_dataloader_h2, optimizer, criterion, device)\\n\",","    \"    # Training for H3\\n\",","    \"    train_loss_h3 = train(model, train_dataloader_h3, optimizer, criterion, device)\\n\",","    \"\\n\",","    \"    # Validation for H1\\n\",","    \"    val_loss_h1, val_preds_h1, _, _, val_labels_h1, _, _ = evaluate(model, val_dataloader_h1, criterion, device)\\n\",","    \"    # Validation for H2\\n\",","    \"    val_loss_h2, _, val_preds_h2, _, _, val_labels_h2, _ = evaluate(model, val_dataloader_h2, criterion, device)\\n\",","    \"    # Validation for H3\\n\",","    \"    val_loss_h3, _, _, val_preds_h3, _, _, val_labels_h3 = evaluate(model, val_dataloader_h3, criterion, device)\\n\",","    \"\\n\",","    \"    # Metrics calculation for H1\\n\",","    \"    threshold_h1 = 0.5\\n\",","    \"    val_preds_h1_binary = (np.array(val_preds_h1) \u003e threshold_h1).astype(int)\\n\",","    \"\\n\",","    \"    acc_h1 = accuracy_score(val_labels_h1, val_preds_h1_binary)\\n\",","    \"    precision_h1 = precision_score(val_labels_h1, val_preds_h1_binary, average='micro')\\n\",","    \"    recall_h1 = recall_score(val_labels_h1, val_preds_h1_binary, average='micro')\\n\",","    \"    f1_h1 = f1_score(val_labels_h1, val_preds_h1_binary, average='micro')\\n\",","    \"\\n\",","    \"    # Store accuracies\\n\",","    \"    train_accuracies_h1.append(acc_h1)\\n\",","    \"    val_accuracies_h1.append(acc_h1)\\n\",","    \"\\n\",","    \"    # Metrics calculation for H2\\n\",","    \"    threshold_h2 = 0.5\\n\",","    \"    val_preds_h2_binary = (np.array(val_preds_h2) \u003e threshold_h2).astype(int)\\n\",","    \"\\n\",","    \"    acc_h2 = accuracy_score(val_labels_h2, val_preds_h2_binary)\\n\",","    \"    precision_h2 = precision_score(val_labels_h2, val_preds_h2_binary, average='micro')\\n\",","    \"    recall_h2 = recall_score(val_labels_h2, val_preds_h2_binary, average='micro')\\n\",","    \"    f1_h2 = f1_score(val_labels_h2, val_preds_h2_binary, average='micro')\\n\",","    \"\\n\",","    \"    # Store accuracies\\n\",","    \"    train_accuracies_h2.append(acc_h2)\\n\",","    \"    val_accuracies_h2.append(acc_h2)\\n\",","    \"\\n\",","    \"    # Metrics calculation for H3\\n\",","    \"    threshold_h3 = 0.5\\n\",","    \"    val_preds_h3_binary = (np.array(val_preds_h3) \u003e threshold_h3).astype(int)\\n\",","    \"\\n\",","    \"    # Custom accuracy calculation for H3\\n\",","    \"    acc_h3_custom = custom_accuracy(np.array(val_labels_h3), val_preds_h3_binary)\\n\",","    \"    precision_h3, recall_h3, f1_score_h3 = custom_precision_recall_f1(np.array(val_labels_h3), val_preds_h3_binary)\\n\",","    \"\\n\",","    \"    # Store accuracies\\n\",","    \"    train_accuracies_h3.append(acc_h3_custom)\\n\",","    \"    val_accuracies_h3.append(acc_h3_custom)\\n\",","    \"\\n\",","    \"    print(f\\\"Epoch {epoch+1}/{num_epochs}\\\")\\n\",","    \"    print(f\\\"H1: Train Loss: {train_loss_h1:.4f}, Val Loss: {val_loss_h1:.4f}, Accuracy: {acc_h1:.4f}\\\")\\n\",","    \"    print(f\\\"Precision H1: {precision_h1:.4f}, Recall H1: {recall_h1:.4f}, F1 H1: {f1_h1:.4f}\\\")\\n\",","    \"\\n\",","    \"    print(f\\\"H2: Train Loss: {train_loss_h2:.4f}, Val Loss: {val_loss_h2:.4f}, Accuracy: {acc_h2:.4f}\\\")\\n\",","    \"    print(f\\\"Precision H2: {precision_h2:.4f}, Recall H2: {recall_h2:.4f}, F1 H2: {f1_h2:.4f}\\\")\\n\",","    \"\\n\",","    \"    print(f\\\"H3: Train Loss: {train_loss_h3:.4f}, Val Loss: {val_loss_h3:.4f}, Custom Accuracy: {acc_h3_custom:.4f}\\\")\\n\",","    \"    print(f\\\"Precision H3: {precision_h3}, Recall H3: {recall_h3}, F1 Score H3: {f1_score_h3}\\\")\\n\",","    \"\\n\",","    \"# Plot learning curves\\n\",","    \"plt.figure(figsize=(12, 8))\\n\",","    \"\\n\",","    \"plt.subplot(3, 1, 1)\\n\",","    \"plt.plot(range(1, num_epochs + 1), train_accuracies_h1, label='Training Accuracy H1')\\n\",","    \"plt.plot(range(1, num_epochs + 1), val_accuracies_h1, label='Validation Accuracy H1')\\n\",","    \"plt.xlabel('Epochs')\\n\",","    \"plt.ylabel('Accuracy')\\n\",","    \"plt.title('Training and Validation Accuracy for H1')\\n\",","    \"plt.legend()\\n\",","    \"\\n\",","    \"plt.subplot(3, 1, 2)\\n\",","    \"plt.plot(range(1, num_epochs + 1), train_accuracies_h2, label='Training Accuracy H2')\\n\",","    \"plt.plot(range(1, num_epochs + 1), val_accuracies_h2, label='Validation Accuracy H2')\\n\",","    \"plt.xlabel('Epochs')\\n\",","    \"plt.ylabel('Accuracy')\\n\",","    \"plt.title('Training and Validation Accuracy for H2')\\n\",","    \"plt.legend()\\n\",","    \"\\n\",","    \"plt.subplot(3, 1, 3)\\n\",","    \"plt.plot(range(1, num_epochs + 1), train_accuracies_h3, label='Training Accuracy H3')\\n\",","    \"plt.plot(range(1, num_epochs + 1), val_accuracies_h3, label='Validation Accuracy H3')\\n\",","    \"plt.xlabel('Epochs')\\n\",","    \"plt.ylabel('Accuracy')\\n\",","    \"plt.title('Training and Validation Accuracy for H3')\\n\",","    \"plt.legend()\\n\",","    \"\\n\",","    \"plt.tight_layout()\\n\",","    \"plt.show()\\n\",","    \"\\n\",","    \"# Saving the model\\n\",","    \"torch.save(model.state_dict(), 'model_Clinical-Longformer_V1.pth')\\n\",","    \"\\n\",","    \"# Loading the model\\n\",","    \"#loaded_model = YourModelClass(*args, **kwargs)  # Instantiate your model\\n\",","    \"#loaded_model.load_state_dict(torch.load('model.pth'))\\n\",","    \"#loaded_model.eval()  # Set the model to evaluation mode\\n\"","   ]","  },","  {","   \"cell_type\": \"code\",","   \"execution_count\": 18,","   \"metadata\": {},","   \"outputs\": [","    {","     \"name\": \"stderr\",","     \"output_type\": \"stream\",","     \"text\": [","      \"Some weights of LongformerModel were not initialized from the model checkpoint at yikuan8/Clinical-Longformer and are newly initialized: ['longformer.pooler.dense.bias', 'longformer.pooler.dense.weight']\\n\",","      \"You should probably TRAIN this model on a down-stream task to be able to use it for predictions and inference.\\n\",","      \"Testing: 100%|██████████| 330/330 [02:21\u003c00:00,  2.33it/s]\\n\"","     ]","    },","    {","     \"name\": \"stdout\",","     \"output_type\": \"stream\",","     \"text\": [","      \"Test Metrics for H1: Accuracy: 0.9958, Precision: 0.9958, Recall: 0.9958, F1: 0.9958\\n\",","      \"Test Metrics for H2: Accuracy: 0.9890, Precision: 0.9890, Recall: 0.9890, F1: 0.9890\\n\",","      \"Test Metrics for H3: Custom Accuracy: 0.9849, Precision: 0.9844, Recall: 0.9793, F1: 0.9819\\n\"","     ]","    }","   ],","   \"source\": [","    \"#ORIGINAL TEST FINAL\\n\",","    \"\\n\",","    \"import torch\\n\",","    \"import pandas as pd\\n\",","    \"from torch.utils.data import DataLoader, Dataset\\n\",","    \"from transformers import AutoTokenizer, AutoModel, LongformerModel, LongformerConfig\\n\",","    \"from sklearn.metrics import accuracy_score, precision_score, recall_score, f1_score\\n\",","    \"import numpy as np\\n\",","    \"from tqdm import tqdm\\n\",","    \"import torch.nn as nn\\n\",","    \"\\n\",","    \"# Define the HierarchicalClassifier class (adjusted dropout for regularization)\\n\",","    \"class HierarchicalClassifier(nn.Module):\\n\",","    \"    def __init__(self, num_labels_h3):\\n\",","    \"        super(HierarchicalClassifier, self).__init__()\\n\",","    \"        # Ensure proper loading of the pretrained model\\n\",","    \"        self.longformer = AutoModel.from_pretrained(\\\"yikuan8/Clinical-Longformer\\\")\\n\",","    \"        self.dropout = nn.Dropout(0.4)  # Moderated dropout rate for regularization\\n\",","    \"        self.fc_h1 = nn.Linear(self.longformer.config.hidden_size, 1)\\n\",","    \"        self.fc_h2 = nn.Linear(self.longformer.config.hidden_size, 1)\\n\",","    \"        self.fc_h3 = nn.Linear(self.longformer.config.hidden_size, num_labels_h3)\\n\",","    \"\\n\",","    \"    def forward(self, input_ids, attention_mask):\\n\",","    \"        outputs = self.longformer(input_ids, attention_mask=attention_mask)\\n\",","    \"        pooled_output = outputs.last_hidden_state[:, 0, :]  # Using the [CLS] token's representation\\n\",","    \"        logits_h1 = self.fc_h1(self.dropout(pooled_output))\\n\",","    \"        logits_h2 = self.fc_h2(self.dropout(pooled_output))\\n\",","    \"        logits_h3 = self.fc_h3(self.dropout(pooled_output))\\n\",","    \"        return logits_h1, logits_h2, logits_h3\\n\",","    \"\\n\",","    \"# Define the TextDataset class (same as the one used for training)\\n\",","    \"class TextDataset(Dataset):\\n\",","    \"    def __init__(self, texts, labels_h1, labels_h2, labels_h3, tokenizer, max_length=512):\\n\",","    \"        self.texts = texts\\n\",","    \"        self.labels_h1 = labels_h1  # Binary values for H1\\n\",","    \"        self.labels_h2 = np.array(labels_h2).reshape(-1, 1)  # Reshape labels_h2 to [batch_size, 1]\\n\",","    \"        self.labels_h3 = labels_h3  # Multi-label but binary values for H3\\n\",","    \"        self.tokenizer = tokenizer\\n\",","    \"        self.max_length = max_length\\n\",","    \"\\n\",","    \"    def __len__(self):\\n\",","    \"        return len(self.texts)\\n\",","    \"\\n\",","    \"    def __getitem__(self, idx):\\n\",","    \"        text = self.texts[idx]\\n\",","    \"        inputs = self.tokenizer.encode_plus(\\n\",","    \"            text, None, add_special_tokens=True, max_length=self.max_length,\\n\",","    \"            padding='max_length', return_token_type_ids=True, truncation=True\\n\",","    \"        )\\n\",","    \"        return {\\n\",","    \"            'ids': torch.tensor(inputs['input_ids'], dtype=torch.long),\\n\",","    \"            'mask': torch.tensor(inputs['attention_mask'], dtype=torch.long),\\n\",","    \"            'labels_h1': torch.tensor(self.labels_h1[idx], dtype=torch.float).unsqueeze(-1),\\n\",","    \"            'labels_h2': torch.tensor(self.labels_h2[idx], dtype=torch.float),\\n\",","    \"            'labels_h3': torch.tensor(self.labels_h3[idx], dtype=torch.float)\\n\",","    \"        }\\n\",","    \"\\n\",","    \"# Load your test data\\n\",","    \"test_data_h1 = pd.read_csv(\\\"model1_2636.csv\\\")\\n\",","    \"texts_h1 = test_data_h1['text'].tolist()\\n\",","    \"labels_h1 = test_data_h1.iloc[:, 1].values.tolist()\\n\",","    \"\\n\",","    \"test_data_h2 = pd.read_csv(\\\"model2_2636.csv\\\")\\n\",","    \"texts_h2 = test_data_h2['text'].tolist()\\n\",","    \"labels_h2 = test_data_h2.iloc[:, 1].values.tolist()\\n\",","    \"\\n\",","    \"test_data_h3 = pd.read_csv(\\\"model3_2636.csv\\\")\\n\",","    \"texts_h3 = test_data_h3['text'].tolist()\\n\",","    \"labels_h3 = test_data_h3.iloc[:, 1:].values.tolist()\\n\",","    \"\\n\",","    \"# Tokenizer\\n\",","    \"tokenizer = AutoTokenizer.from_pretrained(\\\"yikuan8/Clinical-Longformer\\\")\\n\",","    \"\\n\",","    \"# Create test datasets and dataloaders\\n\",","    \"test_dataset_h1 = TextDataset(texts_h1, labels_h1, labels_h2, labels_h3, tokenizer)\\n\",","    \"test_dataset_h2 = TextDataset(texts_h2, labels_h1, labels_h2, labels_h3, tokenizer)\\n\",","    \"test_dataset_h3 = TextDataset(texts_h3, labels_h1, labels_h2, labels_h3, tokenizer)\\n\",","    \"\\n\",","    \"test_dataloader_h1 = DataLoader(test_dataset_h1, batch_size=8, shuffle=False)\\n\",","    \"test_dataloader_h2 = DataLoader(test_dataset_h2, batch_size=8, shuffle=False)\\n\",","    \"test_dataloader_h3 = DataLoader(test_dataset_h3, batch_size=8, shuffle=False)\\n\",","    \"\\n\",","    \"# Initialize and load the model\\n\",","    \"num_labels_h3 = len(labels_h3[0])\\n\",","    \"model = HierarchicalClassifier(num_labels_h3=num_labels_h3)\\n\",","    \"device = torch.device(\\\"cuda\\\" if torch.cuda.is_available() else \\\"cpu\\\")\\n\",","    \"model.load_state_dict(torch.load('model_Clinical-Longformer_V1.pth'))\\n\",","    \"model.to(device)\\n\",","    \"model.eval()\\n\",","    \"\\n\",","    \"# Evaluation function\\n\",","    \"def evaluate(model, dataloader, device):\\n\",","    \"    model.eval()\\n\",","    \"    all_preds_h1, all_preds_h2, all_preds_h3 = [], [], []\\n\",","    \"    all_labels_h1, all_labels_h2, all_labels_h3 = [], [], []\\n\",","    \"\\n\",","    \"    with torch.no_grad():\\n\",","    \"        for batch in tqdm(dataloader, total=len(dataloader), desc=\\\"Testing\\\"):\\n\",","    \"            input_ids = batch['ids'].to(device)\\n\",","    \"            attention_mask = batch['mask'].to(device)\\n\",","    \"            labels_h1 = batch['labels_h1'].to(device)\\n\",","    \"            labels_h2 = batch['labels_h2'].to(device)\\n\",","    \"            labels_h3 = batch['labels_h3'].to(device)\\n\",","    \"\\n\",","    \"            logits_h1, logits_h2, logits_h3 = model(input_ids, attention_mask)\\n\",","    \"\\n\",","    \"            preds_h1 = torch.sigmoid(logits_h1)\\n\",","    \"            preds_h2 = torch.sigmoid(logits_h2)\\n\",","    \"            preds_h3 = torch.sigmoid(logits_h3)\\n\",","    \"\\n\",","    \"            all_preds_h1.extend(preds_h1.cpu().numpy())\\n\",","    \"            all_preds_h2.extend(preds_h2.cpu().numpy())\\n\",","    \"            all_preds_h3.extend(preds_h3.cpu().numpy())\\n\",","    \"\\n\",","    \"            all_labels_h1.extend(labels_h1.cpu().numpy())\\n\",","    \"            all_labels_h2.extend(labels_h2.cpu().numpy())\\n\",","    \"            all_labels_h3.extend(labels_h3.cpu().numpy())\\n\",","    \"\\n\",","    \"    return all_preds_h1, all_preds_h2, all_preds_h3, all_labels_h1, all_labels_h2, all_labels_h3\\n\",","    \"\\n\",","    \"# Run evaluation\\n\",","    \"all_preds_h1, all_preds_h2, all_preds_h3, all_labels_h1, all_labels_h2, all_labels_h3 = evaluate(model, test_dataloader_h3, device)\\n\",","    \"\\n\",","    \"# Define threshold\\n\",","    \"threshold_h1 = 0.9\\n\",","    \"threshold_h2 = 0.8\\n\",","    \"threshold_h3 = 0.5\\n\",","    \"\\n\",","    \"# Convert predictions to binary values based on threshold\\n\",","    \"preds_h1_binary = (np.array(all_preds_h1) \u003e threshold_h1).astype(int)\\n\",","    \"preds_h2_binary = (np.array(all_preds_h2) \u003e threshold_h2).astype(int)\\n\",","    \"preds_h3_binary = (np.array(all_preds_h3) \u003e threshold_h3).astype(int)\\n\",","    \"\\n\",","    \"# Calculate metrics\\n\",","    \"accuracy_h1 = accuracy_score(all_labels_h1, preds_h1_binary)\\n\",","    \"precision_h1 = precision_score(all_labels_h1, preds_h1_binary, average='micro')\\n\",","    \"recall_h1 = recall_score(all_labels_h1, preds_h1_binary, average='micro')\\n\",","    \"f1_h1 = f1_score(all_labels_h1, preds_h1_binary, average='micro')\\n\",","    \"\\n\",","    \"accuracy_h2 = accuracy_score(all_labels_h2, preds_h2_binary)\\n\",","    \"precision_h2 = precision_score(all_labels_h2, preds_h2_binary, average='micro')\\n\",","    \"recall_h2 = recall_score(all_labels_h2, preds_h2_binary, average='micro')\\n\",","    \"f1_h2 = f1_score(all_labels_h2, preds_h2_binary, average='micro')\\n\",","    \"\\n\",","    \"# Custom accuracy function for H3\\n\",","    \"def custom_accuracy(y_true, y_pred):\\n\",","    \"    correct_labels = np.sum(np.equal(y_true, y_pred), axis=1)\\n\",","    \"    total_labels = y_true.shape[1]\\n\",","    \"    sample_accuracy = np.mean(correct_labels / total_labels)\\n\",","    \"    return sample_accuracy\\n\",","    \"\\n\",","    \"def custom_precision_recall_f1(y_true, y_pred):\\n\",","    \"    # Calculate precision and recall for each sample\\n\",","    \"    sample_precisions = []\\n\",","    \"    sample_recalls = []\\n\",","    \"    for true, pred in zip(y_true, y_pred):\\n\",","    \"        true_positive = np.sum((true == 1) \u0026 (pred == 1))\\n\",","    \"        false_positive = np.sum((true == 0) \u0026 (pred == 1))\\n\",","    \"        false_negative = np.sum((true == 1) \u0026 (pred == 0))\\n\",","    \"        \\n\",","    \"        sample_precision = true_positive / (true_positive + false_positive) if (true_positive + false_positive) \u003e 0 else 0\\n\",","    \"        sample_recall = true_positive / (true_positive + false_negative) if (true_positive + false_negative) \u003e 0 else 0\\n\",","    \"        \\n\",","    \"        sample_precisions.append(sample_precision)\\n\",","    \"        sample_recalls.append(sample_recall)\\n\",","    \"    \\n\",","    \"    # Calculate average precision and recall across all samples\\n\",","    \"    avg_precision = np.mean(sample_precisions)\\n\",","    \"    avg_recall = np.mean(sample_recalls)\\n\",","    \"    \\n\",","    \"    # Calculate F1 score\\n\",","    \"    if avg_precision + avg_recall \u003e 0:\\n\",","    \"        avg_f1 = 2 * (avg_precision * avg_recall) / (avg_precision + avg_recall)\\n\",","    \"    else:\\n\",","    \"        avg_f1 = 0\\n\",","    \"    \\n\",","    \"    return avg_precision, avg_recall, avg_f1\\n\",","    \"\\n\",","    \"accuracy_h3_custom = custom_accuracy(np.array(all_labels_h3), preds_h3_binary)\\n\",","    \"precision_h3, recall_h3, f1_h3 = custom_precision_recall_f1(np.array(all_labels_h3), preds_h3_binary)\\n\",","    \"\\n\",","    \"# Print metrics\\n\",","    \"print(f\\\"Test Metrics for H1: Accuracy: {accuracy_h1:.4f}, Precision: {precision_h1:.4f}, Recall: {recall_h1:.4f}, F1: {f1_h1:.4f}\\\")\\n\",","    \"print(f\\\"Test Metrics for H2: Accuracy: {accuracy_h2:.4f}, Precision: {precision_h2:.4f}, Recall: {recall_h2:.4f}, F1: {f1_h2:.4f}\\\")\\n\",","    \"print(f\\\"Test Metrics for H3: Custom Accuracy: {accuracy_h3_custom:.4f}, Precision: {precision_h3:.4f}, Recall: {recall_h3:.4f}, F1: {f1_h3:.4f}\\\")\\n\"","   ]","  },","  {","   \"cell_type\": \"code\",","   \"execution_count\": null,","   \"metadata\": {},","   \"outputs\": [],","   \"source\": []","  },","  {","   \"cell_type\": \"code\",","   \"execution_count\": null,","   \"metadata\": {},","   \"outputs\": [],","   \"source\": []","  },","  {","   \"cell_type\": \"code\",","   \"execution_count\": 89,","   \"metadata\": {},","   \"outputs\": [","    {","     \"name\": \"stderr\",","     \"output_type\": \"stream\",","     \"text\": [","      \"Some weights of LongformerModel were not initialized from the model checkpoint at yikuan8/Clinical-Longformer and are newly initialized: ['longformer.pooler.dense.bias', 'longformer.pooler.dense.weight']\\n\",","      \"You should probably TRAIN this model on a down-stream task to be able to use it for predictions and inference.\\n\"","     ]","    },","    {","     \"name\": \"stdout\",","     \"output_type\": \"stream\",","     \"text\": [","      \"Fold 1\\n\"","     ]","    },","    {","     \"name\": \"stderr\",","     \"output_type\": \"stream\",","     \"text\": [","      \"Testing: 100%|██████████| 16/16 [00:06\u003c00:00,  2.37it/s]\\n\"","     ]","    },","    {","     \"name\": \"stdout\",","     \"output_type\": \"stream\",","     \"text\": [","      \"Fold 1 Results:\\n\",","      \"H1: Val Loss: 0.6143, Accuracy: 0.9844\\n\",","      \"Precision H1: 0.9844, Recall H1: 0.9844, F1 H1: 0.9844\\n\",","      \"H2: Val Loss: 0.6143, Accuracy: 0.9922\\n\",","      \"Precision H2: 0.9922, Recall H2: 0.9922, F1 H2: 0.9922\\n\",","      \"H3: Val Loss: 0.6143, Custom Accuracy: 0.8450\\n\",","      \"Precision H3: 0.6844, Recall H3:0.8614, F1 H3: 0.7627\\n\",","      \"Fold 2\\n\"","     ]","    },","    {","     \"name\": \"stderr\",","     \"output_type\": \"stream\",","     \"text\": [","      \"Testing: 100%|██████████| 16/16 [00:06\u003c00:00,  2.40it/s]\\n\"","     ]","    },","    {","     \"name\": \"stdout\",","     \"output_type\": \"stream\",","     \"text\": [","      \"Fold 2 Results:\\n\",","      \"H1: Val Loss: 0.5276, Accuracy: 0.9922\\n\",","      \"Precision H1: 0.9922, Recall H1: 0.9922, F1 H1: 0.9922\\n\",","      \"H2: Val Loss: 0.5276, Accuracy: 0.9609\\n\",","      \"Precision H2: 0.9609, Recall H2: 0.9609, F1 H2: 0.9609\\n\",","      \"H3: Val Loss: 0.5276, Custom Accuracy: 0.9501\\n\",","      \"Precision H3: 0.9092, Recall H3:0.9303, F1 H3: 0.9196\\n\",","      \"Fold 3\\n\"","     ]","    },","    {","     \"name\": \"stderr\",","     \"output_type\": \"stream\",","     \"text\": [","      \"Testing: 100%|██████████| 16/16 [00:06\u003c00:00,  2.36it/s]\\n\"","     ]","    },","    {","     \"name\": \"stdout\",","     \"output_type\": \"stream\",","     \"text\": [","      \"Fold 3 Results:\\n\",","      \"H1: Val Loss: 0.4983, Accuracy: 0.9844\\n\",","      \"Precision H1: 0.9844, Recall H1: 0.9844, F1 H1: 0.9844\\n\",","      \"H2: Val Loss: 0.4983, Accuracy: 0.9922\\n\",","      \"Precision H2: 0.9922, Recall H2: 0.9922, F1 H2: 0.9922\\n\",","      \"H3: Val Loss: 0.4983, Custom Accuracy: 0.8810\\n\",","      \"Precision H3: 0.7759, Recall H3:0.9016, F1 H3: 0.8341\\n\",","      \"Fold 4\\n\"","     ]","    },","    {","     \"name\": \"stderr\",","     \"output_type\": \"stream\",","     \"text\": [","      \"Testing: 100%|██████████| 16/16 [00:06\u003c00:00,  2.33it/s]\\n\"","     ]","    },","    {","     \"name\": \"stdout\",","     \"output_type\": \"stream\",","     \"text\": [","      \"Fold 4 Results:\\n\",","      \"H1: Val Loss: 0.7243, Accuracy: 0.9922\\n\",","      \"Precision H1: 0.9922, Recall H1: 0.9922, F1 H1: 0.9922\\n\",","      \"H2: Val Loss: 0.7243, Accuracy: 0.9609\\n\",","      \"Precision H2: 0.9609, Recall H2: 0.9609, F1 H2: 0.9609\\n\",","      \"H3: Val Loss: 0.7243, Custom Accuracy: 0.8942\\n\",","      \"Precision H3: 0.7816, Recall H3:0.8806, F1 H3: 0.8281\\n\",","      \"Fold 5\\n\"","     ]","    },","    {","     \"name\": \"stderr\",","     \"output_type\": \"stream\",","     \"text\": [","      \"Testing: 100%|██████████| 16/16 [00:06\u003c00:00,  2.34it/s]\"","     ]","    },","    {","     \"name\": \"stdout\",","     \"output_type\": \"stream\",","     \"text\": [","      \"Fold 5 Results:\\n\",","      \"H1: Val Loss: 0.6087, Accuracy: 0.9766\\n\",","      \"Precision H1: 0.9766, Recall H1: 0.9766, F1 H1: 0.9766\\n\",","      \"H2: Val Loss: 0.6087, Accuracy: 0.9531\\n\",","      \"Precision H2: 0.9531, Recall H2: 0.9531, F1 H2: 0.9531\\n\",","      \"H3: Val Loss: 0.6087, Custom Accuracy: 0.9345\\n\",","      \"Precision H3: 0.8939, Recall H3:0.9524, F1 H3: 0.9222\\n\",","      \"Average Results across 5 folds:\\n\",","      \"H1: Accuracy: 0.9859, Precision: 0.9859, Recall: 0.9859, F1: 0.9859\\n\",","      \"H2: Accuracy: 0.9719, Precision: 0.9719, Recall: 0.9719, F1: 0.9719\\n\",","      \"H3: Custom Accuracy: 0.9010, Precision: 0.8090, Recall: 0.9052, F1: 0.8534\\n\"","     ]","    },","    {","     \"name\": \"stderr\",","     \"output_type\": \"stream\",","     \"text\": [","      \"\\n\"","     ]","    }","   ],","   \"source\": [","    \"#UNSEEN FINAL P2\\n\",","    \"\\n\",","    \"import pandas as pd\\n\",","    \"import torch.nn as nn\\n\",","    \"from torch.utils.data import DataLoader, Dataset, Subset\\n\",","    \"from transformers import AutoTokenizer, AutoModel\\n\",","    \"from sklearn.metrics import accuracy_score, precision_score, recall_score, f1_score\\n\",","    \"from sklearn.model_selection import KFold\\n\",","    \"from tqdm import tqdm\\n\",","    \"import numpy as np\\n\",","    \"import torch\\n\",","    \"\\n\",","    \"# Function to load CSV with error handling for encoding issues and bad lines\\n\",","    \"def load_csv_with_fallback(file_path):\\n\",","    \"    encodings = ['utf-8', 'latin1', 'cp1252']\\n\",","    \"    for enc in encodings:\\n\",","    \"        try:\\n\",","    \"            return pd.read_csv(file_path, encoding=enc, on_bad_lines='skip')\\n\",","    \"        except UnicodeDecodeError:\\n\",","    \"            continue\\n\",","    \"    raise ValueError(f\\\"Failed to read the file {file_path} with available encodings.\\\")\\n\",","    \"\\n\",","    \"# Loading and preprocessing new_data_h1\\n\",","    \"new_data_h1 = load_csv_with_fallback(\\\"113_H_100_O_NEWMODEL1.csv\\\")\\n\",","    \"new_data_h1['text'].fillna(\\\"\\\", inplace=True)  # Replace NaN values with empty strings\\n\",","    \"new_texts_h1 = new_data_h1['text'].tolist()\\n\",","    \"new_labels_h1 = new_data_h1.iloc[:, 1].values.tolist()\\n\",","    \"\\n\",","    \"# Loading and preprocessing new_data_h2\\n\",","    \"new_data_h2 = load_csv_with_fallback(\\\"113_H_100_O_NEWMODEL2.csv\\\")\\n\",","    \"new_data_h2['text'].fillna(\\\"\\\", inplace=True)  # Replace NaN values with empty strings\\n\",","    \"new_texts_h2 = new_data_h2['text'].tolist()\\n\",","    \"new_labels_h2 = new_data_h2.iloc[:, 1].values.tolist()\\n\",","    \"\\n\",","    \"# Loading and preprocessing new_data_h3 for multi-label classification\\n\",","    \"new_data_h3 = load_csv_with_fallback(\\\"113_H_100_O_NEWMODEL3.csv\\\")\\n\",","    \"new_data_h3['text'].fillna(\\\"\\\", inplace=True)  # Replace NaN values with empty strings\\n\",","    \"\\n\",","    \"# Replace NaN values in label columns with 0 for new_data_h3\\n\",","    \"# Assuming all label columns are binary, fill NaN values with 0\\n\",","    \"for label_col in new_data_h3.columns[1:]:  # Skip the text column, only fill NaN in label columns\\n\",","    \"    new_data_h3[label_col].fillna(0, inplace=True)\\n\",","    \"\\n\",","    \"new_texts_h3 = new_data_h3['text'].tolist()\\n\",","    \"new_labels_h3 = new_data_h3.iloc[:, 1:].values.tolist()  # Extract labels after filling NaN values\\n\",","    \"\\n\",","    \"# Initialize the Clinical-Longformer tokenizer and model\\n\",","    \"tokenizer = AutoTokenizer.from_pretrained(\\\"yikuan8/Clinical-Longformer\\\")\\n\",","    \"clinical_longformer_model = AutoModel.from_pretrained(\\\"yikuan8/Clinical-Longformer\\\")\\n\",","    \"\\n\",","    \"# Define the TextDataset class\\n\",","    \"class TextDataset(Dataset):\\n\",","    \"    def __init__(self, texts, labels_h1, labels_h2, labels_h3, tokenizer, max_length=512):\\n\",","    \"        self.texts = texts\\n\",","    \"        self.labels_h1 = labels_h1  # Now expecting a list of binary values for H1\\n\",","    \"        self.labels_h2 = np.array(labels_h2).reshape(-1, 1)  # Reshape labels_h2 to [batch_size, 1]\\n\",","    \"        self.labels_h3 = labels_h3  # Multi-label but binary values for H3\\n\",","    \"        self.tokenizer = tokenizer\\n\",","    \"        self.max_length = max_length\\n\",","    \"\\n\",","    \"    def __len__(self):\\n\",","    \"        return len(self.texts)\\n\",","    \"\\n\",","    \"    def __getitem__(self, idx):\\n\",","    \"        text = self.texts[idx]\\n\",","    \"        inputs = self.tokenizer.encode_plus(\\n\",","    \"            text, None, add_special_tokens=True, max_length=self.max_length,\\n\",","    \"            padding='max_length', return_token_type_ids=True, truncation=True\\n\",","    \"        )\\n\",","    \"        return {\\n\",","    \"            'ids': torch.tensor(inputs['input_ids'], dtype=torch.long),\\n\",","    \"            'mask': torch.tensor(inputs['attention_mask'], dtype=torch.long),\\n\",","    \"            'labels_h1': torch.tensor(self.labels_h1[idx], dtype=torch.float).unsqueeze(-1),\\n\",","    \"            'labels_h2': torch.tensor(self.labels_h2[idx], dtype=torch.float),\\n\",","    \"            'labels_h3': torch.tensor(self.labels_h3[idx], dtype=torch.float)\\n\",","    \"        }\\n\",","    \"\\n\",","    \"# Define the model architecture for H1, H2, and H3\\n\",","    \"class HierarchicalClassifier(nn.Module):\\n\",","    \"    def __init__(self, num_labels_h3):\\n\",","    \"        super(HierarchicalClassifier, self).__init__()\\n\",","    \"        self.longformer = clinical_longformer_model\\n\",","    \"        self.dropout = nn.Dropout(0.5)  # Increased dropout rate\\n\",","    \"        self.fc_h1 = nn.Linear(self.longformer.config.hidden_size, 1)\\n\",","    \"        self.fc_h2 = nn.Linear(self.longformer.config.hidden_size, 1)\\n\",","    \"        self.fc_h3 = nn.Linear(self.longformer.config.hidden_size, num_labels_h3)\\n\",","    \"\\n\",","    \"    def forward(self, input_ids, attention_mask):\\n\",","    \"        outputs = self.longformer(input_ids, attention_mask=attention_mask)\\n\",","    \"        pooled_output = outputs.last_hidden_state[:, 0, :]  # Assuming using the [CLS] token's representation\\n\",","    \"        logits_h1 = self.fc_h1(self.dropout(pooled_output))\\n\",","    \"        logits_h2 = self.fc_h2(self.dropout(pooled_output))\\n\",","    \"        logits_h3 = self.fc_h3(self.dropout(pooled_output))\\n\",","    \"        return logits_h1, logits_h2, logits_h3\\n\",","    \"\\n\",","    \"# Initialize and move the model to the appropriate device (CPU/GPU)\\n\",","    \"device = torch.device(\\\"cuda\\\" if torch.cuda.is_available() else \\\"cpu\\\")\\n\",","    \"\\n\",","    \"# Load the saved model\\n\",","    \"model_path = 'model_Clinical-Longformer_V1.pth'  # Path to your saved model\\n\",","    \"model = HierarchicalClassifier(num_labels_h3=len(new_labels_h3[0]))\\n\",","    \"model.load_state_dict(torch.load(model_path))\\n\",","    \"model.to(device)\\n\",","    \"model.eval()  # Set the model to evaluation mode\\n\",","    \"\\n\",","    \"# Define the test function\\n\",","    \"def test(model, dataloader, criterion, device):\\n\",","    \"    model.eval()\\n\",","    \"    total_loss = 0.0\\n\",","    \"    all_preds_h1, all_preds_h2, all_preds_h3 = [], [], []\\n\",","    \"    all_labels_h1, all_labels_h2, all_labels_h3 = [], [], []\\n\",","    \"\\n\",","    \"    with torch.no_grad():\\n\",","    \"        for batch in tqdm(dataloader, total=len(dataloader), desc=\\\"Testing\\\"):\\n\",","    \"            input_ids = batch['ids'].to(device)\\n\",","    \"            attention_mask = batch['mask'].to(device)\\n\",","    \"            \\n\",","    \"            # Ensuring labels are correctly shaped and moved to the device\\n\",","    \"            labels_h1 = batch['labels_h1'].to(device)  # Shape: [batch_size, 1]\\n\",","    \"            labels_h2 = batch['labels_h2'].to(device)  # Shape: [batch_size, 1]\\n\",","    \"            labels_h3 = batch['labels_h3'].to(device)  # Shape: [batch_size, num_labels_h3]\\n\",","    \"            \\n\",","    \"            logits_h1, logits_h2, logits_h3 = model(input_ids, attention_mask)\\n\",","    \"            \\n\",","    \"            # Compute loss for each hierarchy\\n\",","    \"            loss_h1 = criterion(logits_h1, labels_h1)\\n\",","    \"            loss_h2 = criterion(logits_h2, labels_h2)\\n\",","    \"            loss_h3 = criterion(logits_h3, labels_h3)\\n\",","    \"\\n\",","    \"            loss = loss_h1 + loss_h2 + loss_h3\\n\",","    \"            total_loss += loss.item()\\n\",","    \"\\n\",","    \"            # Convert logits to probabilities for binary classification/multi-label classification\\n\",","    \"            preds_h1 = torch.sigmoid(logits_h1)\\n\",","    \"            preds_h2 = torch.sigmoid(logits_h2)\\n\",","    \"            preds_h3 = torch.sigmoid(logits_h3)\\n\",","    \"\\n\",","    \"            # Store predictions and labels for metric calculation\\n\",","    \"            all_preds_h1.extend(preds_h1.cpu().numpy())\\n\",","    \"            all_preds_h2.extend(preds_h2.cpu().numpy())\\n\",","    \"            all_preds_h3.extend(preds_h3.cpu().numpy())\\n\",","    \"\\n\",","    \"            all_labels_h1.extend(labels_h1.cpu().numpy())\\n\",","    \"            all_labels_h2.extend(labels_h2.cpu().numpy())\\n\",","    \"            all_labels_h3.extend(labels_h3.cpu().numpy())\\n\",","    \"\\n\",","    \"    return total_loss / len(dataloader), all_preds_h1, all_preds_h2, all_preds_h3, all_labels_h1, all_labels_h2, all_labels_h3\\n\",","    \"\\n\",","    \"# K-Fold Cross Validation\\n\",","    \"kf = KFold(n_splits=5)\\n\",","    \"\\n\",","    \"# Combine all data into a single dataset\\n\",","    \"all_texts = new_texts_h1 + new_texts_h2 + new_texts_h3\\n\",","    \"all_labels_h1 = new_labels_h1 + new_labels_h1 + new_labels_h1\\n\",","    \"all_labels_h2 = new_labels_h2 + new_labels_h2 + new_labels_h2\\n\",","    \"all_labels_h3 = new_labels_h3 + new_labels_h3 + new_labels_h3\\n\",","    \"\\n\",","    \"dataset = TextDataset(all_texts, all_labels_h1, all_labels_h2, all_labels_h3, tokenizer)\\n\",","    \"\\n\",","    \"fold_results = []\\n\",","    \"\\n\",","    \"criterion = nn.BCEWithLogitsLoss()\\n\",","    \"\\n\",","    \"for fold, (train_idx, val_idx) in enumerate(kf.split(dataset)):\\n\",","    \"    print(f\\\"Fold {fold + 1}\\\")\\n\",","    \"    \\n\",","    \"    # Subset the dataset for current fold\\n\",","    \"    val_subset = Subset(dataset, val_idx)\\n\",","    \"    \\n\",","    \"    # Create DataLoader for validation\\n\",","    \"    val_dataloader = DataLoader(val_subset, batch_size=8, shuffle=False, drop_last=True)\\n\",","    \"    \\n\",","    \"    # Validation\\n\",","    \"    val_loss, val_preds_h1, val_preds_h2, val_preds_h3, val_labels_h1, val_labels_h2, val_labels_h3 = test(model, val_dataloader, criterion, device)\\n\",","    \"    \\n\",","    \"    # Calculate metrics for H1\\n\",","    \"    threshold_h1 = 0.5\\n\",","    \"    val_preds_h1_binary = (np.array(val_preds_h1) \u003e threshold_h1).astype(int)\\n\",","    \"    acc_h1 = accuracy_score(val_labels_h1, val_preds_h1_binary)\\n\",","    \"    precision_h1 = precision_score(val_labels_h1, val_preds_h1_binary, average='micro')\\n\",","    \"    recall_h1 = recall_score(val_labels_h1, val_preds_h1_binary, average='micro')\\n\",","    \"    f1_h1 = f1_score(val_labels_h1, val_preds_h1_binary, average='micro')\\n\",","    \"    \\n\",","    \"    # Calculate metrics for H2\\n\",","    \"    threshold_h2 = 0.9\\n\",","    \"    val_preds_h2_binary = (np.array(val_preds_h2) \u003e threshold_h2).astype(int)\\n\",","    \"    acc_h2 = accuracy_score(val_labels_h2, val_preds_h2_binary)\\n\",","    \"    precision_h2 = precision_score(val_labels_h2, val_preds_h2_binary, average='micro')\\n\",","    \"    recall_h2 = recall_score(val_labels_h2, val_preds_h2_binary, average='micro')\\n\",","    \"    f1_h2 = f1_score(val_labels_h2, val_preds_h2_binary, average='micro')\\n\",","    \"    \\n\",","    \"    # Calculate metrics for H3\\n\",","    \"    threshold_h3 = 0.5\\n\",","    \"    val_preds_h3_binary = (np.array(val_preds_h3) \u003e threshold_h3).astype(int)\\n\",","    \"    acc_h3_custom = custom_accuracy(np.array(val_labels_h3), val_preds_h3_binary)\\n\",","    \"    precision_h3, recall_h3, f1_h3 = custom_precision_recall_f1(np.array(val_labels_h3), val_preds_h3_binary)\\n\",","    \"    \\n\",","    \"    print(f\\\"Fold {fold + 1} Results:\\\")\\n\",","    \"    print(f\\\"H1: Val Loss: {val_loss:.4f}, Accuracy: {acc_h1:.4f}\\\")\\n\",","    \"    print(f\\\"Precision H1: {precision_h1:.4f}, Recall H1: {recall_h1:.4f}, F1 H1: {f1_h1:.4f}\\\")\\n\",","    \"    \\n\",","    \"    print(f\\\"H2: Val Loss: {val_loss:.4f}, Accuracy: {acc_h2:.4f}\\\")\\n\",","    \"    print(f\\\"Precision H2: {precision_h2:.4f}, Recall H2: {recall_h2:.4f}, F1 H2: {f1_h2:.4f}\\\")\\n\",","    \"    \\n\",","    \"    print(f\\\"H3: Val Loss: {val_loss:.4f}, Custom Accuracy: {acc_h3_custom:.4f}\\\")\\n\",","    \"    print(f\\\"Precision H3: {precision_h3:.4f}, Recall H3:{recall_h3:.4f}, F1 H3: {f1_h3:.4f}\\\")\\n\",","    \"    \\n\",","    \"    fold_results.append((acc_h1, precision_h1, recall_h1, f1_h1, acc_h2, precision_h2, recall_h2, f1_h2, acc_h3_custom, precision_h3, recall_h3, f1_h3))\\n\",","    \"\\n\",","    \"# Average results across folds\\n\",","    \"avg_results = np.mean(fold_results, axis=0)\\n\",","    \"print(f\\\"Average Results across {kf.n_splits} folds:\\\")\\n\",","    \"print(f\\\"H1: Accuracy: {avg_results[0]:.4f}, Precision: {avg_results[1]:.4f}, Recall: {avg_results[2]:.4f}, F1: {avg_results[3]:.4f}\\\")\\n\",","    \"print(f\\\"H2: Accuracy: {avg_results[4]:.4f}, Precision: {avg_results[5]:.4f}, Recall: {avg_results[6]:.4f}, F1: {avg_results[7]:.4f}\\\")\\n\",","    \"print(f\\\"H3: Custom Accuracy: {avg_results[8]:.4f}, Precision: {avg_results[9]:.4f}, Recall: {avg_results[10]:.4f}, F1: {avg_results[11]:.4f}\\\")\\n\"","   ]","  },","  {","   \"cell_type\": \"code\",","   \"execution_count\": 1,","   \"metadata\": {},","   \"outputs\": [","    {","     \"name\": \"stderr\",","     \"output_type\": \"stream\",","     \"text\": [","      \"Some weights of LongformerModel were not initialized from the model checkpoint at yikuan8/Clinical-Longformer and are newly initialized: ['longformer.pooler.dense.bias', 'longformer.pooler.dense.weight']\\n\",","      \"You should probably TRAIN this model on a down-stream task to be able to use it for predictions and inference.\\n\",","      \"/home/mpagare/.local/lib/python3.8/site-packages/torch/cuda/__init__.py:83: UserWarning: \\n\",","      \"    Found GPU%d %s which is of cuda capability %d.%d.\\n\",","      \"    PyTorch no longer supports this GPU because it is too old.\\n\",","      \"    The minimum cuda capability supported by this library is %d.%d.\\n\",","      \"    \\n\",","      \"  warnings.warn(old_gpu_warn.format(d, name, major, minor, min_arch // 10, min_arch % 10))\\n\"","     ]","    },","    {","     \"name\": \"stdout\",","     \"output_type\": \"stream\",","     \"text\": [","      \"Fold 1\\n\"","     ]","    },","    {","     \"name\": \"stderr\",","     \"output_type\": \"stream\",","     \"text\": [","      \"Testing: 100%|██████████| 24/24 [00:09\u003c00:00,  2.55it/s]\\n\"","     ]","    },","    {","     \"name\": \"stdout\",","     \"output_type\": \"stream\",","     \"text\": [","      \"Fold 1 Results:\\n\",","      \"H1: Avg Loss: 0.9091, Accuracy: 0.8385\\n\",","      \"Precision H1: 0.8385, Recall H1: 0.8385, F1 H1: 0.8385\\n\",","      \"H2: Avg Loss: 1.7563, Accuracy: 0.5938\\n\",","      \"Precision H2: 0.5938, Recall H2: 0.5938, F1 H2: 0.5938\\n\",","      \"H3: Avg Loss: 0.7705, Custom Accuracy: 0.7071\\n\",","      \"Precision H3: 0.6065, Recall H3:0.6651, F1 H3: 0.6344\\n\",","      \"Fold 2\\n\"","     ]","    },","    {","     \"name\": \"stderr\",","     \"output_type\": \"stream\",","     \"text\": [","      \"Testing: 100%|██████████| 24/24 [00:09\u003c00:00,  2.42it/s]\\n\"","     ]","    },","    {","     \"name\": \"stdout\",","     \"output_type\": \"stream\",","     \"text\": [","      \"Fold 2 Results:\\n\",","      \"H1: Avg Loss: 0.1382, Accuracy: 0.9688\\n\",","      \"Precision H1: 0.9688, Recall H1: 0.9688, F1 H1: 0.9688\\n\",","      \"H2: Avg Loss: 0.1095, Accuracy: 0.9427\\n\",","      \"Precision H2: 0.9427, Recall H2: 0.9427, F1 H2: 0.9427\\n\",","      \"H3: Avg Loss: 0.1763, Custom Accuracy: 0.9467\\n\",","      \"Precision H3: 0.9398, Recall H3:0.9316, F1 H3: 0.9357\\n\",","      \"Fold 3\\n\"","     ]","    },","    {","     \"name\": \"stderr\",","     \"output_type\": \"stream\",","     \"text\": [","      \"Testing: 100%|██████████| 24/24 [00:10\u003c00:00,  2.40it/s]\\n\"","     ]","    },","    {","     \"name\": \"stdout\",","     \"output_type\": \"stream\",","     \"text\": [","      \"Fold 3 Results:\\n\",","      \"H1: Avg Loss: 0.0396, Accuracy: 0.9948\\n\",","      \"Precision H1: 0.9948, Recall H1: 0.9948, F1 H1: 0.9948\\n\",","      \"H2: Avg Loss: 0.0861, Accuracy: 0.9896\\n\",","      \"Precision H2: 0.9896, Recall H2: 0.9896, F1 H2: 0.9896\\n\",","      \"H3: Avg Loss: 0.0914, Custom Accuracy: 0.9856\\n\",","      \"Precision H3: 0.9830, Recall H3:0.9833, F1 H3: 0.9831\\n\",","      \"Fold 4\\n\"","     ]","    },","    {","     \"name\": \"stderr\",","     \"output_type\": \"stream\",","     \"text\": [","      \"Testing: 100%|██████████| 24/24 [00:09\u003c00:00,  2.50it/s]\\n\"","     ]","    },","    {","     \"name\": \"stdout\",","     \"output_type\": \"stream\",","     \"text\": [","      \"Fold 4 Results:\\n\",","      \"H1: Avg Loss: 0.3017, Accuracy: 0.9479\\n\",","      \"Precision H1: 0.9479, Recall H1: 0.9479, F1 H1: 0.9479\\n\",","      \"H2: Avg Loss: 1.5395, Accuracy: 0.6667\\n\",","      \"Precision H2: 0.6667, Recall H2: 0.6667, F1 H2: 0.6667\\n\",","      \"H3: Avg Loss: 0.4848, Custom Accuracy: 0.8137\\n\",","      \"Precision H3: 0.7377, Recall H3:0.7922, F1 H3: 0.7640\\n\",","      \"Fold 5\\n\"","     ]","    },","    {","     \"name\": \"stderr\",","     \"output_type\": \"stream\",","     \"text\": [","      \"Testing: 100%|██████████| 24/24 [00:09\u003c00:00,  2.48it/s]\\n\"","     ]","    },","    {","     \"name\": \"stdout\",","     \"output_type\": \"stream\",","     \"text\": [","      \"Fold 5 Results:\\n\",","      \"H1: Avg Loss: 0.7772, Accuracy: 0.8542\\n\",","      \"Precision H1: 0.8542, Recall H1: 0.8542, F1 H1: 0.8542\\n\",","      \"H2: Avg Loss: 0.3298, Accuracy: 0.8646\\n\",","      \"Precision H2: 0.8646, Recall H2: 0.8646, F1 H2: 0.8646\\n\",","      \"H3: Avg Loss: 0.4623, Custom Accuracy: 0.8421\\n\",","      \"Precision H3: 0.8135, Recall H3:0.8064, F1 H3: 0.8100\\n\",","      \"Fold 6\\n\"","     ]","    },","    {","     \"name\": \"stderr\",","     \"output_type\": \"stream\",","     \"text\": [","      \"Testing: 100%|██████████| 24/24 [00:10\u003c00:00,  2.38it/s]\\n\"","     ]","    },","    {","     \"name\": \"stdout\",","     \"output_type\": \"stream\",","     \"text\": [","      \"Fold 6 Results:\\n\",","      \"H1: Avg Loss: 0.0041, Accuracy: 1.0000\\n\",","      \"Precision H1: 1.0000, Recall H1: 1.0000, F1 H1: 1.0000\\n\",","      \"H2: Avg Loss: 0.0858, Accuracy: 0.9896\\n\",","      \"Precision H2: 0.9896, Recall H2: 0.9896, F1 H2: 0.9896\\n\",","      \"H3: Avg Loss: 0.0937, Custom Accuracy: 0.9836\\n\",","      \"Precision H3: 0.9790, Recall H3:0.9822, F1 H3: 0.9806\\n\",","      \"Fold 7\\n\"","     ]","    },","    {","     \"name\": \"stderr\",","     \"output_type\": \"stream\",","     \"text\": [","      \"Testing: 100%|██████████| 24/24 [00:09\u003c00:00,  2.43it/s]\\n\"","     ]","    },","    {","     \"name\": \"stdout\",","     \"output_type\": \"stream\",","     \"text\": [","      \"Fold 7 Results:\\n\",","      \"H1: Avg Loss: 0.0919, Accuracy: 0.9896\\n\",","      \"Precision H1: 0.9896, Recall H1: 0.9896, F1 H1: 0.9896\\n\",","      \"H2: Avg Loss: 1.0149, Accuracy: 0.7865\\n\",","      \"Precision H2: 0.7865, Recall H2: 0.7865, F1 H2: 0.7865\\n\",","      \"H3: Avg Loss: 0.2616, Custom Accuracy: 0.9099\\n\",","      \"Precision H3: 0.8482, Recall H3:0.9095, F1 H3: 0.8778\\n\",","      \"Fold 8\\n\"","     ]","    },","    {","     \"name\": \"stderr\",","     \"output_type\": \"stream\",","     \"text\": [","      \"Testing: 100%|██████████| 24/24 [00:09\u003c00:00,  2.52it/s]\\n\"","     ]","    },","    {","     \"name\": \"stdout\",","     \"output_type\": \"stream\",","     \"text\": [","      \"Fold 8 Results:\\n\",","      \"H1: Avg Loss: 1.0243, Accuracy: 0.8073\\n\",","      \"Precision H1: 0.8073, Recall H1: 0.8073, F1 H1: 0.8073\\n\",","      \"H2: Avg Loss: 0.8207, Accuracy: 0.7552\\n\",","      \"Precision H2: 0.7552, Recall H2: 0.7552, F1 H2: 0.7552\\n\",","      \"H3: Avg Loss: 0.6843, Custom Accuracy: 0.7448\\n\",","      \"Precision H3: 0.7006, Recall H3:0.6886, F1 H3: 0.6946\\n\",","      \"Fold 9\\n\"","     ]","    },","    {","     \"name\": \"stderr\",","     \"output_type\": \"stream\",","     \"text\": [","      \"Testing: 100%|██████████| 24/24 [00:10\u003c00:00,  2.36it/s]\\n\"","     ]","    },","    {","     \"name\": \"stdout\",","     \"output_type\": \"stream\",","     \"text\": [","      \"Fold 9 Results:\\n\",","      \"H1: Avg Loss: 0.0044, Accuracy: 1.0000\\n\",","      \"Precision H1: 1.0000, Recall H1: 1.0000, F1 H1: 1.0000\\n\",","      \"H2: Avg Loss: 0.0996, Accuracy: 0.9844\\n\",","      \"Precision H2: 0.9844, Recall H2: 0.9844, F1 H2: 0.9844\\n\",","      \"H3: Avg Loss: 0.0938, Custom Accuracy: 0.9832\\n\",","      \"Precision H3: 0.9789, Recall H3:0.9807, F1 H3: 0.9798\\n\",","      \"Fold 10\\n\"","     ]","    },","    {","     \"name\": \"stderr\",","     \"output_type\": \"stream\",","     \"text\": [","      \"Testing: 100%|██████████| 24/24 [00:10\u003c00:00,  2.27it/s]\"","     ]","    },","    {","     \"name\": \"stdout\",","     \"output_type\": \"stream\",","     \"text\": [","      \"Fold 10 Results:\\n\",","      \"H1: Avg Loss: 0.0396, Accuracy: 0.9948\\n\",","      \"Precision H1: 0.9948, Recall H1: 0.9948, F1 H1: 0.9948\\n\",","      \"H2: Avg Loss: 0.0019, Accuracy: 1.0000\\n\",","      \"Precision H2: 1.0000, Recall H2: 1.0000, F1 H2: 1.0000\\n\",","      \"H3: Avg Loss: 0.0890, Custom Accuracy: 0.9872\\n\",","      \"Precision H3: 0.9872, Recall H3:0.9840, F1 H3: 0.9856\\n\",","      \"Average Results across 10 folds:\\n\",","      \"H1: Avg Loss: 0.3330, Accuracy: 0.9396, Precision: 0.9396, Recall: 0.9396, F1: 0.9396\\n\",","      \"H2: Avg Loss: 0.5844, Accuracy: 0.8573, Precision: 0.8573, Recall: 0.8573, F1: 0.8573\\n\",","      \"H3: Avg Loss: 0.3208, Custom Accuracy: 0.8904, Precision: 0.8574, Recall: 0.8724, F1: 0.8646\\n\"","     ]","    },","    {","     \"name\": \"stderr\",","     \"output_type\": \"stream\",","     \"text\": [","      \"\\n\"","     ]","    }","   ],","   \"source\": [","    \"#unseen chatgpt equivalent texts policy p3\\n\",","    \"\\n\",","    \"import pandas as pd\\n\",","    \"import torch.nn as nn\\n\",","    \"from torch.utils.data import DataLoader, Dataset, Subset\\n\",","    \"from transformers import AutoTokenizer, AutoModel\\n\",","    \"from sklearn.metrics import accuracy_score, precision_score, recall_score, f1_score\\n\",","    \"from sklearn.model_selection import KFold\\n\",","    \"from tqdm import tqdm\\n\",","    \"import numpy as np\\n\",","    \"import torch\\n\",","    \"from torch.optim.lr_scheduler import ReduceLROnPlateau\\n\",","    \"\\n\",","    \"# Function to load CSV with error handling for encoding issues and bad lines\\n\",","    \"def load_csv_with_fallback(file_path):\\n\",","    \"    encodings = ['utf-8', 'latin1', 'cp1252']\\n\",","    \"    for enc in encodings:\\n\",","    \"        try:\\n\",","    \"            return pd.read_csv(file_path, encoding=enc, on_bad_lines='skip')\\n\",","    \"        except UnicodeDecodeError:\\n\",","    \"            continue\\n\",","    \"    raise ValueError(f\\\"Failed to read the file {file_path} with available encodings.\\\")\\n\",","    \"\\n\",","    \"# Loading and preprocessing new_data_h1\\n\",","    \"new_data_h1 = load_csv_with_fallback(\\\"P1_NEW2.csv\\\")\\n\",","    \"new_data_h1['text'].fillna(\\\"\\\", inplace=True)  # Replace NaN values with empty strings\\n\",","    \"new_texts_h1 = new_data_h1['text'].tolist()\\n\",","    \"new_labels_h1 = new_data_h1.iloc[:, 1].values.tolist()\\n\",","    \"\\n\",","    \"# Loading and preprocessing new_data_h2\\n\",","    \"new_data_h2 = load_csv_with_fallback(\\\"P2_NEW2.csv\\\")\\n\",","    \"new_data_h2['text'].fillna(\\\"\\\", inplace=True)  # Replace NaN values with empty strings\\n\",","    \"new_texts_h2 = new_data_h2['text'].tolist()\\n\",","    \"new_labels_h2 = new_data_h2.iloc[:, 1].values.tolist()\\n\",","    \"\\n\",","    \"# Loading and preprocessing new_data_h3 for multi-label classification\\n\",","    \"new_data_h3 = load_csv_with_fallback(\\\"P3_NEW2.csv\\\")\\n\",","    \"new_data_h3['text'].fillna(\\\"\\\", inplace=True)  # Replace NaN values with empty strings\\n\",","    \"\\n\",","    \"# Replace NaN values in label columns with 0 for new_data_h3\\n\",","    \"for label_col in new_data_h3.columns[1:]:  # Skip the text column, only fill NaN in label columns\\n\",","    \"    new_data_h3[label_col].fillna(0, inplace=True)\\n\",","    \"\\n\",","    \"new_texts_h3 = new_data_h3['text'].tolist()\\n\",","    \"new_labels_h3 = new_data_h3.iloc[:, 1:].values.tolist()  # Extract labels after filling NaN values\\n\",","    \"\\n\",","    \"# Initialize the Clinical-Longformer tokenizer and model\\n\",","    \"tokenizer = AutoTokenizer.from_pretrained(\\\"yikuan8/Clinical-Longformer\\\")\\n\",","    \"clinical_longformer_model = AutoModel.from_pretrained(\\\"yikuan8/Clinical-Longformer\\\")\\n\",","    \"\\n\",","    \"# Define the TextDataset class\\n\",","    \"class TextDataset(Dataset):\\n\",","    \"    def __init__(self, texts, labels_h1, labels_h2, labels_h3, tokenizer, max_length=512):\\n\",","    \"        self.texts = texts\\n\",","    \"        self.labels_h1 = labels_h1  # Now expecting a list of binary values for H1\\n\",","    \"        self.labels_h2 = np.array(labels_h2).reshape(-1, 1)  # Reshape labels_h2 to [batch_size, 1]\\n\",","    \"        self.labels_h3 = labels_h3  # Multi-label but binary values for H3\\n\",","    \"        self.tokenizer = tokenizer\\n\",","    \"        self.max_length = max_length\\n\",","    \"\\n\",","    \"    def __len__(self):\\n\",","    \"        return len(self.texts)\\n\",","    \"\\n\",","    \"    def __getitem__(self, idx):\\n\",","    \"        text = self.texts[idx]\\n\",","    \"        inputs = self.tokenizer.encode_plus(\\n\",","    \"            text, None, add_special_tokens=True, max_length=self.max_length,\\n\",","    \"            padding='max_length', return_token_type_ids=True, truncation=True\\n\",","    \"        )\\n\",","    \"        return {\\n\",","    \"            'ids': torch.tensor(inputs['input_ids'], dtype=torch.long),\\n\",","    \"            'mask': torch.tensor(inputs['attention_mask'], dtype=torch.long),\\n\",","    \"            'labels_h1': torch.tensor(self.labels_h1[idx], dtype=torch.float).unsqueeze(-1),\\n\",","    \"            'labels_h2': torch.tensor(self.labels_h2[idx], dtype=torch.float),\\n\",","    \"            'labels_h3': torch.tensor(self.labels_h3[idx], dtype=torch.float)\\n\",","    \"        }\\n\",","    \"\\n\",","    \"# Define the model architecture for H1, H2, and H3\\n\",","    \"class HierarchicalClassifier(nn.Module):\\n\",","    \"    def __init__(self, num_labels_h3):\\n\",","    \"        super(HierarchicalClassifier, self).__init__()\\n\",","    \"        self.longformer = clinical_longformer_model\\n\",","    \"        self.dropout = nn.Dropout(0.5)  # Increased dropout rate\\n\",","    \"        self.fc_h1 = nn.Linear(self.longformer.config.hidden_size, 1)\\n\",","    \"        self.fc_h2 = nn.Linear(self.longformer.config.hidden_size, 1)\\n\",","    \"        self.fc_h3 = nn.Linear(self.longformer.config.hidden_size, num_labels_h3)\\n\",","    \"\\n\",","    \"    def forward(self, input_ids, attention_mask):\\n\",","    \"        outputs = self.longformer(input_ids, attention_mask=attention_mask)\\n\",","    \"        pooled_output = outputs.last_hidden_state[:, 0, :]  # Assuming using the [CLS] token's representation\\n\",","    \"        logits_h1 = self.fc_h1(self.dropout(pooled_output))\\n\",","    \"        logits_h2 = self.fc_h2(self.dropout(pooled_output))\\n\",","    \"        logits_h3 = self.fc_h3(self.dropout(pooled_output))\\n\",","    \"        return logits_h1, logits_h2, logits_h3\\n\",","    \"\\n\",","    \"# Custom accuracy function for H3\\n\",","    \"def custom_accuracy(y_true, y_pred):\\n\",","    \"    correct_labels = np.sum(np.equal(y_true, y_pred), axis=1)\\n\",","    \"    total_labels = y_true.shape[1]\\n\",","    \"    sample_accuracy = np.mean(correct_labels / total_labels)\\n\",","    \"    return sample_accuracy\\n\",","    \"\\n\",","    \"def custom_precision_recall_f1(y_true, y_pred):\\n\",","    \"    # Calculate precision and recall for each sample\\n\",","    \"    sample_precisions = []\\n\",","    \"    sample_recalls = []\\n\",","    \"    for true, pred in zip(y_true, y_pred):\\n\",","    \"        true_positive = np.sum((true == 1) \u0026 (pred == 1))\\n\",","    \"        false_positive = np.sum((true == 0) \u0026 (pred == 1))\\n\",","    \"        false_negative = np.sum((true == 1) \u0026 (pred == 0))\\n\",","    \"        \\n\",","    \"        sample_precision = true_positive / (true_positive + false_positive) if (true_positive + false_positive) \u003e 0 else 0\\n\",","    \"        sample_recall = true_positive / (true_positive + false_negative) if (true_positive + false_negative) \u003e 0 else 0\\n\",","    \"        \\n\",","    \"        sample_precisions.append(sample_precision)\\n\",","    \"        sample_recalls.append(sample_recall)\\n\",","    \"    \\n\",","    \"    # Calculate average precision and recall across all samples\\n\",","    \"    avg_precision = np.mean(sample_precisions)\\n\",","    \"    avg_recall = np.mean(sample_recalls)\\n\",","    \"    \\n\",","    \"    # Calculate F1 score\\n\",","    \"    if avg_precision + avg_recall \u003e 0:\\n\",","    \"        avg_f1 = 2 * (avg_precision * avg_recall) / (avg_precision + avg_recall)\\n\",","    \"    else:\\n\",","    \"        avg_f1 = 0\\n\",","    \"    \\n\",","    \"    return avg_precision, avg_recall, avg_f1\\n\",","    \"\\n\",","    \"# Initialize and move the model to the appropriate device (CPU/GPU)\\n\",","    \"device = torch.device(\\\"cuda\\\" if torch.cuda.is_available() else \\\"cpu\\\")\\n\",","    \"\\n\",","    \"# Load the saved model\\n\",","    \"model_path = 'model_Clinical-Longformer_V1.pth'  # Path to your saved model\\n\",","    \"model = HierarchicalClassifier(num_labels_h3=len(new_labels_h3[0]))\\n\",","    \"model.load_state_dict(torch.load(model_path))\\n\",","    \"model.to(device)\\n\",","    \"model.eval()  # Set the model to evaluation mode\\n\",","    \"\\n\",","    \"# Define the test function\\n\",","    \"def test(model, dataloader, criterion_h1, criterion_h2, criterion_h3, device):\\n\",","    \"    model.eval()\\n\",","    \"    total_loss_h1 = 0.0\\n\",","    \"    total_loss_h2 = 0.0\\n\",","    \"    total_loss_h3 = 0.0\\n\",","    \"    all_preds_h1, all_preds_h2, all_preds_h3 = [], [], []\\n\",","    \"    all_labels_h1, all_labels_h2, all_labels_h3 = [], [], []\\n\",","    \"\\n\",","    \"    with torch.no_grad():\\n\",","    \"        for batch in tqdm(dataloader, total=len(dataloader), desc=\\\"Testing\\\"):\\n\",","    \"            input_ids = batch['ids'].to(device)\\n\",","    \"            attention_mask = batch['mask'].to(device)\\n\",","    \"            \\n\",","    \"            labels_h1 = batch['labels_h1'].to(device)  # Shape: [batch_size, 1]\\n\",","    \"            labels_h2 = batch['labels_h2'].to(device)  # Shape: [batch_size, 1]\\n\",","    \"            labels_h3 = batch['labels_h3'].to(device)  # Shape: [batch_size, num_labels_h3]\\n\",","    \"            \\n\",","    \"            logits_h1, logits_h2, logits_h3 = model(input_ids, attention_mask)\\n\",","    \"            \\n\",","    \"            loss_h1 = criterion_h1(logits_h1, labels_h1)\\n\",","    \"            loss_h2 = criterion_h2(logits_h2, labels_h2)\\n\",","    \"            loss_h3 = criterion_h3(logits_h3, labels_h3)\\n\",","    \"\\n\",","    \"            total_loss_h1 += loss_h1.item()\\n\",","    \"            total_loss_h2 += loss_h2.item()\\n\",","    \"            total_loss_h3 += loss_h3.item()\\n\",","    \"\\n\",","    \"            preds_h1 = torch.sigmoid(logits_h1)\\n\",","    \"            preds_h2 = torch.sigmoid(logits_h2)\\n\",","    \"            preds_h3 = torch.sigmoid(logits_h3)\\n\",","    \"\\n\",","    \"            all_preds_h1.extend(preds_h1.cpu().numpy())\\n\",","    \"            all_preds_h2.extend(preds_h2.cpu().numpy())\\n\",","    \"            all_preds_h3.extend(preds_h3.cpu().numpy())\\n\",","    \"\\n\",","    \"            all_labels_h1.extend(labels_h1.cpu().numpy())\\n\",","    \"            all_labels_h2.extend(labels_h2.cpu().numpy())\\n\",","    \"            all_labels_h3.extend(labels_h3.cpu().numpy())\\n\",","    \"\\n\",","    \"    avg_loss_h1 = total_loss_h1 / len(dataloader)\\n\",","    \"    avg_loss_h2 = total_loss_h2 / len(dataloader)\\n\",","    \"    avg_loss_h3 = total_loss_h3 / len(dataloader)\\n\",","    \"\\n\",","    \"    return avg_loss_h1, avg_loss_h2, avg_loss_h3, all_preds_h1, all_preds_h2, all_preds_h3, all_labels_h1, all_labels_h2, all_labels_h3\\n\",","    \"\\n\",","    \"# K-Fold Cross Validation\\n\",","    \"kf = KFold(n_splits=10)\\n\",","    \"\\n\",","    \"all_texts = new_texts_h1 + new_texts_h2 + new_texts_h3\\n\",","    \"all_labels_h1 = new_labels_h1 + new_labels_h1 + new_labels_h1\\n\",","    \"all_labels_h2 = new_labels_h2 + new_labels_h2 + new_labels_h2\\n\",","    \"all_labels_h3 = new_labels_h3 + new_labels_h3 + new_labels_h3\\n\",","    \"\\n\",","    \"dataset = TextDataset(all_texts, all_labels_h1, all_labels_h2, all_labels_h3, tokenizer)\\n\",","    \"\\n\",","    \"fold_results = []\\n\",","    \"\\n\",","    \"criterion_h1 = nn.BCEWithLogitsLoss()\\n\",","    \"criterion_h2 = nn.BCEWithLogitsLoss()\\n\",","    \"criterion_h3 = nn.MultiLabelSoftMarginLoss()\\n\",","    \"\\n\",","    \"for fold, (train_idx, val_idx) in enumerate(kf.split(dataset)):\\n\",","    \"    print(f\\\"Fold {fold + 1}\\\")\\n\",","    \"    \\n\",","    \"    val_subset = Subset(dataset, val_idx)\\n\",","    \"    val_dataloader = DataLoader(val_subset, batch_size=8, shuffle=False, drop_last=True)\\n\",","    \"    \\n\",","    \"    avg_loss_h1, avg_loss_h2, avg_loss_h3, val_preds_h1, val_preds_h2, val_preds_h3, val_labels_h1, val_labels_h2, val_labels_h3 = test(model, val_dataloader, criterion_h1, criterion_h2, criterion_h3, device)\\n\",","    \"    \\n\",","    \"    threshold_h1 = 0.5\\n\",","    \"    val_preds_h1_binary = (np.array(val_preds_h1) \u003e threshold_h1).astype(int)\\n\",","    \"    acc_h1 = accuracy_score(val_labels_h1, val_preds_h1_binary)\\n\",","    \"    precision_h1 = precision_score(val_labels_h1, val_preds_h1_binary, average='micro')\\n\",","    \"    recall_h1 = recall_score(val_labels_h1, val_preds_h1_binary, average='micro')\\n\",","    \"    f1_h1 = f1_score(val_labels_h1, val_preds_h1_binary, average='micro')\\n\",","    \"    \\n\",","    \"    threshold_h2 = 0.5\\n\",","    \"    val_preds_h2_binary = (np.array(val_preds_h2) \u003e threshold_h2).astype(int)\\n\",","    \"    acc_h2 = accuracy_score(val_labels_h2, val_preds_h2_binary)\\n\",","    \"    precision_h2 = precision_score(val_labels_h2, val_preds_h2_binary, average='micro')\\n\",","    \"    recall_h2 = recall_score(val_labels_h2, val_preds_h2_binary, average='micro')\\n\",","    \"    f1_h2 = f1_score(val_labels_h2, val_preds_h2_binary, average='micro')\\n\",","    \"    \\n\",","    \"    threshold_h3 = 0.5\\n\",","    \"    val_preds_h3_binary = (np.array(val_preds_h3) \u003e threshold_h3).astype(int)\\n\",","    \"    acc_h3_custom = custom_accuracy(np.array(val_labels_h3), val_preds_h3_binary)\\n\",","    \"    precision_h3, recall_h3, f1_h3 = custom_precision_recall_f1(np.array(val_labels_h3), val_preds_h3_binary)\\n\",","    \"    \\n\",","    \"    print(f\\\"Fold {fold + 1} Results:\\\")\\n\",","    \"    print(f\\\"H1: Avg Loss: {avg_loss_h1:.4f}, Accuracy: {acc_h1:.4f}\\\")\\n\",","    \"    print(f\\\"Precision H1: {precision_h1:.4f}, Recall H1: {recall_h1:.4f}, F1 H1: {f1_h1:.4f}\\\")\\n\",","    \"    \\n\",","    \"    print(f\\\"H2: Avg Loss: {avg_loss_h2:.4f}, Accuracy: {acc_h2:.4f}\\\")\\n\",","    \"    print(f\\\"Precision H2: {precision_h2:.4f}, Recall H2: {recall_h2:.4f}, F1 H2: {f1_h2:.4f}\\\")\\n\",","    \"    \\n\",","    \"    print(f\\\"H3: Avg Loss: {avg_loss_h3:.4f}, Custom Accuracy: {acc_h3_custom:.4f}\\\")\\n\",","    \"    print(f\\\"Precision H3: {precision_h3:.4f}, Recall H3:{recall_h3:.4f}, F1 H3: {f1_h3:.4f}\\\")\\n\",","    \"    \\n\",","    \"    fold_results.append((avg_loss_h1, avg_loss_h2, avg_loss_h3, acc_h1, precision_h1, recall_h1, f1_h1, acc_h2, precision_h2, recall_h2, f1_h2, acc_h3_custom, precision_h3, recall_h3, f1_h3))\\n\",","    \"\\n\",","    \"# Average results across folds\\n\",","    \"avg_results = np.mean(fold_results, axis=0)\\n\",","    \"print(f\\\"Average Results across {kf.n_splits} folds:\\\")\\n\",","    \"print(f\\\"H1: Avg Loss: {avg_results[0]:.4f}, Accuracy: {avg_results[3]:.4f}, Precision: {avg_results[4]:.4f}, Recall: {avg_results[5]:.4f}, F1: {avg_results[6]:.4f}\\\")\\n\",","    \"print(f\\\"H2: Avg Loss: {avg_results[1]:.4f}, Accuracy: {avg_results[7]:.4f}, Precision: {avg_results[8]:.4f}, Recall: {avg_results[9]:.4f}, F1: {avg_results[10]:.4f}\\\")\\n\",","    \"print(f\\\"H3: Avg Loss: {avg_results[2]:.4f}, Custom Accuracy: {avg_results[11]:.4f}, Precision: {avg_results[12]:.4f}, Recall: {avg_results[13]:.4f}, F1: {avg_results[14]:.4f}\\\")\\n\"","   ]","  },","  {","   \"cell_type\": \"code\",","   \"execution_count\": null,","   \"metadata\": {},","   \"outputs\": [],","   \"source\": []","  }"," ],"," \"metadata\": {","  \"kernelspec\": {","   \"display_name\": \"Python 3\",","   \"language\": \"python\",","   \"name\": \"python3\"","  },","  \"language_info\": {","   \"codemirror_mode\": {","    \"name\": \"ipython\",","    \"version\": 3","   },","   \"file_extension\": \".py\",","   \"mimetype\": \"text/x-python\",","   \"name\": \"python\",","   \"nbconvert_exporter\": \"python\",","   \"pygments_lexer\": \"ipython3\",","   \"version\": \"3.8.10\"","  }"," },"," \"nbformat\": 4,"," \"nbformat_minor\": 2","}"],"stylingDirectives":null,"colorizedLines":null,"csv":null,"csvError":null,"dependabotInfo":{"showConfigurationBanner":false,"configFilePath":null,"networkDependabotPath":"/MadhaviPagare/SDOMH-LLM/network/updates","dismissConfigurationNoticePath":"/settings/dismiss-notice/dependabot_configuration_notice","configurationNoticeDismissed":false},"displayName":"ClinicalLongformer.ipynb","displayUrl":"https://notebooks.githubusercontent.com/view/ipynb?browser=chrome\u0026bypass_fastly=true\u0026color_mode=auto\u0026commit=fa891fd95084b6511db88ba55445265650da43ad\u0026device=unknown_device\u0026docs_host=https%3A%2F%2Fdocs.github.com\u0026enc_url=68747470733a2f2f7261772e67697468756275736572636f6e74656e742e636f6d2f4d6164686176695061676172652f53444f4d482d4c4c4d2f666138393166643935303834623635313164623838626135353434353236353635306461343361642f436c696e6963616c4c6f6e67666f726d65722e6970796e62\u0026logged_in=true\u0026nwo=MadhaviPagare%2FSDOMH-LLM\u0026path=ClinicalLongformer.ipynb\u0026platform=windows\u0026repository_id=891877994\u0026repository_type=Repository\u0026version=137","headerInfo":{"blobSize":"164 KB","deleteTooltip":"Delete this file","editTooltip":"Edit this file","ghDesktopPath":"https://desktop.github.com","isGitLfs":false,"onBranch":true,"shortPath":"42ebc20","siteNavLoginPath":"/login?return_to=https%3A%2F%2Fgithub.com%2FMadhaviPagare%2FSDOMH-LLM%2Fblob%2Fmain%2FClinicalLongformer.ipynb","isCSV":false,"isRichtext":false,"toc":null,"lineInfo":{"truncatedLoc":"2192","truncatedSloc":"2192"},"mode":"file"},"image":false,"isCodeownersFile":null,"isPlain":false,"isValidLegacyIssueTemplate":false,"issueTemplate":null,"discussionTemplate":null,"language":"Jupyter Notebook","languageID":185,"large":false,"planSupportInfo":{"repoIsFork":null,"repoOwnedByCurrentUser":null,"requestFullPath":"/MadhaviPagare/SDOMH-LLM/blob/main/ClinicalLongformer.ipynb","showFreeOrgGatedFeatureMessage":null,"showPlanSupportBanner":null,"upgradeDataAttributes":null,"upgradePath":null},"publishBannersInfo":{"dismissActionNoticePath":"/settings/dismiss-notice/publish_action_from_dockerfile","releasePath":"/MadhaviPagare/SDOMH-LLM/releases/new?marketplace=true","showPublishActionBanner":false},"rawBlobUrl":"https://github.com/MadhaviPagare/SDOMH-LLM/raw/refs/heads/main/ClinicalLongformer.ipynb","renderImageOrRaw":false,"richText":null,"renderedFileInfo":{"identityUUID":"9a9564fb-be3c-4722-899f-5bf38c0ba4b8","renderFileType":"ipynb","size":167561},"shortPath":null,"symbolsEnabled":true,"tabSize":8,"topBannersInfo":{"overridingGlobalFundingFile":false,"globalPreferredFundingPath":null,"showInvalidCitationWarning":false,"citationHelpUrl":"https://docs.github.com/github/creating-cloning-and-archiving-repositories/creating-a-repository-on-github/about-citation-files","actionsOnboardingTip":null},"truncated":false,"viewable":true,"workflowRedirectUrl":null,"symbols":{"timed_out":false,"not_analyzed":true,"symbols":[]}},"copilotInfo":{"documentationUrl":"https://docs.github.com/copilot/overview-of-github-copilot/about-github-copilot-for-individuals","notices":{"codeViewPopover":{"dismissed":false,"dismissPath":"/settings/dismiss-notice/code_view_copilot_popover"}},"userAccess":{"hasSubscriptionEnded":false,"orgHasCFBAccess":false,"userHasCFIAccess":false,"userHasOrgs":false,"userIsOrgAdmin":false,"userIsOrgMember":false,"business":null,"featureRequestInfo":null}},"copilotAccessAllowed":false,"modelsAccessAllowed":false,"modelsRepoIntegrationEnabled":false,"csrf_tokens":{"/MadhaviPagare/SDOMH-LLM/branches":{"post":"TvCkE1tlMh3IdlAfwsD6N-nxeFpc0ASFz6ATrGH07ietYnHdQuMaa6HvsFO1purHC5HfK16xgz9ZJWgO85HWbw"},"/repos/preferences":{"post":"Ukq_Um2QQHyUY_ZsnkQmR99aa43jQDv2S1C68REy7FVfk1Juy-75p4WOcNWTA2G9AopaW0Ej1jAYqHPql5te1Q"}}},"title":"SDOMH-LLM/ClinicalLongformer.ipynb at main · MadhaviPagare/SDOMH-LLM","appPayload":{"helpUrl":"https://docs.github.com","findFileWorkerPath":"/assets-cdn/worker/find-file-worker-263cab1760dd.js","findInFileWorkerPath":"/assets-cdn/worker/find-in-file-worker-1b17b3e7786a.js","githubDevUrl":"https://github.dev/","enabled_features":{"code_nav_ui_events":false,"react_blob_overlay":true,"accessible_code_button":true}}}</script>
  <div data-target="react-app.reactRoot"><meta data-hydrostats="publish"> <!-- --> <!-- --> <button hidden="" data-testid="header-permalink-button" data-hotkey-scope="read-only-cursor-text-area" data-hotkey="y,Shift+Y"></button><button hidden="" data-hotkey="y,Shift+Y"></button><div><div style="--spacing:var(--spacing-none)" class="prc-PageLayout-PageLayoutRoot-1zlEO"><div class="prc-PageLayout-PageLayoutWrapper-s2ao4" data-width="full"><div class="prc-PageLayout-PageLayoutContent-jzDMn"><div tabindex="0" class="Box-sc-g0xbh4-0 gISSDQ"><div class="prc-PageLayout-PaneWrapper-nGO0U ReposFileTreePane-module__Pane--wS7IV ReposFileTreePane-module__HidePane--Gj4XZ" style="--offset-header:0px;--spacing-row:var(--spacing-none);--spacing-column:var(--spacing-none)" data-is-hidden="false" data-position="start" data-sticky="true"><div class="prc-PageLayout-HorizontalDivider-CYLp5 prc-PageLayout-PaneHorizontalDivider-4exOb" data-variant="none" data-position="start" style="--spacing-divider:var(--spacing-none);--spacing:var(--spacing-none)"></div><div class="prc-PageLayout-Pane-Vl5LI" data-resizable="true" style="--spacing:var(--spacing-none);--pane-min-width:256px;--pane-max-width:calc(100vw - var(--pane-max-width-diff));--pane-width-size:var(--pane-width-large);--pane-width:320px"><div><div id="repos-file-tree" class="Box-sc-g0xbh4-0 bNhwaa"><div class="ReposFileTreePane-module__Box_1--Bz4Aw"><div class="Box-sc-g0xbh4-0 jfIeyl"><h2 class="use-tree-pane-module__Heading--DlnQ2 prc-Heading-Heading-6CmGO"><button data-component="IconButton" type="button" data-testid="collapse-file-tree-button" aria-expanded="true" aria-controls="repos-file-tree" class="prc-Button-ButtonBase-c50BI position-relative ExpandFileTreeButton-module__expandButton--gL4is fgColor-muted prc-Button-IconButton-szpyj" data-loading="false" data-no-visuals="true" data-size="medium" data-variant="invisible" aria-describedby=":R756mplab:-loading-announcement" aria-labelledby=":R156mplab:" fdprocessedid="kn0m9" data-hotkey="Control+b"><svg aria-hidden="true" focusable="false" class="octicon octicon-sidebar-expand" viewBox="0 0 16 16" width="16" height="16" fill="currentColor" display="inline-block" overflow="visible" style="vertical-align:text-bottom"><path d="m4.177 7.823 2.396-2.396A.25.25 0 0 1 7 5.604v4.792a.25.25 0 0 1-.427.177L4.177 8.177a.25.25 0 0 1 0-.354Z"></path><path d="M0 1.75C0 .784.784 0 1.75 0h12.5C15.216 0 16 .784 16 1.75v12.5A1.75 1.75 0 0 1 14.25 16H1.75A1.75 1.75 0 0 1 0 14.25Zm1.75-.25a.25.25 0 0 0-.25.25v12.5c0 .138.112.25.25.25H9.5v-13Zm12.5 13a.25.25 0 0 0 .25-.25V1.75a.25.25 0 0 0-.25-.25H11v13Z"></path></svg></button><span class="prc-TooltipV2-Tooltip-cYMVY" data-direction="se" aria-hidden="true" id=":R156mplab:" popover="auto">Collapse file tree</span><button hidden="" data-testid="" data-hotkey-scope="read-only-cursor-text-area" data-hotkey="Control+b"></button></h2><h2 class="Box-sc-g0xbh4-0 kOkWgo prc-Heading-Heading-6CmGO">Files</h2></div><div class="ReposFileTreePane-module__Box_2--uC_pl"><div class="ReposFileTreePane-module__Box_3--Tgoja"><button type="button" aria-haspopup="true" aria-expanded="false" tabindex="0" aria-label="main branch" data-testid="anchor-button" class="Box-sc-g0xbh4-0 gMOVLe prc-Button-ButtonBase-c50BI react-repos-tree-pane-ref-selector width-full ref-selector-class" data-loading="false" data-size="medium" data-variant="default" aria-describedby="branch-picker-repos-header-ref-selector-loading-announcement" id="branch-picker-repos-header-ref-selector" fdprocessedid="shzf7k" data-hotkey="w"><span data-component="buttonContent" class="Box-sc-g0xbh4-0 gUkoLg prc-Button-ButtonContent-HKbr-"><span data-component="text" class="prc-Button-Label-pTQ3x"><div class="Box-sc-g0xbh4-0 bZBlpz"><div class="Box-sc-g0xbh4-0 lhTYNA"><svg aria-hidden="true" focusable="false" class="octicon octicon-git-branch" viewBox="0 0 16 16" width="16" height="16" fill="currentColor" display="inline-block" overflow="visible" style="vertical-align:text-bottom"><path d="M9.5 3.25a2.25 2.25 0 1 1 3 2.122V6A2.5 2.5 0 0 1 10 8.5H6a1 1 0 0 0-1 1v1.128a2.251 2.251 0 1 1-1.5 0V5.372a2.25 2.25 0 1 1 1.5 0v1.836A2.493 2.493 0 0 1 6 7h4a1 1 0 0 0 1-1v-.628A2.25 2.25 0 0 1 9.5 3.25Zm-6 0a.75.75 0 1 0 1.5 0 .75.75 0 0 0-1.5 0Zm8.25-.75a.75.75 0 1 0 0 1.5.75.75 0 0 0 0-1.5ZM4.25 12a.75.75 0 1 0 0 1.5.75.75 0 0 0 0-1.5Z"></path></svg></div><div class="Box-sc-g0xbh4-0 ffLUq ref-selector-button-text-container"><span class="Box-sc-g0xbh4-0 bmcJak prc-Text-Text-0ima0">&nbsp;<!-- -->main</span></div></div></span><span data-component="trailingVisual" class="prc-Button-Visual-2epfX prc-Button-VisualWrap-Db-eB"><svg aria-hidden="true" focusable="false" class="octicon octicon-triangle-down" viewBox="0 0 16 16" width="16" height="16" fill="currentColor" display="inline-block" overflow="visible" style="vertical-align:text-bottom"><path d="m4.427 7.427 3.396 3.396a.25.25 0 0 0 .354 0l3.396-3.396A.25.25 0 0 0 11.396 7H4.604a.25.25 0 0 0-.177.427Z"></path></svg></span></span></button><button hidden="" data-hotkey-scope="read-only-cursor-text-area" data-hotkey="w"></button></div><div class="ReposFileTreePane-module__Box_4--brBpx"><a data-component="IconButton" type="button" class="prc-Button-ButtonBase-c50BI ReposFileTreePane-module__IconButton--tNSTv prc-Button-IconButton-szpyj" data-loading="false" data-no-visuals="true" data-size="medium" data-variant="default" aria-describedby=":R6q6mplab:-loading-announcement" aria-labelledby=":Rq6mplab:" href="https://github.com/MadhaviPagare/SDOMH-LLM/new/main"><svg aria-hidden="true" focusable="false" class="octicon octicon-plus" viewBox="0 0 16 16" width="16" height="16" fill="currentColor" display="inline-block" overflow="visible" style="vertical-align:text-bottom"><path d="M7.75 2a.75.75 0 0 1 .75.75V7h4.25a.75.75 0 0 1 0 1.5H8.5v4.25a.75.75 0 0 1-1.5 0V8.5H2.75a.75.75 0 0 1 0-1.5H7V2.75A.75.75 0 0 1 7.75 2Z"></path></svg></a><span class="prc-TooltipV2-Tooltip-cYMVY" data-direction="n" aria-hidden="true" id=":Rq6mplab:" popover="auto">Add file</span><button data-component="IconButton" type="button" class="Box-sc-g0xbh4-0 dPUXSa prc-Button-ButtonBase-c50BI SearchButton-module__IconButton--LGy8b prc-Button-IconButton-szpyj" data-loading="false" data-no-visuals="true" data-size="medium" data-variant="default" aria-describedby=":Rra6mplab:-loading-announcement" aria-labelledby=":R3a6mplab:" fdprocessedid="r1f4im" data-hotkey="/"><svg aria-hidden="true" focusable="false" class="octicon octicon-search" viewBox="0 0 16 16" width="16" height="16" fill="currentColor" display="inline-block" overflow="visible" style="vertical-align:text-bottom"><path d="M10.68 11.74a6 6 0 0 1-7.922-8.982 6 6 0 0 1 8.982 7.922l3.04 3.04a.749.749 0 0 1-.326 1.275.749.749 0 0 1-.734-.215ZM11.5 7a4.499 4.499 0 1 0-8.997 0A4.499 4.499 0 0 0 11.5 7Z"></path></svg></button><span class="prc-TooltipV2-Tooltip-cYMVY" data-direction="nw" aria-hidden="true" id=":R3a6mplab:" popover="auto">Search this repository</span><button hidden="" data-testid="" data-hotkey-scope="read-only-cursor-text-area" data-hotkey="/"></button></div></div></div><div class="Box-sc-g0xbh4-0 ReposFileTreePane-module__FileResultsList--t38MI FileResultsList-module__Box_1--ZnWjQ"><span class="FileResultsList-module__FilesSearchBox--J5FtW FilesSearchBox-module__TextInput--LKpMn TextInput-wrapper prc-components-TextInputWrapper-i1ofR prc-components-TextInputBaseWrapper-ueK9q" data-leading-visual="true" data-trailing-visual="true" aria-busy="false"><span class="TextInput-icon" id=":R5amplab:" aria-hidden="true"><svg aria-hidden="true" focusable="false" class="octicon octicon-search" viewBox="0 0 16 16" width="16" height="16" fill="currentColor" display="inline-block" overflow="visible" style="vertical-align:text-bottom"><path d="M10.68 11.74a6 6 0 0 1-7.922-8.982 6 6 0 0 1 8.982 7.922l3.04 3.04a.749.749 0 0 1-.326 1.275.749.749 0 0 1-.734-.215ZM11.5 7a4.499 4.499 0 1 0-8.997 0A4.499 4.499 0 0 0 11.5 7Z"></path></svg></span><input type="text" aria-label="Go to file" role="combobox" aria-controls="file-results-list" aria-expanded="false" aria-haspopup="dialog" autocorrect="off" spellcheck="false" placeholder="Go to file" aria-describedby=":R5amplab: :R5amplabH1:" data-component="input" class="prc-components-Input-Ic-y8" value="" fdprocessedid="uoucm7"><span class="TextInput-icon" id=":R5amplabH1:" aria-hidden="true"><div class="FilesSearchBox-module__Box--Ye6rL"><kbd>t</kbd></div></span></span></div><button hidden="" data-testid="" data-hotkey-scope="read-only-cursor-text-area" data-hotkey="t,Shift+T"></button><button hidden="" data-hotkey="t,Shift+T"></button><div class="Box-sc-g0xbh4-0 ReposFileTreePane-module__Box_5--tQNH_"><div><div class="react-tree-show-tree-items"><div class="ReposFileTreeView-module__Box--V2jWA" data-testid="repos-file-tree-container"><nav aria-label="File Tree Navigation"><span role="status" aria-live="polite" aria-atomic="true" class="_VisuallyHidden__VisuallyHidden-sc-11jhm7a-0 brGdpi"></span><ul role="tree" aria-label="Files" data-truncate-text="true" class="prc-TreeView-TreeViewRootUlStyles-eZtxW"><li class="PRIVATE_TreeView-item prc-TreeView-TreeViewItem-ShJr0" tabindex="-1" id="Bio-clinicalBert.ipynb-item" role="treeitem" aria-labelledby=":r11:" aria-describedby=":r12:" aria-level="1" aria-selected="false"><div class="PRIVATE_TreeView-item-container prc-TreeView-TreeViewItemContainer--2Rkn" style="--level: 1; content-visibility: auto; contain-intrinsic-size: auto 2rem;"><div style="grid-area: spacer; display: flex;"><div style="width: 100%; display: flex;"></div></div><div id=":r11:" class="PRIVATE_TreeView-item-content prc-TreeView-TreeViewItemContent-f0r0b"><div class="PRIVATE_VisuallyHidden prc-TreeView-TreeViewVisuallyHidden-4-mPv" aria-hidden="true" id=":r12:"></div><div class="PRIVATE_TreeView-item-visual prc-TreeView-TreeViewItemVisual-dRlGq" aria-hidden="true"><svg aria-hidden="true" focusable="false" class="octicon octicon-file" viewBox="0 0 16 16" width="16" height="16" fill="currentColor" display="inline-block" overflow="visible" style="vertical-align: text-bottom;"><path d="M2 1.75C2 .784 2.784 0 3.75 0h6.586c.464 0 .909.184 1.237.513l2.914 2.914c.329.328.513.773.513 1.237v9.586A1.75 1.75 0 0 1 13.25 16h-9.5A1.75 1.75 0 0 1 2 14.25Zm1.75-.25a.25.25 0 0 0-.25.25v12.5c0 .138.112.25.25.25h9.5a.25.25 0 0 0 .25-.25V6h-2.75A1.75 1.75 0 0 1 9 4.25V1.5Zm6.75.062V4.25c0 .138.112.25.25.25h2.688l-.011-.013-2.914-2.914-.013-.011Z"></path></svg></div><span class="PRIVATE_TreeView-item-content-text prc-TreeView-TreeViewItemContentText-smZM-"><span>Bio-clinicalBert.ipynb</span></span></div></div></li><li class="PRIVATE_TreeView-item prc-TreeView-TreeViewItem-ShJr0" tabindex="0" id="ClinicalLongformer.ipynb-item" role="treeitem" aria-labelledby=":r14:" aria-describedby=":r15:" aria-level="1" aria-current="true" aria-selected="false"><div class="PRIVATE_TreeView-item-container prc-TreeView-TreeViewItemContainer--2Rkn" style="--level: 1;"><div style="grid-area: spacer; display: flex;"><div style="width: 100%; display: flex;"></div></div><div id=":r14:" class="PRIVATE_TreeView-item-content prc-TreeView-TreeViewItemContent-f0r0b"><div class="PRIVATE_VisuallyHidden prc-TreeView-TreeViewVisuallyHidden-4-mPv" aria-hidden="true" id=":r15:"></div><div class="PRIVATE_TreeView-item-visual prc-TreeView-TreeViewItemVisual-dRlGq" aria-hidden="true"><svg aria-hidden="true" focusable="false" class="octicon octicon-file" viewBox="0 0 16 16" width="16" height="16" fill="currentColor" display="inline-block" overflow="visible" style="vertical-align: text-bottom;"><path d="M2 1.75C2 .784 2.784 0 3.75 0h6.586c.464 0 .909.184 1.237.513l2.914 2.914c.329.328.513.773.513 1.237v9.586A1.75 1.75 0 0 1 13.25 16h-9.5A1.75 1.75 0 0 1 2 14.25Zm1.75-.25a.25.25 0 0 0-.25.25v12.5c0 .138.112.25.25.25h9.5a.25.25 0 0 0 .25-.25V6h-2.75A1.75 1.75 0 0 1 9 4.25V1.5Zm6.75.062V4.25c0 .138.112.25.25.25h2.688l-.011-.013-2.914-2.914-.013-.011Z"></path></svg></div><span class="PRIVATE_TreeView-item-content-text prc-TreeView-TreeViewItemContentText-smZM-"><span>ClinicalLongformer.ipynb</span></span></div></div></li><li class="PRIVATE_TreeView-item prc-TreeView-TreeViewItem-ShJr0" tabindex="-1" id="Clinical_Bert.ipynb-item" role="treeitem" aria-labelledby=":r17:" aria-describedby=":r18:" aria-level="1" aria-selected="false"><div class="PRIVATE_TreeView-item-container prc-TreeView-TreeViewItemContainer--2Rkn" style="--level: 1; content-visibility: auto; contain-intrinsic-size: auto 2rem;"><div style="grid-area: spacer; display: flex;"><div style="width: 100%; display: flex;"></div></div><div id=":r17:" class="PRIVATE_TreeView-item-content prc-TreeView-TreeViewItemContent-f0r0b"><div class="PRIVATE_VisuallyHidden prc-TreeView-TreeViewVisuallyHidden-4-mPv" aria-hidden="true" id=":r18:"></div><div class="PRIVATE_TreeView-item-visual prc-TreeView-TreeViewItemVisual-dRlGq" aria-hidden="true"><svg aria-hidden="true" focusable="false" class="octicon octicon-file" viewBox="0 0 16 16" width="16" height="16" fill="currentColor" display="inline-block" overflow="visible" style="vertical-align: text-bottom;"><path d="M2 1.75C2 .784 2.784 0 3.75 0h6.586c.464 0 .909.184 1.237.513l2.914 2.914c.329.328.513.773.513 1.237v9.586A1.75 1.75 0 0 1 13.25 16h-9.5A1.75 1.75 0 0 1 2 14.25Zm1.75-.25a.25.25 0 0 0-.25.25v12.5c0 .138.112.25.25.25h9.5a.25.25 0 0 0 .25-.25V6h-2.75A1.75 1.75 0 0 1 9 4.25V1.5Zm6.75.062V4.25c0 .138.112.25.25.25h2.688l-.011-.013-2.914-2.914-.013-.011Z"></path></svg></div><span class="PRIVATE_TreeView-item-content-text prc-TreeView-TreeViewItemContentText-smZM-"><span>Clinical_Bert.ipynb</span></span></div></div></li><li class="PRIVATE_TreeView-item prc-TreeView-TreeViewItem-ShJr0" tabindex="-1" id="Clinical_Bird.ipynb-item" role="treeitem" aria-labelledby=":r1a:" aria-describedby=":r1b:" aria-level="1" aria-selected="false"><div class="PRIVATE_TreeView-item-container prc-TreeView-TreeViewItemContainer--2Rkn" style="--level: 1; content-visibility: auto; contain-intrinsic-size: auto 2rem;"><div style="grid-area: spacer; display: flex;"><div style="width: 100%; display: flex;"></div></div><div id=":r1a:" class="PRIVATE_TreeView-item-content prc-TreeView-TreeViewItemContent-f0r0b"><div class="PRIVATE_VisuallyHidden prc-TreeView-TreeViewVisuallyHidden-4-mPv" aria-hidden="true" id=":r1b:"></div><div class="PRIVATE_TreeView-item-visual prc-TreeView-TreeViewItemVisual-dRlGq" aria-hidden="true"><svg aria-hidden="true" focusable="false" class="octicon octicon-file" viewBox="0 0 16 16" width="16" height="16" fill="currentColor" display="inline-block" overflow="visible" style="vertical-align: text-bottom;"><path d="M2 1.75C2 .784 2.784 0 3.75 0h6.586c.464 0 .909.184 1.237.513l2.914 2.914c.329.328.513.773.513 1.237v9.586A1.75 1.75 0 0 1 13.25 16h-9.5A1.75 1.75 0 0 1 2 14.25Zm1.75-.25a.25.25 0 0 0-.25.25v12.5c0 .138.112.25.25.25h9.5a.25.25 0 0 0 .25-.25V6h-2.75A1.75 1.75 0 0 1 9 4.25V1.5Zm6.75.062V4.25c0 .138.112.25.25.25h2.688l-.011-.013-2.914-2.914-.013-.011Z"></path></svg></div><span class="PRIVATE_TreeView-item-content-text prc-TreeView-TreeViewItemContentText-smZM-"><span>Clinical_Bird.ipynb</span></span></div></div></li><li class="PRIVATE_TreeView-item prc-TreeView-TreeViewItem-ShJr0" tabindex="-1" id="Marital_status&amp;Race.ipynb-item" role="treeitem" aria-labelledby=":r1d:" aria-describedby=":r1e:" aria-level="1" aria-selected="false"><div class="PRIVATE_TreeView-item-container prc-TreeView-TreeViewItemContainer--2Rkn" style="--level: 1; content-visibility: auto; contain-intrinsic-size: auto 2rem;"><div style="grid-area: spacer; display: flex;"><div style="width: 100%; display: flex;"></div></div><div id=":r1d:" class="PRIVATE_TreeView-item-content prc-TreeView-TreeViewItemContent-f0r0b"><div class="PRIVATE_VisuallyHidden prc-TreeView-TreeViewVisuallyHidden-4-mPv" aria-hidden="true" id=":r1e:"></div><div class="PRIVATE_TreeView-item-visual prc-TreeView-TreeViewItemVisual-dRlGq" aria-hidden="true"><svg aria-hidden="true" focusable="false" class="octicon octicon-file" viewBox="0 0 16 16" width="16" height="16" fill="currentColor" display="inline-block" overflow="visible" style="vertical-align: text-bottom;"><path d="M2 1.75C2 .784 2.784 0 3.75 0h6.586c.464 0 .909.184 1.237.513l2.914 2.914c.329.328.513.773.513 1.237v9.586A1.75 1.75 0 0 1 13.25 16h-9.5A1.75 1.75 0 0 1 2 14.25Zm1.75-.25a.25.25 0 0 0-.25.25v12.5c0 .138.112.25.25.25h9.5a.25.25 0 0 0 .25-.25V6h-2.75A1.75 1.75 0 0 1 9 4.25V1.5Zm6.75.062V4.25c0 .138.112.25.25.25h2.688l-.011-.013-2.914-2.914-.013-.011Z"></path></svg></div><span class="PRIVATE_TreeView-item-content-text prc-TreeView-TreeViewItemContentText-smZM-"><span>Marital_status&amp;Race.ipynb</span></span></div></div></li><li class="PRIVATE_TreeView-item prc-TreeView-TreeViewItem-ShJr0" tabindex="-1" id="Preprocess_opiod.ipynb-item" role="treeitem" aria-labelledby=":r1g:" aria-describedby=":r1h:" aria-level="1" aria-selected="false"><div class="PRIVATE_TreeView-item-container prc-TreeView-TreeViewItemContainer--2Rkn" style="--level: 1; content-visibility: auto; contain-intrinsic-size: auto 2rem;"><div style="grid-area: spacer; display: flex;"><div style="width: 100%; display: flex;"></div></div><div id=":r1g:" class="PRIVATE_TreeView-item-content prc-TreeView-TreeViewItemContent-f0r0b"><div class="PRIVATE_VisuallyHidden prc-TreeView-TreeViewVisuallyHidden-4-mPv" aria-hidden="true" id=":r1h:"></div><div class="PRIVATE_TreeView-item-visual prc-TreeView-TreeViewItemVisual-dRlGq" aria-hidden="true"><svg aria-hidden="true" focusable="false" class="octicon octicon-file" viewBox="0 0 16 16" width="16" height="16" fill="currentColor" display="inline-block" overflow="visible" style="vertical-align: text-bottom;"><path d="M2 1.75C2 .784 2.784 0 3.75 0h6.586c.464 0 .909.184 1.237.513l2.914 2.914c.329.328.513.773.513 1.237v9.586A1.75 1.75 0 0 1 13.25 16h-9.5A1.75 1.75 0 0 1 2 14.25Zm1.75-.25a.25.25 0 0 0-.25.25v12.5c0 .138.112.25.25.25h9.5a.25.25 0 0 0 .25-.25V6h-2.75A1.75 1.75 0 0 1 9 4.25V1.5Zm6.75.062V4.25c0 .138.112.25.25.25h2.688l-.011-.013-2.914-2.914-.013-.011Z"></path></svg></div><span class="PRIVATE_TreeView-item-content-text prc-TreeView-TreeViewItemContentText-smZM-"><span>Preprocess_opiod.ipynb</span></span></div></div></li><li class="PRIVATE_TreeView-item prc-TreeView-TreeViewItem-ShJr0" tabindex="-1" id="README.md-item" role="treeitem" aria-labelledby=":r1j:" aria-describedby=":r1k:" aria-level="1" aria-selected="false"><div class="PRIVATE_TreeView-item-container prc-TreeView-TreeViewItemContainer--2Rkn" style="--level: 1; content-visibility: auto; contain-intrinsic-size: auto 2rem;"><div style="grid-area: spacer; display: flex;"><div style="width: 100%; display: flex;"></div></div><div id=":r1j:" class="PRIVATE_TreeView-item-content prc-TreeView-TreeViewItemContent-f0r0b"><div class="PRIVATE_VisuallyHidden prc-TreeView-TreeViewVisuallyHidden-4-mPv" aria-hidden="true" id=":r1k:"></div><div class="PRIVATE_TreeView-item-visual prc-TreeView-TreeViewItemVisual-dRlGq" aria-hidden="true"><svg aria-hidden="true" focusable="false" class="octicon octicon-file" viewBox="0 0 16 16" width="16" height="16" fill="currentColor" display="inline-block" overflow="visible" style="vertical-align: text-bottom;"><path d="M2 1.75C2 .784 2.784 0 3.75 0h6.586c.464 0 .909.184 1.237.513l2.914 2.914c.329.328.513.773.513 1.237v9.586A1.75 1.75 0 0 1 13.25 16h-9.5A1.75 1.75 0 0 1 2 14.25Zm1.75-.25a.25.25 0 0 0-.25.25v12.5c0 .138.112.25.25.25h9.5a.25.25 0 0 0 .25-.25V6h-2.75A1.75 1.75 0 0 1 9 4.25V1.5Zm6.75.062V4.25c0 .138.112.25.25.25h2.688l-.011-.013-2.914-2.914-.013-.011Z"></path></svg></div><span class="PRIVATE_TreeView-item-content-text prc-TreeView-TreeViewItemContentText-smZM-"><span>README.md</span></span></div></div></li><li class="PRIVATE_TreeView-item prc-TreeView-TreeViewItem-ShJr0" tabindex="-1" id="RoBERTa.ipynb-item" role="treeitem" aria-labelledby=":r1m:" aria-describedby=":r1n:" aria-level="1" aria-selected="false"><div class="PRIVATE_TreeView-item-container prc-TreeView-TreeViewItemContainer--2Rkn" style="--level: 1; content-visibility: auto; contain-intrinsic-size: auto 2rem;"><div style="grid-area: spacer; display: flex;"><div style="width: 100%; display: flex;"></div></div><div id=":r1m:" class="PRIVATE_TreeView-item-content prc-TreeView-TreeViewItemContent-f0r0b"><div class="PRIVATE_VisuallyHidden prc-TreeView-TreeViewVisuallyHidden-4-mPv" aria-hidden="true" id=":r1n:"></div><div class="PRIVATE_TreeView-item-visual prc-TreeView-TreeViewItemVisual-dRlGq" aria-hidden="true"><svg aria-hidden="true" focusable="false" class="octicon octicon-file" viewBox="0 0 16 16" width="16" height="16" fill="currentColor" display="inline-block" overflow="visible" style="vertical-align: text-bottom;"><path d="M2 1.75C2 .784 2.784 0 3.75 0h6.586c.464 0 .909.184 1.237.513l2.914 2.914c.329.328.513.773.513 1.237v9.586A1.75 1.75 0 0 1 13.25 16h-9.5A1.75 1.75 0 0 1 2 14.25Zm1.75-.25a.25.25 0 0 0-.25.25v12.5c0 .138.112.25.25.25h9.5a.25.25 0 0 0 .25-.25V6h-2.75A1.75 1.75 0 0 1 9 4.25V1.5Zm6.75.062V4.25c0 .138.112.25.25.25h2.688l-.011-.013-2.914-2.914-.013-.011Z"></path></svg></div><span class="PRIVATE_TreeView-item-content-text prc-TreeView-TreeViewItemContentText-smZM-"><span>RoBERTa.ipynb</span></span></div></div></li><li class="PRIVATE_TreeView-item prc-TreeView-TreeViewItem-ShJr0" tabindex="-1" id="model1_2636.csv-item" role="treeitem" aria-labelledby=":r1p:" aria-describedby=":r1q:" aria-level="1" aria-selected="false"><div class="PRIVATE_TreeView-item-container prc-TreeView-TreeViewItemContainer--2Rkn" style="--level: 1; content-visibility: auto; contain-intrinsic-size: auto 2rem;"><div style="grid-area: spacer; display: flex;"><div style="width: 100%; display: flex;"></div></div><div id=":r1p:" class="PRIVATE_TreeView-item-content prc-TreeView-TreeViewItemContent-f0r0b"><div class="PRIVATE_VisuallyHidden prc-TreeView-TreeViewVisuallyHidden-4-mPv" aria-hidden="true" id=":r1q:"></div><div class="PRIVATE_TreeView-item-visual prc-TreeView-TreeViewItemVisual-dRlGq" aria-hidden="true"><svg aria-hidden="true" focusable="false" class="octicon octicon-file" viewBox="0 0 16 16" width="16" height="16" fill="currentColor" display="inline-block" overflow="visible" style="vertical-align: text-bottom;"><path d="M2 1.75C2 .784 2.784 0 3.75 0h6.586c.464 0 .909.184 1.237.513l2.914 2.914c.329.328.513.773.513 1.237v9.586A1.75 1.75 0 0 1 13.25 16h-9.5A1.75 1.75 0 0 1 2 14.25Zm1.75-.25a.25.25 0 0 0-.25.25v12.5c0 .138.112.25.25.25h9.5a.25.25 0 0 0 .25-.25V6h-2.75A1.75 1.75 0 0 1 9 4.25V1.5Zm6.75.062V4.25c0 .138.112.25.25.25h2.688l-.011-.013-2.914-2.914-.013-.011Z"></path></svg></div><span class="PRIVATE_TreeView-item-content-text prc-TreeView-TreeViewItemContentText-smZM-"><span>model1_2636.csv</span></span></div></div></li><li class="PRIVATE_TreeView-item prc-TreeView-TreeViewItem-ShJr0" tabindex="-1" id="model2_2636.csv-item" role="treeitem" aria-labelledby=":r1s:" aria-describedby=":r1t:" aria-level="1" aria-selected="false"><div class="PRIVATE_TreeView-item-container prc-TreeView-TreeViewItemContainer--2Rkn" style="--level: 1; content-visibility: auto; contain-intrinsic-size: auto 2rem;"><div style="grid-area: spacer; display: flex;"><div style="width: 100%; display: flex;"></div></div><div id=":r1s:" class="PRIVATE_TreeView-item-content prc-TreeView-TreeViewItemContent-f0r0b"><div class="PRIVATE_VisuallyHidden prc-TreeView-TreeViewVisuallyHidden-4-mPv" aria-hidden="true" id=":r1t:"></div><div class="PRIVATE_TreeView-item-visual prc-TreeView-TreeViewItemVisual-dRlGq" aria-hidden="true"><svg aria-hidden="true" focusable="false" class="octicon octicon-file" viewBox="0 0 16 16" width="16" height="16" fill="currentColor" display="inline-block" overflow="visible" style="vertical-align: text-bottom;"><path d="M2 1.75C2 .784 2.784 0 3.75 0h6.586c.464 0 .909.184 1.237.513l2.914 2.914c.329.328.513.773.513 1.237v9.586A1.75 1.75 0 0 1 13.25 16h-9.5A1.75 1.75 0 0 1 2 14.25Zm1.75-.25a.25.25 0 0 0-.25.25v12.5c0 .138.112.25.25.25h9.5a.25.25 0 0 0 .25-.25V6h-2.75A1.75 1.75 0 0 1 9 4.25V1.5Zm6.75.062V4.25c0 .138.112.25.25.25h2.688l-.011-.013-2.914-2.914-.013-.011Z"></path></svg></div><span class="PRIVATE_TreeView-item-content-text prc-TreeView-TreeViewItemContentText-smZM-"><span>model2_2636.csv</span></span></div></div></li><li class="PRIVATE_TreeView-item prc-TreeView-TreeViewItem-ShJr0" tabindex="-1" id="model3_2636.csv-item" role="treeitem" aria-labelledby=":r1v:" aria-describedby=":r20:" aria-level="1" aria-selected="false"><div class="PRIVATE_TreeView-item-container prc-TreeView-TreeViewItemContainer--2Rkn" style="--level: 1; content-visibility: auto; contain-intrinsic-size: auto 2rem;"><div style="grid-area: spacer; display: flex;"><div style="width: 100%; display: flex;"></div></div><div id=":r1v:" class="PRIVATE_TreeView-item-content prc-TreeView-TreeViewItemContent-f0r0b"><div class="PRIVATE_VisuallyHidden prc-TreeView-TreeViewVisuallyHidden-4-mPv" aria-hidden="true" id=":r20:"></div><div class="PRIVATE_TreeView-item-visual prc-TreeView-TreeViewItemVisual-dRlGq" aria-hidden="true"><svg aria-hidden="true" focusable="false" class="octicon octicon-file" viewBox="0 0 16 16" width="16" height="16" fill="currentColor" display="inline-block" overflow="visible" style="vertical-align: text-bottom;"><path d="M2 1.75C2 .784 2.784 0 3.75 0h6.586c.464 0 .909.184 1.237.513l2.914 2.914c.329.328.513.773.513 1.237v9.586A1.75 1.75 0 0 1 13.25 16h-9.5A1.75 1.75 0 0 1 2 14.25Zm1.75-.25a.25.25 0 0 0-.25.25v12.5c0 .138.112.25.25.25h9.5a.25.25 0 0 0 .25-.25V6h-2.75A1.75 1.75 0 0 1 9 4.25V1.5Zm6.75.062V4.25c0 .138.112.25.25.25h2.688l-.011-.013-2.914-2.914-.013-.011Z"></path></svg></div><span class="PRIVATE_TreeView-item-content-text prc-TreeView-TreeViewItemContentText-smZM-"><span>model3_2636.csv</span></span></div></div></li></ul></nav></div></div></div></div></div></div></div><div class="prc-PageLayout-VerticalDivider-4A4Qm prc-PageLayout-PaneVerticalDivider-1c9vy" data-variant="line" data-position="start" style="--spacing:var(--spacing-none)"><div role="slider" aria-label="Draggable pane splitter" aria-valuemin="256" aria-valuemax="577" aria-valuenow="320" aria-valuetext="Pane width 320 pixels" tabindex="0" class="Box-sc-g0xbh4-0 bHLmSv"></div></div></div></div><div class="prc-PageLayout-ContentWrapper-b-QRo CodeView-module__SplitPageLayout_Content--qxR1C" data-is-hidden="false"><div class="prc-PageLayout-Content--F7-I" data-width="full" style="--spacing:var(--spacing-none)"><div data-selector="repos-split-pane-content" tabindex="0" class="Box-sc-g0xbh4-0 leYMvG"><div class="Box-sc-g0xbh4-0 KMPzq"><div class="container CodeViewHeader-module__Box--PofRM"><div class="px-3 pt-3 pb-0" id="StickyHeader"><div class="CodeViewHeader-module__Box_1--KpLzV"><div class="CodeViewHeader-module__Box_2--xzDOt"><div class="CodeViewHeader-module__Box_6--iStzT"><div class="Box-sc-g0xbh4-0 cEytCf"><nav data-testid="breadcrumbs" aria-labelledby="repos-header-breadcrumb--wide-heading" id="repos-header-breadcrumb--wide" class="Box-sc-g0xbh4-0 fzFXnm"><h2 class="sr-only ScreenReaderHeading-module__userSelectNone--vW4Cq prc-Heading-Heading-6CmGO" data-testid="screen-reader-heading" id="repos-header-breadcrumb--wide-heading">Breadcrumbs</h2><ol class="Box-sc-g0xbh4-0 iMnkmv"><li class="Box-sc-g0xbh4-0 ghzDag"><a class="Box-sc-g0xbh4-0 kHuKdh prc-Link-Link-85e08" sx="[object Object]" data-testid="breadcrumbs-repo-link" href="https://github.com/MadhaviPagare/SDOMH-LLM/tree/main">SDOMH-LLM</a></li></ol></nav><div data-testid="breadcrumbs-filename" class="Box-sc-g0xbh4-0 ghzDag"><span class="Box-sc-g0xbh4-0 hzJBof prc-Text-Text-0ima0" aria-hidden="true">/</span><h1 class="Box-sc-g0xbh4-0 jGhzSQ prc-Heading-Heading-6CmGO" tabindex="-1" id="file-name-id-wide">ClinicalLongformer.ipynb</h1></div><button data-component="IconButton" type="button" class="prc-Button-ButtonBase-c50BI ml-2 prc-Button-IconButton-szpyj" data-loading="false" data-no-visuals="true" data-size="small" data-variant="invisible" aria-describedby=":Rvb9lab:-loading-announcement" aria-labelledby=":R3b9lab:" fdprocessedid="cwaeeg"><svg aria-hidden="true" focusable="false" class="octicon octicon-copy" viewBox="0 0 16 16" width="16" height="16" fill="currentColor" display="inline-block" overflow="visible" style="vertical-align:text-bottom"><path d="M0 6.75C0 5.784.784 5 1.75 5h1.5a.75.75 0 0 1 0 1.5h-1.5a.25.25 0 0 0-.25.25v7.5c0 .138.112.25.25.25h7.5a.25.25 0 0 0 .25-.25v-1.5a.75.75 0 0 1 1.5 0v1.5A1.75 1.75 0 0 1 9.25 16h-7.5A1.75 1.75 0 0 1 0 14.25Z"></path><path d="M5 1.75C5 .784 5.784 0 6.75 0h7.5C15.216 0 16 .784 16 1.75v7.5A1.75 1.75 0 0 1 14.25 11h-7.5A1.75 1.75 0 0 1 5 9.25Zm1.75-.25a.25.25 0 0 0-.25.25v7.5c0 .138.112.25.25.25h7.5a.25.25 0 0 0 .25-.25v-7.5a.25.25 0 0 0-.25-.25Z"></path></svg></button><span class="CopyToClipboardButton-module__tooltip--Dq1IB prc-TooltipV2-Tooltip-cYMVY" data-direction="nw" aria-label="Copy path" aria-hidden="true" id=":R3b9lab:" popover="auto">Copy path</span></div></div><div class="react-code-view-header-element--wide"><div class="CodeViewHeader-module__Box_7--FZfkg"><div class="d-flex gap-2"> <button type="button" class="Box-sc-g0xbh4-0 fjrFuv prc-Button-ButtonBase-c50BI NavigationMenu-module__Button--SJihq" data-loading="false" data-no-visuals="true" data-size="medium" data-variant="default" aria-describedby=":R1ahj9lab:-loading-announcement" data-hotkey="b,Shift+B,Control+/ Control+b"><span data-component="buttonContent" class="Box-sc-g0xbh4-0 gUkoLg prc-Button-ButtonContent-HKbr-"><span data-component="text" class="prc-Button-Label-pTQ3x">Blame</span></span></button><button hidden="" data-testid="" data-hotkey-scope="read-only-cursor-text-area" data-hotkey="b,Shift+B,Control+/ Control+b"></button><button data-component="IconButton" type="button" data-testid="more-file-actions-button-nav-menu-wide" aria-haspopup="true" aria-expanded="false" tabindex="0" class="prc-Button-ButtonBase-c50BI js-blob-dropdown-click NavigationMenu-module__IconButton--NqJ_L prc-Button-IconButton-szpyj" data-loading="false" data-no-visuals="true" data-size="medium" data-variant="default" aria-describedby=":Rihj9lab:-loading-announcement" aria-labelledby=":Rfihj9lab:" id=":Rihj9lab:" fdprocessedid="5yix0n"><svg aria-hidden="true" focusable="false" class="octicon octicon-kebab-horizontal" viewBox="0 0 16 16" width="16" height="16" fill="currentColor" display="inline-block" overflow="visible" style="vertical-align:text-bottom"><path d="M8 9a1.5 1.5 0 1 0 0-3 1.5 1.5 0 0 0 0 3ZM1.5 9a1.5 1.5 0 1 0 0-3 1.5 1.5 0 0 0 0 3Zm13 0a1.5 1.5 0 1 0 0-3 1.5 1.5 0 0 0 0 3Z"></path></svg></button><span class="prc-TooltipV2-Tooltip-cYMVY" data-direction="nw" aria-hidden="true" id=":Rfihj9lab:" popover="auto">More file actions</span> </div></div></div><div class="react-code-view-header-element--narrow"><div class="CodeViewHeader-module__Box_7--FZfkg"><div class="d-flex gap-2"> <button type="button" class="Box-sc-g0xbh4-0 fjrFuv prc-Button-ButtonBase-c50BI NavigationMenu-module__Button--SJihq" data-loading="false" data-no-visuals="true" data-size="medium" data-variant="default" aria-describedby=":R1ahr9lab:-loading-announcement" data-hotkey="b,Shift+B,Control+/ Control+b"><span data-component="buttonContent" class="Box-sc-g0xbh4-0 gUkoLg prc-Button-ButtonContent-HKbr-"><span data-component="text" class="prc-Button-Label-pTQ3x">Blame</span></span></button><button hidden="" data-testid="" data-hotkey-scope="read-only-cursor-text-area" data-hotkey="b,Shift+B,Control+/ Control+b"></button><button data-component="IconButton" type="button" data-testid="more-file-actions-button-nav-menu-narrow" aria-haspopup="true" aria-expanded="false" tabindex="0" class="prc-Button-ButtonBase-c50BI js-blob-dropdown-click NavigationMenu-module__IconButton--NqJ_L prc-Button-IconButton-szpyj" data-loading="false" data-no-visuals="true" data-size="medium" data-variant="default" aria-describedby=":Rihr9lab:-loading-announcement" aria-labelledby=":Rfihr9lab:" id=":Rihr9lab:"><svg aria-hidden="true" focusable="false" class="octicon octicon-kebab-horizontal" viewBox="0 0 16 16" width="16" height="16" fill="currentColor" display="inline-block" overflow="visible" style="vertical-align:text-bottom"><path d="M8 9a1.5 1.5 0 1 0 0-3 1.5 1.5 0 0 0 0 3ZM1.5 9a1.5 1.5 0 1 0 0-3 1.5 1.5 0 0 0 0 3Zm13 0a1.5 1.5 0 1 0 0-3 1.5 1.5 0 0 0 0 3Z"></path></svg></button><span class="prc-TooltipV2-Tooltip-cYMVY" data-direction="nw" aria-hidden="true" id=":Rfihr9lab:" popover="auto">More file actions</span> </div></div></div></div></div></div></div></div><div class="Box-sc-g0xbh4-0 dJxjrT react-code-view-bottom-padding"> <div class="BlobTopBanners-module__Box--g_bGk"></div> <!-- --> <!-- --> </div><div class="Box-sc-g0xbh4-0 dJxjrT"> <!-- --> <!-- --> <div class="d-flex flex-column border rounded-2 mb-3 pl-1"><div class="LatestCommit-module__Box--En0AE"><h2 class="sr-only ScreenReaderHeading-module__userSelectNone--vW4Cq prc-Heading-Heading-6CmGO" data-testid="screen-reader-heading">Latest commit</h2><div data-testid="latest-commit" class="LatestCommit-module__Box_1--Kkzat"><div class="CommitAttribution-module__CommitAttributionContainer--dZiJ_"><div data-testid="author-avatar" class="Box-sc-g0xbh4-0 AuthorAvatar-module__AuthorAvatarContainer--NQwZ2"><a class="prc-Link-Link-85e08" href="https://github.com/MadhaviPagare" data-testid="avatar-icon-link" data-hovercard-url="/users/MadhaviPagare/hovercard" aria-keyshortcuts="Alt+ArrowUp"><img data-component="Avatar" class="AuthorAvatar-module__GitHubAvatar--Bx7dK prc-Avatar-Avatar-ZRS-m" alt="MadhaviPagare" width="20" height="20" src="./ClinicalLongformer_files/94866287(1)" data-testid="github-avatar" aria-label="MadhaviPagare" style="--avatarSize-regular: 20px;"></a><a class="Box-sc-g0xbh4-0 gLSgdJ AuthorAvatar-module__authorHoverableLink--ED3Do prc-Link-Link-85e08" data-muted="true" href="https://github.com/MadhaviPagare/SDOMH-LLM/commits?author=MadhaviPagare" aria-label="commits by MadhaviPagare" data-hovercard-url="/users/MadhaviPagare/hovercard" aria-keyshortcuts="Alt+ArrowUp">MadhaviPagare</a></div><span class=""></span></div><div class="d-none d-sm-flex LatestCommit-module__Box_2--gAJMD"><div class="Truncate flex-items-center f5"><span class="Truncate-text prc-Text-Text-0ima0" data-testid="latest-commit-html"><a href="https://github.com/MadhaviPagare/SDOMH-LLM/commit/606d44c8147f28396154428a307f416aad60dc8c" class="Link--secondary" data-pjax="true" data-hovercard-url="/MadhaviPagare/SDOMH-LLM/commit/606d44c8147f28396154428a307f416aad60dc8c/hovercard" aria-keyshortcuts="Alt+ArrowUp">Add files via upload</a></span></div></div><span class="d-flex d-sm-none fgColor-muted f6"><relative-time class="sc-aXZVg" tense="past" datetime="2024-11-21T05:40:39.000Z" title="Nov 21, 2024, 12:40 AM EST"><template shadowrootmode="open">7 months ago</template>Nov 21, 2024</relative-time></span></div><div class="d-flex flex-shrink-0 gap-2"><div data-testid="latest-commit-details" class="d-none d-sm-flex flex-items-center"><span class="d-flex flex-nowrap fgColor-muted f6"><a class="Link--secondary prc-Link-Link-85e08" aria-label="Commit 606d44c" data-hovercard-url="/MadhaviPagare/SDOMH-LLM/commit/606d44c8147f28396154428a307f416aad60dc8c/hovercard" href="https://github.com/MadhaviPagare/SDOMH-LLM/commit/606d44c8147f28396154428a307f416aad60dc8c" aria-keyshortcuts="Alt+ArrowUp">606d44c</a>&nbsp;·&nbsp;<relative-time class="sc-aXZVg" tense="past" datetime="2024-11-21T05:40:39.000Z" title="Nov 21, 2024, 12:40 AM EST"><template shadowrootmode="open">7 months ago</template>Nov 21, 2024</relative-time></span></div><div class="d-flex gap-2"><h2 class="sr-only ScreenReaderHeading-module__userSelectNone--vW4Cq prc-Heading-Heading-6CmGO" data-testid="screen-reader-heading">History</h2><a href="https://github.com/MadhaviPagare/SDOMH-LLM/commits/main/ClinicalLongformer.ipynb" class="prc-Button-ButtonBase-c50BI d-none d-lg-flex LinkButton-module__code-view-link-button--xvCGA flex-items-center fgColor-default" data-loading="false" data-size="small" data-variant="invisible" aria-describedby=":R1bdal9lab:-loading-announcement"><span data-component="buttonContent" data-align="center" class="prc-Button-ButtonContent-HKbr-"><span data-component="leadingVisual" class="prc-Button-Visual-2epfX prc-Button-VisualWrap-Db-eB"><svg aria-hidden="true" focusable="false" class="octicon octicon-history" viewBox="0 0 16 16" width="16" height="16" fill="currentColor" display="inline-block" overflow="visible" style="vertical-align:text-bottom"><path d="m.427 1.927 1.215 1.215a8.002 8.002 0 1 1-1.6 5.685.75.75 0 1 1 1.493-.154 6.5 6.5 0 1 0 1.18-4.458l1.358 1.358A.25.25 0 0 1 3.896 6H.25A.25.25 0 0 1 0 5.75V2.104a.25.25 0 0 1 .427-.177ZM7.75 4a.75.75 0 0 1 .75.75v2.992l2.028.812a.75.75 0 0 1-.557 1.392l-2.5-1A.751.751 0 0 1 7 8.25v-3.5A.75.75 0 0 1 7.75 4Z"></path></svg></span><span data-component="text" class="prc-Button-Label-pTQ3x"><span class="fgColor-default">History</span></span></span></a><div class="d-sm-none"><button data-component="IconButton" type="button" aria-pressed="false" aria-expanded="false" data-testid="latest-commit-details-toggle" class="prc-Button-ButtonBase-c50BI LatestCommit-module__IconButton--jJLCx prc-Button-IconButton-szpyj" data-loading="false" data-no-visuals="true" data-size="small" data-variant="invisible" aria-describedby=":r2d:-loading-announcement" aria-labelledby=":r2c:"><svg aria-hidden="true" focusable="false" class="octicon octicon-ellipsis" viewBox="0 0 16 16" width="16" height="16" fill="currentColor" display="inline-block" overflow="visible" style="vertical-align: text-bottom;"><path d="M0 5.75C0 4.784.784 4 1.75 4h12.5c.966 0 1.75.784 1.75 1.75v4.5A1.75 1.75 0 0 1 14.25 12H1.75A1.75 1.75 0 0 1 0 10.25ZM12 7a1 1 0 1 0 0 2 1 1 0 0 0 0-2ZM7 8a1 1 0 1 0 2 0 1 1 0 0 0-2 0ZM4 7a1 1 0 1 0 0 2 1 1 0 0 0 0-2Z"></path></svg></button><span class="prc-TooltipV2-Tooltip-cYMVY" data-direction="s" aria-hidden="true" id=":r2c:" popover="auto">Open commit details</span></div><div class="d-flex d-lg-none"><span role="tooltip" aria-label="History" id="history-icon-button-tooltip" class="Tooltip__TooltipBase-sc-17tf59c-0 hWlpPn tooltipped-n"><a href="https://github.com/MadhaviPagare/SDOMH-LLM/commits/main/ClinicalLongformer.ipynb" class="prc-Button-ButtonBase-c50BI LinkButton-module__code-view-link-button--xvCGA flex-items-center fgColor-default" data-loading="false" data-size="small" data-variant="invisible" aria-describedby=":R6bdal9lab:-loading-announcement history-icon-button-tooltip"><span data-component="buttonContent" data-align="center" class="prc-Button-ButtonContent-HKbr-"><span data-component="leadingVisual" class="prc-Button-Visual-2epfX prc-Button-VisualWrap-Db-eB"><svg aria-hidden="true" focusable="false" class="octicon octicon-history" viewBox="0 0 16 16" width="16" height="16" fill="currentColor" display="inline-block" overflow="visible" style="vertical-align:text-bottom"><path d="m.427 1.927 1.215 1.215a8.002 8.002 0 1 1-1.6 5.685.75.75 0 1 1 1.493-.154 6.5 6.5 0 1 0 1.18-4.458l1.358 1.358A.25.25 0 0 1 3.896 6H.25A.25.25 0 0 1 0 5.75V2.104a.25.25 0 0 1 .427-.177ZM7.75 4a.75.75 0 0 1 .75.75v2.992l2.028.812a.75.75 0 0 1-.557 1.392l-2.5-1A.751.751 0 0 1 7 8.25v-3.5A.75.75 0 0 1 7.75 4Z"></path></svg></span></span></a></span></div></div></div></div></div><div class="Box-sc-g0xbh4-0 ldRxiI"><div class="Box-sc-g0xbh4-0 fVkfyA container"><div class="Box-sc-g0xbh4-0 gNAmSV react-code-size-details-banner"><div class="react-code-size-details-banner CodeSizeDetails-module__Box--QdxnQ"><div class="text-mono CodeSizeDetails-module__Box_1--_uFDs"><div title="164 KB" data-testid="blob-size" class="Truncate__StyledTruncate-sc-23o1d2-0 bgsFir CodeSizeDetails-module__Truncate_1--er0Uk"><span>2192 lines (2192 loc) · 164 KB</span></div></div></div><div class="react-code-size-details-banner"><button style="--button-color:fg.default" type="button" aria-haspopup="true" aria-expanded="false" tabindex="0" class="Box-sc-g0xbh4-0 kXyYCF prc-Button-ButtonBase-c50BI" data-loading="false" data-size="small" data-variant="invisible" aria-describedby=":R9fal9lab:-loading-announcement" id=":R9fal9lab:"><span data-component="buttonContent" class="Box-sc-g0xbh4-0 gUkoLg prc-Button-ButtonContent-HKbr-"><span data-component="leadingVisual" class="prc-Button-Visual-2epfX prc-Button-VisualWrap-Db-eB"><svg aria-hidden="true" focusable="false" class="octicon octicon-copilot" viewBox="0 0 16 16" width="16" height="16" fill="currentColor" display="inline-block" overflow="visible" style="vertical-align:text-bottom"><path d="M7.998 15.035c-4.562 0-7.873-2.914-7.998-3.749V9.338c.085-.628.677-1.686 1.588-2.065.013-.07.024-.143.036-.218.029-.183.06-.384.126-.612-.201-.508-.254-1.084-.254-1.656 0-.87.128-1.769.693-2.484.579-.733 1.494-1.124 2.724-1.261 1.206-.134 2.262.034 2.944.765.05.053.096.108.139.165.044-.057.094-.112.143-.165.682-.731 1.738-.899 2.944-.765 1.23.137 2.145.528 2.724 1.261.566.715.693 1.614.693 2.484 0 .572-.053 1.148-.254 1.656.066.228.098.429.126.612.012.076.024.148.037.218.924.385 1.522 1.471 1.591 2.095v1.872c0 .766-3.351 3.795-8.002 3.795Zm0-1.485c2.28 0 4.584-1.11 5.002-1.433V7.862l-.023-.116c-.49.21-1.075.291-1.727.291-1.146 0-2.059-.327-2.71-.991A3.222 3.222 0 0 1 8 6.303a3.24 3.24 0 0 1-.544.743c-.65.664-1.563.991-2.71.991-.652 0-1.236-.081-1.727-.291l-.023.116v4.255c.419.323 2.722 1.433 5.002 1.433ZM6.762 2.83c-.193-.206-.637-.413-1.682-.297-1.019.113-1.479.404-1.713.7-.247.312-.369.789-.369 1.554 0 .793.129 1.171.308 1.371.162.181.519.379 1.442.379.853 0 1.339-.235 1.638-.54.315-.322.527-.827.617-1.553.117-.935-.037-1.395-.241-1.614Zm4.155-.297c-1.044-.116-1.488.091-1.681.297-.204.219-.359.679-.242 1.614.091.726.303 1.231.618 1.553.299.305.784.54 1.638.54.922 0 1.28-.198 1.442-.379.179-.2.308-.578.308-1.371 0-.765-.123-1.242-.37-1.554-.233-.296-.693-.587-1.713-.7Z"></path><path d="M6.25 9.037a.75.75 0 0 1 .75.75v1.501a.75.75 0 0 1-1.5 0V9.787a.75.75 0 0 1 .75-.75Zm4.25.75v1.501a.75.75 0 0 1-1.5 0V9.787a.75.75 0 0 1 1.5 0Z"></path></svg></span><span data-component="text" class="prc-Button-Label-pTQ3x">Code 55% faster with GitHub Copilot</span></span></button></div></div><div class="Box-sc-g0xbh4-0 jdLMhu react-blob-view-header-sticky" id="repos-sticky-header"><div class="BlobViewHeader-module__Box--pvsIA"><div class="react-blob-sticky-header"><div class="Box-sc-g0xbh4-0 cWyMqi"><div class="FileNameStickyHeader-module__Box_5--xBJ2J"><div class="Box-sc-g0xbh4-0 fHind"><nav data-testid="breadcrumbs" aria-labelledby="sticky-breadcrumb-heading" id="sticky-breadcrumb" class="Box-sc-g0xbh4-0 fzFXnm"><h2 class="sr-only ScreenReaderHeading-module__userSelectNone--vW4Cq prc-Heading-Heading-6CmGO" data-testid="screen-reader-heading" id="sticky-breadcrumb-heading">Breadcrumbs</h2><ol class="Box-sc-g0xbh4-0 iMnkmv"><li class="Box-sc-g0xbh4-0 ghzDag"><a class="Box-sc-g0xbh4-0 kHuKdh prc-Link-Link-85e08" sx="[object Object]" data-testid="breadcrumbs-repo-link" href="https://github.com/MadhaviPagare/SDOMH-LLM/tree/main">SDOMH-LLM</a></li></ol></nav><div data-testid="breadcrumbs-filename" class="Box-sc-g0xbh4-0 ghzDag"><span class="Box-sc-g0xbh4-0 oDtgN prc-Text-Text-0ima0" aria-hidden="true">/</span><h1 class="Box-sc-g0xbh4-0 dnZoUW prc-Heading-Heading-6CmGO" tabindex="-1" id="sticky-file-name-id">ClinicalLongformer.ipynb</h1></div></div><button type="button" class="prc-Button-ButtonBase-c50BI FileNameStickyHeader-module__Button--SaiiH FileNameStickyHeader-module__GoToTopButton--9lB4x" data-loading="false" data-size="small" data-variant="invisible" aria-describedby=":R4mfal9lab:-loading-announcement"><span data-component="buttonContent" data-align="center" class="prc-Button-ButtonContent-HKbr-"><span data-component="leadingVisual" class="prc-Button-Visual-2epfX prc-Button-VisualWrap-Db-eB"><svg aria-hidden="true" focusable="false" class="octicon octicon-arrow-up" viewBox="0 0 16 16" width="16" height="16" fill="currentColor" display="inline-block" overflow="visible" style="vertical-align:text-bottom"><path d="M3.47 7.78a.75.75 0 0 1 0-1.06l4.25-4.25a.75.75 0 0 1 1.06 0l4.25 4.25a.751.751 0 0 1-.018 1.042.751.751 0 0 1-1.042.018L9 4.81v7.44a.75.75 0 0 1-1.5 0V4.81L4.53 7.78a.75.75 0 0 1-1.06 0Z"></path></svg></span><span data-component="text" class="prc-Button-Label-pTQ3x">Top</span></span></button></div></div></div><div class="Box-sc-g0xbh4-0 dhuhek BlobViewHeader-module__Box_1--PPihg"><h2 class="sr-only ScreenReaderHeading-module__userSelectNone--vW4Cq prc-Heading-Heading-6CmGO" data-testid="screen-reader-heading">File metadata and controls</h2><div class="BlobViewHeader-module__Box_2--G_jCG"><ul aria-label="File view" class="prc-SegmentedControl-SegmentedControl-e7570 BlobTabButtons-module__SegmentedControl--JMGov" data-size="small"><li class="prc-SegmentedControl-Item-7Aq6h" data-selected=""><button aria-current="true" class="prc-SegmentedControl-Button-ojWXD" type="button" style="--separator-color:transparent" fdprocessedid="36xpbr" data-hotkey="Control+/ Control+p"><span class="prc-SegmentedControl-Content-gnQ4n segmentedControl-content"><div class="prc-SegmentedControl-Text-c5gSh segmentedControl-text" data-text="Preview">Preview</div></span></button></li><li class="prc-SegmentedControl-Item-7Aq6h"><button aria-current="false" class="prc-SegmentedControl-Button-ojWXD" type="button" style="--separator-color:var(--borderColor-default, var(--color-border-default, #d0d7de))" fdprocessedid="h1fha" data-hotkey="Control+/ Control+c"><span class="prc-SegmentedControl-Content-gnQ4n segmentedControl-content"><div class="prc-SegmentedControl-Text-c5gSh segmentedControl-text" data-text="Code">Code</div></span></button></li><li class="prc-SegmentedControl-Item-7Aq6h"><button aria-current="false" class="prc-SegmentedControl-Button-ojWXD" type="button" style="--separator-color:var(--borderColor-default, var(--color-border-default, #d0d7de))" fdprocessedid="qs6c5e" data-hotkey="b,Shift+B,Control+/ Control+b"><span class="prc-SegmentedControl-Content-gnQ4n segmentedControl-content"><div class="prc-SegmentedControl-Text-c5gSh segmentedControl-text" data-text="Blame">Blame</div></span></button></li></ul><button hidden="" data-testid="" data-hotkey-scope="read-only-cursor-text-area" data-hotkey="Control+/ Control+c"></button><button hidden="" data-testid="" data-hotkey-scope="read-only-cursor-text-area" data-hotkey="b,Shift+B,Control+/ Control+b"></button><button hidden="" data-testid="" data-hotkey-scope="read-only-cursor-text-area" data-hotkey="Control+/ Control+p"></button><div class="react-code-size-details-in-header CodeSizeDetails-module__Box--QdxnQ"><div class="text-mono CodeSizeDetails-module__Box_1--_uFDs"><div title="164 KB" data-testid="blob-size" class="Truncate__StyledTruncate-sc-23o1d2-0 bgsFir CodeSizeDetails-module__Truncate_1--er0Uk"><span>2192 lines (2192 loc) · 164 KB</span></div></div></div><div class="react-code-size-details-in-header"><button style="--button-color:fg.default" type="button" aria-haspopup="true" aria-expanded="false" tabindex="0" class="Box-sc-g0xbh4-0 kXyYCF prc-Button-ButtonBase-c50BI" data-loading="false" data-size="small" data-variant="invisible" aria-describedby=":Rt6fal9lab:-loading-announcement" id=":Rt6fal9lab:" fdprocessedid="bhbj19"><span data-component="buttonContent" class="Box-sc-g0xbh4-0 gUkoLg prc-Button-ButtonContent-HKbr-"><span data-component="leadingVisual" class="prc-Button-Visual-2epfX prc-Button-VisualWrap-Db-eB"><svg aria-hidden="true" focusable="false" class="octicon octicon-copilot" viewBox="0 0 16 16" width="16" height="16" fill="currentColor" display="inline-block" overflow="visible" style="vertical-align:text-bottom"><path d="M7.998 15.035c-4.562 0-7.873-2.914-7.998-3.749V9.338c.085-.628.677-1.686 1.588-2.065.013-.07.024-.143.036-.218.029-.183.06-.384.126-.612-.201-.508-.254-1.084-.254-1.656 0-.87.128-1.769.693-2.484.579-.733 1.494-1.124 2.724-1.261 1.206-.134 2.262.034 2.944.765.05.053.096.108.139.165.044-.057.094-.112.143-.165.682-.731 1.738-.899 2.944-.765 1.23.137 2.145.528 2.724 1.261.566.715.693 1.614.693 2.484 0 .572-.053 1.148-.254 1.656.066.228.098.429.126.612.012.076.024.148.037.218.924.385 1.522 1.471 1.591 2.095v1.872c0 .766-3.351 3.795-8.002 3.795Zm0-1.485c2.28 0 4.584-1.11 5.002-1.433V7.862l-.023-.116c-.49.21-1.075.291-1.727.291-1.146 0-2.059-.327-2.71-.991A3.222 3.222 0 0 1 8 6.303a3.24 3.24 0 0 1-.544.743c-.65.664-1.563.991-2.71.991-.652 0-1.236-.081-1.727-.291l-.023.116v4.255c.419.323 2.722 1.433 5.002 1.433ZM6.762 2.83c-.193-.206-.637-.413-1.682-.297-1.019.113-1.479.404-1.713.7-.247.312-.369.789-.369 1.554 0 .793.129 1.171.308 1.371.162.181.519.379 1.442.379.853 0 1.339-.235 1.638-.54.315-.322.527-.827.617-1.553.117-.935-.037-1.395-.241-1.614Zm4.155-.297c-1.044-.116-1.488.091-1.681.297-.204.219-.359.679-.242 1.614.091.726.303 1.231.618 1.553.299.305.784.54 1.638.54.922 0 1.28-.198 1.442-.379.179-.2.308-.578.308-1.371 0-.765-.123-1.242-.37-1.554-.233-.296-.693-.587-1.713-.7Z"></path><path d="M6.25 9.037a.75.75 0 0 1 .75.75v1.501a.75.75 0 0 1-1.5 0V9.787a.75.75 0 0 1 .75-.75Zm4.25.75v1.501a.75.75 0 0 1-1.5 0V9.787a.75.75 0 0 1 1.5 0Z"></path></svg></span><span data-component="text" class="prc-Button-Label-pTQ3x">Code 55% faster with GitHub Copilot</span></span></button></div></div><div class="BlobViewHeader-module__Box_3--Kvpex"><button hidden="" data-testid="" data-hotkey="Control+Shift+&gt;" data-hotkey-scope="read-only-cursor-text-area"></button><button hidden="" data-hotkey="Control+Shift+&gt;"></button><button hidden="" data-testid="" data-hotkey="Control+Shift+&lt;" data-hotkey-scope="read-only-cursor-text-area"></button><button hidden="" data-hotkey="Control+Shift+&lt;"></button><div class="react-blob-header-edit-and-raw-actions BlobViewHeader-module__Box_4--vFP89"><div class="Box-sc-g0xbh4-0 prc-ButtonGroup-ButtonGroup-vcMeG"><div><a href="https://github.com/MadhaviPagare/SDOMH-LLM/raw/refs/heads/main/ClinicalLongformer.ipynb" data-testid="raw-button" class="Box-sc-g0xbh4-0 lefpaC prc-Button-ButtonBase-c50BI BlobViewHeader-module__LinkButton--DMph4" data-loading="false" data-no-visuals="true" data-size="small" data-variant="default" aria-describedby=":R1b76fal9lab:-loading-announcement" data-hotkey="Control+/ Control+r"><span data-component="buttonContent" class="Box-sc-g0xbh4-0 gUkoLg prc-Button-ButtonContent-HKbr-"><span data-component="text" class="prc-Button-Label-pTQ3x">Raw</span></span></a></div><div><button data-component="IconButton" type="button" data-testid="copy-raw-button" class="prc-Button-ButtonBase-c50BI prc-Button-IconButton-szpyj" data-loading="false" data-no-visuals="true" data-size="small" data-variant="default" aria-describedby=":R1mb76fal9lab:-loading-announcement" aria-labelledby=":R6b76fal9lab:" fdprocessedid="b1wn0t" data-hotkey="Control+Shift+C"><svg aria-hidden="true" focusable="false" class="octicon octicon-copy" viewBox="0 0 16 16" width="16" height="16" fill="currentColor" display="inline-block" overflow="visible" style="vertical-align:text-bottom"><path d="M0 6.75C0 5.784.784 5 1.75 5h1.5a.75.75 0 0 1 0 1.5h-1.5a.25.25 0 0 0-.25.25v7.5c0 .138.112.25.25.25h7.5a.25.25 0 0 0 .25-.25v-1.5a.75.75 0 0 1 1.5 0v1.5A1.75 1.75 0 0 1 9.25 16h-7.5A1.75 1.75 0 0 1 0 14.25Z"></path><path d="M5 1.75C5 .784 5.784 0 6.75 0h7.5C15.216 0 16 .784 16 1.75v7.5A1.75 1.75 0 0 1 14.25 11h-7.5A1.75 1.75 0 0 1 5 9.25Zm1.75-.25a.25.25 0 0 0-.25.25v7.5c0 .138.112.25.25.25h7.5a.25.25 0 0 0 .25-.25v-7.5a.25.25 0 0 0-.25-.25Z"></path></svg></button><span class="prc-TooltipV2-Tooltip-cYMVY" data-direction="n" aria-hidden="true" id=":R6b76fal9lab:" popover="auto">Copy raw file</span></div><div><button data-component="IconButton" type="button" data-testid="download-raw-button" class="Box-sc-g0xbh4-0 ivobqY prc-Button-ButtonBase-c50BI prc-Button-IconButton-szpyj" data-loading="false" data-no-visuals="true" data-size="small" data-variant="default" aria-describedby=":Rfb76fal9lab:-loading-announcement" aria-labelledby=":R3b76fal9lab:" fdprocessedid="dtmwe" data-hotkey="Control+Shift+S"><svg aria-hidden="true" focusable="false" class="octicon octicon-download" viewBox="0 0 16 16" width="16" height="16" fill="currentColor" display="inline-block" overflow="visible" style="vertical-align:text-bottom"><path d="M2.75 14A1.75 1.75 0 0 1 1 12.25v-2.5a.75.75 0 0 1 1.5 0v2.5c0 .138.112.25.25.25h10.5a.25.25 0 0 0 .25-.25v-2.5a.75.75 0 0 1 1.5 0v2.5A1.75 1.75 0 0 1 13.25 14Z"></path><path d="M7.25 7.689V2a.75.75 0 0 1 1.5 0v5.689l1.97-1.969a.749.749 0 1 1 1.06 1.06l-3.25 3.25a.749.749 0 0 1-1.06 0L4.22 6.78a.749.749 0 1 1 1.06-1.06l1.97 1.969Z"></path></svg></button><span class="prc-TooltipV2-Tooltip-cYMVY" data-direction="n" aria-hidden="true" id=":R3b76fal9lab:" popover="auto">Download raw file</span></div></div><button hidden="" data-testid="raw-button-shortcut" data-hotkey-scope="read-only-cursor-text-area" data-hotkey="Control+/ Control+r"></button><button hidden="" data-testid="copy-raw-button-shortcut" data-hotkey-scope="read-only-cursor-text-area" data-hotkey="Control+Shift+C"></button><button hidden="" data-testid="download-raw-button-shortcut" data-hotkey-scope="read-only-cursor-text-area" data-hotkey="Control+Shift+S"></button><a class="js-github-dev-shortcut d-none prc-Link-Link-85e08" href="https://github.dev/" data-hotkey="., Control+Shift+/"></a><button hidden="" data-testid="" data-hotkey-scope="read-only-cursor-text-area" data-hotkey="., Control+Shift+/"></button><a class="js-github-dev-new-tab-shortcut d-none prc-Link-Link-85e08" href="https://github.dev/" target="_blank" data-hotkey="Shift+.,Shift+&gt;,&gt;"></a><button hidden="" data-testid="" data-hotkey-scope="read-only-cursor-text-area" data-hotkey="Shift+.,Shift+&gt;,&gt;"></button><div class="Box-sc-g0xbh4-0 prc-ButtonGroup-ButtonGroup-vcMeG"><div><a sx="[object Object]" data-component="IconButton" type="button" data-testid="edit-button" class="Box-sc-g0xbh4-0 iCOsHh prc-Button-ButtonBase-c50BI BlobViewHeader-module__IconButton_1--MzNlL prc-Button-IconButton-szpyj" data-loading="false" data-no-visuals="true" data-size="small" data-variant="default" aria-describedby=":Rdl76fal9lab:-loading-announcement" aria-labelledby=":R1l76fal9lab:" href="https://github.com/MadhaviPagare/SDOMH-LLM/edit/main/ClinicalLongformer.ipynb" data-hotkey="e,Shift+E"><svg aria-hidden="true" focusable="false" class="octicon octicon-pencil" viewBox="0 0 16 16" width="16" height="16" fill="currentColor" display="inline-block" overflow="visible" style="vertical-align:text-bottom"><path d="M11.013 1.427a1.75 1.75 0 0 1 2.474 0l1.086 1.086a1.75 1.75 0 0 1 0 2.474l-8.61 8.61c-.21.21-.47.364-.756.445l-3.251.93a.75.75 0 0 1-.927-.928l.929-3.25c.081-.286.235-.547.445-.758l8.61-8.61Zm.176 4.823L9.75 4.81l-6.286 6.287a.253.253 0 0 0-.064.108l-.558 1.953 1.953-.558a.253.253 0 0 0 .108-.064Zm1.238-3.763a.25.25 0 0 0-.354 0L10.811 3.75l1.439 1.44 1.263-1.263a.25.25 0 0 0 0-.354Z"></path></svg></a><span class="prc-TooltipV2-Tooltip-cYMVY" data-direction="nw" aria-hidden="true" id=":R1l76fal9lab:" popover="auto">Edit this file</span></div><div><button data-component="IconButton" type="button" data-testid="more-edit-button" aria-haspopup="true" aria-expanded="false" tabindex="0" class="prc-Button-ButtonBase-c50BI prc-Button-IconButton-szpyj" data-loading="false" data-no-visuals="true" data-size="small" data-variant="default" aria-describedby=":R2l76fal9lab:-loading-announcement" aria-labelledby=":R1ul76fal9lab:" id=":R2l76fal9lab:" fdprocessedid="cs2rm"><svg aria-hidden="true" focusable="false" class="octicon octicon-triangle-down" viewBox="0 0 16 16" width="16" height="16" fill="currentColor" display="inline-block" overflow="visible" style="vertical-align:text-bottom"><path d="m4.427 7.427 3.396 3.396a.25.25 0 0 0 .354 0l3.396-3.396A.25.25 0 0 0 11.396 7H4.604a.25.25 0 0 0-.177.427Z"></path></svg></button><span class="prc-TooltipV2-Tooltip-cYMVY" data-direction="nw" aria-hidden="true" id=":R1ul76fal9lab:" popover="auto">More edit options</span></div></div><button hidden="" data-testid="" data-hotkey="e,Shift+E" data-hotkey-scope="read-only-cursor-text-area"></button></div><div class="react-blob-header-edit-and-raw-actions-combined"><button data-component="IconButton" type="button" title="More file actions" data-testid="more-file-actions-button" aria-haspopup="true" aria-expanded="false" tabindex="0" class="prc-Button-ButtonBase-c50BI js-blob-dropdown-click BlobViewHeader-module__IconButton--uO1fA prc-Button-IconButton-szpyj" data-loading="false" data-no-visuals="true" data-size="small" data-variant="invisible" aria-describedby=":R5v6fal9lab:-loading-announcement" aria-labelledby=":R3tv6fal9lab:" id=":R5v6fal9lab:"><svg aria-hidden="true" focusable="false" class="octicon octicon-kebab-horizontal" viewBox="0 0 16 16" width="16" height="16" fill="currentColor" display="inline-block" overflow="visible" style="vertical-align:text-bottom"><path d="M8 9a1.5 1.5 0 1 0 0-3 1.5 1.5 0 0 0 0 3ZM1.5 9a1.5 1.5 0 1 0 0-3 1.5 1.5 0 0 0 0 3Zm13 0a1.5 1.5 0 1 0 0-3 1.5 1.5 0 0 0 0 3Z"></path></svg></button><span class="prc-TooltipV2-Tooltip-cYMVY" data-direction="nw" aria-hidden="true" id=":R3tv6fal9lab:" popover="auto">Edit and raw actions</span></div></div></div></div><div></div></div><div class="Box-sc-g0xbh4-0 hGyMdv"><section aria-labelledby="file-name-id-wide file-name-id-mobile" class="Box-sc-g0xbh4-0 iWAocR"><div class="FileRendererBlob-module__FileRendererWrapper--PLJ7W"><div data-hpc="true" data-host="https://notebooks.githubusercontent.com" data-type="ipynb" class="Box-sc-g0xbh4-0 gfbeGT FileRendererBlob-module__FileRendererViewport--WwSdq" style="height: 26363.3px;"><iframe src="./ClinicalLongformer_files/ipynb.html" sandbox="allow-scripts allow-same-origin allow-top-navigation" name="9a9564fb-be3c-4722-899f-5bf38c0ba4b8" title="File display" class="Box-sc-g0xbh4-0 xtOAR FileRendererBlob-module__fileContentFrame--tPzAR">Viewer requires iframe.</iframe></div></div></section></div></div></div> <!-- --> <!-- --> </div></div></div></div></div></div></div><div id="find-result-marks-container" class="Box-sc-g0xbh4-0 cCoXib"></div><button hidden="" data-testid="" data-hotkey-scope="read-only-cursor-text-area" data-hotkey="Control+F6,Control+Shift+F6"></button><button hidden="" data-hotkey="Control+F6,Control+Shift+F6"></button></div> <!-- --> <!-- --> <script type="application/json" id="__PRIMER_DATA_:R0:__">{"resolvedServerColorMode":"day"}</script></div>
</react-app>




  </div>

</turbo-frame>

    </main>
  </div>

  </div>

          <footer class="footer pt-8 pb-6 f6 color-fg-muted p-responsive" role="contentinfo" hidden="">
  <h2 class="sr-only">Footer</h2>

  


  <div class="d-flex flex-justify-center flex-items-center flex-column-reverse flex-lg-row flex-wrap flex-lg-nowrap">
    <div class="d-flex flex-items-center flex-shrink-0 mx-2">
      <a aria-label="GitHub Homepage" class="footer-octicon mr-2" href="https://github.com/">
        <svg aria-hidden="true" height="24" viewBox="0 0 24 24" version="1.1" width="24" data-view-component="true" class="octicon octicon-mark-github">
    <path d="M12 1C5.923 1 1 5.923 1 12c0 4.867 3.149 8.979 7.521 10.436.55.096.756-.233.756-.522 0-.262-.013-1.128-.013-2.049-2.764.509-3.479-.674-3.699-1.292-.124-.317-.66-1.293-1.127-1.554-.385-.207-.936-.715-.014-.729.866-.014 1.485.797 1.691 1.128.99 1.663 2.571 1.196 3.204.907.096-.715.385-1.196.701-1.471-2.448-.275-5.005-1.224-5.005-5.432 0-1.196.426-2.186 1.128-2.956-.111-.275-.496-1.402.11-2.915 0 0 .921-.288 3.024 1.128a10.193 10.193 0 0 1 2.75-.371c.936 0 1.871.123 2.75.371 2.104-1.43 3.025-1.128 3.025-1.128.605 1.513.221 2.64.111 2.915.701.77 1.127 1.747 1.127 2.956 0 4.222-2.571 5.157-5.019 5.432.399.344.743 1.004.743 2.035 0 1.471-.014 2.654-.014 3.025 0 .289.206.632.756.522C19.851 20.979 23 16.854 23 12c0-6.077-4.922-11-11-11Z"></path>
</svg>
</a>
      <span>
        © 2025 GitHub,&nbsp;Inc.
      </span>
    </div>

    <nav aria-label="Footer">
      <h3 class="sr-only" id="sr-footer-heading">Footer navigation</h3>

      <ul class="list-style-none d-flex flex-justify-center flex-wrap mb-2 mb-lg-0" aria-labelledby="sr-footer-heading">

          <li class="mx-2">
            <a data-analytics-event="{&quot;category&quot;:&quot;Footer&quot;,&quot;action&quot;:&quot;go to Terms&quot;,&quot;label&quot;:&quot;text:terms&quot;}" href="https://docs.github.com/site-policy/github-terms/github-terms-of-service" data-view-component="true" class="Link--secondary Link">Terms</a>
          </li>

          <li class="mx-2">
            <a data-analytics-event="{&quot;category&quot;:&quot;Footer&quot;,&quot;action&quot;:&quot;go to privacy&quot;,&quot;label&quot;:&quot;text:privacy&quot;}" href="https://docs.github.com/site-policy/privacy-policies/github-privacy-statement" data-view-component="true" class="Link--secondary Link">Privacy</a>
          </li>

          <li class="mx-2">
            <a data-analytics-event="{&quot;category&quot;:&quot;Footer&quot;,&quot;action&quot;:&quot;go to security&quot;,&quot;label&quot;:&quot;text:security&quot;}" href="https://github.com/security" data-view-component="true" class="Link--secondary Link">Security</a>
          </li>

          <li class="mx-2">
            <a data-analytics-event="{&quot;category&quot;:&quot;Footer&quot;,&quot;action&quot;:&quot;go to status&quot;,&quot;label&quot;:&quot;text:status&quot;}" href="https://www.githubstatus.com/" data-view-component="true" class="Link--secondary Link">Status</a>
          </li>

          <li class="mx-2">
            <a data-analytics-event="{&quot;category&quot;:&quot;Footer&quot;,&quot;action&quot;:&quot;go to docs&quot;,&quot;label&quot;:&quot;text:docs&quot;}" href="https://docs.github.com/" data-view-component="true" class="Link--secondary Link">Docs</a>
          </li>

          <li class="mx-2">
            <a data-analytics-event="{&quot;category&quot;:&quot;Footer&quot;,&quot;action&quot;:&quot;go to contact&quot;,&quot;label&quot;:&quot;text:contact&quot;}" href="https://support.github.com/?tags=dotcom-footer" data-view-component="true" class="Link--secondary Link">Contact</a>
          </li>

          <li class="mx-2">
  <cookie-consent-link data-catalyst="">
    <button type="button" class="Link--secondary underline-on-hover border-0 p-0 color-bg-transparent" data-action="click:cookie-consent-link#showConsentManagement" data-analytics-event="{&quot;location&quot;:&quot;footer&quot;,&quot;action&quot;:&quot;cookies&quot;,&quot;context&quot;:&quot;subfooter&quot;,&quot;tag&quot;:&quot;link&quot;,&quot;label&quot;:&quot;cookies_link_subfooter_footer&quot;}" fdprocessedid="3gt2s87">
       Manage cookies
    </button>
  </cookie-consent-link>
</li>

<li class="mx-2">
  <cookie-consent-link data-catalyst="">
    <button type="button" class="Link--secondary underline-on-hover border-0 p-0 color-bg-transparent" data-action="click:cookie-consent-link#showConsentManagement" data-analytics-event="{&quot;location&quot;:&quot;footer&quot;,&quot;action&quot;:&quot;dont_share_info&quot;,&quot;context&quot;:&quot;subfooter&quot;,&quot;tag&quot;:&quot;link&quot;,&quot;label&quot;:&quot;dont_share_info_link_subfooter_footer&quot;}" fdprocessedid="okoun">
      Do not share my personal information
    </button>
  </cookie-consent-link>
</li>

      </ul>
    </nav>
  </div>
</footer>



    <ghcc-consent id="ghcc" class="position-fixed bottom-0 left-0" style="z-index: 999999" data-locale="en" data-initial-cookie-consent-allowed="" data-cookie-consent-required="false" data-catalyst=""></ghcc-consent>



  <div id="ajax-error-message" class="ajax-error-message flash flash-error" hidden="">
    <svg aria-hidden="true" height="16" viewBox="0 0 16 16" version="1.1" width="16" data-view-component="true" class="octicon octicon-alert">
    <path d="M6.457 1.047c.659-1.234 2.427-1.234 3.086 0l6.082 11.378A1.75 1.75 0 0 1 14.082 15H1.918a1.75 1.75 0 0 1-1.543-2.575Zm1.763.707a.25.25 0 0 0-.44 0L1.698 13.132a.25.25 0 0 0 .22.368h12.164a.25.25 0 0 0 .22-.368Zm.53 3.996v2.5a.75.75 0 0 1-1.5 0v-2.5a.75.75 0 0 1 1.5 0ZM9 11a1 1 0 1 1-2 0 1 1 0 0 1 2 0Z"></path>
</svg>
    <button type="button" class="flash-close js-ajax-error-dismiss" aria-label="Dismiss error">
      <svg aria-hidden="true" height="16" viewBox="0 0 16 16" version="1.1" width="16" data-view-component="true" class="octicon octicon-x">
    <path d="M3.72 3.72a.75.75 0 0 1 1.06 0L8 6.94l3.22-3.22a.749.749 0 0 1 1.275.326.749.749 0 0 1-.215.734L9.06 8l3.22 3.22a.749.749 0 0 1-.326 1.275.749.749 0 0 1-.734-.215L8 9.06l-3.22 3.22a.751.751 0 0 1-1.042-.018.751.751 0 0 1-.018-1.042L6.94 8 3.72 4.78a.75.75 0 0 1 0-1.06Z"></path>
</svg>
    </button>
    You can’t perform that action at this time.
  </div>

    <template id="site-details-dialog"></template>

    <div class="Popover js-hovercard-content position-absolute" style="display: none; outline: none;">
  <div class="Popover-message Popover-message--bottom-left Popover-message--large Box color-shadow-large" style="width:360px;"></div>
</div>

    <template id="snippet-clipboard-copy-button"></template>
<template id="snippet-clipboard-copy-button-unpositioned"></template>


    <style>
      .user-mention[href$="/MadhaviPagare"] {
        color: var(--color-user-mention-fg);
        background-color: var(--bgColor-attention-muted, var(--color-attention-subtle));
        border-radius: 2px;
        margin-left: -2px;
        margin-right: -2px;
      }
      .user-mention[href$="/MadhaviPagare"]:before,
      .user-mention[href$="/MadhaviPagare"]:after {
        content: '';
        display: inline-block;
        width: 2px;
      }
    </style>


    </div>
    <div id="js-global-screen-reader-notice" class="sr-only mt-n1" aria-live="polite" aria-atomic="true">SDOMH-LLM/ClinicalLongformer.ipynb at main · MadhaviPagare/SDOMH-LLM</div>
    <div id="js-global-screen-reader-notice-assertive" class="sr-only mt-n1" aria-live="assertive" aria-atomic="true"></div>
  


<span id="PING_IFRAME_FORM_DETECTION" style="display: none;"></span><div class="sr-only mt-n1" id="screenReaderAnnouncementDiv" role="alert" data-testid="screenReaderAnnouncement" aria-live="assertive"></div></body></html>